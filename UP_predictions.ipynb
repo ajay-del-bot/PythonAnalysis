{
  "nbformat": 4,
  "nbformat_minor": 0,
  "metadata": {
    "colab": {
      "name": "UP-SP.ipynb",
      "provenance": [],
      "authorship_tag": "ABX9TyMC1RPEnjjvUJmd3YSKSVQW",
      "include_colab_link": true
    },
    "kernelspec": {
      "name": "python3",
      "display_name": "Python 3"
    },
    "language_info": {
      "name": "python"
    }
  },
  "cells": [
    {
      "cell_type": "markdown",
      "metadata": {
        "id": "view-in-github",
        "colab_type": "text"
      },
      "source": [
        "<a href=\"https://colab.research.google.com/github/ajay-del-bot/PythonAnalysis/blob/main/UP_predictions.ipynb\" target=\"_parent\"><img src=\"https://colab.research.google.com/assets/colab-badge.svg\" alt=\"Open In Colab\"/></a>"
      ]
    },
    {
      "cell_type": "code",
      "execution_count": 2,
      "metadata": {
        "colab": {
          "base_uri": "https://localhost:8080/"
        },
        "id": "vyF2eFF1cu4G",
        "outputId": "a02e8aae-c7ab-4e0d-8dee-980446749dd0"
      },
      "outputs": [
        {
          "output_type": "stream",
          "name": "stderr",
          "text": [
            "/usr/local/lib/python3.7/dist-packages/nltk/twitter/__init__.py:20: UserWarning: The twython library has not been installed. Some functionality from the twitter package will not be available.\n",
            "  warnings.warn(\"The twython library has not been installed. \"\n"
          ]
        },
        {
          "output_type": "stream",
          "name": "stdout",
          "text": [
            "[nltk_data] Downloading package stopwords to /root/nltk_data...\n",
            "[nltk_data]   Unzipping corpora/stopwords.zip.\n",
            "[nltk_data] Downloading package vader_lexicon to /root/nltk_data...\n",
            "[nltk_data] Downloading package wordnet to /root/nltk_data...\n",
            "[nltk_data]   Unzipping corpora/wordnet.zip.\n"
          ]
        },
        {
          "output_type": "execute_result",
          "data": {
            "text/plain": [
              "True"
            ]
          },
          "metadata": {},
          "execution_count": 2
        }
      ],
      "source": [
        "import re \n",
        "import tweepy\n",
        "from tweepy import OAuthHandler\n",
        "import pandas as pd\n",
        "import numpy as np\n",
        "\n",
        "from sklearn.ensemble import RandomForestClassifier\n",
        "from sklearn.naive_bayes import MultinomialNB\n",
        "from sklearn.metrics import accuracy_score, precision_score, f1_score, confusion_matrix\n",
        "\n",
        "\n",
        "from nltk.stem import WordNetLemmatizer\n",
        "from nltk.sentiment.vader import SentimentIntensityAnalyzer\n",
        "import webbrowser\n",
        "from nltk.corpus import stopwords\n",
        "import nltk\n",
        "nltk.download('stopwords')\n",
        "nltk.downloader.download('vader_lexicon')\n",
        "nltk.download('wordnet')"
      ]
    },
    {
      "cell_type": "code",
      "source": [
        "from sklearn.pipeline import Pipeline, FeatureUnion\n",
        "from sklearn.preprocessing import FunctionTransformer\n",
        "from sklearn.model_selection import train_test_split\n",
        "from sklearn.feature_extraction.text import TfidfVectorizer\n",
        "from sklearn.naive_bayes import MultinomialNB"
      ],
      "metadata": {
        "id": "1NhmTUCuNNSJ"
      },
      "execution_count": 3,
      "outputs": []
    },
    {
      "cell_type": "code",
      "source": [
        "from sklearn.feature_extraction.text import CountVectorizer\n",
        "from sklearn.preprocessing import LabelBinarizer"
      ],
      "metadata": {
        "id": "wsQk23_K7GOW"
      },
      "execution_count": 4,
      "outputs": []
    },
    {
      "cell_type": "code",
      "source": [
        "from textblob import TextBlob\n",
        "lemmatizer = WordNetLemmatizer()\n",
        "sid = SentimentIntensityAnalyzer()"
      ],
      "metadata": {
        "id": "0x2n1f6H3can"
      },
      "execution_count": 15,
      "outputs": []
    },
    {
      "cell_type": "code",
      "source": [
        "def dataCleaning(text):\n",
        "        \n",
        "        TEXT = (text.\n",
        "    \t\treplace('\\\\xe2\\\\x80\\\\x99', \"'\").\n",
        "            replace('\\\\xc3\\\\xa9', 'e').\n",
        "            replace('\\\\xe2\\\\x80\\\\x90', '-').\n",
        "            replace('\\\\xe2\\\\x80\\\\x91', '-').\n",
        "            replace('\\\\xe2\\\\x80\\\\x92', '-').\n",
        "            replace('\\\\xe2\\\\x80\\\\x93', '-').\n",
        "            replace('\\\\xe2\\\\x80\\\\x94', '-').\n",
        "            replace('\\\\xe2\\\\x80\\\\x94', '-').\n",
        "            replace('\\\\xe2\\\\x80\\\\x98', \"'\").\n",
        "            replace('\\\\xe2\\\\x80\\\\x9b', \"'\").\n",
        "            replace('\\\\xe2\\\\x80\\\\x9c', '\"').\n",
        "            replace('\\\\xe2\\\\x80\\\\x9c', '\"').\n",
        "            replace('\\\\xe2\\\\x80\\\\x9d', '\"').\n",
        "            replace('\\\\xe2\\\\x80\\\\x9e', '\"').\n",
        "            replace('\\\\xe2\\\\x80\\\\x9f', '\"').\n",
        "            replace('\\\\xe2\\\\x80\\\\xa6', '...').\n",
        "            replace('\\\\xe2\\\\x80\\\\xb2', \"'\").\n",
        "            replace('\\\\xe2\\\\x80\\\\xb3', \"'\").\n",
        "            replace('\\\\xe2\\\\x80\\\\xb4', \"'\").\n",
        "            replace('\\\\xe2\\\\x80\\\\xb5', \"'\").\n",
        "            replace('\\\\xe2\\\\x80\\\\xb6', \"'\").\n",
        "            replace('\\\\xe2\\\\x80\\\\xb7', \"'\").\n",
        "            replace('\\\\xe2\\\\x81\\\\xba', \"+\").\n",
        "            replace('\\\\xe2\\\\x81\\\\xbb', \"-\").\n",
        "            replace('\\\\xe2\\\\x81\\\\xbc', \"=\").\n",
        "            replace('\\\\xe2\\\\x81\\\\xbd', \"(\").\n",
        "            replace('\\\\xe2\\\\x81\\\\xbe', \")\")\n",
        "\n",
        "                 )\n",
        "        tweet = TEXT.lower()\n",
        "\n",
        "        # Replaces URLs with the ''\n",
        "        tweet = re.sub(r'((www\\.[\\S]+)|(https?:\\\\)|(http\\S+))', '', tweet)\n",
        "        # tweet = re.sub(r'\\\\xe2\\\\x80\\\\x9.',r'', tweet)\n",
        "        # tweet = re.sub(r'\\xe2\\x99\\x88', r'', tweet)\n",
        "        # tweet = re.sub(r'\\.',r' ', tweet)  \n",
        "        \n",
        "        #Replace @handle with the word ''\n",
        "        tweet = re.sub(r'@[\\S]+', '', tweet)\n",
        "        # # Replaces #hashtag with hashtag\n",
        "        tweet = re.sub(r'#(\\S+)', r' \\1 ', tweet)\n",
        "        # # Remove RT (retweet)\n",
        "        tweet = re.sub(r'\\brt\\b', '', tweet)\n",
        "        # # Replace 2+ dots with space\n",
        "        tweet = re.sub(r'\\.{2,}', ' ', tweet)\n",
        "        # # Replace ,  with space\n",
        "        tweet = re.sub(r'\\,', ' ', tweet)\n",
        "        # # Strip space, \" and ' from tweet\n",
        "        tweet = tweet.strip(' \"\\'')\n",
        "        # # Replace multiple spaces with a single space\n",
        "        tweet = re.sub(r'\\s+', ' ', tweet)\n",
        "        \n",
        "        tweet = re.sub(r'&amp;', 'and', tweet)\n",
        "        tweet = re.sub(r'\\\\n', ' ', tweet)\n",
        "        \n",
        "        tweet =[lemmatizer.lemmatize(word) for word in tweet.split() if word not in stopwords.words('english')]\n",
        "        tweet = ' '.join(tweet)\n",
        "        return tweet"
      ],
      "metadata": {
        "id": "rUQmyIxlrCWy"
      },
      "execution_count": 16,
      "outputs": []
    },
    {
      "cell_type": "code",
      "source": [
        "from zipfile import ZipFile\n",
        "file_name = '/content/1Jan_to_5Jan.zip'\n",
        "with ZipFile(file_name, 'r') as zip:\n",
        "  zip.extractall()\n",
        "\n",
        "file_name = '/content/6Jan_to_10Jan.zip'\n",
        "\n",
        "with ZipFile(file_name, 'r') as zip:\n",
        "  zip.extractall()\n",
        "\n",
        "file_name = '/content/11Jan_to_15Jan.zip'\n",
        "\n",
        "with ZipFile(file_name, 'r') as zip:\n",
        "  zip.extractall()\n",
        "  print('Done')"
      ],
      "metadata": {
        "colab": {
          "base_uri": "https://localhost:8080/"
        },
        "id": "9XiGfuYW0VE3",
        "outputId": "519eddbb-c645-437b-863e-f23dcd26f94c"
      },
      "execution_count": 6,
      "outputs": [
        {
          "output_type": "stream",
          "name": "stdout",
          "text": [
            "Done\n"
          ]
        }
      ]
    },
    {
      "cell_type": "code",
      "source": [
        "df_test = pd.read_csv('1Jan_to_5Jan/UP-SP.csv')\n",
        "df_test"
      ],
      "metadata": {
        "colab": {
          "base_uri": "https://localhost:8080/",
          "height": 424
        },
        "id": "yK0M7Igg0qSY",
        "outputId": "cb01ff51-d898-47c9-85c4-eef26c3cb8a5"
      },
      "execution_count": 17,
      "outputs": [
        {
          "output_type": "execute_result",
          "data": {
            "text/html": [
              "\n",
              "  <div id=\"df-856a1b08-2ab6-49e8-86fe-56219450de3b\">\n",
              "    <div class=\"colab-df-container\">\n",
              "      <div>\n",
              "<style scoped>\n",
              "    .dataframe tbody tr th:only-of-type {\n",
              "        vertical-align: middle;\n",
              "    }\n",
              "\n",
              "    .dataframe tbody tr th {\n",
              "        vertical-align: top;\n",
              "    }\n",
              "\n",
              "    .dataframe thead th {\n",
              "        text-align: right;\n",
              "    }\n",
              "</style>\n",
              "<table border=\"1\" class=\"dataframe\">\n",
              "  <thead>\n",
              "    <tr style=\"text-align: right;\">\n",
              "      <th></th>\n",
              "      <th>Datetime</th>\n",
              "      <th>Text</th>\n",
              "      <th>User</th>\n",
              "    </tr>\n",
              "  </thead>\n",
              "  <tbody>\n",
              "    <tr>\n",
              "      <th>0</th>\n",
              "      <td>2022-01-04 17:30:00+00:00</td>\n",
              "      <td>#WebQoof  | A 2018 ABP News bulletin of a BJP ...</td>\n",
              "      <td>QuintFactCheck</td>\n",
              "    </tr>\n",
              "    <tr>\n",
              "      <th>1</th>\n",
              "      <td>2022-01-04 13:28:37+00:00</td>\n",
              "      <td>UP Assembly Election: After Shri Krishna in UP...</td>\n",
              "      <td>NewsNCR2</td>\n",
              "    </tr>\n",
              "    <tr>\n",
              "      <th>2</th>\n",
              "      <td>2022-01-04 13:05:57+00:00</td>\n",
              "      <td>@joonmohit 2022 will be worse than 2021 , 2020...</td>\n",
              "      <td>sahil_kr_</td>\n",
              "    </tr>\n",
              "    <tr>\n",
              "      <th>3</th>\n",
              "      <td>2022-01-04 12:31:16+00:00</td>\n",
              "      <td>@ajitdatta Think this governor wants to fight ...</td>\n",
              "      <td>radheshkrish</td>\n",
              "    </tr>\n",
              "    <tr>\n",
              "      <th>4</th>\n",
              "      <td>2022-01-04 10:43:33+00:00</td>\n",
              "      <td>Diatribe between  sp and bjp revolves around R...</td>\n",
              "      <td>rkprayag</td>\n",
              "    </tr>\n",
              "    <tr>\n",
              "      <th>...</th>\n",
              "      <td>...</td>\n",
              "      <td>...</td>\n",
              "      <td>...</td>\n",
              "    </tr>\n",
              "    <tr>\n",
              "      <th>1424</th>\n",
              "      <td>2022-01-02 10:42:02+00:00</td>\n",
              "      <td>#ReporterDiary -:\\n\\nSP TAKES SHELTER IN LORD ...</td>\n",
              "      <td>thefirstindia</td>\n",
              "    </tr>\n",
              "    <tr>\n",
              "      <th>1425</th>\n",
              "      <td>2022-01-02 07:41:59+00:00</td>\n",
              "      <td>BSP slams Akhilesh Yadav's poll promises in UP...</td>\n",
              "      <td>republic</td>\n",
              "    </tr>\n",
              "    <tr>\n",
              "      <th>1426</th>\n",
              "      <td>2022-01-04 03:52:29+00:00</td>\n",
              "      <td>Uttar Pradesh News\\n\\nJayant Chaudhary is repo...</td>\n",
              "      <td>NewsArenaIndia</td>\n",
              "    </tr>\n",
              "    <tr>\n",
              "      <th>1427</th>\n",
              "      <td>2022-01-03 08:39:30+00:00</td>\n",
              "      <td>Uttar Pradesh News\\n\\nSP &amp;amp; RLD workers eng...</td>\n",
              "      <td>NewsArenaIndia</td>\n",
              "    </tr>\n",
              "    <tr>\n",
              "      <th>1428</th>\n",
              "      <td>2022-01-02 02:03:58+00:00</td>\n",
              "      <td>@TimesNow It seems to show confidence of BJP, ...</td>\n",
              "      <td>HarshKetanJakh1</td>\n",
              "    </tr>\n",
              "  </tbody>\n",
              "</table>\n",
              "<p>1429 rows × 3 columns</p>\n",
              "</div>\n",
              "      <button class=\"colab-df-convert\" onclick=\"convertToInteractive('df-856a1b08-2ab6-49e8-86fe-56219450de3b')\"\n",
              "              title=\"Convert this dataframe to an interactive table.\"\n",
              "              style=\"display:none;\">\n",
              "        \n",
              "  <svg xmlns=\"http://www.w3.org/2000/svg\" height=\"24px\"viewBox=\"0 0 24 24\"\n",
              "       width=\"24px\">\n",
              "    <path d=\"M0 0h24v24H0V0z\" fill=\"none\"/>\n",
              "    <path d=\"M18.56 5.44l.94 2.06.94-2.06 2.06-.94-2.06-.94-.94-2.06-.94 2.06-2.06.94zm-11 1L8.5 8.5l.94-2.06 2.06-.94-2.06-.94L8.5 2.5l-.94 2.06-2.06.94zm10 10l.94 2.06.94-2.06 2.06-.94-2.06-.94-.94-2.06-.94 2.06-2.06.94z\"/><path d=\"M17.41 7.96l-1.37-1.37c-.4-.4-.92-.59-1.43-.59-.52 0-1.04.2-1.43.59L10.3 9.45l-7.72 7.72c-.78.78-.78 2.05 0 2.83L4 21.41c.39.39.9.59 1.41.59.51 0 1.02-.2 1.41-.59l7.78-7.78 2.81-2.81c.8-.78.8-2.07 0-2.86zM5.41 20L4 18.59l7.72-7.72 1.47 1.35L5.41 20z\"/>\n",
              "  </svg>\n",
              "      </button>\n",
              "      \n",
              "  <style>\n",
              "    .colab-df-container {\n",
              "      display:flex;\n",
              "      flex-wrap:wrap;\n",
              "      gap: 12px;\n",
              "    }\n",
              "\n",
              "    .colab-df-convert {\n",
              "      background-color: #E8F0FE;\n",
              "      border: none;\n",
              "      border-radius: 50%;\n",
              "      cursor: pointer;\n",
              "      display: none;\n",
              "      fill: #1967D2;\n",
              "      height: 32px;\n",
              "      padding: 0 0 0 0;\n",
              "      width: 32px;\n",
              "    }\n",
              "\n",
              "    .colab-df-convert:hover {\n",
              "      background-color: #E2EBFA;\n",
              "      box-shadow: 0px 1px 2px rgba(60, 64, 67, 0.3), 0px 1px 3px 1px rgba(60, 64, 67, 0.15);\n",
              "      fill: #174EA6;\n",
              "    }\n",
              "\n",
              "    [theme=dark] .colab-df-convert {\n",
              "      background-color: #3B4455;\n",
              "      fill: #D2E3FC;\n",
              "    }\n",
              "\n",
              "    [theme=dark] .colab-df-convert:hover {\n",
              "      background-color: #434B5C;\n",
              "      box-shadow: 0px 1px 3px 1px rgba(0, 0, 0, 0.15);\n",
              "      filter: drop-shadow(0px 1px 2px rgba(0, 0, 0, 0.3));\n",
              "      fill: #FFFFFF;\n",
              "    }\n",
              "  </style>\n",
              "\n",
              "      <script>\n",
              "        const buttonEl =\n",
              "          document.querySelector('#df-856a1b08-2ab6-49e8-86fe-56219450de3b button.colab-df-convert');\n",
              "        buttonEl.style.display =\n",
              "          google.colab.kernel.accessAllowed ? 'block' : 'none';\n",
              "\n",
              "        async function convertToInteractive(key) {\n",
              "          const element = document.querySelector('#df-856a1b08-2ab6-49e8-86fe-56219450de3b');\n",
              "          const dataTable =\n",
              "            await google.colab.kernel.invokeFunction('convertToInteractive',\n",
              "                                                     [key], {});\n",
              "          if (!dataTable) return;\n",
              "\n",
              "          const docLinkHtml = 'Like what you see? Visit the ' +\n",
              "            '<a target=\"_blank\" href=https://colab.research.google.com/notebooks/data_table.ipynb>data table notebook</a>'\n",
              "            + ' to learn more about interactive tables.';\n",
              "          element.innerHTML = '';\n",
              "          dataTable['output_type'] = 'display_data';\n",
              "          await google.colab.output.renderOutput(dataTable, element);\n",
              "          const docLink = document.createElement('div');\n",
              "          docLink.innerHTML = docLinkHtml;\n",
              "          element.appendChild(docLink);\n",
              "        }\n",
              "      </script>\n",
              "    </div>\n",
              "  </div>\n",
              "  "
            ],
            "text/plain": [
              "                       Datetime  \\\n",
              "0     2022-01-04 17:30:00+00:00   \n",
              "1     2022-01-04 13:28:37+00:00   \n",
              "2     2022-01-04 13:05:57+00:00   \n",
              "3     2022-01-04 12:31:16+00:00   \n",
              "4     2022-01-04 10:43:33+00:00   \n",
              "...                         ...   \n",
              "1424  2022-01-02 10:42:02+00:00   \n",
              "1425  2022-01-02 07:41:59+00:00   \n",
              "1426  2022-01-04 03:52:29+00:00   \n",
              "1427  2022-01-03 08:39:30+00:00   \n",
              "1428  2022-01-02 02:03:58+00:00   \n",
              "\n",
              "                                                   Text             User  \n",
              "0     #WebQoof  | A 2018 ABP News bulletin of a BJP ...   QuintFactCheck  \n",
              "1     UP Assembly Election: After Shri Krishna in UP...         NewsNCR2  \n",
              "2     @joonmohit 2022 will be worse than 2021 , 2020...        sahil_kr_  \n",
              "3     @ajitdatta Think this governor wants to fight ...     radheshkrish  \n",
              "4     Diatribe between  sp and bjp revolves around R...         rkprayag  \n",
              "...                                                 ...              ...  \n",
              "1424  #ReporterDiary -:\\n\\nSP TAKES SHELTER IN LORD ...    thefirstindia  \n",
              "1425  BSP slams Akhilesh Yadav's poll promises in UP...         republic  \n",
              "1426  Uttar Pradesh News\\n\\nJayant Chaudhary is repo...   NewsArenaIndia  \n",
              "1427  Uttar Pradesh News\\n\\nSP &amp; RLD workers eng...   NewsArenaIndia  \n",
              "1428  @TimesNow It seems to show confidence of BJP, ...  HarshKetanJakh1  \n",
              "\n",
              "[1429 rows x 3 columns]"
            ]
          },
          "metadata": {},
          "execution_count": 17
        }
      ]
    },
    {
      "cell_type": "code",
      "source": [
        "df_test2 = pd.read_csv('6Jan_to_10Jan/UP-SP.csv')\n",
        "df_test2"
      ],
      "metadata": {
        "colab": {
          "base_uri": "https://localhost:8080/",
          "height": 424
        },
        "id": "9yorH0Up0q5f",
        "outputId": "ffd69106-aff7-4651-c524-0705aec6c637"
      },
      "execution_count": 18,
      "outputs": [
        {
          "output_type": "execute_result",
          "data": {
            "text/html": [
              "\n",
              "  <div id=\"df-91517ef7-c75a-4361-a7cd-a73c34af2dbf\">\n",
              "    <div class=\"colab-df-container\">\n",
              "      <div>\n",
              "<style scoped>\n",
              "    .dataframe tbody tr th:only-of-type {\n",
              "        vertical-align: middle;\n",
              "    }\n",
              "\n",
              "    .dataframe tbody tr th {\n",
              "        vertical-align: top;\n",
              "    }\n",
              "\n",
              "    .dataframe thead th {\n",
              "        text-align: right;\n",
              "    }\n",
              "</style>\n",
              "<table border=\"1\" class=\"dataframe\">\n",
              "  <thead>\n",
              "    <tr style=\"text-align: right;\">\n",
              "      <th></th>\n",
              "      <th>Datetime</th>\n",
              "      <th>Text</th>\n",
              "      <th>User</th>\n",
              "    </tr>\n",
              "  </thead>\n",
              "  <tbody>\n",
              "    <tr>\n",
              "      <th>0</th>\n",
              "      <td>2022-01-09 21:45:36+00:00</td>\n",
              "      <td>SP not even getting the seat as many steps as ...</td>\n",
              "      <td>RajeshP21532037</td>\n",
              "    </tr>\n",
              "    <tr>\n",
              "      <th>1</th>\n",
              "      <td>2022-01-09 18:28:46+00:00</td>\n",
              "      <td>UP election mein SP, BSP ka haal us student ja...</td>\n",
              "      <td>Prachi_Ras</td>\n",
              "    </tr>\n",
              "    <tr>\n",
              "      <th>2</th>\n",
              "      <td>2022-01-09 18:08:51+00:00</td>\n",
              "      <td>UP Election: OP Rajbhar claims that Anupriya P...</td>\n",
              "      <td>NewsNCR2</td>\n",
              "    </tr>\n",
              "    <tr>\n",
              "      <th>3</th>\n",
              "      <td>2022-01-09 17:45:41+00:00</td>\n",
              "      <td>UP Election: SP leader booked Gorakhpur ticket...</td>\n",
              "      <td>NewsNCR2</td>\n",
              "    </tr>\n",
              "    <tr>\n",
              "      <th>4</th>\n",
              "      <td>2022-01-09 17:02:17+00:00</td>\n",
              "      <td>@sambitswaraj\\nSir please point out that SP di...</td>\n",
              "      <td>hariaksingh</td>\n",
              "    </tr>\n",
              "    <tr>\n",
              "      <th>...</th>\n",
              "      <td>...</td>\n",
              "      <td>...</td>\n",
              "      <td>...</td>\n",
              "    </tr>\n",
              "    <tr>\n",
              "      <th>1375</th>\n",
              "      <td>2022-01-08 07:05:28+00:00</td>\n",
              "      <td>Up chunav rld chief jayant chaudhary will not ...</td>\n",
              "      <td>lmpnewsofficial</td>\n",
              "    </tr>\n",
              "    <tr>\n",
              "      <th>1376</th>\n",
              "      <td>2022-01-07 04:31:01+00:00</td>\n",
              "      <td>sp rld alliance akhilesh yadav and jayant chau...</td>\n",
              "      <td>NewsKey21</td>\n",
              "    </tr>\n",
              "    <tr>\n",
              "      <th>1377</th>\n",
              "      <td>2022-01-06 09:57:30+00:00</td>\n",
              "      <td>Uttar Pradesh Election: Today the seat sharing...</td>\n",
              "      <td>NewsNCR2</td>\n",
              "    </tr>\n",
              "    <tr>\n",
              "      <th>1378</th>\n",
              "      <td>2022-01-06 08:06:11+00:00</td>\n",
              "      <td>Meeting between RLD chief Jayant Chaudhary &amp;am...</td>\n",
              "      <td>Indian_Analyzer</td>\n",
              "    </tr>\n",
              "    <tr>\n",
              "      <th>1379</th>\n",
              "      <td>2022-01-06 07:46:15+00:00</td>\n",
              "      <td>Rld Chief Jayant Chaudhary Arrived To Akhilesh...</td>\n",
              "      <td>Khan279Imran</td>\n",
              "    </tr>\n",
              "  </tbody>\n",
              "</table>\n",
              "<p>1380 rows × 3 columns</p>\n",
              "</div>\n",
              "      <button class=\"colab-df-convert\" onclick=\"convertToInteractive('df-91517ef7-c75a-4361-a7cd-a73c34af2dbf')\"\n",
              "              title=\"Convert this dataframe to an interactive table.\"\n",
              "              style=\"display:none;\">\n",
              "        \n",
              "  <svg xmlns=\"http://www.w3.org/2000/svg\" height=\"24px\"viewBox=\"0 0 24 24\"\n",
              "       width=\"24px\">\n",
              "    <path d=\"M0 0h24v24H0V0z\" fill=\"none\"/>\n",
              "    <path d=\"M18.56 5.44l.94 2.06.94-2.06 2.06-.94-2.06-.94-.94-2.06-.94 2.06-2.06.94zm-11 1L8.5 8.5l.94-2.06 2.06-.94-2.06-.94L8.5 2.5l-.94 2.06-2.06.94zm10 10l.94 2.06.94-2.06 2.06-.94-2.06-.94-.94-2.06-.94 2.06-2.06.94z\"/><path d=\"M17.41 7.96l-1.37-1.37c-.4-.4-.92-.59-1.43-.59-.52 0-1.04.2-1.43.59L10.3 9.45l-7.72 7.72c-.78.78-.78 2.05 0 2.83L4 21.41c.39.39.9.59 1.41.59.51 0 1.02-.2 1.41-.59l7.78-7.78 2.81-2.81c.8-.78.8-2.07 0-2.86zM5.41 20L4 18.59l7.72-7.72 1.47 1.35L5.41 20z\"/>\n",
              "  </svg>\n",
              "      </button>\n",
              "      \n",
              "  <style>\n",
              "    .colab-df-container {\n",
              "      display:flex;\n",
              "      flex-wrap:wrap;\n",
              "      gap: 12px;\n",
              "    }\n",
              "\n",
              "    .colab-df-convert {\n",
              "      background-color: #E8F0FE;\n",
              "      border: none;\n",
              "      border-radius: 50%;\n",
              "      cursor: pointer;\n",
              "      display: none;\n",
              "      fill: #1967D2;\n",
              "      height: 32px;\n",
              "      padding: 0 0 0 0;\n",
              "      width: 32px;\n",
              "    }\n",
              "\n",
              "    .colab-df-convert:hover {\n",
              "      background-color: #E2EBFA;\n",
              "      box-shadow: 0px 1px 2px rgba(60, 64, 67, 0.3), 0px 1px 3px 1px rgba(60, 64, 67, 0.15);\n",
              "      fill: #174EA6;\n",
              "    }\n",
              "\n",
              "    [theme=dark] .colab-df-convert {\n",
              "      background-color: #3B4455;\n",
              "      fill: #D2E3FC;\n",
              "    }\n",
              "\n",
              "    [theme=dark] .colab-df-convert:hover {\n",
              "      background-color: #434B5C;\n",
              "      box-shadow: 0px 1px 3px 1px rgba(0, 0, 0, 0.15);\n",
              "      filter: drop-shadow(0px 1px 2px rgba(0, 0, 0, 0.3));\n",
              "      fill: #FFFFFF;\n",
              "    }\n",
              "  </style>\n",
              "\n",
              "      <script>\n",
              "        const buttonEl =\n",
              "          document.querySelector('#df-91517ef7-c75a-4361-a7cd-a73c34af2dbf button.colab-df-convert');\n",
              "        buttonEl.style.display =\n",
              "          google.colab.kernel.accessAllowed ? 'block' : 'none';\n",
              "\n",
              "        async function convertToInteractive(key) {\n",
              "          const element = document.querySelector('#df-91517ef7-c75a-4361-a7cd-a73c34af2dbf');\n",
              "          const dataTable =\n",
              "            await google.colab.kernel.invokeFunction('convertToInteractive',\n",
              "                                                     [key], {});\n",
              "          if (!dataTable) return;\n",
              "\n",
              "          const docLinkHtml = 'Like what you see? Visit the ' +\n",
              "            '<a target=\"_blank\" href=https://colab.research.google.com/notebooks/data_table.ipynb>data table notebook</a>'\n",
              "            + ' to learn more about interactive tables.';\n",
              "          element.innerHTML = '';\n",
              "          dataTable['output_type'] = 'display_data';\n",
              "          await google.colab.output.renderOutput(dataTable, element);\n",
              "          const docLink = document.createElement('div');\n",
              "          docLink.innerHTML = docLinkHtml;\n",
              "          element.appendChild(docLink);\n",
              "        }\n",
              "      </script>\n",
              "    </div>\n",
              "  </div>\n",
              "  "
            ],
            "text/plain": [
              "                       Datetime  \\\n",
              "0     2022-01-09 21:45:36+00:00   \n",
              "1     2022-01-09 18:28:46+00:00   \n",
              "2     2022-01-09 18:08:51+00:00   \n",
              "3     2022-01-09 17:45:41+00:00   \n",
              "4     2022-01-09 17:02:17+00:00   \n",
              "...                         ...   \n",
              "1375  2022-01-08 07:05:28+00:00   \n",
              "1376  2022-01-07 04:31:01+00:00   \n",
              "1377  2022-01-06 09:57:30+00:00   \n",
              "1378  2022-01-06 08:06:11+00:00   \n",
              "1379  2022-01-06 07:46:15+00:00   \n",
              "\n",
              "                                                   Text             User  \n",
              "0     SP not even getting the seat as many steps as ...  RajeshP21532037  \n",
              "1     UP election mein SP, BSP ka haal us student ja...       Prachi_Ras  \n",
              "2     UP Election: OP Rajbhar claims that Anupriya P...         NewsNCR2  \n",
              "3     UP Election: SP leader booked Gorakhpur ticket...         NewsNCR2  \n",
              "4     @sambitswaraj\\nSir please point out that SP di...      hariaksingh  \n",
              "...                                                 ...              ...  \n",
              "1375  Up chunav rld chief jayant chaudhary will not ...  lmpnewsofficial  \n",
              "1376  sp rld alliance akhilesh yadav and jayant chau...        NewsKey21  \n",
              "1377  Uttar Pradesh Election: Today the seat sharing...         NewsNCR2  \n",
              "1378  Meeting between RLD chief Jayant Chaudhary &am...  Indian_Analyzer  \n",
              "1379  Rld Chief Jayant Chaudhary Arrived To Akhilesh...     Khan279Imran  \n",
              "\n",
              "[1380 rows x 3 columns]"
            ]
          },
          "metadata": {},
          "execution_count": 18
        }
      ]
    },
    {
      "cell_type": "code",
      "source": [
        "df_test3 = pd.read_csv('11Jan_to_15Jan/UP-SP.csv')\n",
        "df_test3"
      ],
      "metadata": {
        "colab": {
          "base_uri": "https://localhost:8080/",
          "height": 424
        },
        "id": "jHAbiUwm1DMd",
        "outputId": "7779f375-ae5c-4599-e352-d627ed54b63a"
      },
      "execution_count": 19,
      "outputs": [
        {
          "output_type": "execute_result",
          "data": {
            "text/html": [
              "\n",
              "  <div id=\"df-f6682ee1-6cf7-435e-ad75-1d215c71a0f2\">\n",
              "    <div class=\"colab-df-container\">\n",
              "      <div>\n",
              "<style scoped>\n",
              "    .dataframe tbody tr th:only-of-type {\n",
              "        vertical-align: middle;\n",
              "    }\n",
              "\n",
              "    .dataframe tbody tr th {\n",
              "        vertical-align: top;\n",
              "    }\n",
              "\n",
              "    .dataframe thead th {\n",
              "        text-align: right;\n",
              "    }\n",
              "</style>\n",
              "<table border=\"1\" class=\"dataframe\">\n",
              "  <thead>\n",
              "    <tr style=\"text-align: right;\">\n",
              "      <th></th>\n",
              "      <th>Datetime</th>\n",
              "      <th>Text</th>\n",
              "      <th>User</th>\n",
              "    </tr>\n",
              "  </thead>\n",
              "  <tbody>\n",
              "    <tr>\n",
              "      <th>0</th>\n",
              "      <td>2022-01-14 22:05:47+00:00</td>\n",
              "      <td>@MeghBulletin BJP will get 325+ seats. You hav...</td>\n",
              "      <td>Manoj10112016</td>\n",
              "    </tr>\n",
              "    <tr>\n",
              "      <th>1</th>\n",
              "      <td>2022-01-14 20:57:44+00:00</td>\n",
              "      <td>@RenukaJain6 From UP to Kerala, looks like wom...</td>\n",
              "      <td>DesiHindustani2</td>\n",
              "    </tr>\n",
              "    <tr>\n",
              "      <th>2</th>\n",
              "      <td>2022-01-14 20:54:50+00:00</td>\n",
              "      <td>@WhybotherMeh @Saiarav @ShekharGupta 24% swing...</td>\n",
              "      <td>subhash_b11</td>\n",
              "    </tr>\n",
              "    <tr>\n",
              "      <th>3</th>\n",
              "      <td>2022-01-14 20:10:11+00:00</td>\n",
              "      <td>Exodus can’t decide BJP’s position in upcoming...</td>\n",
              "      <td>abhinav5033</td>\n",
              "    </tr>\n",
              "    <tr>\n",
              "      <th>4</th>\n",
              "      <td>2022-01-14 19:22:00+00:00</td>\n",
              "      <td>If BJP wins in UP then sanghamitra maurya will...</td>\n",
              "      <td>analysis_wing</td>\n",
              "    </tr>\n",
              "    <tr>\n",
              "      <th>...</th>\n",
              "      <td>...</td>\n",
              "      <td>...</td>\n",
              "      <td>...</td>\n",
              "    </tr>\n",
              "    <tr>\n",
              "      <th>2148</th>\n",
              "      <td>2022-01-11 08:52:24+00:00</td>\n",
              "      <td>UP Assembly Election 2022 Brajesh Pathak State...</td>\n",
              "      <td>pakisfirst</td>\n",
              "    </tr>\n",
              "    <tr>\n",
              "      <th>2149</th>\n",
              "      <td>2022-01-11 08:15:25+00:00</td>\n",
              "      <td>UP Assembly Election 2022 Brajesh Pathak State...</td>\n",
              "      <td>infosabkuchh</td>\n",
              "    </tr>\n",
              "    <tr>\n",
              "      <th>2150</th>\n",
              "      <td>2022-01-11 08:06:26+00:00</td>\n",
              "      <td>UP Assembly Election 2022 Brajesh Pathak State...</td>\n",
              "      <td>pakisfirst</td>\n",
              "    </tr>\n",
              "    <tr>\n",
              "      <th>2151</th>\n",
              "      <td>2022-01-11 07:25:24+00:00</td>\n",
              "      <td>@Ashokjaat06 @jayantrld So lathis on jayant Ch...</td>\n",
              "      <td>pankajsaroha1</td>\n",
              "    </tr>\n",
              "    <tr>\n",
              "      <th>2152</th>\n",
              "      <td>2022-01-11 04:14:39+00:00</td>\n",
              "      <td>As UP goes into poll mode. \\nFocus will shift ...</td>\n",
              "      <td>JATs_Land</td>\n",
              "    </tr>\n",
              "  </tbody>\n",
              "</table>\n",
              "<p>2153 rows × 3 columns</p>\n",
              "</div>\n",
              "      <button class=\"colab-df-convert\" onclick=\"convertToInteractive('df-f6682ee1-6cf7-435e-ad75-1d215c71a0f2')\"\n",
              "              title=\"Convert this dataframe to an interactive table.\"\n",
              "              style=\"display:none;\">\n",
              "        \n",
              "  <svg xmlns=\"http://www.w3.org/2000/svg\" height=\"24px\"viewBox=\"0 0 24 24\"\n",
              "       width=\"24px\">\n",
              "    <path d=\"M0 0h24v24H0V0z\" fill=\"none\"/>\n",
              "    <path d=\"M18.56 5.44l.94 2.06.94-2.06 2.06-.94-2.06-.94-.94-2.06-.94 2.06-2.06.94zm-11 1L8.5 8.5l.94-2.06 2.06-.94-2.06-.94L8.5 2.5l-.94 2.06-2.06.94zm10 10l.94 2.06.94-2.06 2.06-.94-2.06-.94-.94-2.06-.94 2.06-2.06.94z\"/><path d=\"M17.41 7.96l-1.37-1.37c-.4-.4-.92-.59-1.43-.59-.52 0-1.04.2-1.43.59L10.3 9.45l-7.72 7.72c-.78.78-.78 2.05 0 2.83L4 21.41c.39.39.9.59 1.41.59.51 0 1.02-.2 1.41-.59l7.78-7.78 2.81-2.81c.8-.78.8-2.07 0-2.86zM5.41 20L4 18.59l7.72-7.72 1.47 1.35L5.41 20z\"/>\n",
              "  </svg>\n",
              "      </button>\n",
              "      \n",
              "  <style>\n",
              "    .colab-df-container {\n",
              "      display:flex;\n",
              "      flex-wrap:wrap;\n",
              "      gap: 12px;\n",
              "    }\n",
              "\n",
              "    .colab-df-convert {\n",
              "      background-color: #E8F0FE;\n",
              "      border: none;\n",
              "      border-radius: 50%;\n",
              "      cursor: pointer;\n",
              "      display: none;\n",
              "      fill: #1967D2;\n",
              "      height: 32px;\n",
              "      padding: 0 0 0 0;\n",
              "      width: 32px;\n",
              "    }\n",
              "\n",
              "    .colab-df-convert:hover {\n",
              "      background-color: #E2EBFA;\n",
              "      box-shadow: 0px 1px 2px rgba(60, 64, 67, 0.3), 0px 1px 3px 1px rgba(60, 64, 67, 0.15);\n",
              "      fill: #174EA6;\n",
              "    }\n",
              "\n",
              "    [theme=dark] .colab-df-convert {\n",
              "      background-color: #3B4455;\n",
              "      fill: #D2E3FC;\n",
              "    }\n",
              "\n",
              "    [theme=dark] .colab-df-convert:hover {\n",
              "      background-color: #434B5C;\n",
              "      box-shadow: 0px 1px 3px 1px rgba(0, 0, 0, 0.15);\n",
              "      filter: drop-shadow(0px 1px 2px rgba(0, 0, 0, 0.3));\n",
              "      fill: #FFFFFF;\n",
              "    }\n",
              "  </style>\n",
              "\n",
              "      <script>\n",
              "        const buttonEl =\n",
              "          document.querySelector('#df-f6682ee1-6cf7-435e-ad75-1d215c71a0f2 button.colab-df-convert');\n",
              "        buttonEl.style.display =\n",
              "          google.colab.kernel.accessAllowed ? 'block' : 'none';\n",
              "\n",
              "        async function convertToInteractive(key) {\n",
              "          const element = document.querySelector('#df-f6682ee1-6cf7-435e-ad75-1d215c71a0f2');\n",
              "          const dataTable =\n",
              "            await google.colab.kernel.invokeFunction('convertToInteractive',\n",
              "                                                     [key], {});\n",
              "          if (!dataTable) return;\n",
              "\n",
              "          const docLinkHtml = 'Like what you see? Visit the ' +\n",
              "            '<a target=\"_blank\" href=https://colab.research.google.com/notebooks/data_table.ipynb>data table notebook</a>'\n",
              "            + ' to learn more about interactive tables.';\n",
              "          element.innerHTML = '';\n",
              "          dataTable['output_type'] = 'display_data';\n",
              "          await google.colab.output.renderOutput(dataTable, element);\n",
              "          const docLink = document.createElement('div');\n",
              "          docLink.innerHTML = docLinkHtml;\n",
              "          element.appendChild(docLink);\n",
              "        }\n",
              "      </script>\n",
              "    </div>\n",
              "  </div>\n",
              "  "
            ],
            "text/plain": [
              "                       Datetime  \\\n",
              "0     2022-01-14 22:05:47+00:00   \n",
              "1     2022-01-14 20:57:44+00:00   \n",
              "2     2022-01-14 20:54:50+00:00   \n",
              "3     2022-01-14 20:10:11+00:00   \n",
              "4     2022-01-14 19:22:00+00:00   \n",
              "...                         ...   \n",
              "2148  2022-01-11 08:52:24+00:00   \n",
              "2149  2022-01-11 08:15:25+00:00   \n",
              "2150  2022-01-11 08:06:26+00:00   \n",
              "2151  2022-01-11 07:25:24+00:00   \n",
              "2152  2022-01-11 04:14:39+00:00   \n",
              "\n",
              "                                                   Text             User  \n",
              "0     @MeghBulletin BJP will get 325+ seats. You hav...    Manoj10112016  \n",
              "1     @RenukaJain6 From UP to Kerala, looks like wom...  DesiHindustani2  \n",
              "2     @WhybotherMeh @Saiarav @ShekharGupta 24% swing...      subhash_b11  \n",
              "3     Exodus can’t decide BJP’s position in upcoming...      abhinav5033  \n",
              "4     If BJP wins in UP then sanghamitra maurya will...    analysis_wing  \n",
              "...                                                 ...              ...  \n",
              "2148  UP Assembly Election 2022 Brajesh Pathak State...       pakisfirst  \n",
              "2149  UP Assembly Election 2022 Brajesh Pathak State...     infosabkuchh  \n",
              "2150  UP Assembly Election 2022 Brajesh Pathak State...       pakisfirst  \n",
              "2151  @Ashokjaat06 @jayantrld So lathis on jayant Ch...    pankajsaroha1  \n",
              "2152  As UP goes into poll mode. \\nFocus will shift ...        JATs_Land  \n",
              "\n",
              "[2153 rows x 3 columns]"
            ]
          },
          "metadata": {},
          "execution_count": 19
        }
      ]
    },
    {
      "cell_type": "code",
      "source": [
        "df_test = pd.concat([df_test2, df_test],axis=0,ignore_index=True)\n",
        "df_test = pd.concat([df_test3, df_test],axis=0,ignore_index=True)"
      ],
      "metadata": {
        "id": "lZVOe2n21Mx6"
      },
      "execution_count": 20,
      "outputs": []
    },
    {
      "cell_type": "code",
      "source": [
        "df_test.drop_duplicates(subset =\"Text\",\n",
        "                     keep = 'first', inplace = True)"
      ],
      "metadata": {
        "id": "5SYtNhM1Ua1x"
      },
      "execution_count": 21,
      "outputs": []
    },
    {
      "cell_type": "code",
      "source": [
        "len(df_test)"
      ],
      "metadata": {
        "colab": {
          "base_uri": "https://localhost:8080/"
        },
        "id": "5UbAOCo_Xb1a",
        "outputId": "4f24a1ad-6ed2-4381-a536-81d855f23954"
      },
      "execution_count": 22,
      "outputs": [
        {
          "output_type": "execute_result",
          "data": {
            "text/plain": [
              "4464"
            ]
          },
          "metadata": {},
          "execution_count": 22
        }
      ]
    },
    {
      "cell_type": "code",
      "source": [
        "df_test['Text'].loc[1]"
      ],
      "metadata": {
        "colab": {
          "base_uri": "https://localhost:8080/",
          "height": 70
        },
        "id": "DFR36XooKmNq",
        "outputId": "bd882419-93fb-4717-eee7-d40827c2423f"
      },
      "execution_count": 23,
      "outputs": [
        {
          "output_type": "execute_result",
          "data": {
            "application/vnd.google.colaboratory.intrinsic+json": {
              "type": "string"
            },
            "text/plain": [
              "\"@RenukaJain6 From UP to Kerala, looks like women r not going to get justice! Congress has taken a lead by giving a ticket to the mother of the girl raped and killed by the BJP leader in UP election, SP has decided not to put their candidate fm this seat! Let's see what shameless BJP does now\""
            ]
          },
          "metadata": {},
          "execution_count": 23
        }
      ]
    },
    {
      "cell_type": "code",
      "source": [
        "df_test['cleaned_tweet']=df_test['Text'].apply(dataCleaning)"
      ],
      "metadata": {
        "id": "diop1d7fKv7p"
      },
      "execution_count": 24,
      "outputs": []
    },
    {
      "cell_type": "code",
      "source": [
        "df_test['cleaned_tweet'].loc[1]"
      ],
      "metadata": {
        "colab": {
          "base_uri": "https://localhost:8080/",
          "height": 53
        },
        "id": "6ax67DYLLFEC",
        "outputId": "2df47e37-6547-4f51-ec0b-286f93246c9c"
      },
      "execution_count": 25,
      "outputs": [
        {
          "output_type": "execute_result",
          "data": {
            "application/vnd.google.colaboratory.intrinsic+json": {
              "type": "string"
            },
            "text/plain": [
              "\"kerala look like woman r going get justice! congress taken lead giving ticket mother girl raped killed bjp leader election sp decided put candidate fm seat! let's see shameless bjp\""
            ]
          },
          "metadata": {},
          "execution_count": 25
        }
      ]
    },
    {
      "cell_type": "code",
      "source": [
        "df_test2 = df_test.copy()"
      ],
      "metadata": {
        "id": "N-Z4hgiHhlbZ"
      },
      "execution_count": 26,
      "outputs": []
    },
    {
      "cell_type": "code",
      "source": [
        "df_test.drop(columns =['Datetime', 'Text', 'User'], axis=1, inplace=True)"
      ],
      "metadata": {
        "id": "0qHla0XV1REK"
      },
      "execution_count": 27,
      "outputs": []
    },
    {
      "cell_type": "code",
      "source": [
        "actual_df_Vader = pd.read_csv('Actual_df_Vader.csv')"
      ],
      "metadata": {
        "id": "qax1qQNQ10AX"
      },
      "execution_count": 28,
      "outputs": []
    },
    {
      "cell_type": "code",
      "source": [
        "actual_df_Vader.head()"
      ],
      "metadata": {
        "colab": {
          "base_uri": "https://localhost:8080/",
          "height": 206
        },
        "id": "0X4XTzXN13BF",
        "outputId": "8054fa99-7047-4e64-bbd3-0ccbbffc364c"
      },
      "execution_count": 29,
      "outputs": [
        {
          "output_type": "execute_result",
          "data": {
            "text/html": [
              "\n",
              "  <div id=\"df-cb748326-6a4b-40a0-9600-2dc9f35e2d5b\">\n",
              "    <div class=\"colab-df-container\">\n",
              "      <div>\n",
              "<style scoped>\n",
              "    .dataframe tbody tr th:only-of-type {\n",
              "        vertical-align: middle;\n",
              "    }\n",
              "\n",
              "    .dataframe tbody tr th {\n",
              "        vertical-align: top;\n",
              "    }\n",
              "\n",
              "    .dataframe thead th {\n",
              "        text-align: right;\n",
              "    }\n",
              "</style>\n",
              "<table border=\"1\" class=\"dataframe\">\n",
              "  <thead>\n",
              "    <tr style=\"text-align: right;\">\n",
              "      <th></th>\n",
              "      <th>cleaned_tweet</th>\n",
              "      <th>Sentiment</th>\n",
              "    </tr>\n",
              "  </thead>\n",
              "  <tbody>\n",
              "    <tr>\n",
              "      <th>0</th>\n",
              "      <td>aap's historic win chandigarh mc poll show peo...</td>\n",
              "      <td>2</td>\n",
              "    </tr>\n",
              "    <tr>\n",
              "      <th>1</th>\n",
              "      <td>ahead election bjp planning massive campaign r...</td>\n",
              "      <td>1</td>\n",
              "    </tr>\n",
              "    <tr>\n",
              "      <th>2</th>\n",
              "      <td>cpi(m) general secretary sitaram yechury said ...</td>\n",
              "      <td>0</td>\n",
              "    </tr>\n",
              "    <tr>\n",
              "      <th>3</th>\n",
              "      <td>. top brass up: pm pitch party upcoming assemb...</td>\n",
              "      <td>2</td>\n",
              "    </tr>\n",
              "    <tr>\n",
              "      <th>4</th>\n",
              "      <td>bjp register bigger win time assembly poll cla...</td>\n",
              "      <td>2</td>\n",
              "    </tr>\n",
              "  </tbody>\n",
              "</table>\n",
              "</div>\n",
              "      <button class=\"colab-df-convert\" onclick=\"convertToInteractive('df-cb748326-6a4b-40a0-9600-2dc9f35e2d5b')\"\n",
              "              title=\"Convert this dataframe to an interactive table.\"\n",
              "              style=\"display:none;\">\n",
              "        \n",
              "  <svg xmlns=\"http://www.w3.org/2000/svg\" height=\"24px\"viewBox=\"0 0 24 24\"\n",
              "       width=\"24px\">\n",
              "    <path d=\"M0 0h24v24H0V0z\" fill=\"none\"/>\n",
              "    <path d=\"M18.56 5.44l.94 2.06.94-2.06 2.06-.94-2.06-.94-.94-2.06-.94 2.06-2.06.94zm-11 1L8.5 8.5l.94-2.06 2.06-.94-2.06-.94L8.5 2.5l-.94 2.06-2.06.94zm10 10l.94 2.06.94-2.06 2.06-.94-2.06-.94-.94-2.06-.94 2.06-2.06.94z\"/><path d=\"M17.41 7.96l-1.37-1.37c-.4-.4-.92-.59-1.43-.59-.52 0-1.04.2-1.43.59L10.3 9.45l-7.72 7.72c-.78.78-.78 2.05 0 2.83L4 21.41c.39.39.9.59 1.41.59.51 0 1.02-.2 1.41-.59l7.78-7.78 2.81-2.81c.8-.78.8-2.07 0-2.86zM5.41 20L4 18.59l7.72-7.72 1.47 1.35L5.41 20z\"/>\n",
              "  </svg>\n",
              "      </button>\n",
              "      \n",
              "  <style>\n",
              "    .colab-df-container {\n",
              "      display:flex;\n",
              "      flex-wrap:wrap;\n",
              "      gap: 12px;\n",
              "    }\n",
              "\n",
              "    .colab-df-convert {\n",
              "      background-color: #E8F0FE;\n",
              "      border: none;\n",
              "      border-radius: 50%;\n",
              "      cursor: pointer;\n",
              "      display: none;\n",
              "      fill: #1967D2;\n",
              "      height: 32px;\n",
              "      padding: 0 0 0 0;\n",
              "      width: 32px;\n",
              "    }\n",
              "\n",
              "    .colab-df-convert:hover {\n",
              "      background-color: #E2EBFA;\n",
              "      box-shadow: 0px 1px 2px rgba(60, 64, 67, 0.3), 0px 1px 3px 1px rgba(60, 64, 67, 0.15);\n",
              "      fill: #174EA6;\n",
              "    }\n",
              "\n",
              "    [theme=dark] .colab-df-convert {\n",
              "      background-color: #3B4455;\n",
              "      fill: #D2E3FC;\n",
              "    }\n",
              "\n",
              "    [theme=dark] .colab-df-convert:hover {\n",
              "      background-color: #434B5C;\n",
              "      box-shadow: 0px 1px 3px 1px rgba(0, 0, 0, 0.15);\n",
              "      filter: drop-shadow(0px 1px 2px rgba(0, 0, 0, 0.3));\n",
              "      fill: #FFFFFF;\n",
              "    }\n",
              "  </style>\n",
              "\n",
              "      <script>\n",
              "        const buttonEl =\n",
              "          document.querySelector('#df-cb748326-6a4b-40a0-9600-2dc9f35e2d5b button.colab-df-convert');\n",
              "        buttonEl.style.display =\n",
              "          google.colab.kernel.accessAllowed ? 'block' : 'none';\n",
              "\n",
              "        async function convertToInteractive(key) {\n",
              "          const element = document.querySelector('#df-cb748326-6a4b-40a0-9600-2dc9f35e2d5b');\n",
              "          const dataTable =\n",
              "            await google.colab.kernel.invokeFunction('convertToInteractive',\n",
              "                                                     [key], {});\n",
              "          if (!dataTable) return;\n",
              "\n",
              "          const docLinkHtml = 'Like what you see? Visit the ' +\n",
              "            '<a target=\"_blank\" href=https://colab.research.google.com/notebooks/data_table.ipynb>data table notebook</a>'\n",
              "            + ' to learn more about interactive tables.';\n",
              "          element.innerHTML = '';\n",
              "          dataTable['output_type'] = 'display_data';\n",
              "          await google.colab.output.renderOutput(dataTable, element);\n",
              "          const docLink = document.createElement('div');\n",
              "          docLink.innerHTML = docLinkHtml;\n",
              "          element.appendChild(docLink);\n",
              "        }\n",
              "      </script>\n",
              "    </div>\n",
              "  </div>\n",
              "  "
            ],
            "text/plain": [
              "                                       cleaned_tweet  Sentiment\n",
              "0  aap's historic win chandigarh mc poll show peo...          2\n",
              "1  ahead election bjp planning massive campaign r...          1\n",
              "2  cpi(m) general secretary sitaram yechury said ...          0\n",
              "3  . top brass up: pm pitch party upcoming assemb...          2\n",
              "4  bjp register bigger win time assembly poll cla...          2"
            ]
          },
          "metadata": {},
          "execution_count": 29
        }
      ]
    },
    {
      "cell_type": "code",
      "source": [
        "len(actual_df_Vader)"
      ],
      "metadata": {
        "colab": {
          "base_uri": "https://localhost:8080/"
        },
        "id": "Ww0vNdeZX7g1",
        "outputId": "f1966849-865e-4de4-de02-bb6f3d30506e"
      },
      "execution_count": 30,
      "outputs": [
        {
          "output_type": "execute_result",
          "data": {
            "text/plain": [
              "11299"
            ]
          },
          "metadata": {},
          "execution_count": 30
        }
      ]
    },
    {
      "cell_type": "code",
      "source": [
        "actual_df_Vader['cleaned_tweet'].isnull().sum()"
      ],
      "metadata": {
        "colab": {
          "base_uri": "https://localhost:8080/"
        },
        "id": "zXYqePFHfdrS",
        "outputId": "9563626e-04b7-40ba-a936-585b2ddcdc23"
      },
      "execution_count": 31,
      "outputs": [
        {
          "output_type": "execute_result",
          "data": {
            "text/plain": [
              "1"
            ]
          },
          "metadata": {},
          "execution_count": 31
        }
      ]
    },
    {
      "cell_type": "code",
      "source": [
        "actual_df_Vader.dropna(subset=['cleaned_tweet'], inplace=True)"
      ],
      "metadata": {
        "id": "nfWZhwLmfkZS"
      },
      "execution_count": 32,
      "outputs": []
    },
    {
      "cell_type": "code",
      "source": [
        "df_test.head()\n",
        "df_test.dropna(subset=['cleaned_tweet'], inplace=True)\n",
        "len(df_test)"
      ],
      "metadata": {
        "colab": {
          "base_uri": "https://localhost:8080/"
        },
        "id": "Z_pmWAdRYnY7",
        "outputId": "d2744668-1ebe-4295-c9af-9e37411ea676"
      },
      "execution_count": 33,
      "outputs": [
        {
          "output_type": "execute_result",
          "data": {
            "text/plain": [
              "4464"
            ]
          },
          "metadata": {},
          "execution_count": 33
        }
      ]
    },
    {
      "cell_type": "code",
      "source": [
        "df_test['cleaned_tweet'].isnull().sum()"
      ],
      "metadata": {
        "colab": {
          "base_uri": "https://localhost:8080/"
        },
        "id": "ftUVM-RtfWpO",
        "outputId": "3e044153-12a9-4b71-e0ba-b21caf3a7279"
      },
      "execution_count": 34,
      "outputs": [
        {
          "output_type": "execute_result",
          "data": {
            "text/plain": [
              "0"
            ]
          },
          "metadata": {},
          "execution_count": 34
        }
      ]
    },
    {
      "cell_type": "code",
      "source": [
        "total_data = pd.concat([actual_df_Vader, df_test],axis=0,ignore_index=True)\n",
        "total_data"
      ],
      "metadata": {
        "colab": {
          "base_uri": "https://localhost:8080/",
          "height": 424
        },
        "id": "f9QhX0nsXiZJ",
        "outputId": "982cbad9-8e19-4d20-9cf0-7d0dac288d30"
      },
      "execution_count": 35,
      "outputs": [
        {
          "output_type": "execute_result",
          "data": {
            "text/html": [
              "\n",
              "  <div id=\"df-295f9159-c77c-4a38-a06e-6acc5d8b6230\">\n",
              "    <div class=\"colab-df-container\">\n",
              "      <div>\n",
              "<style scoped>\n",
              "    .dataframe tbody tr th:only-of-type {\n",
              "        vertical-align: middle;\n",
              "    }\n",
              "\n",
              "    .dataframe tbody tr th {\n",
              "        vertical-align: top;\n",
              "    }\n",
              "\n",
              "    .dataframe thead th {\n",
              "        text-align: right;\n",
              "    }\n",
              "</style>\n",
              "<table border=\"1\" class=\"dataframe\">\n",
              "  <thead>\n",
              "    <tr style=\"text-align: right;\">\n",
              "      <th></th>\n",
              "      <th>cleaned_tweet</th>\n",
              "      <th>Sentiment</th>\n",
              "    </tr>\n",
              "  </thead>\n",
              "  <tbody>\n",
              "    <tr>\n",
              "      <th>0</th>\n",
              "      <td>aap's historic win chandigarh mc poll show peo...</td>\n",
              "      <td>2.0</td>\n",
              "    </tr>\n",
              "    <tr>\n",
              "      <th>1</th>\n",
              "      <td>ahead election bjp planning massive campaign r...</td>\n",
              "      <td>1.0</td>\n",
              "    </tr>\n",
              "    <tr>\n",
              "      <th>2</th>\n",
              "      <td>cpi(m) general secretary sitaram yechury said ...</td>\n",
              "      <td>0.0</td>\n",
              "    </tr>\n",
              "    <tr>\n",
              "      <th>3</th>\n",
              "      <td>. top brass up: pm pitch party upcoming assemb...</td>\n",
              "      <td>2.0</td>\n",
              "    </tr>\n",
              "    <tr>\n",
              "      <th>4</th>\n",
              "      <td>bjp register bigger win time assembly poll cla...</td>\n",
              "      <td>2.0</td>\n",
              "    </tr>\n",
              "    <tr>\n",
              "      <th>...</th>\n",
              "      <td>...</td>\n",
              "      <td>...</td>\n",
              "    </tr>\n",
              "    <tr>\n",
              "      <th>15757</th>\n",
              "      <td>sp president make first poll promise 2022 asse...</td>\n",
              "      <td>NaN</td>\n",
              "    </tr>\n",
              "    <tr>\n",
              "      <th>15758</th>\n",
              "      <td>sp+inc make govt mark word</td>\n",
              "      <td>NaN</td>\n",
              "    </tr>\n",
              "    <tr>\n",
              "      <th>15759</th>\n",
              "      <td>sp atleast?</td>\n",
              "      <td>NaN</td>\n",
              "    </tr>\n",
              "    <tr>\n",
              "      <th>15760</th>\n",
              "      <td>uttar pradesh news sp rld worker engaged fistf...</td>\n",
              "      <td>NaN</td>\n",
              "    </tr>\n",
              "    <tr>\n",
              "      <th>15761</th>\n",
              "      <td>seems show confidence bjp whereas time akhiles...</td>\n",
              "      <td>NaN</td>\n",
              "    </tr>\n",
              "  </tbody>\n",
              "</table>\n",
              "<p>15762 rows × 2 columns</p>\n",
              "</div>\n",
              "      <button class=\"colab-df-convert\" onclick=\"convertToInteractive('df-295f9159-c77c-4a38-a06e-6acc5d8b6230')\"\n",
              "              title=\"Convert this dataframe to an interactive table.\"\n",
              "              style=\"display:none;\">\n",
              "        \n",
              "  <svg xmlns=\"http://www.w3.org/2000/svg\" height=\"24px\"viewBox=\"0 0 24 24\"\n",
              "       width=\"24px\">\n",
              "    <path d=\"M0 0h24v24H0V0z\" fill=\"none\"/>\n",
              "    <path d=\"M18.56 5.44l.94 2.06.94-2.06 2.06-.94-2.06-.94-.94-2.06-.94 2.06-2.06.94zm-11 1L8.5 8.5l.94-2.06 2.06-.94-2.06-.94L8.5 2.5l-.94 2.06-2.06.94zm10 10l.94 2.06.94-2.06 2.06-.94-2.06-.94-.94-2.06-.94 2.06-2.06.94z\"/><path d=\"M17.41 7.96l-1.37-1.37c-.4-.4-.92-.59-1.43-.59-.52 0-1.04.2-1.43.59L10.3 9.45l-7.72 7.72c-.78.78-.78 2.05 0 2.83L4 21.41c.39.39.9.59 1.41.59.51 0 1.02-.2 1.41-.59l7.78-7.78 2.81-2.81c.8-.78.8-2.07 0-2.86zM5.41 20L4 18.59l7.72-7.72 1.47 1.35L5.41 20z\"/>\n",
              "  </svg>\n",
              "      </button>\n",
              "      \n",
              "  <style>\n",
              "    .colab-df-container {\n",
              "      display:flex;\n",
              "      flex-wrap:wrap;\n",
              "      gap: 12px;\n",
              "    }\n",
              "\n",
              "    .colab-df-convert {\n",
              "      background-color: #E8F0FE;\n",
              "      border: none;\n",
              "      border-radius: 50%;\n",
              "      cursor: pointer;\n",
              "      display: none;\n",
              "      fill: #1967D2;\n",
              "      height: 32px;\n",
              "      padding: 0 0 0 0;\n",
              "      width: 32px;\n",
              "    }\n",
              "\n",
              "    .colab-df-convert:hover {\n",
              "      background-color: #E2EBFA;\n",
              "      box-shadow: 0px 1px 2px rgba(60, 64, 67, 0.3), 0px 1px 3px 1px rgba(60, 64, 67, 0.15);\n",
              "      fill: #174EA6;\n",
              "    }\n",
              "\n",
              "    [theme=dark] .colab-df-convert {\n",
              "      background-color: #3B4455;\n",
              "      fill: #D2E3FC;\n",
              "    }\n",
              "\n",
              "    [theme=dark] .colab-df-convert:hover {\n",
              "      background-color: #434B5C;\n",
              "      box-shadow: 0px 1px 3px 1px rgba(0, 0, 0, 0.15);\n",
              "      filter: drop-shadow(0px 1px 2px rgba(0, 0, 0, 0.3));\n",
              "      fill: #FFFFFF;\n",
              "    }\n",
              "  </style>\n",
              "\n",
              "      <script>\n",
              "        const buttonEl =\n",
              "          document.querySelector('#df-295f9159-c77c-4a38-a06e-6acc5d8b6230 button.colab-df-convert');\n",
              "        buttonEl.style.display =\n",
              "          google.colab.kernel.accessAllowed ? 'block' : 'none';\n",
              "\n",
              "        async function convertToInteractive(key) {\n",
              "          const element = document.querySelector('#df-295f9159-c77c-4a38-a06e-6acc5d8b6230');\n",
              "          const dataTable =\n",
              "            await google.colab.kernel.invokeFunction('convertToInteractive',\n",
              "                                                     [key], {});\n",
              "          if (!dataTable) return;\n",
              "\n",
              "          const docLinkHtml = 'Like what you see? Visit the ' +\n",
              "            '<a target=\"_blank\" href=https://colab.research.google.com/notebooks/data_table.ipynb>data table notebook</a>'\n",
              "            + ' to learn more about interactive tables.';\n",
              "          element.innerHTML = '';\n",
              "          dataTable['output_type'] = 'display_data';\n",
              "          await google.colab.output.renderOutput(dataTable, element);\n",
              "          const docLink = document.createElement('div');\n",
              "          docLink.innerHTML = docLinkHtml;\n",
              "          element.appendChild(docLink);\n",
              "        }\n",
              "      </script>\n",
              "    </div>\n",
              "  </div>\n",
              "  "
            ],
            "text/plain": [
              "                                           cleaned_tweet  Sentiment\n",
              "0      aap's historic win chandigarh mc poll show peo...        2.0\n",
              "1      ahead election bjp planning massive campaign r...        1.0\n",
              "2      cpi(m) general secretary sitaram yechury said ...        0.0\n",
              "3      . top brass up: pm pitch party upcoming assemb...        2.0\n",
              "4      bjp register bigger win time assembly poll cla...        2.0\n",
              "...                                                  ...        ...\n",
              "15757  sp president make first poll promise 2022 asse...        NaN\n",
              "15758                         sp+inc make govt mark word        NaN\n",
              "15759                                        sp atleast?        NaN\n",
              "15760  uttar pradesh news sp rld worker engaged fistf...        NaN\n",
              "15761  seems show confidence bjp whereas time akhiles...        NaN\n",
              "\n",
              "[15762 rows x 2 columns]"
            ]
          },
          "metadata": {},
          "execution_count": 35
        }
      ]
    },
    {
      "cell_type": "code",
      "source": [
        "total_data['cleaned_tweet'].isnull().sum()"
      ],
      "metadata": {
        "colab": {
          "base_uri": "https://localhost:8080/"
        },
        "id": "Jig5EV_gbMAC",
        "outputId": "8662654f-e579-4c96-eea6-267d8171d2bc"
      },
      "execution_count": 36,
      "outputs": [
        {
          "output_type": "execute_result",
          "data": {
            "text/plain": [
              "0"
            ]
          },
          "metadata": {},
          "execution_count": 36
        }
      ]
    },
    {
      "cell_type": "code",
      "source": [
        "total_data.dropna(subset=['cleaned_tweet'], inplace=True)"
      ],
      "metadata": {
        "id": "BVAuUREpa43I"
      },
      "execution_count": 37,
      "outputs": []
    },
    {
      "cell_type": "code",
      "source": [
        "cv = CountVectorizer()\n",
        "vec = cv.fit_transform(total_data['cleaned_tweet'])\n",
        "print(vec.shape, total_data.shape)"
      ],
      "metadata": {
        "colab": {
          "base_uri": "https://localhost:8080/"
        },
        "id": "bMDFH_xiLSvb",
        "outputId": "a62361b4-00b4-4963-ab9b-0528e1a2d1d3"
      },
      "execution_count": 38,
      "outputs": [
        {
          "output_type": "stream",
          "name": "stdout",
          "text": [
            "(15762, 21848) (15762, 2)\n"
          ]
        }
      ]
    },
    {
      "cell_type": "code",
      "source": [
        "X=vec[:len(actual_df_Vader)]\n",
        "y=actual_df_Vader.Sentiment\n",
        "X_train,X_test,y_train,y_test=train_test_split(X,y,train_size=0.85)"
      ],
      "metadata": {
        "id": "YVPV0Nd_aRgQ"
      },
      "execution_count": 39,
      "outputs": []
    },
    {
      "cell_type": "code",
      "source": [
        "rf_with_cv = RandomForestClassifier(n_estimators=65)\n",
        "rf_with_cv.fit(X_train,y_train)\n",
        "pred = rf_with_cv.predict(X_test)\n",
        "accuracy_score(pred,y_test)"
      ],
      "metadata": {
        "colab": {
          "base_uri": "https://localhost:8080/"
        },
        "id": "cyKMr13qbqAR",
        "outputId": "a819a02a-0eb4-4188-eb2f-42cf9b6ee502"
      },
      "execution_count": 40,
      "outputs": [
        {
          "output_type": "execute_result",
          "data": {
            "text/plain": [
              "0.7817109144542773"
            ]
          },
          "metadata": {},
          "execution_count": 40
        }
      ]
    },
    {
      "cell_type": "code",
      "source": [
        "test_vec = vec[len(actual_df_Vader):]\n",
        "test_vec"
      ],
      "metadata": {
        "colab": {
          "base_uri": "https://localhost:8080/"
        },
        "id": "rlACmmN92eUV",
        "outputId": "81c092ef-dc54-44fa-b371-955b1b4b8d6f"
      },
      "execution_count": 41,
      "outputs": [
        {
          "output_type": "execute_result",
          "data": {
            "text/plain": [
              "<4464x21848 sparse matrix of type '<class 'numpy.int64'>'\n",
              "\twith 57252 stored elements in Compressed Sparse Row format>"
            ]
          },
          "metadata": {},
          "execution_count": 41
        }
      ]
    },
    {
      "cell_type": "code",
      "source": [
        "predictions = rf_with_cv.predict(test_vec)\n",
        "predictions"
      ],
      "metadata": {
        "colab": {
          "base_uri": "https://localhost:8080/"
        },
        "id": "aGSFgvwVdPBs",
        "outputId": "3d22bb94-6169-4209-c6b2-5db53b1e5d22"
      },
      "execution_count": 42,
      "outputs": [
        {
          "output_type": "execute_result",
          "data": {
            "text/plain": [
              "array([2, 2, 0, ..., 1, 1, 2])"
            ]
          },
          "metadata": {},
          "execution_count": 42
        }
      ]
    },
    {
      "cell_type": "code",
      "source": [
        "len(predictions)"
      ],
      "metadata": {
        "colab": {
          "base_uri": "https://localhost:8080/"
        },
        "id": "1_zJR3S_equ7",
        "outputId": "704993ed-2b34-4754-f92e-aa87dc307189"
      },
      "execution_count": 43,
      "outputs": [
        {
          "output_type": "execute_result",
          "data": {
            "text/plain": [
              "4464"
            ]
          },
          "metadata": {},
          "execution_count": 43
        }
      ]
    },
    {
      "cell_type": "code",
      "source": [
        "submission = pd.DataFrame()\n",
        "submission['Tweet'] = df_test['cleaned_tweet']\n",
        "submission['Sentiment'] = predictions\n",
        "submission['Date'] = df_test2['Datetime']\n",
        "submission"
      ],
      "metadata": {
        "colab": {
          "base_uri": "https://localhost:8080/",
          "height": 424
        },
        "id": "4PgG6yoOeSJr",
        "outputId": "12d2cae4-ef13-44c5-ba49-642165c85940"
      },
      "execution_count": 44,
      "outputs": [
        {
          "output_type": "execute_result",
          "data": {
            "text/html": [
              "\n",
              "  <div id=\"df-be458dba-bc19-4682-a6e5-a545a03345f5\">\n",
              "    <div class=\"colab-df-container\">\n",
              "      <div>\n",
              "<style scoped>\n",
              "    .dataframe tbody tr th:only-of-type {\n",
              "        vertical-align: middle;\n",
              "    }\n",
              "\n",
              "    .dataframe tbody tr th {\n",
              "        vertical-align: top;\n",
              "    }\n",
              "\n",
              "    .dataframe thead th {\n",
              "        text-align: right;\n",
              "    }\n",
              "</style>\n",
              "<table border=\"1\" class=\"dataframe\">\n",
              "  <thead>\n",
              "    <tr style=\"text-align: right;\">\n",
              "      <th></th>\n",
              "      <th>Tweet</th>\n",
              "      <th>Sentiment</th>\n",
              "      <th>Date</th>\n",
              "    </tr>\n",
              "  </thead>\n",
              "  <tbody>\n",
              "    <tr>\n",
              "      <th>0</th>\n",
              "      <td>bjp get 325+ seats. haven’t seen mood people u...</td>\n",
              "      <td>2</td>\n",
              "      <td>2022-01-14 22:05:47+00:00</td>\n",
              "    </tr>\n",
              "    <tr>\n",
              "      <th>1</th>\n",
              "      <td>kerala look like woman r going get justice! co...</td>\n",
              "      <td>2</td>\n",
              "      <td>2022-01-14 20:57:44+00:00</td>\n",
              "    </tr>\n",
              "    <tr>\n",
              "      <th>2</th>\n",
              "      <td>24% swing 17 untrue . bjp 42% 14 2 % loss 14 e...</td>\n",
              "      <td>0</td>\n",
              "      <td>2022-01-14 20:54:50+00:00</td>\n",
              "    </tr>\n",
              "    <tr>\n",
              "      <th>3</th>\n",
              "      <td>exodus can’t decide bjp’s position upcoming el...</td>\n",
              "      <td>0</td>\n",
              "      <td>2022-01-14 20:10:11+00:00</td>\n",
              "    </tr>\n",
              "    <tr>\n",
              "      <th>4</th>\n",
              "      <td>bjp win sanghamitra maurya act like bridge bri...</td>\n",
              "      <td>2</td>\n",
              "      <td>2022-01-14 19:22:00+00:00</td>\n",
              "    </tr>\n",
              "    <tr>\n",
              "      <th>...</th>\n",
              "      <td>...</td>\n",
              "      <td>...</td>\n",
              "      <td>...</td>\n",
              "    </tr>\n",
              "    <tr>\n",
              "      <th>4953</th>\n",
              "      <td>sp president make first poll promise 2022 asse...</td>\n",
              "      <td>2</td>\n",
              "      <td>2022-01-01 07:56:26+00:00</td>\n",
              "    </tr>\n",
              "    <tr>\n",
              "      <th>4954</th>\n",
              "      <td>sp+inc make govt mark word</td>\n",
              "      <td>2</td>\n",
              "      <td>2022-01-01 05:09:34+00:00</td>\n",
              "    </tr>\n",
              "    <tr>\n",
              "      <th>4955</th>\n",
              "      <td>sp atleast?</td>\n",
              "      <td>1</td>\n",
              "      <td>2022-01-01 02:30:50+00:00</td>\n",
              "    </tr>\n",
              "    <tr>\n",
              "      <th>4960</th>\n",
              "      <td>uttar pradesh news sp rld worker engaged fistf...</td>\n",
              "      <td>1</td>\n",
              "      <td>2022-01-03 08:39:30+00:00</td>\n",
              "    </tr>\n",
              "    <tr>\n",
              "      <th>4961</th>\n",
              "      <td>seems show confidence bjp whereas time akhiles...</td>\n",
              "      <td>2</td>\n",
              "      <td>2022-01-02 02:03:58+00:00</td>\n",
              "    </tr>\n",
              "  </tbody>\n",
              "</table>\n",
              "<p>4464 rows × 3 columns</p>\n",
              "</div>\n",
              "      <button class=\"colab-df-convert\" onclick=\"convertToInteractive('df-be458dba-bc19-4682-a6e5-a545a03345f5')\"\n",
              "              title=\"Convert this dataframe to an interactive table.\"\n",
              "              style=\"display:none;\">\n",
              "        \n",
              "  <svg xmlns=\"http://www.w3.org/2000/svg\" height=\"24px\"viewBox=\"0 0 24 24\"\n",
              "       width=\"24px\">\n",
              "    <path d=\"M0 0h24v24H0V0z\" fill=\"none\"/>\n",
              "    <path d=\"M18.56 5.44l.94 2.06.94-2.06 2.06-.94-2.06-.94-.94-2.06-.94 2.06-2.06.94zm-11 1L8.5 8.5l.94-2.06 2.06-.94-2.06-.94L8.5 2.5l-.94 2.06-2.06.94zm10 10l.94 2.06.94-2.06 2.06-.94-2.06-.94-.94-2.06-.94 2.06-2.06.94z\"/><path d=\"M17.41 7.96l-1.37-1.37c-.4-.4-.92-.59-1.43-.59-.52 0-1.04.2-1.43.59L10.3 9.45l-7.72 7.72c-.78.78-.78 2.05 0 2.83L4 21.41c.39.39.9.59 1.41.59.51 0 1.02-.2 1.41-.59l7.78-7.78 2.81-2.81c.8-.78.8-2.07 0-2.86zM5.41 20L4 18.59l7.72-7.72 1.47 1.35L5.41 20z\"/>\n",
              "  </svg>\n",
              "      </button>\n",
              "      \n",
              "  <style>\n",
              "    .colab-df-container {\n",
              "      display:flex;\n",
              "      flex-wrap:wrap;\n",
              "      gap: 12px;\n",
              "    }\n",
              "\n",
              "    .colab-df-convert {\n",
              "      background-color: #E8F0FE;\n",
              "      border: none;\n",
              "      border-radius: 50%;\n",
              "      cursor: pointer;\n",
              "      display: none;\n",
              "      fill: #1967D2;\n",
              "      height: 32px;\n",
              "      padding: 0 0 0 0;\n",
              "      width: 32px;\n",
              "    }\n",
              "\n",
              "    .colab-df-convert:hover {\n",
              "      background-color: #E2EBFA;\n",
              "      box-shadow: 0px 1px 2px rgba(60, 64, 67, 0.3), 0px 1px 3px 1px rgba(60, 64, 67, 0.15);\n",
              "      fill: #174EA6;\n",
              "    }\n",
              "\n",
              "    [theme=dark] .colab-df-convert {\n",
              "      background-color: #3B4455;\n",
              "      fill: #D2E3FC;\n",
              "    }\n",
              "\n",
              "    [theme=dark] .colab-df-convert:hover {\n",
              "      background-color: #434B5C;\n",
              "      box-shadow: 0px 1px 3px 1px rgba(0, 0, 0, 0.15);\n",
              "      filter: drop-shadow(0px 1px 2px rgba(0, 0, 0, 0.3));\n",
              "      fill: #FFFFFF;\n",
              "    }\n",
              "  </style>\n",
              "\n",
              "      <script>\n",
              "        const buttonEl =\n",
              "          document.querySelector('#df-be458dba-bc19-4682-a6e5-a545a03345f5 button.colab-df-convert');\n",
              "        buttonEl.style.display =\n",
              "          google.colab.kernel.accessAllowed ? 'block' : 'none';\n",
              "\n",
              "        async function convertToInteractive(key) {\n",
              "          const element = document.querySelector('#df-be458dba-bc19-4682-a6e5-a545a03345f5');\n",
              "          const dataTable =\n",
              "            await google.colab.kernel.invokeFunction('convertToInteractive',\n",
              "                                                     [key], {});\n",
              "          if (!dataTable) return;\n",
              "\n",
              "          const docLinkHtml = 'Like what you see? Visit the ' +\n",
              "            '<a target=\"_blank\" href=https://colab.research.google.com/notebooks/data_table.ipynb>data table notebook</a>'\n",
              "            + ' to learn more about interactive tables.';\n",
              "          element.innerHTML = '';\n",
              "          dataTable['output_type'] = 'display_data';\n",
              "          await google.colab.output.renderOutput(dataTable, element);\n",
              "          const docLink = document.createElement('div');\n",
              "          docLink.innerHTML = docLinkHtml;\n",
              "          element.appendChild(docLink);\n",
              "        }\n",
              "      </script>\n",
              "    </div>\n",
              "  </div>\n",
              "  "
            ],
            "text/plain": [
              "                                                  Tweet  Sentiment  \\\n",
              "0     bjp get 325+ seats. haven’t seen mood people u...          2   \n",
              "1     kerala look like woman r going get justice! co...          2   \n",
              "2     24% swing 17 untrue . bjp 42% 14 2 % loss 14 e...          0   \n",
              "3     exodus can’t decide bjp’s position upcoming el...          0   \n",
              "4     bjp win sanghamitra maurya act like bridge bri...          2   \n",
              "...                                                 ...        ...   \n",
              "4953  sp president make first poll promise 2022 asse...          2   \n",
              "4954                         sp+inc make govt mark word          2   \n",
              "4955                                        sp atleast?          1   \n",
              "4960  uttar pradesh news sp rld worker engaged fistf...          1   \n",
              "4961  seems show confidence bjp whereas time akhiles...          2   \n",
              "\n",
              "                           Date  \n",
              "0     2022-01-14 22:05:47+00:00  \n",
              "1     2022-01-14 20:57:44+00:00  \n",
              "2     2022-01-14 20:54:50+00:00  \n",
              "3     2022-01-14 20:10:11+00:00  \n",
              "4     2022-01-14 19:22:00+00:00  \n",
              "...                         ...  \n",
              "4953  2022-01-01 07:56:26+00:00  \n",
              "4954  2022-01-01 05:09:34+00:00  \n",
              "4955  2022-01-01 02:30:50+00:00  \n",
              "4960  2022-01-03 08:39:30+00:00  \n",
              "4961  2022-01-02 02:03:58+00:00  \n",
              "\n",
              "[4464 rows x 3 columns]"
            ]
          },
          "metadata": {},
          "execution_count": 44
        }
      ]
    },
    {
      "cell_type": "code",
      "source": [
        "submission.to_csv('UP-SP_prediction.csv', index=False)"
      ],
      "metadata": {
        "id": "XIs8ky3Me9a5"
      },
      "execution_count": 45,
      "outputs": []
    },
    {
      "cell_type": "code",
      "source": [
        "import pandas as pd\n",
        "import seaborn as sns\n",
        "import matplotlib.pyplot as plt"
      ],
      "metadata": {
        "id": "wiNyRBp9nbKP"
      },
      "execution_count": 46,
      "outputs": []
    },
    {
      "cell_type": "code",
      "source": [
        "df_UP_SP = pd.read_csv('UP-SP_prediction.csv')"
      ],
      "metadata": {
        "id": "f-VCdMrbW5lg"
      },
      "execution_count": 48,
      "outputs": []
    },
    {
      "cell_type": "code",
      "source": [
        "sns.countplot(x ='Sentiment', data = df_UP_SP)"
      ],
      "metadata": {
        "colab": {
          "base_uri": "https://localhost:8080/",
          "height": 296
        },
        "id": "FrP0wcqwgxHf",
        "outputId": "b0221170-a9f1-47c4-f017-3ee778549449"
      },
      "execution_count": 49,
      "outputs": [
        {
          "output_type": "execute_result",
          "data": {
            "text/plain": [
              "<matplotlib.axes._subplots.AxesSubplot at 0x7f4f69e01c10>"
            ]
          },
          "metadata": {},
          "execution_count": 49
        },
        {
          "output_type": "display_data",
          "data": {
            "image/png": "[encoded data removed]",
            "text/plain": [
              "<Figure size 432x288 with 1 Axes>"
            ]
          },
          "metadata": {
            "needs_background": "light"
          }
        }
      ]
    },
    {
      "cell_type": "code",
      "source": [
        "def get_range(date):\n",
        "  if (date > '2022-01-01') and (date <= '2022-01-05'):\n",
        "    return '1Jan-5Jan'\n",
        "  elif (date > '2022-01-06') and (date <= '2022-01-10'):\n",
        "    return '6Jan-10Jan'\n",
        "  else:\n",
        "    return '11Jan-15Jan'"
      ],
      "metadata": {
        "id": "E4_2a2qtlDBF"
      },
      "execution_count": 50,
      "outputs": []
    },
    {
      "cell_type": "code",
      "source": [
        "df_UP_SP['Range'] = df_UP_SP['Date'].apply(get_range)"
      ],
      "metadata": {
        "id": "t4pGl6IDmy5K"
      },
      "execution_count": 51,
      "outputs": []
    },
    {
      "cell_type": "code",
      "source": [
        "df_UP_SP"
      ],
      "metadata": {
        "colab": {
          "base_uri": "https://localhost:8080/",
          "height": 424
        },
        "id": "df-4wU6Tm90f",
        "outputId": "77b66b00-730a-4363-99ce-cf764d07101f"
      },
      "execution_count": 52,
      "outputs": [
        {
          "output_type": "execute_result",
          "data": {
            "text/html": [
              "\n",
              "  <div id=\"df-0048ab63-d9d5-4756-a9fd-1b82cf375a47\">\n",
              "    <div class=\"colab-df-container\">\n",
              "      <div>\n",
              "<style scoped>\n",
              "    .dataframe tbody tr th:only-of-type {\n",
              "        vertical-align: middle;\n",
              "    }\n",
              "\n",
              "    .dataframe tbody tr th {\n",
              "        vertical-align: top;\n",
              "    }\n",
              "\n",
              "    .dataframe thead th {\n",
              "        text-align: right;\n",
              "    }\n",
              "</style>\n",
              "<table border=\"1\" class=\"dataframe\">\n",
              "  <thead>\n",
              "    <tr style=\"text-align: right;\">\n",
              "      <th></th>\n",
              "      <th>Tweet</th>\n",
              "      <th>Sentiment</th>\n",
              "      <th>Date</th>\n",
              "      <th>Range</th>\n",
              "    </tr>\n",
              "  </thead>\n",
              "  <tbody>\n",
              "    <tr>\n",
              "      <th>0</th>\n",
              "      <td>bjp get 325+ seats. haven’t seen mood people u...</td>\n",
              "      <td>2</td>\n",
              "      <td>2022-01-14 22:05:47+00:00</td>\n",
              "      <td>11Jan-15Jan</td>\n",
              "    </tr>\n",
              "    <tr>\n",
              "      <th>1</th>\n",
              "      <td>kerala look like woman r going get justice! co...</td>\n",
              "      <td>2</td>\n",
              "      <td>2022-01-14 20:57:44+00:00</td>\n",
              "      <td>11Jan-15Jan</td>\n",
              "    </tr>\n",
              "    <tr>\n",
              "      <th>2</th>\n",
              "      <td>24% swing 17 untrue . bjp 42% 14 2 % loss 14 e...</td>\n",
              "      <td>0</td>\n",
              "      <td>2022-01-14 20:54:50+00:00</td>\n",
              "      <td>11Jan-15Jan</td>\n",
              "    </tr>\n",
              "    <tr>\n",
              "      <th>3</th>\n",
              "      <td>exodus can’t decide bjp’s position upcoming el...</td>\n",
              "      <td>0</td>\n",
              "      <td>2022-01-14 20:10:11+00:00</td>\n",
              "      <td>11Jan-15Jan</td>\n",
              "    </tr>\n",
              "    <tr>\n",
              "      <th>4</th>\n",
              "      <td>bjp win sanghamitra maurya act like bridge bri...</td>\n",
              "      <td>2</td>\n",
              "      <td>2022-01-14 19:22:00+00:00</td>\n",
              "      <td>11Jan-15Jan</td>\n",
              "    </tr>\n",
              "    <tr>\n",
              "      <th>...</th>\n",
              "      <td>...</td>\n",
              "      <td>...</td>\n",
              "      <td>...</td>\n",
              "      <td>...</td>\n",
              "    </tr>\n",
              "    <tr>\n",
              "      <th>4459</th>\n",
              "      <td>sp president make first poll promise 2022 asse...</td>\n",
              "      <td>2</td>\n",
              "      <td>2022-01-01 07:56:26+00:00</td>\n",
              "      <td>1Jan-5Jan</td>\n",
              "    </tr>\n",
              "    <tr>\n",
              "      <th>4460</th>\n",
              "      <td>sp+inc make govt mark word</td>\n",
              "      <td>2</td>\n",
              "      <td>2022-01-01 05:09:34+00:00</td>\n",
              "      <td>1Jan-5Jan</td>\n",
              "    </tr>\n",
              "    <tr>\n",
              "      <th>4461</th>\n",
              "      <td>sp atleast?</td>\n",
              "      <td>1</td>\n",
              "      <td>2022-01-01 02:30:50+00:00</td>\n",
              "      <td>1Jan-5Jan</td>\n",
              "    </tr>\n",
              "    <tr>\n",
              "      <th>4462</th>\n",
              "      <td>uttar pradesh news sp rld worker engaged fistf...</td>\n",
              "      <td>1</td>\n",
              "      <td>2022-01-03 08:39:30+00:00</td>\n",
              "      <td>1Jan-5Jan</td>\n",
              "    </tr>\n",
              "    <tr>\n",
              "      <th>4463</th>\n",
              "      <td>seems show confidence bjp whereas time akhiles...</td>\n",
              "      <td>2</td>\n",
              "      <td>2022-01-02 02:03:58+00:00</td>\n",
              "      <td>1Jan-5Jan</td>\n",
              "    </tr>\n",
              "  </tbody>\n",
              "</table>\n",
              "<p>4464 rows × 4 columns</p>\n",
              "</div>\n",
              "      <button class=\"colab-df-convert\" onclick=\"convertToInteractive('df-0048ab63-d9d5-4756-a9fd-1b82cf375a47')\"\n",
              "              title=\"Convert this dataframe to an interactive table.\"\n",
              "              style=\"display:none;\">\n",
              "        \n",
              "  <svg xmlns=\"http://www.w3.org/2000/svg\" height=\"24px\"viewBox=\"0 0 24 24\"\n",
              "       width=\"24px\">\n",
              "    <path d=\"M0 0h24v24H0V0z\" fill=\"none\"/>\n",
              "    <path d=\"M18.56 5.44l.94 2.06.94-2.06 2.06-.94-2.06-.94-.94-2.06-.94 2.06-2.06.94zm-11 1L8.5 8.5l.94-2.06 2.06-.94-2.06-.94L8.5 2.5l-.94 2.06-2.06.94zm10 10l.94 2.06.94-2.06 2.06-.94-2.06-.94-.94-2.06-.94 2.06-2.06.94z\"/><path d=\"M17.41 7.96l-1.37-1.37c-.4-.4-.92-.59-1.43-.59-.52 0-1.04.2-1.43.59L10.3 9.45l-7.72 7.72c-.78.78-.78 2.05 0 2.83L4 21.41c.39.39.9.59 1.41.59.51 0 1.02-.2 1.41-.59l7.78-7.78 2.81-2.81c.8-.78.8-2.07 0-2.86zM5.41 20L4 18.59l7.72-7.72 1.47 1.35L5.41 20z\"/>\n",
              "  </svg>\n",
              "      </button>\n",
              "      \n",
              "  <style>\n",
              "    .colab-df-container {\n",
              "      display:flex;\n",
              "      flex-wrap:wrap;\n",
              "      gap: 12px;\n",
              "    }\n",
              "\n",
              "    .colab-df-convert {\n",
              "      background-color: #E8F0FE;\n",
              "      border: none;\n",
              "      border-radius: 50%;\n",
              "      cursor: pointer;\n",
              "      display: none;\n",
              "      fill: #1967D2;\n",
              "      height: 32px;\n",
              "      padding: 0 0 0 0;\n",
              "      width: 32px;\n",
              "    }\n",
              "\n",
              "    .colab-df-convert:hover {\n",
              "      background-color: #E2EBFA;\n",
              "      box-shadow: 0px 1px 2px rgba(60, 64, 67, 0.3), 0px 1px 3px 1px rgba(60, 64, 67, 0.15);\n",
              "      fill: #174EA6;\n",
              "    }\n",
              "\n",
              "    [theme=dark] .colab-df-convert {\n",
              "      background-color: #3B4455;\n",
              "      fill: #D2E3FC;\n",
              "    }\n",
              "\n",
              "    [theme=dark] .colab-df-convert:hover {\n",
              "      background-color: #434B5C;\n",
              "      box-shadow: 0px 1px 3px 1px rgba(0, 0, 0, 0.15);\n",
              "      filter: drop-shadow(0px 1px 2px rgba(0, 0, 0, 0.3));\n",
              "      fill: #FFFFFF;\n",
              "    }\n",
              "  </style>\n",
              "\n",
              "      <script>\n",
              "        const buttonEl =\n",
              "          document.querySelector('#df-0048ab63-d9d5-4756-a9fd-1b82cf375a47 button.colab-df-convert');\n",
              "        buttonEl.style.display =\n",
              "          google.colab.kernel.accessAllowed ? 'block' : 'none';\n",
              "\n",
              "        async function convertToInteractive(key) {\n",
              "          const element = document.querySelector('#df-0048ab63-d9d5-4756-a9fd-1b82cf375a47');\n",
              "          const dataTable =\n",
              "            await google.colab.kernel.invokeFunction('convertToInteractive',\n",
              "                                                     [key], {});\n",
              "          if (!dataTable) return;\n",
              "\n",
              "          const docLinkHtml = 'Like what you see? Visit the ' +\n",
              "            '<a target=\"_blank\" href=https://colab.research.google.com/notebooks/data_table.ipynb>data table notebook</a>'\n",
              "            + ' to learn more about interactive tables.';\n",
              "          element.innerHTML = '';\n",
              "          dataTable['output_type'] = 'display_data';\n",
              "          await google.colab.output.renderOutput(dataTable, element);\n",
              "          const docLink = document.createElement('div');\n",
              "          docLink.innerHTML = docLinkHtml;\n",
              "          element.appendChild(docLink);\n",
              "        }\n",
              "      </script>\n",
              "    </div>\n",
              "  </div>\n",
              "  "
            ],
            "text/plain": [
              "                                                  Tweet  Sentiment  \\\n",
              "0     bjp get 325+ seats. haven’t seen mood people u...          2   \n",
              "1     kerala look like woman r going get justice! co...          2   \n",
              "2     24% swing 17 untrue . bjp 42% 14 2 % loss 14 e...          0   \n",
              "3     exodus can’t decide bjp’s position upcoming el...          0   \n",
              "4     bjp win sanghamitra maurya act like bridge bri...          2   \n",
              "...                                                 ...        ...   \n",
              "4459  sp president make first poll promise 2022 asse...          2   \n",
              "4460                         sp+inc make govt mark word          2   \n",
              "4461                                        sp atleast?          1   \n",
              "4462  uttar pradesh news sp rld worker engaged fistf...          1   \n",
              "4463  seems show confidence bjp whereas time akhiles...          2   \n",
              "\n",
              "                           Date        Range  \n",
              "0     2022-01-14 22:05:47+00:00  11Jan-15Jan  \n",
              "1     2022-01-14 20:57:44+00:00  11Jan-15Jan  \n",
              "2     2022-01-14 20:54:50+00:00  11Jan-15Jan  \n",
              "3     2022-01-14 20:10:11+00:00  11Jan-15Jan  \n",
              "4     2022-01-14 19:22:00+00:00  11Jan-15Jan  \n",
              "...                         ...          ...  \n",
              "4459  2022-01-01 07:56:26+00:00    1Jan-5Jan  \n",
              "4460  2022-01-01 05:09:34+00:00    1Jan-5Jan  \n",
              "4461  2022-01-01 02:30:50+00:00    1Jan-5Jan  \n",
              "4462  2022-01-03 08:39:30+00:00    1Jan-5Jan  \n",
              "4463  2022-01-02 02:03:58+00:00    1Jan-5Jan  \n",
              "\n",
              "[4464 rows x 4 columns]"
            ]
          },
          "metadata": {},
          "execution_count": 52
        }
      ]
    },
    {
      "cell_type": "code",
      "source": [
        "def clean_date(date):\n",
        "  date = date.replace(date[11:], \"\")\n",
        "  return date"
      ],
      "metadata": {
        "id": "COgqACuwwtkH"
      },
      "execution_count": 53,
      "outputs": []
    },
    {
      "cell_type": "code",
      "source": [
        "df_UP_SP['Date'] = df_UP_SP['Date'].apply(clean_date)"
      ],
      "metadata": {
        "id": "JAPYviDhxFjE"
      },
      "execution_count": 54,
      "outputs": []
    },
    {
      "cell_type": "code",
      "source": [
        "sns.countplot(x ='Range', data = df_UP_SP, hue='Sentiment')"
      ],
      "metadata": {
        "colab": {
          "base_uri": "https://localhost:8080/",
          "height": 296
        },
        "id": "ggNCeVFznAFH",
        "outputId": "c12e4fe6-f178-4c75-e5f6-24a3f80371da"
      },
      "execution_count": 55,
      "outputs": [
        {
          "output_type": "execute_result",
          "data": {
            "text/plain": [
              "<matplotlib.axes._subplots.AxesSubplot at 0x7f4f698c5d10>"
            ]
          },
          "metadata": {},
          "execution_count": 55
        },
        {
          "output_type": "display_data",
          "data": {
            "image/png": "[encoded data removed]",
            "text/plain": [
              "<Figure size 432x288 with 1 Axes>"
            ]
          },
          "metadata": {
            "needs_background": "light"
          }
        }
      ]
    },
    {
      "cell_type": "code",
      "source": [
        "df_UP_SP['Sentiment'].value_counts()"
      ],
      "metadata": {
        "colab": {
          "base_uri": "https://localhost:8080/"
        },
        "id": "6ucU1FFvnWE9",
        "outputId": "80270a32-bf29-4c96-8a0f-5a04cbcb0445"
      },
      "execution_count": 56,
      "outputs": [
        {
          "output_type": "execute_result",
          "data": {
            "text/plain": [
              "2    2958\n",
              "1    1307\n",
              "0     199\n",
              "Name: Sentiment, dtype: int64"
            ]
          },
          "metadata": {},
          "execution_count": 56
        }
      ]
    },
    {
      "cell_type": "code",
      "source": [
        "df_UP_SP['count'] = 1"
      ],
      "metadata": {
        "id": "8EISezUrocun"
      },
      "execution_count": 59,
      "outputs": []
    },
    {
      "cell_type": "code",
      "source": [
        "df_sum = df_UP_SP.groupby(['Range', 'Sentiment']).sum()"
      ],
      "metadata": {
        "id": "DTycoWPis7w4"
      },
      "execution_count": 60,
      "outputs": []
    },
    {
      "cell_type": "code",
      "source": [
        "df_sum"
      ],
      "metadata": {
        "colab": {
          "base_uri": "https://localhost:8080/",
          "height": 363
        },
        "id": "YeLReY1rtizu",
        "outputId": "b52a09f5-acfa-450d-8b67-e0794145f4c6"
      },
      "execution_count": 61,
      "outputs": [
        {
          "output_type": "execute_result",
          "data": {
            "text/html": [
              "\n",
              "  <div id=\"df-0d25bf21-415d-4417-a3b6-48811ad712e7\">\n",
              "    <div class=\"colab-df-container\">\n",
              "      <div>\n",
              "<style scoped>\n",
              "    .dataframe tbody tr th:only-of-type {\n",
              "        vertical-align: middle;\n",
              "    }\n",
              "\n",
              "    .dataframe tbody tr th {\n",
              "        vertical-align: top;\n",
              "    }\n",
              "\n",
              "    .dataframe thead th {\n",
              "        text-align: right;\n",
              "    }\n",
              "</style>\n",
              "<table border=\"1\" class=\"dataframe\">\n",
              "  <thead>\n",
              "    <tr style=\"text-align: right;\">\n",
              "      <th></th>\n",
              "      <th></th>\n",
              "      <th>count</th>\n",
              "    </tr>\n",
              "    <tr>\n",
              "      <th>Range</th>\n",
              "      <th>Sentiment</th>\n",
              "      <th></th>\n",
              "    </tr>\n",
              "  </thead>\n",
              "  <tbody>\n",
              "    <tr>\n",
              "      <th rowspan=\"3\" valign=\"top\">11Jan-15Jan</th>\n",
              "      <th>0</th>\n",
              "      <td>67</td>\n",
              "    </tr>\n",
              "    <tr>\n",
              "      <th>1</th>\n",
              "      <td>479</td>\n",
              "    </tr>\n",
              "    <tr>\n",
              "      <th>2</th>\n",
              "      <td>1454</td>\n",
              "    </tr>\n",
              "    <tr>\n",
              "      <th rowspan=\"3\" valign=\"top\">1Jan-5Jan</th>\n",
              "      <th>0</th>\n",
              "      <td>81</td>\n",
              "    </tr>\n",
              "    <tr>\n",
              "      <th>1</th>\n",
              "      <td>371</td>\n",
              "    </tr>\n",
              "    <tr>\n",
              "      <th>2</th>\n",
              "      <td>792</td>\n",
              "    </tr>\n",
              "    <tr>\n",
              "      <th rowspan=\"3\" valign=\"top\">6Jan-10Jan</th>\n",
              "      <th>0</th>\n",
              "      <td>51</td>\n",
              "    </tr>\n",
              "    <tr>\n",
              "      <th>1</th>\n",
              "      <td>457</td>\n",
              "    </tr>\n",
              "    <tr>\n",
              "      <th>2</th>\n",
              "      <td>712</td>\n",
              "    </tr>\n",
              "  </tbody>\n",
              "</table>\n",
              "</div>\n",
              "      <button class=\"colab-df-convert\" onclick=\"convertToInteractive('df-0d25bf21-415d-4417-a3b6-48811ad712e7')\"\n",
              "              title=\"Convert this dataframe to an interactive table.\"\n",
              "              style=\"display:none;\">\n",
              "        \n",
              "  <svg xmlns=\"http://www.w3.org/2000/svg\" height=\"24px\"viewBox=\"0 0 24 24\"\n",
              "       width=\"24px\">\n",
              "    <path d=\"M0 0h24v24H0V0z\" fill=\"none\"/>\n",
              "    <path d=\"M18.56 5.44l.94 2.06.94-2.06 2.06-.94-2.06-.94-.94-2.06-.94 2.06-2.06.94zm-11 1L8.5 8.5l.94-2.06 2.06-.94-2.06-.94L8.5 2.5l-.94 2.06-2.06.94zm10 10l.94 2.06.94-2.06 2.06-.94-2.06-.94-.94-2.06-.94 2.06-2.06.94z\"/><path d=\"M17.41 7.96l-1.37-1.37c-.4-.4-.92-.59-1.43-.59-.52 0-1.04.2-1.43.59L10.3 9.45l-7.72 7.72c-.78.78-.78 2.05 0 2.83L4 21.41c.39.39.9.59 1.41.59.51 0 1.02-.2 1.41-.59l7.78-7.78 2.81-2.81c.8-.78.8-2.07 0-2.86zM5.41 20L4 18.59l7.72-7.72 1.47 1.35L5.41 20z\"/>\n",
              "  </svg>\n",
              "      </button>\n",
              "      \n",
              "  <style>\n",
              "    .colab-df-container {\n",
              "      display:flex;\n",
              "      flex-wrap:wrap;\n",
              "      gap: 12px;\n",
              "    }\n",
              "\n",
              "    .colab-df-convert {\n",
              "      background-color: #E8F0FE;\n",
              "      border: none;\n",
              "      border-radius: 50%;\n",
              "      cursor: pointer;\n",
              "      display: none;\n",
              "      fill: #1967D2;\n",
              "      height: 32px;\n",
              "      padding: 0 0 0 0;\n",
              "      width: 32px;\n",
              "    }\n",
              "\n",
              "    .colab-df-convert:hover {\n",
              "      background-color: #E2EBFA;\n",
              "      box-shadow: 0px 1px 2px rgba(60, 64, 67, 0.3), 0px 1px 3px 1px rgba(60, 64, 67, 0.15);\n",
              "      fill: #174EA6;\n",
              "    }\n",
              "\n",
              "    [theme=dark] .colab-df-convert {\n",
              "      background-color: #3B4455;\n",
              "      fill: #D2E3FC;\n",
              "    }\n",
              "\n",
              "    [theme=dark] .colab-df-convert:hover {\n",
              "      background-color: #434B5C;\n",
              "      box-shadow: 0px 1px 3px 1px rgba(0, 0, 0, 0.15);\n",
              "      filter: drop-shadow(0px 1px 2px rgba(0, 0, 0, 0.3));\n",
              "      fill: #FFFFFF;\n",
              "    }\n",
              "  </style>\n",
              "\n",
              "      <script>\n",
              "        const buttonEl =\n",
              "          document.querySelector('#df-0d25bf21-415d-4417-a3b6-48811ad712e7 button.colab-df-convert');\n",
              "        buttonEl.style.display =\n",
              "          google.colab.kernel.accessAllowed ? 'block' : 'none';\n",
              "\n",
              "        async function convertToInteractive(key) {\n",
              "          const element = document.querySelector('#df-0d25bf21-415d-4417-a3b6-48811ad712e7');\n",
              "          const dataTable =\n",
              "            await google.colab.kernel.invokeFunction('convertToInteractive',\n",
              "                                                     [key], {});\n",
              "          if (!dataTable) return;\n",
              "\n",
              "          const docLinkHtml = 'Like what you see? Visit the ' +\n",
              "            '<a target=\"_blank\" href=https://colab.research.google.com/notebooks/data_table.ipynb>data table notebook</a>'\n",
              "            + ' to learn more about interactive tables.';\n",
              "          element.innerHTML = '';\n",
              "          dataTable['output_type'] = 'display_data';\n",
              "          await google.colab.output.renderOutput(dataTable, element);\n",
              "          const docLink = document.createElement('div');\n",
              "          docLink.innerHTML = docLinkHtml;\n",
              "          element.appendChild(docLink);\n",
              "        }\n",
              "      </script>\n",
              "    </div>\n",
              "  </div>\n",
              "  "
            ],
            "text/plain": [
              "                       count\n",
              "Range       Sentiment       \n",
              "11Jan-15Jan 0             67\n",
              "            1            479\n",
              "            2           1454\n",
              "1Jan-5Jan   0             81\n",
              "            1            371\n",
              "            2            792\n",
              "6Jan-10Jan  0             51\n",
              "            1            457\n",
              "            2            712"
            ]
          },
          "metadata": {},
          "execution_count": 61
        }
      ]
    },
    {
      "cell_type": "code",
      "source": [
        "df_sum2 = df_UP_SP.groupby(['Date', 'Sentiment']).sum()"
      ],
      "metadata": {
        "id": "b7ZVc7YRtcqj"
      },
      "execution_count": 62,
      "outputs": []
    },
    {
      "cell_type": "code",
      "source": [
        "fig, ax = plt.subplots(figsize=(15, 5))\n",
        "sns.lineplot( x = \"Date\",\n",
        "             y = \"count\",\n",
        "             data = df_sum2, hue=\"Sentiment\", ax=ax, palette='colorblind')\n",
        "plt.show()"
      ],
      "metadata": {
        "colab": {
          "base_uri": "https://localhost:8080/",
          "height": 334
        },
        "id": "yf9VUKt3xfrW",
        "outputId": "efb8cc81-447d-462c-810f-5bc4da0a8e71"
      },
      "execution_count": 64,
      "outputs": [
        {
          "output_type": "display_data",
          "data": {
            "image/png": "[encoded data removed]",
            "text/plain": [
              "<Figure size 1080x360 with 1 Axes>"
            ]
          },
          "metadata": {
            "needs_background": "light"
          }
        }
      ]
    },
    {
      "cell_type": "code",
      "source": [
        ""
      ],
      "metadata": {
        "id": "jMu0GJG25uzh"
      },
      "execution_count": null,
      "outputs": []
    },
    {
      "cell_type": "code",
      "source": [
        "df_test = pd.read_csv('1Jan_to_5Jan/UP-Congress')\n",
        "df_test2 = pd.read_csv('6Jan_to_10Jan/UP-Congress.csv')\n",
        "df_test3 = pd.read_csv('11Jan_to_15Jan/UP-Congress.csv')"
      ],
      "metadata": {
        "id": "Evojp56Z6PbC"
      },
      "execution_count": 87,
      "outputs": []
    },
    {
      "cell_type": "code",
      "source": [
        "df_test = pd.concat([df_test2, df_test],axis=0,ignore_index=True)\n",
        "df_test = pd.concat([df_test3, df_test],axis=0,ignore_index=True)"
      ],
      "metadata": {
        "id": "J3VN6VSo6PbI"
      },
      "execution_count": 88,
      "outputs": []
    },
    {
      "cell_type": "code",
      "source": [
        "df_test.drop_duplicates(subset =\"Text\",\n",
        "                     keep = 'first', inplace = True)"
      ],
      "metadata": {
        "id": "IZTGAiRV6PbJ"
      },
      "execution_count": 89,
      "outputs": []
    },
    {
      "cell_type": "code",
      "source": [
        "len(df_test)"
      ],
      "metadata": {
        "colab": {
          "base_uri": "https://localhost:8080/"
        },
        "outputId": "9a3b62ad-e3d0-4e25-b16d-e27cfe04686e",
        "id": "3pVwTTl06PbK"
      },
      "execution_count": 90,
      "outputs": [
        {
          "output_type": "execute_result",
          "data": {
            "text/plain": [
              "6352"
            ]
          },
          "metadata": {},
          "execution_count": 90
        }
      ]
    },
    {
      "cell_type": "code",
      "source": [
        "df_test['Text'].loc[1]"
      ],
      "metadata": {
        "colab": {
          "base_uri": "https://localhost:8080/",
          "height": 70
        },
        "outputId": "658a6de8-54d6-4c1b-a2e6-498462ef550b",
        "id": "RXUC4vAi6PbM"
      },
      "execution_count": 91,
      "outputs": [
        {
          "output_type": "execute_result",
          "data": {
            "application/vnd.google.colaboratory.intrinsic+json": {
              "type": "string"
            },
            "text/plain": [
              "'Kick him out of CONGRESS and lock him up! He is guilty of participating and encouraging this VIOLENT ATTACK on the CAPITOL! Clearly he was ON BOARD with overturning the election results AND then pushing the BIG LIE. https://t.co/LHFTFU0PVU'"
            ]
          },
          "metadata": {},
          "execution_count": 91
        }
      ]
    },
    {
      "cell_type": "code",
      "source": [
        "df_test['cleaned_tweet']=df_test['Text'].apply(dataCleaning)"
      ],
      "metadata": {
        "id": "Yfztn6Ac6PbN"
      },
      "execution_count": 92,
      "outputs": []
    },
    {
      "cell_type": "code",
      "source": [
        "df_test['cleaned_tweet'].loc[1]"
      ],
      "metadata": {
        "colab": {
          "base_uri": "https://localhost:8080/",
          "height": 53
        },
        "outputId": "4662c4e0-3ede-4d8a-f03d-05a28ae4f950",
        "id": "9bVeqNxL6PbP"
      },
      "execution_count": 93,
      "outputs": [
        {
          "output_type": "execute_result",
          "data": {
            "application/vnd.google.colaboratory.intrinsic+json": {
              "type": "string"
            },
            "text/plain": [
              "'kick congress lock up! guilty participating encouraging violent attack capitol! clearly board overturning election result pushing big lie.'"
            ]
          },
          "metadata": {},
          "execution_count": 93
        }
      ]
    },
    {
      "cell_type": "code",
      "source": [
        "df_test2 = df_test.copy()"
      ],
      "metadata": {
        "id": "1kziP0QH6PbQ"
      },
      "execution_count": 94,
      "outputs": []
    },
    {
      "cell_type": "code",
      "source": [
        "df_test.drop(columns =['Datetime', 'Text', 'User'], axis=1, inplace=True)"
      ],
      "metadata": {
        "id": "QM6Bs5o36PbR"
      },
      "execution_count": 95,
      "outputs": []
    },
    {
      "cell_type": "code",
      "source": [
        "df_test.head()\n",
        "df_test.dropna(subset=['cleaned_tweet'], inplace=True)\n",
        "len(df_test)"
      ],
      "metadata": {
        "colab": {
          "base_uri": "https://localhost:8080/"
        },
        "outputId": "7523504a-5b16-4d17-e88a-9a9c6bd7ef9e",
        "id": "kBvzmspF6PbY"
      },
      "execution_count": 96,
      "outputs": [
        {
          "output_type": "execute_result",
          "data": {
            "text/plain": [
              "6352"
            ]
          },
          "metadata": {},
          "execution_count": 96
        }
      ]
    },
    {
      "cell_type": "code",
      "source": [
        "df_test['cleaned_tweet'].isnull().sum()"
      ],
      "metadata": {
        "colab": {
          "base_uri": "https://localhost:8080/"
        },
        "outputId": "2c8b854b-d173-4e6e-ec49-0ca90b7322df",
        "id": "JHfzicWa6Pba"
      },
      "execution_count": 97,
      "outputs": [
        {
          "output_type": "execute_result",
          "data": {
            "text/plain": [
              "0"
            ]
          },
          "metadata": {},
          "execution_count": 97
        }
      ]
    },
    {
      "cell_type": "code",
      "source": [
        "total_data = pd.concat([actual_df_Vader, df_test],axis=0,ignore_index=True)\n",
        "total_data"
      ],
      "metadata": {
        "colab": {
          "base_uri": "https://localhost:8080/",
          "height": 424
        },
        "outputId": "cbb828a6-265d-48fa-f59c-a9733490c78f",
        "id": "zbqbp1-26Pbb"
      },
      "execution_count": 102,
      "outputs": [
        {
          "output_type": "execute_result",
          "data": {
            "text/html": [
              "\n",
              "  <div id=\"df-5a150eec-cdc5-44df-8d43-1a379191dd03\">\n",
              "    <div class=\"colab-df-container\">\n",
              "      <div>\n",
              "<style scoped>\n",
              "    .dataframe tbody tr th:only-of-type {\n",
              "        vertical-align: middle;\n",
              "    }\n",
              "\n",
              "    .dataframe tbody tr th {\n",
              "        vertical-align: top;\n",
              "    }\n",
              "\n",
              "    .dataframe thead th {\n",
              "        text-align: right;\n",
              "    }\n",
              "</style>\n",
              "<table border=\"1\" class=\"dataframe\">\n",
              "  <thead>\n",
              "    <tr style=\"text-align: right;\">\n",
              "      <th></th>\n",
              "      <th>cleaned_tweet</th>\n",
              "      <th>Sentiment</th>\n",
              "    </tr>\n",
              "  </thead>\n",
              "  <tbody>\n",
              "    <tr>\n",
              "      <th>0</th>\n",
              "      <td>aap's historic win chandigarh mc poll show peo...</td>\n",
              "      <td>2.0</td>\n",
              "    </tr>\n",
              "    <tr>\n",
              "      <th>1</th>\n",
              "      <td>ahead election bjp planning massive campaign r...</td>\n",
              "      <td>1.0</td>\n",
              "    </tr>\n",
              "    <tr>\n",
              "      <th>2</th>\n",
              "      <td>cpi(m) general secretary sitaram yechury said ...</td>\n",
              "      <td>0.0</td>\n",
              "    </tr>\n",
              "    <tr>\n",
              "      <th>3</th>\n",
              "      <td>. top brass up: pm pitch party upcoming assemb...</td>\n",
              "      <td>2.0</td>\n",
              "    </tr>\n",
              "    <tr>\n",
              "      <th>4</th>\n",
              "      <td>bjp register bigger win time assembly poll cla...</td>\n",
              "      <td>2.0</td>\n",
              "    </tr>\n",
              "    <tr>\n",
              "      <th>...</th>\n",
              "      <td>...</td>\n",
              "      <td>...</td>\n",
              "    </tr>\n",
              "    <tr>\n",
              "      <th>17645</th>\n",
              "      <td>heaven governance. 2012: \"even god can’t stop ...</td>\n",
              "      <td>NaN</td>\n",
              "    </tr>\n",
              "    <tr>\n",
              "      <th>17646</th>\n",
              "      <td>time opinion poll uttar pradesh bjp+ : 239 sp+...</td>\n",
              "      <td>NaN</td>\n",
              "    </tr>\n",
              "    <tr>\n",
              "      <th>17647</th>\n",
              "      <td>time now-veto opinion poll uttar pradesh : 403...</td>\n",
              "      <td>NaN</td>\n",
              "    </tr>\n",
              "    <tr>\n",
              "      <th>17648</th>\n",
              "      <td>time - veto opinion poll western uttar pradesh...</td>\n",
              "      <td>NaN</td>\n",
              "    </tr>\n",
              "    <tr>\n",
              "      <th>17649</th>\n",
              "      <td>time - veto opinion poll western uttar pradesh...</td>\n",
              "      <td>NaN</td>\n",
              "    </tr>\n",
              "  </tbody>\n",
              "</table>\n",
              "<p>17650 rows × 2 columns</p>\n",
              "</div>\n",
              "      <button class=\"colab-df-convert\" onclick=\"convertToInteractive('df-5a150eec-cdc5-44df-8d43-1a379191dd03')\"\n",
              "              title=\"Convert this dataframe to an interactive table.\"\n",
              "              style=\"display:none;\">\n",
              "        \n",
              "  <svg xmlns=\"http://www.w3.org/2000/svg\" height=\"24px\"viewBox=\"0 0 24 24\"\n",
              "       width=\"24px\">\n",
              "    <path d=\"M0 0h24v24H0V0z\" fill=\"none\"/>\n",
              "    <path d=\"M18.56 5.44l.94 2.06.94-2.06 2.06-.94-2.06-.94-.94-2.06-.94 2.06-2.06.94zm-11 1L8.5 8.5l.94-2.06 2.06-.94-2.06-.94L8.5 2.5l-.94 2.06-2.06.94zm10 10l.94 2.06.94-2.06 2.06-.94-2.06-.94-.94-2.06-.94 2.06-2.06.94z\"/><path d=\"M17.41 7.96l-1.37-1.37c-.4-.4-.92-.59-1.43-.59-.52 0-1.04.2-1.43.59L10.3 9.45l-7.72 7.72c-.78.78-.78 2.05 0 2.83L4 21.41c.39.39.9.59 1.41.59.51 0 1.02-.2 1.41-.59l7.78-7.78 2.81-2.81c.8-.78.8-2.07 0-2.86zM5.41 20L4 18.59l7.72-7.72 1.47 1.35L5.41 20z\"/>\n",
              "  </svg>\n",
              "      </button>\n",
              "      \n",
              "  <style>\n",
              "    .colab-df-container {\n",
              "      display:flex;\n",
              "      flex-wrap:wrap;\n",
              "      gap: 12px;\n",
              "    }\n",
              "\n",
              "    .colab-df-convert {\n",
              "      background-color: #E8F0FE;\n",
              "      border: none;\n",
              "      border-radius: 50%;\n",
              "      cursor: pointer;\n",
              "      display: none;\n",
              "      fill: #1967D2;\n",
              "      height: 32px;\n",
              "      padding: 0 0 0 0;\n",
              "      width: 32px;\n",
              "    }\n",
              "\n",
              "    .colab-df-convert:hover {\n",
              "      background-color: #E2EBFA;\n",
              "      box-shadow: 0px 1px 2px rgba(60, 64, 67, 0.3), 0px 1px 3px 1px rgba(60, 64, 67, 0.15);\n",
              "      fill: #174EA6;\n",
              "    }\n",
              "\n",
              "    [theme=dark] .colab-df-convert {\n",
              "      background-color: #3B4455;\n",
              "      fill: #D2E3FC;\n",
              "    }\n",
              "\n",
              "    [theme=dark] .colab-df-convert:hover {\n",
              "      background-color: #434B5C;\n",
              "      box-shadow: 0px 1px 3px 1px rgba(0, 0, 0, 0.15);\n",
              "      filter: drop-shadow(0px 1px 2px rgba(0, 0, 0, 0.3));\n",
              "      fill: #FFFFFF;\n",
              "    }\n",
              "  </style>\n",
              "\n",
              "      <script>\n",
              "        const buttonEl =\n",
              "          document.querySelector('#df-5a150eec-cdc5-44df-8d43-1a379191dd03 button.colab-df-convert');\n",
              "        buttonEl.style.display =\n",
              "          google.colab.kernel.accessAllowed ? 'block' : 'none';\n",
              "\n",
              "        async function convertToInteractive(key) {\n",
              "          const element = document.querySelector('#df-5a150eec-cdc5-44df-8d43-1a379191dd03');\n",
              "          const dataTable =\n",
              "            await google.colab.kernel.invokeFunction('convertToInteractive',\n",
              "                                                     [key], {});\n",
              "          if (!dataTable) return;\n",
              "\n",
              "          const docLinkHtml = 'Like what you see? Visit the ' +\n",
              "            '<a target=\"_blank\" href=https://colab.research.google.com/notebooks/data_table.ipynb>data table notebook</a>'\n",
              "            + ' to learn more about interactive tables.';\n",
              "          element.innerHTML = '';\n",
              "          dataTable['output_type'] = 'display_data';\n",
              "          await google.colab.output.renderOutput(dataTable, element);\n",
              "          const docLink = document.createElement('div');\n",
              "          docLink.innerHTML = docLinkHtml;\n",
              "          element.appendChild(docLink);\n",
              "        }\n",
              "      </script>\n",
              "    </div>\n",
              "  </div>\n",
              "  "
            ],
            "text/plain": [
              "                                           cleaned_tweet  Sentiment\n",
              "0      aap's historic win chandigarh mc poll show peo...        2.0\n",
              "1      ahead election bjp planning massive campaign r...        1.0\n",
              "2      cpi(m) general secretary sitaram yechury said ...        0.0\n",
              "3      . top brass up: pm pitch party upcoming assemb...        2.0\n",
              "4      bjp register bigger win time assembly poll cla...        2.0\n",
              "...                                                  ...        ...\n",
              "17645  heaven governance. 2012: \"even god can’t stop ...        NaN\n",
              "17646  time opinion poll uttar pradesh bjp+ : 239 sp+...        NaN\n",
              "17647  time now-veto opinion poll uttar pradesh : 403...        NaN\n",
              "17648  time - veto opinion poll western uttar pradesh...        NaN\n",
              "17649  time - veto opinion poll western uttar pradesh...        NaN\n",
              "\n",
              "[17650 rows x 2 columns]"
            ]
          },
          "metadata": {},
          "execution_count": 102
        }
      ]
    },
    {
      "cell_type": "code",
      "source": [
        "total_data['cleaned_tweet'].isnull().sum()"
      ],
      "metadata": {
        "colab": {
          "base_uri": "https://localhost:8080/"
        },
        "outputId": "84804648-b72a-4a4e-d418-5ea720379106",
        "id": "-ARrP_Lv6Pbd"
      },
      "execution_count": 103,
      "outputs": [
        {
          "output_type": "execute_result",
          "data": {
            "text/plain": [
              "0"
            ]
          },
          "metadata": {},
          "execution_count": 103
        }
      ]
    },
    {
      "cell_type": "code",
      "source": [
        "total_data.dropna(subset=['cleaned_tweet'], inplace=True)"
      ],
      "metadata": {
        "id": "g0ssymC16Pbe"
      },
      "execution_count": 104,
      "outputs": []
    },
    {
      "cell_type": "code",
      "source": [
        "cv = CountVectorizer()\n",
        "vec = cv.fit_transform(total_data['cleaned_tweet'])\n",
        "print(vec.shape, total_data.shape)"
      ],
      "metadata": {
        "colab": {
          "base_uri": "https://localhost:8080/"
        },
        "outputId": "1dbc917e-2f4b-4c98-9a96-bc450f45378d",
        "id": "HDQyfp2n6Pbf"
      },
      "execution_count": 105,
      "outputs": [
        {
          "output_type": "stream",
          "name": "stdout",
          "text": [
            "(17650, 23508) (17650, 2)\n"
          ]
        }
      ]
    },
    {
      "cell_type": "code",
      "source": [
        "X=vec[:len(actual_df_Vader)]\n",
        "y=actual_df_Vader.Sentiment\n",
        "X_train,X_test,y_train,y_test=train_test_split(X,y,train_size=0.85)"
      ],
      "metadata": {
        "id": "OGtZ0bGY6Pbh"
      },
      "execution_count": 106,
      "outputs": []
    },
    {
      "cell_type": "code",
      "source": [
        "rf_with_cv = RandomForestClassifier(n_estimators=65)\n",
        "rf_with_cv.fit(X_train,y_train)\n",
        "pred = rf_with_cv.predict(X_test)\n",
        "accuracy_score(pred,y_test)"
      ],
      "metadata": {
        "colab": {
          "base_uri": "https://localhost:8080/"
        },
        "outputId": "d7b05b35-a479-445a-cf14-fb23cd2d750b",
        "id": "dyHZ7_6b6Pbi"
      },
      "execution_count": 107,
      "outputs": [
        {
          "output_type": "execute_result",
          "data": {
            "text/plain": [
              "0.7929203539823009"
            ]
          },
          "metadata": {},
          "execution_count": 107
        }
      ]
    },
    {
      "cell_type": "code",
      "source": [
        "test_vec = vec[len(actual_df_Vader):]\n",
        "test_vec"
      ],
      "metadata": {
        "colab": {
          "base_uri": "https://localhost:8080/"
        },
        "outputId": "e792828f-7756-49bd-dd3b-290a13578814",
        "id": "UFK9lCOC6Pbk"
      },
      "execution_count": 108,
      "outputs": [
        {
          "output_type": "execute_result",
          "data": {
            "text/plain": [
              "<6352x23508 sparse matrix of type '<class 'numpy.int64'>'\n",
              "\twith 88670 stored elements in Compressed Sparse Row format>"
            ]
          },
          "metadata": {},
          "execution_count": 108
        }
      ]
    },
    {
      "cell_type": "code",
      "source": [
        "predictions = rf_with_cv.predict(test_vec)\n",
        "predictions"
      ],
      "metadata": {
        "colab": {
          "base_uri": "https://localhost:8080/"
        },
        "outputId": "18c74ebe-4290-437a-cc9c-28c5cd698b43",
        "id": "GGS564MS6Pbl"
      },
      "execution_count": 109,
      "outputs": [
        {
          "output_type": "execute_result",
          "data": {
            "text/plain": [
              "array([1, 0, 2, ..., 1, 2, 1])"
            ]
          },
          "metadata": {},
          "execution_count": 109
        }
      ]
    },
    {
      "cell_type": "code",
      "source": [
        "len(predictions)"
      ],
      "metadata": {
        "colab": {
          "base_uri": "https://localhost:8080/"
        },
        "outputId": "0005722a-f6c8-42d9-dffb-48a7b397fe56",
        "id": "9E0pyFak6Pbo"
      },
      "execution_count": 110,
      "outputs": [
        {
          "output_type": "execute_result",
          "data": {
            "text/plain": [
              "6352"
            ]
          },
          "metadata": {},
          "execution_count": 110
        }
      ]
    },
    {
      "cell_type": "code",
      "source": [
        "submission = pd.DataFrame()\n",
        "submission['Tweet'] = df_test['cleaned_tweet']\n",
        "submission['Sentiment'] = predictions\n",
        "submission['Date'] = df_test2['Datetime']\n",
        "submission"
      ],
      "metadata": {
        "colab": {
          "base_uri": "https://localhost:8080/",
          "height": 424
        },
        "outputId": "121c4983-8e7a-4080-954a-4fddbf0ee513",
        "id": "11phgggn6Pbp"
      },
      "execution_count": 111,
      "outputs": [
        {
          "output_type": "execute_result",
          "data": {
            "text/html": [
              "\n",
              "  <div id=\"df-a1398651-1909-44c4-b1d0-3c64becdeb7d\">\n",
              "    <div class=\"colab-df-container\">\n",
              "      <div>\n",
              "<style scoped>\n",
              "    .dataframe tbody tr th:only-of-type {\n",
              "        vertical-align: middle;\n",
              "    }\n",
              "\n",
              "    .dataframe tbody tr th {\n",
              "        vertical-align: top;\n",
              "    }\n",
              "\n",
              "    .dataframe thead th {\n",
              "        text-align: right;\n",
              "    }\n",
              "</style>\n",
              "<table border=\"1\" class=\"dataframe\">\n",
              "  <thead>\n",
              "    <tr style=\"text-align: right;\">\n",
              "      <th></th>\n",
              "      <th>Tweet</th>\n",
              "      <th>Sentiment</th>\n",
              "      <th>Date</th>\n",
              "    </tr>\n",
              "  </thead>\n",
              "  <tbody>\n",
              "    <tr>\n",
              "      <th>0</th>\n",
              "      <td>meanwhile last congress election. aoc primarie...</td>\n",
              "      <td>1</td>\n",
              "      <td>2022-01-14 23:01:29+00:00</td>\n",
              "    </tr>\n",
              "    <tr>\n",
              "      <th>1</th>\n",
              "      <td>kick congress lock up! guilty participating en...</td>\n",
              "      <td>0</td>\n",
              "      <td>2022-01-14 22:36:12+00:00</td>\n",
              "    </tr>\n",
              "    <tr>\n",
              "      <th>2</th>\n",
              "      <td>republican congress still putting trump candid...</td>\n",
              "      <td>2</td>\n",
              "      <td>2022-01-14 22:16:39+00:00</td>\n",
              "    </tr>\n",
              "    <tr>\n",
              "      <th>3</th>\n",
              "      <td>they'll claim state control election process c...</td>\n",
              "      <td>0</td>\n",
              "      <td>2022-01-14 22:13:39+00:00</td>\n",
              "    </tr>\n",
              "    <tr>\n",
              "      <th>4</th>\n",
              "      <td>impact final vote. yet republican state trying...</td>\n",
              "      <td>0</td>\n",
              "      <td>2022-01-14 22:13:19+00:00</td>\n",
              "    </tr>\n",
              "    <tr>\n",
              "      <th>...</th>\n",
              "      <td>...</td>\n",
              "      <td>...</td>\n",
              "      <td>...</td>\n",
              "    </tr>\n",
              "    <tr>\n",
              "      <th>6787</th>\n",
              "      <td>heaven governance. 2012: \"even god can’t stop ...</td>\n",
              "      <td>0</td>\n",
              "      <td>2022-01-02 06:33:51+00:00</td>\n",
              "    </tr>\n",
              "    <tr>\n",
              "      <th>6788</th>\n",
              "      <td>time opinion poll uttar pradesh bjp+ : 239 sp+...</td>\n",
              "      <td>2</td>\n",
              "      <td>2022-01-02 05:49:31+00:00</td>\n",
              "    </tr>\n",
              "    <tr>\n",
              "      <th>6792</th>\n",
              "      <td>time now-veto opinion poll uttar pradesh : 403...</td>\n",
              "      <td>1</td>\n",
              "      <td>2022-01-01 14:42:49+00:00</td>\n",
              "    </tr>\n",
              "    <tr>\n",
              "      <th>6793</th>\n",
              "      <td>time - veto opinion poll western uttar pradesh...</td>\n",
              "      <td>2</td>\n",
              "      <td>2022-01-01 14:25:24+00:00</td>\n",
              "    </tr>\n",
              "    <tr>\n",
              "      <th>6794</th>\n",
              "      <td>time - veto opinion poll western uttar pradesh...</td>\n",
              "      <td>1</td>\n",
              "      <td>2022-01-01 14:20:16+00:00</td>\n",
              "    </tr>\n",
              "  </tbody>\n",
              "</table>\n",
              "<p>6352 rows × 3 columns</p>\n",
              "</div>\n",
              "      <button class=\"colab-df-convert\" onclick=\"convertToInteractive('df-a1398651-1909-44c4-b1d0-3c64becdeb7d')\"\n",
              "              title=\"Convert this dataframe to an interactive table.\"\n",
              "              style=\"display:none;\">\n",
              "        \n",
              "  <svg xmlns=\"http://www.w3.org/2000/svg\" height=\"24px\"viewBox=\"0 0 24 24\"\n",
              "       width=\"24px\">\n",
              "    <path d=\"M0 0h24v24H0V0z\" fill=\"none\"/>\n",
              "    <path d=\"M18.56 5.44l.94 2.06.94-2.06 2.06-.94-2.06-.94-.94-2.06-.94 2.06-2.06.94zm-11 1L8.5 8.5l.94-2.06 2.06-.94-2.06-.94L8.5 2.5l-.94 2.06-2.06.94zm10 10l.94 2.06.94-2.06 2.06-.94-2.06-.94-.94-2.06-.94 2.06-2.06.94z\"/><path d=\"M17.41 7.96l-1.37-1.37c-.4-.4-.92-.59-1.43-.59-.52 0-1.04.2-1.43.59L10.3 9.45l-7.72 7.72c-.78.78-.78 2.05 0 2.83L4 21.41c.39.39.9.59 1.41.59.51 0 1.02-.2 1.41-.59l7.78-7.78 2.81-2.81c.8-.78.8-2.07 0-2.86zM5.41 20L4 18.59l7.72-7.72 1.47 1.35L5.41 20z\"/>\n",
              "  </svg>\n",
              "      </button>\n",
              "      \n",
              "  <style>\n",
              "    .colab-df-container {\n",
              "      display:flex;\n",
              "      flex-wrap:wrap;\n",
              "      gap: 12px;\n",
              "    }\n",
              "\n",
              "    .colab-df-convert {\n",
              "      background-color: #E8F0FE;\n",
              "      border: none;\n",
              "      border-radius: 50%;\n",
              "      cursor: pointer;\n",
              "      display: none;\n",
              "      fill: #1967D2;\n",
              "      height: 32px;\n",
              "      padding: 0 0 0 0;\n",
              "      width: 32px;\n",
              "    }\n",
              "\n",
              "    .colab-df-convert:hover {\n",
              "      background-color: #E2EBFA;\n",
              "      box-shadow: 0px 1px 2px rgba(60, 64, 67, 0.3), 0px 1px 3px 1px rgba(60, 64, 67, 0.15);\n",
              "      fill: #174EA6;\n",
              "    }\n",
              "\n",
              "    [theme=dark] .colab-df-convert {\n",
              "      background-color: #3B4455;\n",
              "      fill: #D2E3FC;\n",
              "    }\n",
              "\n",
              "    [theme=dark] .colab-df-convert:hover {\n",
              "      background-color: #434B5C;\n",
              "      box-shadow: 0px 1px 3px 1px rgba(0, 0, 0, 0.15);\n",
              "      filter: drop-shadow(0px 1px 2px rgba(0, 0, 0, 0.3));\n",
              "      fill: #FFFFFF;\n",
              "    }\n",
              "  </style>\n",
              "\n",
              "      <script>\n",
              "        const buttonEl =\n",
              "          document.querySelector('#df-a1398651-1909-44c4-b1d0-3c64becdeb7d button.colab-df-convert');\n",
              "        buttonEl.style.display =\n",
              "          google.colab.kernel.accessAllowed ? 'block' : 'none';\n",
              "\n",
              "        async function convertToInteractive(key) {\n",
              "          const element = document.querySelector('#df-a1398651-1909-44c4-b1d0-3c64becdeb7d');\n",
              "          const dataTable =\n",
              "            await google.colab.kernel.invokeFunction('convertToInteractive',\n",
              "                                                     [key], {});\n",
              "          if (!dataTable) return;\n",
              "\n",
              "          const docLinkHtml = 'Like what you see? Visit the ' +\n",
              "            '<a target=\"_blank\" href=https://colab.research.google.com/notebooks/data_table.ipynb>data table notebook</a>'\n",
              "            + ' to learn more about interactive tables.';\n",
              "          element.innerHTML = '';\n",
              "          dataTable['output_type'] = 'display_data';\n",
              "          await google.colab.output.renderOutput(dataTable, element);\n",
              "          const docLink = document.createElement('div');\n",
              "          docLink.innerHTML = docLinkHtml;\n",
              "          element.appendChild(docLink);\n",
              "        }\n",
              "      </script>\n",
              "    </div>\n",
              "  </div>\n",
              "  "
            ],
            "text/plain": [
              "                                                  Tweet  Sentiment  \\\n",
              "0     meanwhile last congress election. aoc primarie...          1   \n",
              "1     kick congress lock up! guilty participating en...          0   \n",
              "2     republican congress still putting trump candid...          2   \n",
              "3     they'll claim state control election process c...          0   \n",
              "4     impact final vote. yet republican state trying...          0   \n",
              "...                                                 ...        ...   \n",
              "6787  heaven governance. 2012: \"even god can’t stop ...          0   \n",
              "6788  time opinion poll uttar pradesh bjp+ : 239 sp+...          2   \n",
              "6792  time now-veto opinion poll uttar pradesh : 403...          1   \n",
              "6793  time - veto opinion poll western uttar pradesh...          2   \n",
              "6794  time - veto opinion poll western uttar pradesh...          1   \n",
              "\n",
              "                           Date  \n",
              "0     2022-01-14 23:01:29+00:00  \n",
              "1     2022-01-14 22:36:12+00:00  \n",
              "2     2022-01-14 22:16:39+00:00  \n",
              "3     2022-01-14 22:13:39+00:00  \n",
              "4     2022-01-14 22:13:19+00:00  \n",
              "...                         ...  \n",
              "6787  2022-01-02 06:33:51+00:00  \n",
              "6788  2022-01-02 05:49:31+00:00  \n",
              "6792  2022-01-01 14:42:49+00:00  \n",
              "6793  2022-01-01 14:25:24+00:00  \n",
              "6794  2022-01-01 14:20:16+00:00  \n",
              "\n",
              "[6352 rows x 3 columns]"
            ]
          },
          "metadata": {},
          "execution_count": 111
        }
      ]
    },
    {
      "cell_type": "code",
      "source": [
        "submission.to_csv('UP-INC_prediction.csv', index=False)"
      ],
      "metadata": {
        "id": "OGL_6GhY6Pbr"
      },
      "execution_count": 112,
      "outputs": []
    },
    {
      "cell_type": "code",
      "source": [
        "import pandas as pd\n",
        "import seaborn as sns\n",
        "import matplotlib.pyplot as plt"
      ],
      "metadata": {
        "id": "tzLCfKBQ6Pbs"
      },
      "execution_count": 113,
      "outputs": []
    },
    {
      "cell_type": "code",
      "source": [
        "df_UP_INC = pd.read_csv('UP-INC_prediction.csv')"
      ],
      "metadata": {
        "id": "M98C_oDe6Pbt"
      },
      "execution_count": 115,
      "outputs": []
    },
    {
      "cell_type": "code",
      "source": [
        "sns.countplot(x ='Sentiment', data = df_UP_INC)"
      ],
      "metadata": {
        "colab": {
          "base_uri": "https://localhost:8080/",
          "height": 296
        },
        "outputId": "0277e311-e56a-4cda-edeb-d9cfd0da64b2",
        "id": "9jPw0dnh6Pbu"
      },
      "execution_count": 116,
      "outputs": [
        {
          "output_type": "execute_result",
          "data": {
            "text/plain": [
              "<matplotlib.axes._subplots.AxesSubplot at 0x7f4f6aafd550>"
            ]
          },
          "metadata": {},
          "execution_count": 116
        },
        {
          "output_type": "display_data",
          "data": {
            "image/png": "[encoded data removed]",
            "text/plain": [
              "<Figure size 432x288 with 1 Axes>"
            ]
          },
          "metadata": {
            "needs_background": "light"
          }
        }
      ]
    },
    {
      "cell_type": "code",
      "source": [
        "def get_range(date):\n",
        "  if (date > '2022-01-01') and (date <= '2022-01-05'):\n",
        "    return '1Jan-5Jan'\n",
        "  elif (date > '2022-01-06') and (date <= '2022-01-10'):\n",
        "    return '6Jan-10Jan'\n",
        "  else:\n",
        "    return '11Jan-15Jan'"
      ],
      "metadata": {
        "id": "fIQjrMbR6Pbw"
      },
      "execution_count": 117,
      "outputs": []
    },
    {
      "cell_type": "code",
      "source": [
        "df_UP_INC['Range'] = df_UP_INC['Date'].apply(get_range)"
      ],
      "metadata": {
        "id": "tCf9cP_-6Pbx"
      },
      "execution_count": 118,
      "outputs": []
    },
    {
      "cell_type": "code",
      "source": [
        "df_UP_INC"
      ],
      "metadata": {
        "colab": {
          "base_uri": "https://localhost:8080/",
          "height": 424
        },
        "outputId": "42fec425-8e67-4da8-9a7b-79caa02dbaeb",
        "id": "plIQKJ8o6Pbz"
      },
      "execution_count": 119,
      "outputs": [
        {
          "output_type": "execute_result",
          "data": {
            "text/html": [
              "\n",
              "  <div id=\"df-073cf39f-472f-4eaa-a3ab-8abafd356cfa\">\n",
              "    <div class=\"colab-df-container\">\n",
              "      <div>\n",
              "<style scoped>\n",
              "    .dataframe tbody tr th:only-of-type {\n",
              "        vertical-align: middle;\n",
              "    }\n",
              "\n",
              "    .dataframe tbody tr th {\n",
              "        vertical-align: top;\n",
              "    }\n",
              "\n",
              "    .dataframe thead th {\n",
              "        text-align: right;\n",
              "    }\n",
              "</style>\n",
              "<table border=\"1\" class=\"dataframe\">\n",
              "  <thead>\n",
              "    <tr style=\"text-align: right;\">\n",
              "      <th></th>\n",
              "      <th>Tweet</th>\n",
              "      <th>Sentiment</th>\n",
              "      <th>Date</th>\n",
              "      <th>Range</th>\n",
              "    </tr>\n",
              "  </thead>\n",
              "  <tbody>\n",
              "    <tr>\n",
              "      <th>0</th>\n",
              "      <td>meanwhile last congress election. aoc primarie...</td>\n",
              "      <td>1</td>\n",
              "      <td>2022-01-14 23:01:29+00:00</td>\n",
              "      <td>11Jan-15Jan</td>\n",
              "    </tr>\n",
              "    <tr>\n",
              "      <th>1</th>\n",
              "      <td>kick congress lock up! guilty participating en...</td>\n",
              "      <td>0</td>\n",
              "      <td>2022-01-14 22:36:12+00:00</td>\n",
              "      <td>11Jan-15Jan</td>\n",
              "    </tr>\n",
              "    <tr>\n",
              "      <th>2</th>\n",
              "      <td>republican congress still putting trump candid...</td>\n",
              "      <td>2</td>\n",
              "      <td>2022-01-14 22:16:39+00:00</td>\n",
              "      <td>11Jan-15Jan</td>\n",
              "    </tr>\n",
              "    <tr>\n",
              "      <th>3</th>\n",
              "      <td>they'll claim state control election process c...</td>\n",
              "      <td>0</td>\n",
              "      <td>2022-01-14 22:13:39+00:00</td>\n",
              "      <td>11Jan-15Jan</td>\n",
              "    </tr>\n",
              "    <tr>\n",
              "      <th>4</th>\n",
              "      <td>impact final vote. yet republican state trying...</td>\n",
              "      <td>0</td>\n",
              "      <td>2022-01-14 22:13:19+00:00</td>\n",
              "      <td>11Jan-15Jan</td>\n",
              "    </tr>\n",
              "    <tr>\n",
              "      <th>...</th>\n",
              "      <td>...</td>\n",
              "      <td>...</td>\n",
              "      <td>...</td>\n",
              "      <td>...</td>\n",
              "    </tr>\n",
              "    <tr>\n",
              "      <th>6347</th>\n",
              "      <td>heaven governance. 2012: \"even god can’t stop ...</td>\n",
              "      <td>0</td>\n",
              "      <td>2022-01-02 06:33:51+00:00</td>\n",
              "      <td>1Jan-5Jan</td>\n",
              "    </tr>\n",
              "    <tr>\n",
              "      <th>6348</th>\n",
              "      <td>time opinion poll uttar pradesh bjp+ : 239 sp+...</td>\n",
              "      <td>2</td>\n",
              "      <td>2022-01-02 05:49:31+00:00</td>\n",
              "      <td>1Jan-5Jan</td>\n",
              "    </tr>\n",
              "    <tr>\n",
              "      <th>6349</th>\n",
              "      <td>time now-veto opinion poll uttar pradesh : 403...</td>\n",
              "      <td>1</td>\n",
              "      <td>2022-01-01 14:42:49+00:00</td>\n",
              "      <td>1Jan-5Jan</td>\n",
              "    </tr>\n",
              "    <tr>\n",
              "      <th>6350</th>\n",
              "      <td>time - veto opinion poll western uttar pradesh...</td>\n",
              "      <td>2</td>\n",
              "      <td>2022-01-01 14:25:24+00:00</td>\n",
              "      <td>1Jan-5Jan</td>\n",
              "    </tr>\n",
              "    <tr>\n",
              "      <th>6351</th>\n",
              "      <td>time - veto opinion poll western uttar pradesh...</td>\n",
              "      <td>1</td>\n",
              "      <td>2022-01-01 14:20:16+00:00</td>\n",
              "      <td>1Jan-5Jan</td>\n",
              "    </tr>\n",
              "  </tbody>\n",
              "</table>\n",
              "<p>6352 rows × 4 columns</p>\n",
              "</div>\n",
              "      <button class=\"colab-df-convert\" onclick=\"convertToInteractive('df-073cf39f-472f-4eaa-a3ab-8abafd356cfa')\"\n",
              "              title=\"Convert this dataframe to an interactive table.\"\n",
              "              style=\"display:none;\">\n",
              "        \n",
              "  <svg xmlns=\"http://www.w3.org/2000/svg\" height=\"24px\"viewBox=\"0 0 24 24\"\n",
              "       width=\"24px\">\n",
              "    <path d=\"M0 0h24v24H0V0z\" fill=\"none\"/>\n",
              "    <path d=\"M18.56 5.44l.94 2.06.94-2.06 2.06-.94-2.06-.94-.94-2.06-.94 2.06-2.06.94zm-11 1L8.5 8.5l.94-2.06 2.06-.94-2.06-.94L8.5 2.5l-.94 2.06-2.06.94zm10 10l.94 2.06.94-2.06 2.06-.94-2.06-.94-.94-2.06-.94 2.06-2.06.94z\"/><path d=\"M17.41 7.96l-1.37-1.37c-.4-.4-.92-.59-1.43-.59-.52 0-1.04.2-1.43.59L10.3 9.45l-7.72 7.72c-.78.78-.78 2.05 0 2.83L4 21.41c.39.39.9.59 1.41.59.51 0 1.02-.2 1.41-.59l7.78-7.78 2.81-2.81c.8-.78.8-2.07 0-2.86zM5.41 20L4 18.59l7.72-7.72 1.47 1.35L5.41 20z\"/>\n",
              "  </svg>\n",
              "      </button>\n",
              "      \n",
              "  <style>\n",
              "    .colab-df-container {\n",
              "      display:flex;\n",
              "      flex-wrap:wrap;\n",
              "      gap: 12px;\n",
              "    }\n",
              "\n",
              "    .colab-df-convert {\n",
              "      background-color: #E8F0FE;\n",
              "      border: none;\n",
              "      border-radius: 50%;\n",
              "      cursor: pointer;\n",
              "      display: none;\n",
              "      fill: #1967D2;\n",
              "      height: 32px;\n",
              "      padding: 0 0 0 0;\n",
              "      width: 32px;\n",
              "    }\n",
              "\n",
              "    .colab-df-convert:hover {\n",
              "      background-color: #E2EBFA;\n",
              "      box-shadow: 0px 1px 2px rgba(60, 64, 67, 0.3), 0px 1px 3px 1px rgba(60, 64, 67, 0.15);\n",
              "      fill: #174EA6;\n",
              "    }\n",
              "\n",
              "    [theme=dark] .colab-df-convert {\n",
              "      background-color: #3B4455;\n",
              "      fill: #D2E3FC;\n",
              "    }\n",
              "\n",
              "    [theme=dark] .colab-df-convert:hover {\n",
              "      background-color: #434B5C;\n",
              "      box-shadow: 0px 1px 3px 1px rgba(0, 0, 0, 0.15);\n",
              "      filter: drop-shadow(0px 1px 2px rgba(0, 0, 0, 0.3));\n",
              "      fill: #FFFFFF;\n",
              "    }\n",
              "  </style>\n",
              "\n",
              "      <script>\n",
              "        const buttonEl =\n",
              "          document.querySelector('#df-073cf39f-472f-4eaa-a3ab-8abafd356cfa button.colab-df-convert');\n",
              "        buttonEl.style.display =\n",
              "          google.colab.kernel.accessAllowed ? 'block' : 'none';\n",
              "\n",
              "        async function convertToInteractive(key) {\n",
              "          const element = document.querySelector('#df-073cf39f-472f-4eaa-a3ab-8abafd356cfa');\n",
              "          const dataTable =\n",
              "            await google.colab.kernel.invokeFunction('convertToInteractive',\n",
              "                                                     [key], {});\n",
              "          if (!dataTable) return;\n",
              "\n",
              "          const docLinkHtml = 'Like what you see? Visit the ' +\n",
              "            '<a target=\"_blank\" href=https://colab.research.google.com/notebooks/data_table.ipynb>data table notebook</a>'\n",
              "            + ' to learn more about interactive tables.';\n",
              "          element.innerHTML = '';\n",
              "          dataTable['output_type'] = 'display_data';\n",
              "          await google.colab.output.renderOutput(dataTable, element);\n",
              "          const docLink = document.createElement('div');\n",
              "          docLink.innerHTML = docLinkHtml;\n",
              "          element.appendChild(docLink);\n",
              "        }\n",
              "      </script>\n",
              "    </div>\n",
              "  </div>\n",
              "  "
            ],
            "text/plain": [
              "                                                  Tweet  Sentiment  \\\n",
              "0     meanwhile last congress election. aoc primarie...          1   \n",
              "1     kick congress lock up! guilty participating en...          0   \n",
              "2     republican congress still putting trump candid...          2   \n",
              "3     they'll claim state control election process c...          0   \n",
              "4     impact final vote. yet republican state trying...          0   \n",
              "...                                                 ...        ...   \n",
              "6347  heaven governance. 2012: \"even god can’t stop ...          0   \n",
              "6348  time opinion poll uttar pradesh bjp+ : 239 sp+...          2   \n",
              "6349  time now-veto opinion poll uttar pradesh : 403...          1   \n",
              "6350  time - veto opinion poll western uttar pradesh...          2   \n",
              "6351  time - veto opinion poll western uttar pradesh...          1   \n",
              "\n",
              "                           Date        Range  \n",
              "0     2022-01-14 23:01:29+00:00  11Jan-15Jan  \n",
              "1     2022-01-14 22:36:12+00:00  11Jan-15Jan  \n",
              "2     2022-01-14 22:16:39+00:00  11Jan-15Jan  \n",
              "3     2022-01-14 22:13:39+00:00  11Jan-15Jan  \n",
              "4     2022-01-14 22:13:19+00:00  11Jan-15Jan  \n",
              "...                         ...          ...  \n",
              "6347  2022-01-02 06:33:51+00:00    1Jan-5Jan  \n",
              "6348  2022-01-02 05:49:31+00:00    1Jan-5Jan  \n",
              "6349  2022-01-01 14:42:49+00:00    1Jan-5Jan  \n",
              "6350  2022-01-01 14:25:24+00:00    1Jan-5Jan  \n",
              "6351  2022-01-01 14:20:16+00:00    1Jan-5Jan  \n",
              "\n",
              "[6352 rows x 4 columns]"
            ]
          },
          "metadata": {},
          "execution_count": 119
        }
      ]
    },
    {
      "cell_type": "code",
      "source": [
        "def clean_date(date):\n",
        "  date = date.replace(date[11:], \"\")\n",
        "  return date"
      ],
      "metadata": {
        "id": "F6NJcObZ6Pb0"
      },
      "execution_count": 120,
      "outputs": []
    },
    {
      "cell_type": "code",
      "source": [
        "df_UP_INC['Date'] = df_UP_INC['Date'].apply(clean_date)"
      ],
      "metadata": {
        "id": "VGkaPs8n6Pb1"
      },
      "execution_count": 121,
      "outputs": []
    },
    {
      "cell_type": "code",
      "source": [
        "sns.countplot(x ='Range', data = df_UP_INC, hue='Sentiment')"
      ],
      "metadata": {
        "colab": {
          "base_uri": "https://localhost:8080/",
          "height": 300
        },
        "outputId": "f7ab0d48-fd25-4781-affd-36f0238bc632",
        "id": "-GVPC55O6Pb3"
      },
      "execution_count": 122,
      "outputs": [
        {
          "output_type": "execute_result",
          "data": {
            "text/plain": [
              "<matplotlib.axes._subplots.AxesSubplot at 0x7f4f68bac310>"
            ]
          },
          "metadata": {},
          "execution_count": 122
        },
        {
          "output_type": "display_data",
          "data": {
            "image/png": "[encoded data removed]",
            "text/plain": [
              "<Figure size 432x288 with 1 Axes>"
            ]
          },
          "metadata": {
            "needs_background": "light"
          }
        }
      ]
    },
    {
      "cell_type": "code",
      "source": [
        "df_UP_INC['Sentiment'].value_counts()"
      ],
      "metadata": {
        "colab": {
          "base_uri": "https://localhost:8080/"
        },
        "outputId": "b5e7a2c9-fdc4-4212-8a1b-a96f6f0340d9",
        "id": "eHeDB6S86Pb4"
      },
      "execution_count": 123,
      "outputs": [
        {
          "output_type": "execute_result",
          "data": {
            "text/plain": [
              "2    3412\n",
              "1    2194\n",
              "0     746\n",
              "Name: Sentiment, dtype: int64"
            ]
          },
          "metadata": {},
          "execution_count": 123
        }
      ]
    },
    {
      "cell_type": "code",
      "source": [
        "df_UP_INC['count'] = 1"
      ],
      "metadata": {
        "id": "SSVPypx_6Pb5"
      },
      "execution_count": 124,
      "outputs": []
    },
    {
      "cell_type": "code",
      "source": [
        "df_sum2 = df_UP_INC.groupby(['Date', 'Sentiment']).sum()"
      ],
      "metadata": {
        "id": "zCcjuh2l6Pb9"
      },
      "execution_count": 125,
      "outputs": []
    },
    {
      "cell_type": "code",
      "source": [
        "fig, ax = plt.subplots(figsize=(15, 5))\n",
        "sns.lineplot( x = \"Date\",\n",
        "             y = \"count\",\n",
        "             data = df_sum2, hue=\"Sentiment\", ax=ax, palette='colorblind')\n",
        "plt.show() "
      ],
      "metadata": {
        "colab": {
          "base_uri": "https://localhost:8080/",
          "height": 337
        },
        "outputId": "86857604-fed9-47d8-cf9e-dacbac78e48c",
        "id": "jY8dY4aP6Pb_"
      },
      "execution_count": 126,
      "outputs": [
        {
          "output_type": "display_data",
          "data": {
            "image/png": "[encoded data removed]",
            "text/plain": [
              "<Figure size 1080x360 with 1 Axes>"
            ]
          },
          "metadata": {
            "needs_background": "light"
          }
        }
      ]
    },
    {
      "cell_type": "code",
      "source": [
        ""
      ],
      "metadata": {
        "id": "soIGwz4p6PcC"
      },
      "execution_count": null,
      "outputs": []
    }
  ]
}