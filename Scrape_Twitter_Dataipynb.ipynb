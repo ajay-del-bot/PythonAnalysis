{
  "nbformat": 4,
  "nbformat_minor": 0,
  "metadata": {
    "colab": {
      "name": "Scrape Twitter Dataipynb",
      "provenance": [],
      "collapsed_sections": [],
      "authorship_tag": "ABX9TyOHoztT38bot031E9O6Pwv7",
      "include_colab_link": true
    },
    "kernelspec": {
      "name": "python3",
      "display_name": "Python 3"
    },
    "language_info": {
      "name": "python"
    },
    "accelerator": "GPU"
  },
  "cells": [
    {
      "cell_type": "markdown",
      "metadata": {
        "id": "view-in-github",
        "colab_type": "text"
      },
      "source": [
        "<a href=\"https://colab.research.google.com/github/ajay-del-bot/PythonAnalysis/blob/main/Scrape_Twitter_Dataipynb.ipynb\" target=\"_parent\"><img src=\"https://colab.research.google.com/assets/colab-badge.svg\" alt=\"Open In Colab\"/></a>"
      ]
    },
    {
      "cell_type": "code",
      "source": [
        "!pip install --upgrade python"
      ],
      "metadata": {
        "colab": {
          "base_uri": "https://localhost:8080/"
        },
        "id": "_QJX6HadMjKe",
        "outputId": "21b5d8ce-b4ec-4386-cfd1-d679f1953f77"
      },
      "execution_count": null,
      "outputs": [
        {
          "output_type": "stream",
          "name": "stdout",
          "text": [
            "\u001b[31mERROR: Could not find a version that satisfies the requirement python (from versions: none)\u001b[0m\n",
            "\u001b[31mERROR: No matching distribution found for python\u001b[0m\n"
          ]
        }
      ]
    },
    {
      "cell_type": "code",
      "source": [
        "#!pip install twint"
      ],
      "metadata": {
        "id": "KteQkzxGR6lt"
      },
      "execution_count": null,
      "outputs": []
    },
    {
      "cell_type": "code",
      "source": [
        ""
      ],
      "metadata": {
        "id": "_VgO3UsDxJRa"
      },
      "execution_count": null,
      "outputs": []
    },
    {
      "cell_type": "code",
      "source": [
        "!pip install -q snscrape==0.3.4"
      ],
      "metadata": {
        "id": "hbJuACuCxK85"
      },
      "execution_count": null,
      "outputs": []
    },
    {
      "cell_type": "code",
      "source": [
        "!pip install git+https://github.com/JustAnotherArchivist/snscrape.git"
      ],
      "metadata": {
        "id": "YRcY0wiU7UXE",
        "colab": {
          "base_uri": "https://localhost:8080/"
        },
        "outputId": "209e9716-c4ee-4f5e-cb66-f3f4605c0750"
      },
      "execution_count": 1,
      "outputs": [
        {
          "output_type": "stream",
          "name": "stdout",
          "text": [
            "Collecting git+https://github.com/JustAnotherArchivist/snscrape.git\n",
            "  Cloning https://github.com/JustAnotherArchivist/snscrape.git to /tmp/pip-req-build-sn969n02\n",
            "  Running command git clone -q https://github.com/JustAnotherArchivist/snscrape.git /tmp/pip-req-build-sn969n02\n",
            "Requirement already satisfied: requests[socks] in /usr/local/lib/python3.7/dist-packages (from snscrape==0.4.3.20220107.dev32+g1ab0f4f) (2.23.0)\n",
            "Requirement already satisfied: lxml in /usr/local/lib/python3.7/dist-packages (from snscrape==0.4.3.20220107.dev32+g1ab0f4f) (4.2.6)\n",
            "Requirement already satisfied: beautifulsoup4 in /usr/local/lib/python3.7/dist-packages (from snscrape==0.4.3.20220107.dev32+g1ab0f4f) (4.6.3)\n",
            "Requirement already satisfied: filelock in /usr/local/lib/python3.7/dist-packages (from snscrape==0.4.3.20220107.dev32+g1ab0f4f) (3.6.0)\n",
            "Requirement already satisfied: pytz in /usr/local/lib/python3.7/dist-packages (from snscrape==0.4.3.20220107.dev32+g1ab0f4f) (2018.9)\n",
            "\u001b[31mERROR: Package 'snscrape' requires a different Python: 3.7.12 not in '~=3.8'\u001b[0m\n"
          ]
        }
      ]
    },
    {
      "cell_type": "code",
      "source": [
        "import os\n",
        "import pandas as pd\n",
        "from datetime import date"
      ],
      "metadata": {
        "id": "mVb2EBv-xLAm"
      },
      "execution_count": null,
      "outputs": []
    },
    {
      "cell_type": "code",
      "source": [
        "\n",
        "end_date = '2022-01-05'\n",
        "from_date = '2022-01-01'"
      ],
      "metadata": {
        "id": "1lAfxlLjxSIo"
      },
      "execution_count": null,
      "outputs": []
    },
    {
      "cell_type": "code",
      "source": [
        "search_term = 'UP elections BJP'\n"
      ],
      "metadata": {
        "id": "LDI4YLuLxUyM"
      },
      "execution_count": null,
      "outputs": []
    },
    {
      "cell_type": "code",
      "source": [
        "# os.system(f\"snscrape --since {from_date} twitter-search '{search_term} until:{end_date}' > result-tweets.txt\")\n",
        "# if os.stat(\"result-tweets.txt\").st_size == 0:\n",
        "#   counter = 0\n",
        "# else:\n",
        "#   df = pd.read_csv('result-tweets.txt', names=['link'])\n",
        "#   counter = df.size\n",
        "\n",
        "# print('Number Of Tweets : '+ str(counter))"
      ],
      "metadata": {
        "id": "88t6WcHMxb5d"
      },
      "execution_count": null,
      "outputs": []
    },
    {
      "cell_type": "code",
      "source": [
        "max_results = 2000"
      ],
      "metadata": {
        "id": "zTSJAX2iy3jt"
      },
      "execution_count": null,
      "outputs": []
    },
    {
      "cell_type": "code",
      "source": [
        "import snscrape.modules.twitter as sntwitter\n",
        "import pandas as pd\n",
        "\n",
        "# Creating list to append tweet data to\n",
        "tweets = []\n",
        "\n",
        "# Using TwitterSearchScraper to scrape data and append tweets to list\n",
        "\n",
        "    \n"
      ],
      "metadata": {
        "id": "Gvx_PVXv2g2h"
      },
      "execution_count": null,
      "outputs": []
    },
    {
      "cell_type": "code",
      "source": [
        "def search(search_term, count):\n",
        "  for i,tweet in enumerate(sntwitter.TwitterSearchScraper(search_term + ' lang:en since:2022-01-11 until:2022-01-15').get_items()):\n",
        "    if i>count:\n",
        "        break\n",
        "    tweets.append([tweet.date, tweet.content, tweet.username])"
      ],
      "metadata": {
        "id": "ANN67Tzt3h8N"
      },
      "execution_count": null,
      "outputs": []
    },
    {
      "cell_type": "code",
      "source": [
        "search('UP elections BJP', 2000)"
      ],
      "metadata": {
        "id": "wGsc57XV3Kiv"
      },
      "execution_count": null,
      "outputs": []
    },
    {
      "cell_type": "code",
      "source": [
        "search('BJP Uttar Pradesh', 2000)"
      ],
      "metadata": {
        "id": "M6gylfHG4dWi"
      },
      "execution_count": null,
      "outputs": []
    },
    {
      "cell_type": "code",
      "source": [
        "search(\"Yogi election\", 1000)"
      ],
      "metadata": {
        "id": "Rg1u4pHr4dkQ"
      },
      "execution_count": null,
      "outputs": []
    },
    {
      "cell_type": "code",
      "execution_count": null,
      "metadata": {
        "id": "2f3NrXd8DG60"
      },
      "outputs": [],
      "source": [
        "search(\"Yogi Adityanath\", 1000)"
      ]
    },
    {
      "cell_type": "code",
      "source": [
        ""
      ],
      "metadata": {
        "id": "_QtY8R054dvc"
      },
      "execution_count": null,
      "outputs": []
    },
    {
      "cell_type": "code",
      "source": [
        "len(tweets)"
      ],
      "metadata": {
        "colab": {
          "base_uri": "https://localhost:8080/"
        },
        "id": "gUIn5m_W4R3L",
        "outputId": "4a4cbaab-ed51-4745-ad50-47ce7a63d9b5"
      },
      "execution_count": null,
      "outputs": [
        {
          "output_type": "execute_result",
          "data": {
            "text/plain": [
              "4873"
            ]
          },
          "metadata": {},
          "execution_count": 31
        }
      ]
    },
    {
      "cell_type": "code",
      "source": [
        "# Creating a dataframe from the tweets list above\n",
        "df_train = pd.DataFrame(tweets, columns=['Datetime', 'Text',  'User'])"
      ],
      "metadata": {
        "id": "qMQyR6jj5Dtp"
      },
      "execution_count": null,
      "outputs": []
    },
    {
      "cell_type": "code",
      "source": [
        "df_train  "
      ],
      "metadata": {
        "id": "05mypqRR5aGx",
        "colab": {
          "base_uri": "https://localhost:8080/",
          "height": 424
        },
        "outputId": "3cb527a6-5452-49a1-93d0-8368f17d1d3d"
      },
      "execution_count": null,
      "outputs": [
        {
          "output_type": "execute_result",
          "data": {
            "text/html": [
              "\n",
              "  <div id=\"df-8b7cf774-ccbd-4db7-8fe6-f2f446d918a8\">\n",
              "    <div class=\"colab-df-container\">\n",
              "      <div>\n",
              "<style scoped>\n",
              "    .dataframe tbody tr th:only-of-type {\n",
              "        vertical-align: middle;\n",
              "    }\n",
              "\n",
              "    .dataframe tbody tr th {\n",
              "        vertical-align: top;\n",
              "    }\n",
              "\n",
              "    .dataframe thead th {\n",
              "        text-align: right;\n",
              "    }\n",
              "</style>\n",
              "<table border=\"1\" class=\"dataframe\">\n",
              "  <thead>\n",
              "    <tr style=\"text-align: right;\">\n",
              "      <th></th>\n",
              "      <th>Datetime</th>\n",
              "      <th>Text</th>\n",
              "      <th>User</th>\n",
              "    </tr>\n",
              "  </thead>\n",
              "  <tbody>\n",
              "    <tr>\n",
              "      <th>0</th>\n",
              "      <td>2022-01-14 23:58:51+00:00</td>\n",
              "      <td>@Khushe83059819 @KTRTRS @krishanKTRS @ysathish...</td>\n",
              "      <td>mittugaram</td>\n",
              "    </tr>\n",
              "    <tr>\n",
              "      <th>1</th>\n",
              "      <td>2022-01-14 23:29:43+00:00</td>\n",
              "      <td>UP BJP Candidates List 2022: 172 names finalis...</td>\n",
              "      <td>jeguru1</td>\n",
              "    </tr>\n",
              "    <tr>\n",
              "      <th>2</th>\n",
              "      <td>2022-01-14 23:05:04+00:00</td>\n",
              "      <td>Can BJP survive this exodus of its MLAs in Utt...</td>\n",
              "      <td>MarketsCafe</td>\n",
              "    </tr>\n",
              "    <tr>\n",
              "      <th>3</th>\n",
              "      <td>2022-01-14 23:04:25+00:00</td>\n",
              "      <td>It appears the \"Khalai Makhlooq\" has arrived i...</td>\n",
              "      <td>Roohan_Ahmed</td>\n",
              "    </tr>\n",
              "    <tr>\n",
              "      <th>4</th>\n",
              "      <td>2022-01-14 22:38:00+00:00</td>\n",
              "      <td>bjp: UP Elections: BJP will pay the price for ...</td>\n",
              "      <td>newsindian_in</td>\n",
              "    </tr>\n",
              "    <tr>\n",
              "      <th>...</th>\n",
              "      <td>...</td>\n",
              "      <td>...</td>\n",
              "      <td>...</td>\n",
              "    </tr>\n",
              "    <tr>\n",
              "      <th>4868</th>\n",
              "      <td>2022-01-14 13:23:02+00:00</td>\n",
              "      <td>@SunitaS85123235 @narendramodi @myogiadityanat...</td>\n",
              "      <td>Manvind40428518</td>\n",
              "    </tr>\n",
              "    <tr>\n",
              "      <th>4869</th>\n",
              "      <td>2022-01-14 13:22:26+00:00</td>\n",
              "      <td>@myogiadityanath Beautiful</td>\n",
              "      <td>gaurkr2015</td>\n",
              "    </tr>\n",
              "    <tr>\n",
              "      <th>4870</th>\n",
              "      <td>2022-01-14 13:22:17+00:00</td>\n",
              "      <td>@myogiadityanath Is this corona distancing or ...</td>\n",
              "      <td>watekar</td>\n",
              "    </tr>\n",
              "    <tr>\n",
              "      <th>4871</th>\n",
              "      <td>2022-01-14 13:21:42+00:00</td>\n",
              "      <td>@jankibaat1 @pradip103 @IndiaNews_itv No. I'm ...</td>\n",
              "      <td>ChandraRaghuvir</td>\n",
              "    </tr>\n",
              "    <tr>\n",
              "      <th>4872</th>\n",
              "      <td>2022-01-14 13:21:37+00:00</td>\n",
              "      <td>I Supported Shri @myogiadityanath Ji\\n\\n#YogiW...</td>\n",
              "      <td>VinodThakor444</td>\n",
              "    </tr>\n",
              "  </tbody>\n",
              "</table>\n",
              "<p>4873 rows × 3 columns</p>\n",
              "</div>\n",
              "      <button class=\"colab-df-convert\" onclick=\"convertToInteractive('df-8b7cf774-ccbd-4db7-8fe6-f2f446d918a8')\"\n",
              "              title=\"Convert this dataframe to an interactive table.\"\n",
              "              style=\"display:none;\">\n",
              "        \n",
              "  <svg xmlns=\"http://www.w3.org/2000/svg\" height=\"24px\"viewBox=\"0 0 24 24\"\n",
              "       width=\"24px\">\n",
              "    <path d=\"M0 0h24v24H0V0z\" fill=\"none\"/>\n",
              "    <path d=\"M18.56 5.44l.94 2.06.94-2.06 2.06-.94-2.06-.94-.94-2.06-.94 2.06-2.06.94zm-11 1L8.5 8.5l.94-2.06 2.06-.94-2.06-.94L8.5 2.5l-.94 2.06-2.06.94zm10 10l.94 2.06.94-2.06 2.06-.94-2.06-.94-.94-2.06-.94 2.06-2.06.94z\"/><path d=\"M17.41 7.96l-1.37-1.37c-.4-.4-.92-.59-1.43-.59-.52 0-1.04.2-1.43.59L10.3 9.45l-7.72 7.72c-.78.78-.78 2.05 0 2.83L4 21.41c.39.39.9.59 1.41.59.51 0 1.02-.2 1.41-.59l7.78-7.78 2.81-2.81c.8-.78.8-2.07 0-2.86zM5.41 20L4 18.59l7.72-7.72 1.47 1.35L5.41 20z\"/>\n",
              "  </svg>\n",
              "      </button>\n",
              "      \n",
              "  <style>\n",
              "    .colab-df-container {\n",
              "      display:flex;\n",
              "      flex-wrap:wrap;\n",
              "      gap: 12px;\n",
              "    }\n",
              "\n",
              "    .colab-df-convert {\n",
              "      background-color: #E8F0FE;\n",
              "      border: none;\n",
              "      border-radius: 50%;\n",
              "      cursor: pointer;\n",
              "      display: none;\n",
              "      fill: #1967D2;\n",
              "      height: 32px;\n",
              "      padding: 0 0 0 0;\n",
              "      width: 32px;\n",
              "    }\n",
              "\n",
              "    .colab-df-convert:hover {\n",
              "      background-color: #E2EBFA;\n",
              "      box-shadow: 0px 1px 2px rgba(60, 64, 67, 0.3), 0px 1px 3px 1px rgba(60, 64, 67, 0.15);\n",
              "      fill: #174EA6;\n",
              "    }\n",
              "\n",
              "    [theme=dark] .colab-df-convert {\n",
              "      background-color: #3B4455;\n",
              "      fill: #D2E3FC;\n",
              "    }\n",
              "\n",
              "    [theme=dark] .colab-df-convert:hover {\n",
              "      background-color: #434B5C;\n",
              "      box-shadow: 0px 1px 3px 1px rgba(0, 0, 0, 0.15);\n",
              "      filter: drop-shadow(0px 1px 2px rgba(0, 0, 0, 0.3));\n",
              "      fill: #FFFFFF;\n",
              "    }\n",
              "  </style>\n",
              "\n",
              "      <script>\n",
              "        const buttonEl =\n",
              "          document.querySelector('#df-8b7cf774-ccbd-4db7-8fe6-f2f446d918a8 button.colab-df-convert');\n",
              "        buttonEl.style.display =\n",
              "          google.colab.kernel.accessAllowed ? 'block' : 'none';\n",
              "\n",
              "        async function convertToInteractive(key) {\n",
              "          const element = document.querySelector('#df-8b7cf774-ccbd-4db7-8fe6-f2f446d918a8');\n",
              "          const dataTable =\n",
              "            await google.colab.kernel.invokeFunction('convertToInteractive',\n",
              "                                                     [key], {});\n",
              "          if (!dataTable) return;\n",
              "\n",
              "          const docLinkHtml = 'Like what you see? Visit the ' +\n",
              "            '<a target=\"_blank\" href=https://colab.research.google.com/notebooks/data_table.ipynb>data table notebook</a>'\n",
              "            + ' to learn more about interactive tables.';\n",
              "          element.innerHTML = '';\n",
              "          dataTable['output_type'] = 'display_data';\n",
              "          await google.colab.output.renderOutput(dataTable, element);\n",
              "          const docLink = document.createElement('div');\n",
              "          docLink.innerHTML = docLinkHtml;\n",
              "          element.appendChild(docLink);\n",
              "        }\n",
              "      </script>\n",
              "    </div>\n",
              "  </div>\n",
              "  "
            ],
            "text/plain": [
              "                      Datetime  \\\n",
              "0    2022-01-14 23:58:51+00:00   \n",
              "1    2022-01-14 23:29:43+00:00   \n",
              "2    2022-01-14 23:05:04+00:00   \n",
              "3    2022-01-14 23:04:25+00:00   \n",
              "4    2022-01-14 22:38:00+00:00   \n",
              "...                        ...   \n",
              "4868 2022-01-14 13:23:02+00:00   \n",
              "4869 2022-01-14 13:22:26+00:00   \n",
              "4870 2022-01-14 13:22:17+00:00   \n",
              "4871 2022-01-14 13:21:42+00:00   \n",
              "4872 2022-01-14 13:21:37+00:00   \n",
              "\n",
              "                                                   Text             User  \n",
              "0     @Khushe83059819 @KTRTRS @krishanKTRS @ysathish...       mittugaram  \n",
              "1     UP BJP Candidates List 2022: 172 names finalis...          jeguru1  \n",
              "2     Can BJP survive this exodus of its MLAs in Utt...      MarketsCafe  \n",
              "3     It appears the \"Khalai Makhlooq\" has arrived i...     Roohan_Ahmed  \n",
              "4     bjp: UP Elections: BJP will pay the price for ...    newsindian_in  \n",
              "...                                                 ...              ...  \n",
              "4868  @SunitaS85123235 @narendramodi @myogiadityanat...  Manvind40428518  \n",
              "4869                         @myogiadityanath Beautiful       gaurkr2015  \n",
              "4870  @myogiadityanath Is this corona distancing or ...          watekar  \n",
              "4871  @jankibaat1 @pradip103 @IndiaNews_itv No. I'm ...  ChandraRaghuvir  \n",
              "4872  I Supported Shri @myogiadityanath Ji\\n\\n#YogiW...   VinodThakor444  \n",
              "\n",
              "[4873 rows x 3 columns]"
            ]
          },
          "metadata": {},
          "execution_count": 33
        }
      ]
    },
    {
      "cell_type": "code",
      "source": [
        "df_train.to_csv('UP-BJP.csv', index=False)"
      ],
      "metadata": {
        "id": "QMyJA-P95qHK"
      },
      "execution_count": null,
      "outputs": []
    },
    {
      "cell_type": "code",
      "source": [
        "tweets = []"
      ],
      "metadata": {
        "id": "DsQXC8225ygq"
      },
      "execution_count": null,
      "outputs": []
    },
    {
      "cell_type": "code",
      "source": [
        "search(\"Congress UP election\", 2000)"
      ],
      "metadata": {
        "id": "_ZzWc7Ca6FF0"
      },
      "execution_count": null,
      "outputs": []
    },
    {
      "cell_type": "code",
      "execution_count": null,
      "metadata": {
        "id": "_StEHyrrGnHC"
      },
      "outputs": [],
      "source": [
        "search(\"Congress UP elections\", 2000)"
      ]
    },
    {
      "cell_type": "code",
      "execution_count": null,
      "metadata": {
        "id": "gBqaEcjG_L2v"
      },
      "outputs": [],
      "source": [
        "search(\"Priyanka Gandhi\", 1000)"
      ]
    },
    {
      "cell_type": "code",
      "execution_count": null,
      "metadata": {
        "id": "aIChlhTA_Jea"
      },
      "outputs": [],
      "source": [
        "search(\"UPA Uttar Pradesh\", 1000)"
      ]
    },
    {
      "cell_type": "code",
      "execution_count": null,
      "metadata": {
        "id": "ERCGlUOS_HjH"
      },
      "outputs": [],
      "source": [
        "search(\"Congress Uttar Pradesh\", 1000)"
      ]
    },
    {
      "cell_type": "code",
      "execution_count": null,
      "metadata": {
        "id": "ZyxIDSa5HXxZ"
      },
      "outputs": [],
      "source": [
        "search(\"Rahul Gandhi Uttar Pradesh\", 1000)"
      ]
    },
    {
      "cell_type": "code",
      "execution_count": null,
      "metadata": {
        "id": "yysnT1HMHhjx"
      },
      "outputs": [],
      "source": [
        "search(\"UP polls Congress\", 1000)"
      ]
    },
    {
      "cell_type": "code",
      "execution_count": null,
      "metadata": {
        "colab": {
          "base_uri": "https://localhost:8080/"
        },
        "id": "khEINH3IAStk",
        "outputId": "35baa685-1eeb-47d9-e566-3ab9ba111489"
      },
      "outputs": [
        {
          "output_type": "execute_result",
          "data": {
            "text/plain": [
              "3057"
            ]
          },
          "metadata": {},
          "execution_count": 43
        }
      ],
      "source": [
        "len(tweets)"
      ]
    },
    {
      "cell_type": "code",
      "execution_count": null,
      "metadata": {
        "id": "qwmt789tIfik"
      },
      "outputs": [],
      "source": [
        "search(\"INC UP elections\", 1000)"
      ]
    },
    {
      "cell_type": "code",
      "execution_count": null,
      "metadata": {
        "id": "ZuE874qxIl_l"
      },
      "outputs": [],
      "source": [
        "search(\"INC Uttar Pradesh\", 1000)"
      ]
    },
    {
      "cell_type": "code",
      "source": [
        "df_train = pd.DataFrame(tweets, columns=['Datetime', 'Text',  'User'])\n",
        "df_train"
      ],
      "metadata": {
        "colab": {
          "base_uri": "https://localhost:8080/",
          "height": 424
        },
        "id": "6Zffts5-6ivU",
        "outputId": "512b8919-74d0-4605-c512-0d6fd76c47ff"
      },
      "execution_count": null,
      "outputs": [
        {
          "output_type": "execute_result",
          "data": {
            "text/html": [
              "\n",
              "  <div id=\"df-3b54d613-77ef-42e6-b905-6f79ca03eb8c\">\n",
              "    <div class=\"colab-df-container\">\n",
              "      <div>\n",
              "<style scoped>\n",
              "    .dataframe tbody tr th:only-of-type {\n",
              "        vertical-align: middle;\n",
              "    }\n",
              "\n",
              "    .dataframe tbody tr th {\n",
              "        vertical-align: top;\n",
              "    }\n",
              "\n",
              "    .dataframe thead th {\n",
              "        text-align: right;\n",
              "    }\n",
              "</style>\n",
              "<table border=\"1\" class=\"dataframe\">\n",
              "  <thead>\n",
              "    <tr style=\"text-align: right;\">\n",
              "      <th></th>\n",
              "      <th>Datetime</th>\n",
              "      <th>Text</th>\n",
              "      <th>User</th>\n",
              "    </tr>\n",
              "  </thead>\n",
              "  <tbody>\n",
              "    <tr>\n",
              "      <th>0</th>\n",
              "      <td>2022-01-14 23:01:29+00:00</td>\n",
              "      <td>@KyleRempfer @2RawTooReal Meanwhile, in the la...</td>\n",
              "      <td>forthecomments1</td>\n",
              "    </tr>\n",
              "    <tr>\n",
              "      <th>1</th>\n",
              "      <td>2022-01-14 22:36:12+00:00</td>\n",
              "      <td>Kick him out of CONGRESS and lock him up! He i...</td>\n",
              "      <td>clairtongrl</td>\n",
              "    </tr>\n",
              "    <tr>\n",
              "      <th>2</th>\n",
              "      <td>2022-01-14 22:16:39+00:00</td>\n",
              "      <td>Republicans in congress are still putting trum...</td>\n",
              "      <td>JamesTate121</td>\n",
              "    </tr>\n",
              "    <tr>\n",
              "      <th>3</th>\n",
              "      <td>2022-01-14 22:13:39+00:00</td>\n",
              "      <td>@BevDiane They will because they'll claim the ...</td>\n",
              "      <td>JamesBa054</td>\n",
              "    </tr>\n",
              "    <tr>\n",
              "      <th>4</th>\n",
              "      <td>2022-01-14 22:13:19+00:00</td>\n",
              "      <td>@GabrielSterling any impact on the final vote....</td>\n",
              "      <td>rchatterjee38</td>\n",
              "    </tr>\n",
              "    <tr>\n",
              "      <th>...</th>\n",
              "      <td>...</td>\n",
              "      <td>...</td>\n",
              "      <td>...</td>\n",
              "    </tr>\n",
              "    <tr>\n",
              "      <th>3127</th>\n",
              "      <td>2022-01-11 11:37:25+00:00</td>\n",
              "      <td>Even if Akhilesh forms the govt in UP, the INC...</td>\n",
              "      <td>SpeakingTigers</td>\n",
              "    </tr>\n",
              "    <tr>\n",
              "      <th>3128</th>\n",
              "      <td>2022-01-11 10:06:03+00:00</td>\n",
              "      <td>Save this tweet: \\n\\nThe BJP is completely fin...</td>\n",
              "      <td>LegalTL</td>\n",
              "    </tr>\n",
              "    <tr>\n",
              "      <th>3129</th>\n",
              "      <td>2022-01-11 09:26:52+00:00</td>\n",
              "      <td>INC will attain SPLENDID VICTORY in recent Ele...</td>\n",
              "      <td>Krantikarinagr1</td>\n",
              "    </tr>\n",
              "    <tr>\n",
              "      <th>3130</th>\n",
              "      <td>2022-01-11 07:29:55+00:00</td>\n",
              "      <td>Uttar Pradesh | INC has received 10+ applicati...</td>\n",
              "      <td>sanjoyr03</td>\n",
              "    </tr>\n",
              "    <tr>\n",
              "      <th>3131</th>\n",
              "      <td>2022-01-11 01:18:51+00:00</td>\n",
              "      <td>@SavitaVrma This is my prediction on upcoming ...</td>\n",
              "      <td>iSidd1989</td>\n",
              "    </tr>\n",
              "  </tbody>\n",
              "</table>\n",
              "<p>3132 rows × 3 columns</p>\n",
              "</div>\n",
              "      <button class=\"colab-df-convert\" onclick=\"convertToInteractive('df-3b54d613-77ef-42e6-b905-6f79ca03eb8c')\"\n",
              "              title=\"Convert this dataframe to an interactive table.\"\n",
              "              style=\"display:none;\">\n",
              "        \n",
              "  <svg xmlns=\"http://www.w3.org/2000/svg\" height=\"24px\"viewBox=\"0 0 24 24\"\n",
              "       width=\"24px\">\n",
              "    <path d=\"M0 0h24v24H0V0z\" fill=\"none\"/>\n",
              "    <path d=\"M18.56 5.44l.94 2.06.94-2.06 2.06-.94-2.06-.94-.94-2.06-.94 2.06-2.06.94zm-11 1L8.5 8.5l.94-2.06 2.06-.94-2.06-.94L8.5 2.5l-.94 2.06-2.06.94zm10 10l.94 2.06.94-2.06 2.06-.94-2.06-.94-.94-2.06-.94 2.06-2.06.94z\"/><path d=\"M17.41 7.96l-1.37-1.37c-.4-.4-.92-.59-1.43-.59-.52 0-1.04.2-1.43.59L10.3 9.45l-7.72 7.72c-.78.78-.78 2.05 0 2.83L4 21.41c.39.39.9.59 1.41.59.51 0 1.02-.2 1.41-.59l7.78-7.78 2.81-2.81c.8-.78.8-2.07 0-2.86zM5.41 20L4 18.59l7.72-7.72 1.47 1.35L5.41 20z\"/>\n",
              "  </svg>\n",
              "      </button>\n",
              "      \n",
              "  <style>\n",
              "    .colab-df-container {\n",
              "      display:flex;\n",
              "      flex-wrap:wrap;\n",
              "      gap: 12px;\n",
              "    }\n",
              "\n",
              "    .colab-df-convert {\n",
              "      background-color: #E8F0FE;\n",
              "      border: none;\n",
              "      border-radius: 50%;\n",
              "      cursor: pointer;\n",
              "      display: none;\n",
              "      fill: #1967D2;\n",
              "      height: 32px;\n",
              "      padding: 0 0 0 0;\n",
              "      width: 32px;\n",
              "    }\n",
              "\n",
              "    .colab-df-convert:hover {\n",
              "      background-color: #E2EBFA;\n",
              "      box-shadow: 0px 1px 2px rgba(60, 64, 67, 0.3), 0px 1px 3px 1px rgba(60, 64, 67, 0.15);\n",
              "      fill: #174EA6;\n",
              "    }\n",
              "\n",
              "    [theme=dark] .colab-df-convert {\n",
              "      background-color: #3B4455;\n",
              "      fill: #D2E3FC;\n",
              "    }\n",
              "\n",
              "    [theme=dark] .colab-df-convert:hover {\n",
              "      background-color: #434B5C;\n",
              "      box-shadow: 0px 1px 3px 1px rgba(0, 0, 0, 0.15);\n",
              "      filter: drop-shadow(0px 1px 2px rgba(0, 0, 0, 0.3));\n",
              "      fill: #FFFFFF;\n",
              "    }\n",
              "  </style>\n",
              "\n",
              "      <script>\n",
              "        const buttonEl =\n",
              "          document.querySelector('#df-3b54d613-77ef-42e6-b905-6f79ca03eb8c button.colab-df-convert');\n",
              "        buttonEl.style.display =\n",
              "          google.colab.kernel.accessAllowed ? 'block' : 'none';\n",
              "\n",
              "        async function convertToInteractive(key) {\n",
              "          const element = document.querySelector('#df-3b54d613-77ef-42e6-b905-6f79ca03eb8c');\n",
              "          const dataTable =\n",
              "            await google.colab.kernel.invokeFunction('convertToInteractive',\n",
              "                                                     [key], {});\n",
              "          if (!dataTable) return;\n",
              "\n",
              "          const docLinkHtml = 'Like what you see? Visit the ' +\n",
              "            '<a target=\"_blank\" href=https://colab.research.google.com/notebooks/data_table.ipynb>data table notebook</a>'\n",
              "            + ' to learn more about interactive tables.';\n",
              "          element.innerHTML = '';\n",
              "          dataTable['output_type'] = 'display_data';\n",
              "          await google.colab.output.renderOutput(dataTable, element);\n",
              "          const docLink = document.createElement('div');\n",
              "          docLink.innerHTML = docLinkHtml;\n",
              "          element.appendChild(docLink);\n",
              "        }\n",
              "      </script>\n",
              "    </div>\n",
              "  </div>\n",
              "  "
            ],
            "text/plain": [
              "                      Datetime  \\\n",
              "0    2022-01-14 23:01:29+00:00   \n",
              "1    2022-01-14 22:36:12+00:00   \n",
              "2    2022-01-14 22:16:39+00:00   \n",
              "3    2022-01-14 22:13:39+00:00   \n",
              "4    2022-01-14 22:13:19+00:00   \n",
              "...                        ...   \n",
              "3127 2022-01-11 11:37:25+00:00   \n",
              "3128 2022-01-11 10:06:03+00:00   \n",
              "3129 2022-01-11 09:26:52+00:00   \n",
              "3130 2022-01-11 07:29:55+00:00   \n",
              "3131 2022-01-11 01:18:51+00:00   \n",
              "\n",
              "                                                   Text             User  \n",
              "0     @KyleRempfer @2RawTooReal Meanwhile, in the la...  forthecomments1  \n",
              "1     Kick him out of CONGRESS and lock him up! He i...      clairtongrl  \n",
              "2     Republicans in congress are still putting trum...     JamesTate121  \n",
              "3     @BevDiane They will because they'll claim the ...       JamesBa054  \n",
              "4     @GabrielSterling any impact on the final vote....    rchatterjee38  \n",
              "...                                                 ...              ...  \n",
              "3127  Even if Akhilesh forms the govt in UP, the INC...   SpeakingTigers  \n",
              "3128  Save this tweet: \\n\\nThe BJP is completely fin...          LegalTL  \n",
              "3129  INC will attain SPLENDID VICTORY in recent Ele...  Krantikarinagr1  \n",
              "3130  Uttar Pradesh | INC has received 10+ applicati...        sanjoyr03  \n",
              "3131  @SavitaVrma This is my prediction on upcoming ...        iSidd1989  \n",
              "\n",
              "[3132 rows x 3 columns]"
            ]
          },
          "metadata": {},
          "execution_count": 46
        }
      ]
    },
    {
      "cell_type": "code",
      "source": [
        "df_train.to_csv(\"UP-Congress.csv\", index=False)"
      ],
      "metadata": {
        "id": "2KqS02446iy0"
      },
      "execution_count": null,
      "outputs": []
    },
    {
      "cell_type": "code",
      "source": [
        "tweets = []"
      ],
      "metadata": {
        "id": "TR5gJyCQ6i7l"
      },
      "execution_count": null,
      "outputs": []
    },
    {
      "cell_type": "code",
      "execution_count": null,
      "metadata": {
        "id": "y72gWPzqJl1D"
      },
      "outputs": [],
      "source": [
        "search(\"SP UP election\", 2000)"
      ]
    },
    {
      "cell_type": "code",
      "execution_count": null,
      "metadata": {
        "id": "wGZgG-frJy0O"
      },
      "outputs": [],
      "source": [
        "search(\"Samajwadi Party\", 1000)"
      ]
    },
    {
      "cell_type": "code",
      "execution_count": null,
      "metadata": {
        "id": "Kw98xxk3KFi_"
      },
      "outputs": [],
      "source": [
        "search(\"Samajwadi Uttar Pradesh\", 1000)"
      ]
    },
    {
      "cell_type": "code",
      "execution_count": null,
      "metadata": {
        "colab": {
          "base_uri": "https://localhost:8080/"
        },
        "id": "qfeRN042KM41",
        "outputId": "c63287a0-f3df-4104-cf84-fdc65e9d0b54"
      },
      "outputs": [
        {
          "output_type": "execute_result",
          "data": {
            "text/plain": [
              "1763"
            ]
          },
          "metadata": {},
          "execution_count": 52
        }
      ],
      "source": [
        "len(tweets)"
      ]
    },
    {
      "cell_type": "code",
      "execution_count": null,
      "metadata": {
        "id": "ceQlqza1KO_-"
      },
      "outputs": [],
      "source": [
        "search(\"Akhilesh Yadav elections\", 1000)"
      ]
    },
    {
      "cell_type": "code",
      "execution_count": null,
      "metadata": {
        "id": "IgE7M8ATKW0_"
      },
      "outputs": [],
      "source": [
        "search(\"UP poll SP\", 1000)"
      ]
    },
    {
      "cell_type": "code",
      "execution_count": null,
      "metadata": {
        "id": "dBCZuATNKvsk"
      },
      "outputs": [],
      "source": [
        "search(\"UP poll Samajwadi\", 1000)"
      ]
    },
    {
      "cell_type": "code",
      "execution_count": null,
      "metadata": {
        "id": "lzLddXnyK3_4"
      },
      "outputs": [],
      "source": [
        "search(\"RLD Uttar Pradesh\", 1000)"
      ]
    },
    {
      "cell_type": "code",
      "execution_count": null,
      "metadata": {
        "id": "rkt6oat_LkZY"
      },
      "outputs": [],
      "source": [
        "search(\"Jayant Chaudhary election\", 1000)"
      ]
    },
    {
      "cell_type": "code",
      "source": [
        "df_train = pd.DataFrame(tweets, columns=['Datetime', 'Text',  'User'])\n",
        "df_train"
      ],
      "metadata": {
        "colab": {
          "base_uri": "https://localhost:8080/",
          "height": 424
        },
        "id": "X3OM4oYn7a4r",
        "outputId": "f6989329-dbd6-4c1a-8c65-3da44177da67"
      },
      "execution_count": null,
      "outputs": [
        {
          "output_type": "execute_result",
          "data": {
            "text/html": [
              "\n",
              "  <div id=\"df-2565bebc-a397-4362-bc21-a6c16cce6e64\">\n",
              "    <div class=\"colab-df-container\">\n",
              "      <div>\n",
              "<style scoped>\n",
              "    .dataframe tbody tr th:only-of-type {\n",
              "        vertical-align: middle;\n",
              "    }\n",
              "\n",
              "    .dataframe tbody tr th {\n",
              "        vertical-align: top;\n",
              "    }\n",
              "\n",
              "    .dataframe thead th {\n",
              "        text-align: right;\n",
              "    }\n",
              "</style>\n",
              "<table border=\"1\" class=\"dataframe\">\n",
              "  <thead>\n",
              "    <tr style=\"text-align: right;\">\n",
              "      <th></th>\n",
              "      <th>Datetime</th>\n",
              "      <th>Text</th>\n",
              "      <th>User</th>\n",
              "    </tr>\n",
              "  </thead>\n",
              "  <tbody>\n",
              "    <tr>\n",
              "      <th>0</th>\n",
              "      <td>2022-01-14 22:05:47+00:00</td>\n",
              "      <td>@MeghBulletin BJP will get 325+ seats. You hav...</td>\n",
              "      <td>Manoj10112016</td>\n",
              "    </tr>\n",
              "    <tr>\n",
              "      <th>1</th>\n",
              "      <td>2022-01-14 20:57:44+00:00</td>\n",
              "      <td>@RenukaJain6 From UP to Kerala, looks like wom...</td>\n",
              "      <td>DesiHindustani2</td>\n",
              "    </tr>\n",
              "    <tr>\n",
              "      <th>2</th>\n",
              "      <td>2022-01-14 20:54:50+00:00</td>\n",
              "      <td>@WhybotherMeh @Saiarav @ShekharGupta 24% swing...</td>\n",
              "      <td>subhash_b11</td>\n",
              "    </tr>\n",
              "    <tr>\n",
              "      <th>3</th>\n",
              "      <td>2022-01-14 20:10:11+00:00</td>\n",
              "      <td>Exodus can’t decide BJP’s position in upcoming...</td>\n",
              "      <td>abhinav5033</td>\n",
              "    </tr>\n",
              "    <tr>\n",
              "      <th>4</th>\n",
              "      <td>2022-01-14 19:22:00+00:00</td>\n",
              "      <td>If BJP wins in UP then sanghamitra maurya will...</td>\n",
              "      <td>analysis_wing</td>\n",
              "    </tr>\n",
              "    <tr>\n",
              "      <th>...</th>\n",
              "      <td>...</td>\n",
              "      <td>...</td>\n",
              "      <td>...</td>\n",
              "    </tr>\n",
              "    <tr>\n",
              "      <th>2148</th>\n",
              "      <td>2022-01-11 08:52:24+00:00</td>\n",
              "      <td>UP Assembly Election 2022 Brajesh Pathak State...</td>\n",
              "      <td>pakisfirst</td>\n",
              "    </tr>\n",
              "    <tr>\n",
              "      <th>2149</th>\n",
              "      <td>2022-01-11 08:15:25+00:00</td>\n",
              "      <td>UP Assembly Election 2022 Brajesh Pathak State...</td>\n",
              "      <td>infosabkuchh</td>\n",
              "    </tr>\n",
              "    <tr>\n",
              "      <th>2150</th>\n",
              "      <td>2022-01-11 08:06:26+00:00</td>\n",
              "      <td>UP Assembly Election 2022 Brajesh Pathak State...</td>\n",
              "      <td>pakisfirst</td>\n",
              "    </tr>\n",
              "    <tr>\n",
              "      <th>2151</th>\n",
              "      <td>2022-01-11 07:25:24+00:00</td>\n",
              "      <td>@Ashokjaat06 @jayantrld So lathis on jayant Ch...</td>\n",
              "      <td>pankajsaroha1</td>\n",
              "    </tr>\n",
              "    <tr>\n",
              "      <th>2152</th>\n",
              "      <td>2022-01-11 04:14:39+00:00</td>\n",
              "      <td>As UP goes into poll mode. \\nFocus will shift ...</td>\n",
              "      <td>JATs_Land</td>\n",
              "    </tr>\n",
              "  </tbody>\n",
              "</table>\n",
              "<p>2153 rows × 3 columns</p>\n",
              "</div>\n",
              "      <button class=\"colab-df-convert\" onclick=\"convertToInteractive('df-2565bebc-a397-4362-bc21-a6c16cce6e64')\"\n",
              "              title=\"Convert this dataframe to an interactive table.\"\n",
              "              style=\"display:none;\">\n",
              "        \n",
              "  <svg xmlns=\"http://www.w3.org/2000/svg\" height=\"24px\"viewBox=\"0 0 24 24\"\n",
              "       width=\"24px\">\n",
              "    <path d=\"M0 0h24v24H0V0z\" fill=\"none\"/>\n",
              "    <path d=\"M18.56 5.44l.94 2.06.94-2.06 2.06-.94-2.06-.94-.94-2.06-.94 2.06-2.06.94zm-11 1L8.5 8.5l.94-2.06 2.06-.94-2.06-.94L8.5 2.5l-.94 2.06-2.06.94zm10 10l.94 2.06.94-2.06 2.06-.94-2.06-.94-.94-2.06-.94 2.06-2.06.94z\"/><path d=\"M17.41 7.96l-1.37-1.37c-.4-.4-.92-.59-1.43-.59-.52 0-1.04.2-1.43.59L10.3 9.45l-7.72 7.72c-.78.78-.78 2.05 0 2.83L4 21.41c.39.39.9.59 1.41.59.51 0 1.02-.2 1.41-.59l7.78-7.78 2.81-2.81c.8-.78.8-2.07 0-2.86zM5.41 20L4 18.59l7.72-7.72 1.47 1.35L5.41 20z\"/>\n",
              "  </svg>\n",
              "      </button>\n",
              "      \n",
              "  <style>\n",
              "    .colab-df-container {\n",
              "      display:flex;\n",
              "      flex-wrap:wrap;\n",
              "      gap: 12px;\n",
              "    }\n",
              "\n",
              "    .colab-df-convert {\n",
              "      background-color: #E8F0FE;\n",
              "      border: none;\n",
              "      border-radius: 50%;\n",
              "      cursor: pointer;\n",
              "      display: none;\n",
              "      fill: #1967D2;\n",
              "      height: 32px;\n",
              "      padding: 0 0 0 0;\n",
              "      width: 32px;\n",
              "    }\n",
              "\n",
              "    .colab-df-convert:hover {\n",
              "      background-color: #E2EBFA;\n",
              "      box-shadow: 0px 1px 2px rgba(60, 64, 67, 0.3), 0px 1px 3px 1px rgba(60, 64, 67, 0.15);\n",
              "      fill: #174EA6;\n",
              "    }\n",
              "\n",
              "    [theme=dark] .colab-df-convert {\n",
              "      background-color: #3B4455;\n",
              "      fill: #D2E3FC;\n",
              "    }\n",
              "\n",
              "    [theme=dark] .colab-df-convert:hover {\n",
              "      background-color: #434B5C;\n",
              "      box-shadow: 0px 1px 3px 1px rgba(0, 0, 0, 0.15);\n",
              "      filter: drop-shadow(0px 1px 2px rgba(0, 0, 0, 0.3));\n",
              "      fill: #FFFFFF;\n",
              "    }\n",
              "  </style>\n",
              "\n",
              "      <script>\n",
              "        const buttonEl =\n",
              "          document.querySelector('#df-2565bebc-a397-4362-bc21-a6c16cce6e64 button.colab-df-convert');\n",
              "        buttonEl.style.display =\n",
              "          google.colab.kernel.accessAllowed ? 'block' : 'none';\n",
              "\n",
              "        async function convertToInteractive(key) {\n",
              "          const element = document.querySelector('#df-2565bebc-a397-4362-bc21-a6c16cce6e64');\n",
              "          const dataTable =\n",
              "            await google.colab.kernel.invokeFunction('convertToInteractive',\n",
              "                                                     [key], {});\n",
              "          if (!dataTable) return;\n",
              "\n",
              "          const docLinkHtml = 'Like what you see? Visit the ' +\n",
              "            '<a target=\"_blank\" href=https://colab.research.google.com/notebooks/data_table.ipynb>data table notebook</a>'\n",
              "            + ' to learn more about interactive tables.';\n",
              "          element.innerHTML = '';\n",
              "          dataTable['output_type'] = 'display_data';\n",
              "          await google.colab.output.renderOutput(dataTable, element);\n",
              "          const docLink = document.createElement('div');\n",
              "          docLink.innerHTML = docLinkHtml;\n",
              "          element.appendChild(docLink);\n",
              "        }\n",
              "      </script>\n",
              "    </div>\n",
              "  </div>\n",
              "  "
            ],
            "text/plain": [
              "                      Datetime  \\\n",
              "0    2022-01-14 22:05:47+00:00   \n",
              "1    2022-01-14 20:57:44+00:00   \n",
              "2    2022-01-14 20:54:50+00:00   \n",
              "3    2022-01-14 20:10:11+00:00   \n",
              "4    2022-01-14 19:22:00+00:00   \n",
              "...                        ...   \n",
              "2148 2022-01-11 08:52:24+00:00   \n",
              "2149 2022-01-11 08:15:25+00:00   \n",
              "2150 2022-01-11 08:06:26+00:00   \n",
              "2151 2022-01-11 07:25:24+00:00   \n",
              "2152 2022-01-11 04:14:39+00:00   \n",
              "\n",
              "                                                   Text             User  \n",
              "0     @MeghBulletin BJP will get 325+ seats. You hav...    Manoj10112016  \n",
              "1     @RenukaJain6 From UP to Kerala, looks like wom...  DesiHindustani2  \n",
              "2     @WhybotherMeh @Saiarav @ShekharGupta 24% swing...      subhash_b11  \n",
              "3     Exodus can’t decide BJP’s position in upcoming...      abhinav5033  \n",
              "4     If BJP wins in UP then sanghamitra maurya will...    analysis_wing  \n",
              "...                                                 ...              ...  \n",
              "2148  UP Assembly Election 2022 Brajesh Pathak State...       pakisfirst  \n",
              "2149  UP Assembly Election 2022 Brajesh Pathak State...     infosabkuchh  \n",
              "2150  UP Assembly Election 2022 Brajesh Pathak State...       pakisfirst  \n",
              "2151  @Ashokjaat06 @jayantrld So lathis on jayant Ch...    pankajsaroha1  \n",
              "2152  As UP goes into poll mode. \\nFocus will shift ...        JATs_Land  \n",
              "\n",
              "[2153 rows x 3 columns]"
            ]
          },
          "metadata": {},
          "execution_count": 58
        }
      ]
    },
    {
      "cell_type": "code",
      "source": [
        "df_train.to_csv(\"UP-SP.csv\", index=False)"
      ],
      "metadata": {
        "id": "JqchBvDw7a4v"
      },
      "execution_count": null,
      "outputs": []
    },
    {
      "cell_type": "code",
      "source": [
        "tweets = []"
      ],
      "metadata": {
        "id": "asTLTfwy6jA1"
      },
      "execution_count": null,
      "outputs": []
    },
    {
      "cell_type": "code",
      "execution_count": null,
      "metadata": {
        "id": "M9VSBwPUNlm-"
      },
      "outputs": [],
      "source": [
        "search(\"INC Punjab elections\", 2000)"
      ]
    },
    {
      "cell_type": "code",
      "execution_count": null,
      "metadata": {
        "id": "6BbGN2mHOe6p"
      },
      "outputs": [],
      "source": [
        "search(\"Punjab Congress elections\", 2000)"
      ]
    },
    {
      "cell_type": "code",
      "execution_count": null,
      "metadata": {
        "id": "W8qRz2q-Opm2"
      },
      "outputs": [],
      "source": [
        "search(\"Channi Punjab\", 2000)"
      ]
    },
    {
      "cell_type": "code",
      "execution_count": null,
      "metadata": {
        "colab": {
          "base_uri": "https://localhost:8080/"
        },
        "id": "_Ia60HojPFMk",
        "outputId": "78a4c63c-72e6-4fd3-dc05-75278d9e20ac"
      },
      "outputs": [
        {
          "output_type": "execute_result",
          "data": {
            "text/plain": [
              "1213"
            ]
          },
          "metadata": {},
          "execution_count": 64
        }
      ],
      "source": [
        "len(tweets)"
      ]
    },
    {
      "cell_type": "code",
      "execution_count": null,
      "metadata": {
        "id": "L6ZVU5ttPJFN"
      },
      "outputs": [],
      "source": [
        "search(\"Charanjit Singh Channi\", 1000)"
      ]
    },
    {
      "cell_type": "code",
      "execution_count": null,
      "metadata": {
        "id": "wllnxpThQBh4"
      },
      "outputs": [],
      "source": [
        "search(\"UPA Punjab\", 2000)"
      ]
    },
    {
      "cell_type": "code",
      "execution_count": null,
      "metadata": {
        "id": "6_s6iuZ6QF5e"
      },
      "outputs": [],
      "source": [
        "search(\"Sidhu election\", 2000)"
      ]
    },
    {
      "cell_type": "code",
      "source": [
        "df_train = pd.DataFrame(tweets, columns=['Datetime', 'Text',  'User'])\n",
        "df_train"
      ],
      "metadata": {
        "colab": {
          "base_uri": "https://localhost:8080/",
          "height": 424
        },
        "id": "z4gAT8zF75x7",
        "outputId": "5cef9523-ed4c-47c5-a0b4-21f32dc87580"
      },
      "execution_count": null,
      "outputs": [
        {
          "output_type": "execute_result",
          "data": {
            "text/html": [
              "\n",
              "  <div id=\"df-120493e5-a8cd-45c8-af49-d156efa32b9d\">\n",
              "    <div class=\"colab-df-container\">\n",
              "      <div>\n",
              "<style scoped>\n",
              "    .dataframe tbody tr th:only-of-type {\n",
              "        vertical-align: middle;\n",
              "    }\n",
              "\n",
              "    .dataframe tbody tr th {\n",
              "        vertical-align: top;\n",
              "    }\n",
              "\n",
              "    .dataframe thead th {\n",
              "        text-align: right;\n",
              "    }\n",
              "</style>\n",
              "<table border=\"1\" class=\"dataframe\">\n",
              "  <thead>\n",
              "    <tr style=\"text-align: right;\">\n",
              "      <th></th>\n",
              "      <th>Datetime</th>\n",
              "      <th>Text</th>\n",
              "      <th>User</th>\n",
              "    </tr>\n",
              "  </thead>\n",
              "  <tbody>\n",
              "    <tr>\n",
              "      <th>0</th>\n",
              "      <td>2022-01-14 18:17:51+00:00</td>\n",
              "      <td>@SpeakingTigers @MahuaMoitra Had Punjab electi...</td>\n",
              "      <td>KabirSadh</td>\n",
              "    </tr>\n",
              "    <tr>\n",
              "      <th>1</th>\n",
              "      <td>2022-01-14 12:36:49+00:00</td>\n",
              "      <td>@INCIndia A proverb “big people have no EYES” ...</td>\n",
              "      <td>vpkad1941</td>\n",
              "    </tr>\n",
              "    <tr>\n",
              "      <th>2</th>\n",
              "      <td>2022-01-14 11:40:32+00:00</td>\n",
              "      <td>@ANANDGAGGAR Note it :INC will win Punjab elec...</td>\n",
              "      <td>SarvinGupta7</td>\n",
              "    </tr>\n",
              "    <tr>\n",
              "      <th>3</th>\n",
              "      <td>2022-01-14 02:29:46+00:00</td>\n",
              "      <td>In last elections supported INC for Punjab.\\nE...</td>\n",
              "      <td>Jaihind101Jai</td>\n",
              "    </tr>\n",
              "    <tr>\n",
              "      <th>4</th>\n",
              "      <td>2022-01-13 14:48:57+00:00</td>\n",
              "      <td>It'll be interesting to watch who will become ...</td>\n",
              "      <td>priyanshu5011</td>\n",
              "    </tr>\n",
              "    <tr>\n",
              "      <th>...</th>\n",
              "      <td>...</td>\n",
              "      <td>...</td>\n",
              "      <td>...</td>\n",
              "    </tr>\n",
              "    <tr>\n",
              "      <th>1468</th>\n",
              "      <td>2022-01-11 06:02:29+00:00</td>\n",
              "      <td>The way @CHARANJITCHANNI is picking up. I am s...</td>\n",
              "      <td>abhinawp</td>\n",
              "    </tr>\n",
              "    <tr>\n",
              "      <th>1469</th>\n",
              "      <td>2022-01-11 05:49:25+00:00</td>\n",
              "      <td>Punjab: State Congress chief Navjot Singh Sidh...</td>\n",
              "      <td>TeamCongressINC</td>\n",
              "    </tr>\n",
              "    <tr>\n",
              "      <th>1470</th>\n",
              "      <td>2022-01-11 04:41:34+00:00</td>\n",
              "      <td>@rohini_sgh Congress shud make him face value ...</td>\n",
              "      <td>sourcezy</td>\n",
              "    </tr>\n",
              "    <tr>\n",
              "      <th>1471</th>\n",
              "      <td>2022-01-11 02:21:37+00:00</td>\n",
              "      <td>@tewari_arti @narendramodi Ma’am ,aise hoga ma...</td>\n",
              "      <td>yatendrarathore</td>\n",
              "    </tr>\n",
              "    <tr>\n",
              "      <th>1472</th>\n",
              "      <td>2022-01-11 01:08:09+00:00</td>\n",
              "      <td>https://t.co/lfupRQXPCQ\\nJournalist: Sir, what...</td>\n",
              "      <td>manojkalshetti1</td>\n",
              "    </tr>\n",
              "  </tbody>\n",
              "</table>\n",
              "<p>1473 rows × 3 columns</p>\n",
              "</div>\n",
              "      <button class=\"colab-df-convert\" onclick=\"convertToInteractive('df-120493e5-a8cd-45c8-af49-d156efa32b9d')\"\n",
              "              title=\"Convert this dataframe to an interactive table.\"\n",
              "              style=\"display:none;\">\n",
              "        \n",
              "  <svg xmlns=\"http://www.w3.org/2000/svg\" height=\"24px\"viewBox=\"0 0 24 24\"\n",
              "       width=\"24px\">\n",
              "    <path d=\"M0 0h24v24H0V0z\" fill=\"none\"/>\n",
              "    <path d=\"M18.56 5.44l.94 2.06.94-2.06 2.06-.94-2.06-.94-.94-2.06-.94 2.06-2.06.94zm-11 1L8.5 8.5l.94-2.06 2.06-.94-2.06-.94L8.5 2.5l-.94 2.06-2.06.94zm10 10l.94 2.06.94-2.06 2.06-.94-2.06-.94-.94-2.06-.94 2.06-2.06.94z\"/><path d=\"M17.41 7.96l-1.37-1.37c-.4-.4-.92-.59-1.43-.59-.52 0-1.04.2-1.43.59L10.3 9.45l-7.72 7.72c-.78.78-.78 2.05 0 2.83L4 21.41c.39.39.9.59 1.41.59.51 0 1.02-.2 1.41-.59l7.78-7.78 2.81-2.81c.8-.78.8-2.07 0-2.86zM5.41 20L4 18.59l7.72-7.72 1.47 1.35L5.41 20z\"/>\n",
              "  </svg>\n",
              "      </button>\n",
              "      \n",
              "  <style>\n",
              "    .colab-df-container {\n",
              "      display:flex;\n",
              "      flex-wrap:wrap;\n",
              "      gap: 12px;\n",
              "    }\n",
              "\n",
              "    .colab-df-convert {\n",
              "      background-color: #E8F0FE;\n",
              "      border: none;\n",
              "      border-radius: 50%;\n",
              "      cursor: pointer;\n",
              "      display: none;\n",
              "      fill: #1967D2;\n",
              "      height: 32px;\n",
              "      padding: 0 0 0 0;\n",
              "      width: 32px;\n",
              "    }\n",
              "\n",
              "    .colab-df-convert:hover {\n",
              "      background-color: #E2EBFA;\n",
              "      box-shadow: 0px 1px 2px rgba(60, 64, 67, 0.3), 0px 1px 3px 1px rgba(60, 64, 67, 0.15);\n",
              "      fill: #174EA6;\n",
              "    }\n",
              "\n",
              "    [theme=dark] .colab-df-convert {\n",
              "      background-color: #3B4455;\n",
              "      fill: #D2E3FC;\n",
              "    }\n",
              "\n",
              "    [theme=dark] .colab-df-convert:hover {\n",
              "      background-color: #434B5C;\n",
              "      box-shadow: 0px 1px 3px 1px rgba(0, 0, 0, 0.15);\n",
              "      filter: drop-shadow(0px 1px 2px rgba(0, 0, 0, 0.3));\n",
              "      fill: #FFFFFF;\n",
              "    }\n",
              "  </style>\n",
              "\n",
              "      <script>\n",
              "        const buttonEl =\n",
              "          document.querySelector('#df-120493e5-a8cd-45c8-af49-d156efa32b9d button.colab-df-convert');\n",
              "        buttonEl.style.display =\n",
              "          google.colab.kernel.accessAllowed ? 'block' : 'none';\n",
              "\n",
              "        async function convertToInteractive(key) {\n",
              "          const element = document.querySelector('#df-120493e5-a8cd-45c8-af49-d156efa32b9d');\n",
              "          const dataTable =\n",
              "            await google.colab.kernel.invokeFunction('convertToInteractive',\n",
              "                                                     [key], {});\n",
              "          if (!dataTable) return;\n",
              "\n",
              "          const docLinkHtml = 'Like what you see? Visit the ' +\n",
              "            '<a target=\"_blank\" href=https://colab.research.google.com/notebooks/data_table.ipynb>data table notebook</a>'\n",
              "            + ' to learn more about interactive tables.';\n",
              "          element.innerHTML = '';\n",
              "          dataTable['output_type'] = 'display_data';\n",
              "          await google.colab.output.renderOutput(dataTable, element);\n",
              "          const docLink = document.createElement('div');\n",
              "          docLink.innerHTML = docLinkHtml;\n",
              "          element.appendChild(docLink);\n",
              "        }\n",
              "      </script>\n",
              "    </div>\n",
              "  </div>\n",
              "  "
            ],
            "text/plain": [
              "                      Datetime  \\\n",
              "0    2022-01-14 18:17:51+00:00   \n",
              "1    2022-01-14 12:36:49+00:00   \n",
              "2    2022-01-14 11:40:32+00:00   \n",
              "3    2022-01-14 02:29:46+00:00   \n",
              "4    2022-01-13 14:48:57+00:00   \n",
              "...                        ...   \n",
              "1468 2022-01-11 06:02:29+00:00   \n",
              "1469 2022-01-11 05:49:25+00:00   \n",
              "1470 2022-01-11 04:41:34+00:00   \n",
              "1471 2022-01-11 02:21:37+00:00   \n",
              "1472 2022-01-11 01:08:09+00:00   \n",
              "\n",
              "                                                   Text             User  \n",
              "0     @SpeakingTigers @MahuaMoitra Had Punjab electi...        KabirSadh  \n",
              "1     @INCIndia A proverb “big people have no EYES” ...        vpkad1941  \n",
              "2     @ANANDGAGGAR Note it :INC will win Punjab elec...     SarvinGupta7  \n",
              "3     In last elections supported INC for Punjab.\\nE...    Jaihind101Jai  \n",
              "4     It'll be interesting to watch who will become ...    priyanshu5011  \n",
              "...                                                 ...              ...  \n",
              "1468  The way @CHARANJITCHANNI is picking up. I am s...         abhinawp  \n",
              "1469  Punjab: State Congress chief Navjot Singh Sidh...  TeamCongressINC  \n",
              "1470  @rohini_sgh Congress shud make him face value ...         sourcezy  \n",
              "1471  @tewari_arti @narendramodi Ma’am ,aise hoga ma...  yatendrarathore  \n",
              "1472  https://t.co/lfupRQXPCQ\\nJournalist: Sir, what...  manojkalshetti1  \n",
              "\n",
              "[1473 rows x 3 columns]"
            ]
          },
          "metadata": {},
          "execution_count": 68
        }
      ]
    },
    {
      "cell_type": "code",
      "source": [
        "df_train.to_csv(\"Punjab-INC.csv\", index=False)"
      ],
      "metadata": {
        "id": "FH-uUTem75x9"
      },
      "execution_count": null,
      "outputs": []
    },
    {
      "cell_type": "code",
      "source": [
        "tweets = []"
      ],
      "metadata": {
        "id": "21zjPDTK8Ny5"
      },
      "execution_count": null,
      "outputs": []
    },
    {
      "cell_type": "code",
      "execution_count": null,
      "metadata": {
        "id": "GsUzBY-KRUbZ"
      },
      "outputs": [],
      "source": [
        "search(\"AAP Punjab elections\", 2000)"
      ]
    },
    {
      "cell_type": "code",
      "execution_count": null,
      "metadata": {
        "colab": {
          "base_uri": "https://localhost:8080/"
        },
        "id": "qDGjjd5tRs3a",
        "outputId": "5250815e-c502-49ea-cbb0-ddc527596e7e"
      },
      "outputs": [
        {
          "output_type": "execute_result",
          "data": {
            "text/plain": [
              "237"
            ]
          },
          "metadata": {},
          "execution_count": 72
        }
      ],
      "source": [
        "len(tweets)"
      ]
    },
    {
      "cell_type": "code",
      "execution_count": null,
      "metadata": {
        "id": "HzX_fFvoRu9Q"
      },
      "outputs": [],
      "source": [
        "search(\"AAP Punjab election\", 2000)"
      ]
    },
    {
      "cell_type": "code",
      "execution_count": null,
      "metadata": {
        "id": "CD3ThSIPR0yr"
      },
      "outputs": [],
      "source": [
        "search(\"Aam Aaadmi Punjab\", 2000)"
      ]
    },
    {
      "cell_type": "code",
      "execution_count": null,
      "metadata": {
        "id": "81t51up_R-oj"
      },
      "outputs": [],
      "source": [
        "search(\"Kejriwal Punjab\", 2000)"
      ]
    },
    {
      "cell_type": "code",
      "execution_count": null,
      "metadata": {
        "id": "op-I6LCLSD8M"
      },
      "outputs": [],
      "source": [
        "search(\"Bhagwant mann\", 1000)"
      ]
    },
    {
      "cell_type": "code",
      "source": [
        "df_train = pd.DataFrame(tweets, columns=['Datetime', 'Text',  'User'])\n",
        "df_train"
      ],
      "metadata": {
        "colab": {
          "base_uri": "https://localhost:8080/",
          "height": 424
        },
        "id": "-fg8Ulms8RHL",
        "outputId": "8a81420f-9c20-425c-a68c-31b3747b1bd0"
      },
      "execution_count": null,
      "outputs": [
        {
          "output_type": "execute_result",
          "data": {
            "text/html": [
              "\n",
              "  <div id=\"df-057b25c7-23e9-4c1b-a20c-1375a7fb1c96\">\n",
              "    <div class=\"colab-df-container\">\n",
              "      <div>\n",
              "<style scoped>\n",
              "    .dataframe tbody tr th:only-of-type {\n",
              "        vertical-align: middle;\n",
              "    }\n",
              "\n",
              "    .dataframe tbody tr th {\n",
              "        vertical-align: top;\n",
              "    }\n",
              "\n",
              "    .dataframe thead th {\n",
              "        text-align: right;\n",
              "    }\n",
              "</style>\n",
              "<table border=\"1\" class=\"dataframe\">\n",
              "  <thead>\n",
              "    <tr style=\"text-align: right;\">\n",
              "      <th></th>\n",
              "      <th>Datetime</th>\n",
              "      <th>Text</th>\n",
              "      <th>User</th>\n",
              "    </tr>\n",
              "  </thead>\n",
              "  <tbody>\n",
              "    <tr>\n",
              "      <th>0</th>\n",
              "      <td>2022-01-14 18:17:51+00:00</td>\n",
              "      <td>@SpeakingTigers @MahuaMoitra Had Punjab electi...</td>\n",
              "      <td>KabirSadh</td>\n",
              "    </tr>\n",
              "    <tr>\n",
              "      <th>1</th>\n",
              "      <td>2022-01-14 17:24:27+00:00</td>\n",
              "      <td>#AAP Punjab president Bhagwant Mann said that ...</td>\n",
              "      <td>HTPunjab</td>\n",
              "    </tr>\n",
              "    <tr>\n",
              "      <th>2</th>\n",
              "      <td>2022-01-14 16:21:45+00:00</td>\n",
              "      <td>5 States Elections Prediction (as on 14 Jan, F...</td>\n",
              "      <td>Venkyboggarapu</td>\n",
              "    </tr>\n",
              "    <tr>\n",
              "      <th>3</th>\n",
              "      <td>2022-01-14 16:14:09+00:00</td>\n",
              "      <td>2022 Assembly Elections - AAP\\n\\n(Update: 14 J...</td>\n",
              "      <td>AAPReport</td>\n",
              "    </tr>\n",
              "    <tr>\n",
              "      <th>4</th>\n",
              "      <td>2022-01-14 16:13:40+00:00</td>\n",
              "      <td>2022 Assembly Elections - AAP\\n\\n(Update: 14 J...</td>\n",
              "      <td>AAPReport</td>\n",
              "    </tr>\n",
              "    <tr>\n",
              "      <th>...</th>\n",
              "      <td>...</td>\n",
              "      <td>...</td>\n",
              "      <td>...</td>\n",
              "    </tr>\n",
              "    <tr>\n",
              "      <th>2355</th>\n",
              "      <td>2022-01-13 06:47:54+00:00</td>\n",
              "      <td>Being #Bhagwantmann as CM, #AAP will earn pan ...</td>\n",
              "      <td>kapilkumar681</td>\n",
              "    </tr>\n",
              "    <tr>\n",
              "      <th>2356</th>\n",
              "      <td>2022-01-13 06:47:39+00:00</td>\n",
              "      <td>If u want @BhagwantMann as AAP's Punjab CM fac...</td>\n",
              "      <td>matheswaranc</td>\n",
              "    </tr>\n",
              "    <tr>\n",
              "      <th>2357</th>\n",
              "      <td>2022-01-13 06:47:23+00:00</td>\n",
              "      <td>@ArvindKejriwal Bhagwant Mann should be the CM...</td>\n",
              "      <td>DeshbhktNishant</td>\n",
              "    </tr>\n",
              "    <tr>\n",
              "      <th>2358</th>\n",
              "      <td>2022-01-13 06:47:06+00:00</td>\n",
              "      <td>@RuchikaMKhanna @thetribunechd @AamAadmiParty ...</td>\n",
              "      <td>doctorbawaa</td>\n",
              "    </tr>\n",
              "    <tr>\n",
              "      <th>2359</th>\n",
              "      <td>2022-01-13 06:46:53+00:00</td>\n",
              "      <td>@common_man_01 @DaaruBaazMehta Ohhh 😂\\nBhai ab...</td>\n",
              "      <td>harshsh1243</td>\n",
              "    </tr>\n",
              "  </tbody>\n",
              "</table>\n",
              "<p>2360 rows × 3 columns</p>\n",
              "</div>\n",
              "      <button class=\"colab-df-convert\" onclick=\"convertToInteractive('df-057b25c7-23e9-4c1b-a20c-1375a7fb1c96')\"\n",
              "              title=\"Convert this dataframe to an interactive table.\"\n",
              "              style=\"display:none;\">\n",
              "        \n",
              "  <svg xmlns=\"http://www.w3.org/2000/svg\" height=\"24px\"viewBox=\"0 0 24 24\"\n",
              "       width=\"24px\">\n",
              "    <path d=\"M0 0h24v24H0V0z\" fill=\"none\"/>\n",
              "    <path d=\"M18.56 5.44l.94 2.06.94-2.06 2.06-.94-2.06-.94-.94-2.06-.94 2.06-2.06.94zm-11 1L8.5 8.5l.94-2.06 2.06-.94-2.06-.94L8.5 2.5l-.94 2.06-2.06.94zm10 10l.94 2.06.94-2.06 2.06-.94-2.06-.94-.94-2.06-.94 2.06-2.06.94z\"/><path d=\"M17.41 7.96l-1.37-1.37c-.4-.4-.92-.59-1.43-.59-.52 0-1.04.2-1.43.59L10.3 9.45l-7.72 7.72c-.78.78-.78 2.05 0 2.83L4 21.41c.39.39.9.59 1.41.59.51 0 1.02-.2 1.41-.59l7.78-7.78 2.81-2.81c.8-.78.8-2.07 0-2.86zM5.41 20L4 18.59l7.72-7.72 1.47 1.35L5.41 20z\"/>\n",
              "  </svg>\n",
              "      </button>\n",
              "      \n",
              "  <style>\n",
              "    .colab-df-container {\n",
              "      display:flex;\n",
              "      flex-wrap:wrap;\n",
              "      gap: 12px;\n",
              "    }\n",
              "\n",
              "    .colab-df-convert {\n",
              "      background-color: #E8F0FE;\n",
              "      border: none;\n",
              "      border-radius: 50%;\n",
              "      cursor: pointer;\n",
              "      display: none;\n",
              "      fill: #1967D2;\n",
              "      height: 32px;\n",
              "      padding: 0 0 0 0;\n",
              "      width: 32px;\n",
              "    }\n",
              "\n",
              "    .colab-df-convert:hover {\n",
              "      background-color: #E2EBFA;\n",
              "      box-shadow: 0px 1px 2px rgba(60, 64, 67, 0.3), 0px 1px 3px 1px rgba(60, 64, 67, 0.15);\n",
              "      fill: #174EA6;\n",
              "    }\n",
              "\n",
              "    [theme=dark] .colab-df-convert {\n",
              "      background-color: #3B4455;\n",
              "      fill: #D2E3FC;\n",
              "    }\n",
              "\n",
              "    [theme=dark] .colab-df-convert:hover {\n",
              "      background-color: #434B5C;\n",
              "      box-shadow: 0px 1px 3px 1px rgba(0, 0, 0, 0.15);\n",
              "      filter: drop-shadow(0px 1px 2px rgba(0, 0, 0, 0.3));\n",
              "      fill: #FFFFFF;\n",
              "    }\n",
              "  </style>\n",
              "\n",
              "      <script>\n",
              "        const buttonEl =\n",
              "          document.querySelector('#df-057b25c7-23e9-4c1b-a20c-1375a7fb1c96 button.colab-df-convert');\n",
              "        buttonEl.style.display =\n",
              "          google.colab.kernel.accessAllowed ? 'block' : 'none';\n",
              "\n",
              "        async function convertToInteractive(key) {\n",
              "          const element = document.querySelector('#df-057b25c7-23e9-4c1b-a20c-1375a7fb1c96');\n",
              "          const dataTable =\n",
              "            await google.colab.kernel.invokeFunction('convertToInteractive',\n",
              "                                                     [key], {});\n",
              "          if (!dataTable) return;\n",
              "\n",
              "          const docLinkHtml = 'Like what you see? Visit the ' +\n",
              "            '<a target=\"_blank\" href=https://colab.research.google.com/notebooks/data_table.ipynb>data table notebook</a>'\n",
              "            + ' to learn more about interactive tables.';\n",
              "          element.innerHTML = '';\n",
              "          dataTable['output_type'] = 'display_data';\n",
              "          await google.colab.output.renderOutput(dataTable, element);\n",
              "          const docLink = document.createElement('div');\n",
              "          docLink.innerHTML = docLinkHtml;\n",
              "          element.appendChild(docLink);\n",
              "        }\n",
              "      </script>\n",
              "    </div>\n",
              "  </div>\n",
              "  "
            ],
            "text/plain": [
              "                      Datetime  \\\n",
              "0    2022-01-14 18:17:51+00:00   \n",
              "1    2022-01-14 17:24:27+00:00   \n",
              "2    2022-01-14 16:21:45+00:00   \n",
              "3    2022-01-14 16:14:09+00:00   \n",
              "4    2022-01-14 16:13:40+00:00   \n",
              "...                        ...   \n",
              "2355 2022-01-13 06:47:54+00:00   \n",
              "2356 2022-01-13 06:47:39+00:00   \n",
              "2357 2022-01-13 06:47:23+00:00   \n",
              "2358 2022-01-13 06:47:06+00:00   \n",
              "2359 2022-01-13 06:46:53+00:00   \n",
              "\n",
              "                                                   Text             User  \n",
              "0     @SpeakingTigers @MahuaMoitra Had Punjab electi...        KabirSadh  \n",
              "1     #AAP Punjab president Bhagwant Mann said that ...         HTPunjab  \n",
              "2     5 States Elections Prediction (as on 14 Jan, F...   Venkyboggarapu  \n",
              "3     2022 Assembly Elections - AAP\\n\\n(Update: 14 J...        AAPReport  \n",
              "4     2022 Assembly Elections - AAP\\n\\n(Update: 14 J...        AAPReport  \n",
              "...                                                 ...              ...  \n",
              "2355  Being #Bhagwantmann as CM, #AAP will earn pan ...    kapilkumar681  \n",
              "2356  If u want @BhagwantMann as AAP's Punjab CM fac...     matheswaranc  \n",
              "2357  @ArvindKejriwal Bhagwant Mann should be the CM...  DeshbhktNishant  \n",
              "2358  @RuchikaMKhanna @thetribunechd @AamAadmiParty ...      doctorbawaa  \n",
              "2359  @common_man_01 @DaaruBaazMehta Ohhh 😂\\nBhai ab...      harshsh1243  \n",
              "\n",
              "[2360 rows x 3 columns]"
            ]
          },
          "metadata": {},
          "execution_count": 77
        }
      ]
    },
    {
      "cell_type": "code",
      "source": [
        "df_train.to_csv(\"Punjab-AAP.csv\", index=False)"
      ],
      "metadata": {
        "id": "hcLvDeUd8RHM"
      },
      "execution_count": null,
      "outputs": []
    },
    {
      "cell_type": "code",
      "source": [
        "tweets = []"
      ],
      "metadata": {
        "id": "xE-8d3l-8aPs"
      },
      "execution_count": null,
      "outputs": []
    },
    {
      "cell_type": "code",
      "execution_count": null,
      "metadata": {
        "id": "c3fWxTc2SsD_"
      },
      "outputs": [],
      "source": [
        "search(\"SAD Punjab election\", 2000)"
      ]
    },
    {
      "cell_type": "code",
      "execution_count": null,
      "metadata": {
        "id": "BZ4_N8mmTBoF"
      },
      "outputs": [],
      "source": [
        "search(\"Shiromani Akali Dal\", 2000)"
      ]
    },
    {
      "cell_type": "code",
      "execution_count": null,
      "metadata": {
        "id": "b3k0K-EsTLXy"
      },
      "outputs": [],
      "source": [
        "search(\"Sukhbir Singh Badal\", 1000)"
      ]
    },
    {
      "cell_type": "code",
      "execution_count": null,
      "metadata": {
        "id": "YQAIReZTTZ2b"
      },
      "outputs": [],
      "source": [
        "search(\"Badal election\", 1000)"
      ]
    },
    {
      "cell_type": "code",
      "execution_count": null,
      "metadata": {
        "id": "3BXZKFp_TfDG"
      },
      "outputs": [],
      "source": [
        "search(\"Badal Punjab\", 2000)"
      ]
    },
    {
      "cell_type": "code",
      "execution_count": null,
      "metadata": {
        "colab": {
          "base_uri": "https://localhost:8080/"
        },
        "id": "QoiLtkY2TlrI",
        "outputId": "b3850edf-5ce9-4404-a767-fdc946cb70a0"
      },
      "outputs": [
        {
          "output_type": "execute_result",
          "data": {
            "text/plain": [
              "176"
            ]
          },
          "metadata": {},
          "execution_count": 85
        }
      ],
      "source": [
        "len(tweets)"
      ]
    },
    {
      "cell_type": "code",
      "execution_count": null,
      "metadata": {
        "id": "gYhUmreiTn7A"
      },
      "outputs": [],
      "source": [
        "search(\"BSP Punjab\", 2000)"
      ]
    },
    {
      "cell_type": "code",
      "execution_count": null,
      "metadata": {
        "id": "aTWTrIaqTtYq"
      },
      "outputs": [],
      "source": [
        "search(\"Punjab polls SAD\", 2000)"
      ]
    },
    {
      "cell_type": "code",
      "execution_count": null,
      "metadata": {
        "id": "fyNG56WdUAq9"
      },
      "outputs": [],
      "source": [
        "search(\"Punjab polls BSP\", 2000)"
      ]
    },
    {
      "cell_type": "code",
      "source": [
        "df_train = pd.DataFrame(tweets, columns=['Datetime', 'Text',  'User'])\n",
        "df_train"
      ],
      "metadata": {
        "colab": {
          "base_uri": "https://localhost:8080/",
          "height": 424
        },
        "id": "rae64Rcg8esY",
        "outputId": "8f8b38eb-25c2-4c85-dc3a-57d3824e78bb"
      },
      "execution_count": null,
      "outputs": [
        {
          "output_type": "execute_result",
          "data": {
            "text/html": [
              "\n",
              "  <div id=\"df-79322894-c8dc-4aaf-8981-1c099e975214\">\n",
              "    <div class=\"colab-df-container\">\n",
              "      <div>\n",
              "<style scoped>\n",
              "    .dataframe tbody tr th:only-of-type {\n",
              "        vertical-align: middle;\n",
              "    }\n",
              "\n",
              "    .dataframe tbody tr th {\n",
              "        vertical-align: top;\n",
              "    }\n",
              "\n",
              "    .dataframe thead th {\n",
              "        text-align: right;\n",
              "    }\n",
              "</style>\n",
              "<table border=\"1\" class=\"dataframe\">\n",
              "  <thead>\n",
              "    <tr style=\"text-align: right;\">\n",
              "      <th></th>\n",
              "      <th>Datetime</th>\n",
              "      <th>Text</th>\n",
              "      <th>User</th>\n",
              "    </tr>\n",
              "  </thead>\n",
              "  <tbody>\n",
              "    <tr>\n",
              "      <th>0</th>\n",
              "      <td>2022-01-14 19:20:07+00:00</td>\n",
              "      <td>SAD urges ECI to reconsider ban on election ra...</td>\n",
              "      <td>nocodewatch</td>\n",
              "    </tr>\n",
              "    <tr>\n",
              "      <th>1</th>\n",
              "      <td>2022-01-14 14:16:29+00:00</td>\n",
              "      <td>SAD has urged ECI to reconsider its ban on ele...</td>\n",
              "      <td>Harpreet_TNIE</td>\n",
              "    </tr>\n",
              "    <tr>\n",
              "      <th>2</th>\n",
              "      <td>2022-01-14 04:53:03+00:00</td>\n",
              "      <td>Punjab polls: SAD (Sanyukt) allotted 'telephon...</td>\n",
              "      <td>MarketsCafe</td>\n",
              "    </tr>\n",
              "    <tr>\n",
              "      <th>3</th>\n",
              "      <td>2022-01-13 17:47:41+00:00</td>\n",
              "      <td>In ep 918 of #CutTheClutter, @ShekharGupta exp...</td>\n",
              "      <td>ThePrintIndia</td>\n",
              "    </tr>\n",
              "    <tr>\n",
              "      <th>4</th>\n",
              "      <td>2022-01-13 17:02:45+00:00</td>\n",
              "      <td>India News Survey : #Punjab Assembly Election ...</td>\n",
              "      <td>AAPReport</td>\n",
              "    </tr>\n",
              "    <tr>\n",
              "      <th>...</th>\n",
              "      <td>...</td>\n",
              "      <td>...</td>\n",
              "      <td>...</td>\n",
              "    </tr>\n",
              "    <tr>\n",
              "      <th>230</th>\n",
              "      <td>2022-01-13 03:27:58+00:00</td>\n",
              "      <td>This is really a bad thing that AAP selling pa...</td>\n",
              "      <td>Real_Shailesh27</td>\n",
              "    </tr>\n",
              "    <tr>\n",
              "      <th>231</th>\n",
              "      <td>2022-01-12 06:42:15+00:00</td>\n",
              "      <td>Punjab polls: ROs issue notices to SAD, Congre...</td>\n",
              "      <td>CPrajapati83</td>\n",
              "    </tr>\n",
              "    <tr>\n",
              "      <th>232</th>\n",
              "      <td>2022-01-11 06:08:13+00:00</td>\n",
              "      <td>AAP is again in reckoning for 2022 polls despi...</td>\n",
              "      <td>manaman_chhina</td>\n",
              "    </tr>\n",
              "    <tr>\n",
              "      <th>233</th>\n",
              "      <td>2022-01-11 16:07:02+00:00</td>\n",
              "      <td>BSP chief Mayawati will not contest UP polls: ...</td>\n",
              "      <td>MarketsCafe</td>\n",
              "    </tr>\n",
              "    <tr>\n",
              "      <th>234</th>\n",
              "      <td>2022-01-11 13:33:18+00:00</td>\n",
              "      <td>Mayawati Not To Contest Polls, To Focus On BSP...</td>\n",
              "      <td>vibesofindia_</td>\n",
              "    </tr>\n",
              "  </tbody>\n",
              "</table>\n",
              "<p>235 rows × 3 columns</p>\n",
              "</div>\n",
              "      <button class=\"colab-df-convert\" onclick=\"convertToInteractive('df-79322894-c8dc-4aaf-8981-1c099e975214')\"\n",
              "              title=\"Convert this dataframe to an interactive table.\"\n",
              "              style=\"display:none;\">\n",
              "        \n",
              "  <svg xmlns=\"http://www.w3.org/2000/svg\" height=\"24px\"viewBox=\"0 0 24 24\"\n",
              "       width=\"24px\">\n",
              "    <path d=\"M0 0h24v24H0V0z\" fill=\"none\"/>\n",
              "    <path d=\"M18.56 5.44l.94 2.06.94-2.06 2.06-.94-2.06-.94-.94-2.06-.94 2.06-2.06.94zm-11 1L8.5 8.5l.94-2.06 2.06-.94-2.06-.94L8.5 2.5l-.94 2.06-2.06.94zm10 10l.94 2.06.94-2.06 2.06-.94-2.06-.94-.94-2.06-.94 2.06-2.06.94z\"/><path d=\"M17.41 7.96l-1.37-1.37c-.4-.4-.92-.59-1.43-.59-.52 0-1.04.2-1.43.59L10.3 9.45l-7.72 7.72c-.78.78-.78 2.05 0 2.83L4 21.41c.39.39.9.59 1.41.59.51 0 1.02-.2 1.41-.59l7.78-7.78 2.81-2.81c.8-.78.8-2.07 0-2.86zM5.41 20L4 18.59l7.72-7.72 1.47 1.35L5.41 20z\"/>\n",
              "  </svg>\n",
              "      </button>\n",
              "      \n",
              "  <style>\n",
              "    .colab-df-container {\n",
              "      display:flex;\n",
              "      flex-wrap:wrap;\n",
              "      gap: 12px;\n",
              "    }\n",
              "\n",
              "    .colab-df-convert {\n",
              "      background-color: #E8F0FE;\n",
              "      border: none;\n",
              "      border-radius: 50%;\n",
              "      cursor: pointer;\n",
              "      display: none;\n",
              "      fill: #1967D2;\n",
              "      height: 32px;\n",
              "      padding: 0 0 0 0;\n",
              "      width: 32px;\n",
              "    }\n",
              "\n",
              "    .colab-df-convert:hover {\n",
              "      background-color: #E2EBFA;\n",
              "      box-shadow: 0px 1px 2px rgba(60, 64, 67, 0.3), 0px 1px 3px 1px rgba(60, 64, 67, 0.15);\n",
              "      fill: #174EA6;\n",
              "    }\n",
              "\n",
              "    [theme=dark] .colab-df-convert {\n",
              "      background-color: #3B4455;\n",
              "      fill: #D2E3FC;\n",
              "    }\n",
              "\n",
              "    [theme=dark] .colab-df-convert:hover {\n",
              "      background-color: #434B5C;\n",
              "      box-shadow: 0px 1px 3px 1px rgba(0, 0, 0, 0.15);\n",
              "      filter: drop-shadow(0px 1px 2px rgba(0, 0, 0, 0.3));\n",
              "      fill: #FFFFFF;\n",
              "    }\n",
              "  </style>\n",
              "\n",
              "      <script>\n",
              "        const buttonEl =\n",
              "          document.querySelector('#df-79322894-c8dc-4aaf-8981-1c099e975214 button.colab-df-convert');\n",
              "        buttonEl.style.display =\n",
              "          google.colab.kernel.accessAllowed ? 'block' : 'none';\n",
              "\n",
              "        async function convertToInteractive(key) {\n",
              "          const element = document.querySelector('#df-79322894-c8dc-4aaf-8981-1c099e975214');\n",
              "          const dataTable =\n",
              "            await google.colab.kernel.invokeFunction('convertToInteractive',\n",
              "                                                     [key], {});\n",
              "          if (!dataTable) return;\n",
              "\n",
              "          const docLinkHtml = 'Like what you see? Visit the ' +\n",
              "            '<a target=\"_blank\" href=https://colab.research.google.com/notebooks/data_table.ipynb>data table notebook</a>'\n",
              "            + ' to learn more about interactive tables.';\n",
              "          element.innerHTML = '';\n",
              "          dataTable['output_type'] = 'display_data';\n",
              "          await google.colab.output.renderOutput(dataTable, element);\n",
              "          const docLink = document.createElement('div');\n",
              "          docLink.innerHTML = docLinkHtml;\n",
              "          element.appendChild(docLink);\n",
              "        }\n",
              "      </script>\n",
              "    </div>\n",
              "  </div>\n",
              "  "
            ],
            "text/plain": [
              "                     Datetime  \\\n",
              "0   2022-01-14 19:20:07+00:00   \n",
              "1   2022-01-14 14:16:29+00:00   \n",
              "2   2022-01-14 04:53:03+00:00   \n",
              "3   2022-01-13 17:47:41+00:00   \n",
              "4   2022-01-13 17:02:45+00:00   \n",
              "..                        ...   \n",
              "230 2022-01-13 03:27:58+00:00   \n",
              "231 2022-01-12 06:42:15+00:00   \n",
              "232 2022-01-11 06:08:13+00:00   \n",
              "233 2022-01-11 16:07:02+00:00   \n",
              "234 2022-01-11 13:33:18+00:00   \n",
              "\n",
              "                                                  Text             User  \n",
              "0    SAD urges ECI to reconsider ban on election ra...      nocodewatch  \n",
              "1    SAD has urged ECI to reconsider its ban on ele...    Harpreet_TNIE  \n",
              "2    Punjab polls: SAD (Sanyukt) allotted 'telephon...      MarketsCafe  \n",
              "3    In ep 918 of #CutTheClutter, @ShekharGupta exp...    ThePrintIndia  \n",
              "4    India News Survey : #Punjab Assembly Election ...        AAPReport  \n",
              "..                                                 ...              ...  \n",
              "230  This is really a bad thing that AAP selling pa...  Real_Shailesh27  \n",
              "231  Punjab polls: ROs issue notices to SAD, Congre...     CPrajapati83  \n",
              "232  AAP is again in reckoning for 2022 polls despi...   manaman_chhina  \n",
              "233  BSP chief Mayawati will not contest UP polls: ...      MarketsCafe  \n",
              "234  Mayawati Not To Contest Polls, To Focus On BSP...    vibesofindia_  \n",
              "\n",
              "[235 rows x 3 columns]"
            ]
          },
          "metadata": {},
          "execution_count": 89
        }
      ]
    },
    {
      "cell_type": "code",
      "source": [
        "df_train.to_csv(\"Punjab-SAD.csv\", index=False)"
      ],
      "metadata": {
        "id": "Wm_x_22g8esa"
      },
      "execution_count": null,
      "outputs": []
    },
    {
      "cell_type": "code",
      "source": [
        "tweets = []"
      ],
      "metadata": {
        "id": "eeknLkRT8lSy"
      },
      "execution_count": null,
      "outputs": []
    },
    {
      "cell_type": "code",
      "execution_count": null,
      "metadata": {
        "id": "X_jc67ljVYpb"
      },
      "outputs": [],
      "source": [
        "search(\"BJP Uttarakhand election\", 2000)\n",
        "search(\"BJP Uttarakhand\", 2000)\n",
        "search(\"NDA Uttarakhand\", 2000)\n",
        "search(\"Pushkar Singh Dhami\", 1000)\n",
        "search(\"Dhami election\", 2000)"
      ]
    },
    {
      "cell_type": "code",
      "source": [
        "search(\"BJP Uttarakhand elections\", 2000)"
      ],
      "metadata": {
        "id": "K-tH8qN7EtDi"
      },
      "execution_count": null,
      "outputs": []
    },
    {
      "cell_type": "code",
      "execution_count": null,
      "metadata": {
        "colab": {
          "base_uri": "https://localhost:8080/"
        },
        "id": "oqvfgg4xWEh9",
        "outputId": "2a5dfcab-5ad0-41a2-a7bb-809b723c9d77"
      },
      "outputs": [
        {
          "output_type": "execute_result",
          "data": {
            "text/plain": [
              "1203"
            ]
          },
          "metadata": {},
          "execution_count": 94
        }
      ],
      "source": [
        "len(tweets)"
      ]
    },
    {
      "cell_type": "code",
      "execution_count": null,
      "metadata": {
        "id": "g0djWmeUWIWc"
      },
      "outputs": [],
      "source": [
        "search(\"UK election BJP\", 2000)"
      ]
    },
    {
      "cell_type": "code",
      "execution_count": null,
      "metadata": {
        "id": "0Xp6VtMPW31p"
      },
      "outputs": [],
      "source": [
        "search(\"Uttarakhand poll NDA\", 2000)"
      ]
    },
    {
      "cell_type": "code",
      "execution_count": null,
      "metadata": {
        "id": "aL89Ozs2XAco"
      },
      "outputs": [],
      "source": [
        "search(\"Uttarakhand poll BJP\", 2000)"
      ]
    },
    {
      "cell_type": "code",
      "source": [
        "df_train = pd.DataFrame(tweets, columns=['Datetime', 'Text',  'User'])\n",
        "df_train"
      ],
      "metadata": {
        "colab": {
          "base_uri": "https://localhost:8080/",
          "height": 424
        },
        "id": "HLg8XqrQ8sq7",
        "outputId": "b879adb6-21c1-49a1-e15e-fab5ff724105"
      },
      "execution_count": null,
      "outputs": [
        {
          "output_type": "execute_result",
          "data": {
            "text/html": [
              "\n",
              "  <div id=\"df-ff558c1b-03d7-46af-8abb-eaec24a7950d\">\n",
              "    <div class=\"colab-df-container\">\n",
              "      <div>\n",
              "<style scoped>\n",
              "    .dataframe tbody tr th:only-of-type {\n",
              "        vertical-align: middle;\n",
              "    }\n",
              "\n",
              "    .dataframe tbody tr th {\n",
              "        vertical-align: top;\n",
              "    }\n",
              "\n",
              "    .dataframe thead th {\n",
              "        text-align: right;\n",
              "    }\n",
              "</style>\n",
              "<table border=\"1\" class=\"dataframe\">\n",
              "  <thead>\n",
              "    <tr style=\"text-align: right;\">\n",
              "      <th></th>\n",
              "      <th>Datetime</th>\n",
              "      <th>Text</th>\n",
              "      <th>User</th>\n",
              "    </tr>\n",
              "  </thead>\n",
              "  <tbody>\n",
              "    <tr>\n",
              "      <th>0</th>\n",
              "      <td>2022-01-14 17:42:49+00:00</td>\n",
              "      <td>Uttarakhand Election 2022: Bjp Can Play Trump ...</td>\n",
              "      <td>UxamaSpeaks</td>\n",
              "    </tr>\n",
              "    <tr>\n",
              "      <th>1</th>\n",
              "      <td>2022-01-14 17:19:55+00:00</td>\n",
              "      <td>5 states election prediction. \\nUP- SP\\nPunjab...</td>\n",
              "      <td>Bipintola</td>\n",
              "    </tr>\n",
              "    <tr>\n",
              "      <th>2</th>\n",
              "      <td>2022-01-14 17:16:43+00:00</td>\n",
              "      <td>New Delhi: The BJP’s Central Election Committe...</td>\n",
              "      <td>Deccan_Cable</td>\n",
              "    </tr>\n",
              "    <tr>\n",
              "      <th>3</th>\n",
              "      <td>2022-01-14 16:09:07+00:00</td>\n",
              "      <td>Case registered against Uttarakhand minister D...</td>\n",
              "      <td>ANINewsUP</td>\n",
              "    </tr>\n",
              "    <tr>\n",
              "      <th>4</th>\n",
              "      <td>2022-01-14 14:27:38+00:00</td>\n",
              "      <td>@Nomad24369165 @vikramaditya_l @Sanjay_Dixit A...</td>\n",
              "      <td>proud2babhakt</td>\n",
              "    </tr>\n",
              "    <tr>\n",
              "      <th>...</th>\n",
              "      <td>...</td>\n",
              "      <td>...</td>\n",
              "      <td>...</td>\n",
              "    </tr>\n",
              "    <tr>\n",
              "      <th>1251</th>\n",
              "      <td>2022-01-11 02:52:57+00:00</td>\n",
              "      <td>opinion poll Assembly Election 2022 Survey: BJ...</td>\n",
              "      <td>anandakennamet1</td>\n",
              "    </tr>\n",
              "    <tr>\n",
              "      <th>1252</th>\n",
              "      <td>2022-01-11 02:16:04+00:00</td>\n",
              "      <td>Uttarakhand News\\n\\n14 BJP councillors resigne...</td>\n",
              "      <td>NewsArenaIndia</td>\n",
              "    </tr>\n",
              "    <tr>\n",
              "      <th>1253</th>\n",
              "      <td>2022-01-11 02:09:32+00:00</td>\n",
              "      <td>Times Now Opinion Poll on Uttarakhand \\n\\nBJP ...</td>\n",
              "      <td>smes_edu</td>\n",
              "    </tr>\n",
              "    <tr>\n",
              "      <th>1254</th>\n",
              "      <td>2022-01-11 00:50:40+00:00</td>\n",
              "      <td>The situational analysis when we stop consider...</td>\n",
              "      <td>RationalVoter_</td>\n",
              "    </tr>\n",
              "    <tr>\n",
              "      <th>1255</th>\n",
              "      <td>2022-01-11 00:42:28+00:00</td>\n",
              "      <td>Dr.@Swamy39 Ji,\\nBJP likely to win UP, Uttarak...</td>\n",
              "      <td>GurudathShettyK</td>\n",
              "    </tr>\n",
              "  </tbody>\n",
              "</table>\n",
              "<p>1256 rows × 3 columns</p>\n",
              "</div>\n",
              "      <button class=\"colab-df-convert\" onclick=\"convertToInteractive('df-ff558c1b-03d7-46af-8abb-eaec24a7950d')\"\n",
              "              title=\"Convert this dataframe to an interactive table.\"\n",
              "              style=\"display:none;\">\n",
              "        \n",
              "  <svg xmlns=\"http://www.w3.org/2000/svg\" height=\"24px\"viewBox=\"0 0 24 24\"\n",
              "       width=\"24px\">\n",
              "    <path d=\"M0 0h24v24H0V0z\" fill=\"none\"/>\n",
              "    <path d=\"M18.56 5.44l.94 2.06.94-2.06 2.06-.94-2.06-.94-.94-2.06-.94 2.06-2.06.94zm-11 1L8.5 8.5l.94-2.06 2.06-.94-2.06-.94L8.5 2.5l-.94 2.06-2.06.94zm10 10l.94 2.06.94-2.06 2.06-.94-2.06-.94-.94-2.06-.94 2.06-2.06.94z\"/><path d=\"M17.41 7.96l-1.37-1.37c-.4-.4-.92-.59-1.43-.59-.52 0-1.04.2-1.43.59L10.3 9.45l-7.72 7.72c-.78.78-.78 2.05 0 2.83L4 21.41c.39.39.9.59 1.41.59.51 0 1.02-.2 1.41-.59l7.78-7.78 2.81-2.81c.8-.78.8-2.07 0-2.86zM5.41 20L4 18.59l7.72-7.72 1.47 1.35L5.41 20z\"/>\n",
              "  </svg>\n",
              "      </button>\n",
              "      \n",
              "  <style>\n",
              "    .colab-df-container {\n",
              "      display:flex;\n",
              "      flex-wrap:wrap;\n",
              "      gap: 12px;\n",
              "    }\n",
              "\n",
              "    .colab-df-convert {\n",
              "      background-color: #E8F0FE;\n",
              "      border: none;\n",
              "      border-radius: 50%;\n",
              "      cursor: pointer;\n",
              "      display: none;\n",
              "      fill: #1967D2;\n",
              "      height: 32px;\n",
              "      padding: 0 0 0 0;\n",
              "      width: 32px;\n",
              "    }\n",
              "\n",
              "    .colab-df-convert:hover {\n",
              "      background-color: #E2EBFA;\n",
              "      box-shadow: 0px 1px 2px rgba(60, 64, 67, 0.3), 0px 1px 3px 1px rgba(60, 64, 67, 0.15);\n",
              "      fill: #174EA6;\n",
              "    }\n",
              "\n",
              "    [theme=dark] .colab-df-convert {\n",
              "      background-color: #3B4455;\n",
              "      fill: #D2E3FC;\n",
              "    }\n",
              "\n",
              "    [theme=dark] .colab-df-convert:hover {\n",
              "      background-color: #434B5C;\n",
              "      box-shadow: 0px 1px 3px 1px rgba(0, 0, 0, 0.15);\n",
              "      filter: drop-shadow(0px 1px 2px rgba(0, 0, 0, 0.3));\n",
              "      fill: #FFFFFF;\n",
              "    }\n",
              "  </style>\n",
              "\n",
              "      <script>\n",
              "        const buttonEl =\n",
              "          document.querySelector('#df-ff558c1b-03d7-46af-8abb-eaec24a7950d button.colab-df-convert');\n",
              "        buttonEl.style.display =\n",
              "          google.colab.kernel.accessAllowed ? 'block' : 'none';\n",
              "\n",
              "        async function convertToInteractive(key) {\n",
              "          const element = document.querySelector('#df-ff558c1b-03d7-46af-8abb-eaec24a7950d');\n",
              "          const dataTable =\n",
              "            await google.colab.kernel.invokeFunction('convertToInteractive',\n",
              "                                                     [key], {});\n",
              "          if (!dataTable) return;\n",
              "\n",
              "          const docLinkHtml = 'Like what you see? Visit the ' +\n",
              "            '<a target=\"_blank\" href=https://colab.research.google.com/notebooks/data_table.ipynb>data table notebook</a>'\n",
              "            + ' to learn more about interactive tables.';\n",
              "          element.innerHTML = '';\n",
              "          dataTable['output_type'] = 'display_data';\n",
              "          await google.colab.output.renderOutput(dataTable, element);\n",
              "          const docLink = document.createElement('div');\n",
              "          docLink.innerHTML = docLinkHtml;\n",
              "          element.appendChild(docLink);\n",
              "        }\n",
              "      </script>\n",
              "    </div>\n",
              "  </div>\n",
              "  "
            ],
            "text/plain": [
              "                      Datetime  \\\n",
              "0    2022-01-14 17:42:49+00:00   \n",
              "1    2022-01-14 17:19:55+00:00   \n",
              "2    2022-01-14 17:16:43+00:00   \n",
              "3    2022-01-14 16:09:07+00:00   \n",
              "4    2022-01-14 14:27:38+00:00   \n",
              "...                        ...   \n",
              "1251 2022-01-11 02:52:57+00:00   \n",
              "1252 2022-01-11 02:16:04+00:00   \n",
              "1253 2022-01-11 02:09:32+00:00   \n",
              "1254 2022-01-11 00:50:40+00:00   \n",
              "1255 2022-01-11 00:42:28+00:00   \n",
              "\n",
              "                                                   Text             User  \n",
              "0     Uttarakhand Election 2022: Bjp Can Play Trump ...      UxamaSpeaks  \n",
              "1     5 states election prediction. \\nUP- SP\\nPunjab...        Bipintola  \n",
              "2     New Delhi: The BJP’s Central Election Committe...     Deccan_Cable  \n",
              "3     Case registered against Uttarakhand minister D...        ANINewsUP  \n",
              "4     @Nomad24369165 @vikramaditya_l @Sanjay_Dixit A...    proud2babhakt  \n",
              "...                                                 ...              ...  \n",
              "1251  opinion poll Assembly Election 2022 Survey: BJ...  anandakennamet1  \n",
              "1252  Uttarakhand News\\n\\n14 BJP councillors resigne...   NewsArenaIndia  \n",
              "1253  Times Now Opinion Poll on Uttarakhand \\n\\nBJP ...         smes_edu  \n",
              "1254  The situational analysis when we stop consider...   RationalVoter_  \n",
              "1255  Dr.@Swamy39 Ji,\\nBJP likely to win UP, Uttarak...  GurudathShettyK  \n",
              "\n",
              "[1256 rows x 3 columns]"
            ]
          },
          "metadata": {},
          "execution_count": 98
        }
      ]
    },
    {
      "cell_type": "code",
      "source": [
        "df_train.to_csv(\"UK-BJP.csv\", index=False)"
      ],
      "metadata": {
        "id": "3wsNKdmj8sq-"
      },
      "execution_count": null,
      "outputs": []
    },
    {
      "cell_type": "code",
      "source": [
        "tweets = []"
      ],
      "metadata": {
        "id": "JIBPbRRk8_n0"
      },
      "execution_count": null,
      "outputs": []
    },
    {
      "cell_type": "code",
      "execution_count": null,
      "metadata": {
        "id": "4P91gYcGXj_H"
      },
      "outputs": [],
      "source": [
        "search(\"INC Uttarakhand\", 2000)\n",
        "search(\"INC Uttarakhand elections\", 2000)\n",
        "search(\"UPA Uttarakhand\", 2000)\n",
        "search(\"Harish Rawat\", 1000)\n",
        "search(\"Rawat election\", 2000)"
      ]
    },
    {
      "cell_type": "code",
      "source": [
        "search(\"INC Uttarakhand election\", 2000)"
      ],
      "metadata": {
        "id": "X3Dix_NaE4lI"
      },
      "execution_count": null,
      "outputs": []
    },
    {
      "cell_type": "code",
      "source": [
        "search(\"Congress Uttarakhand\", 2000)"
      ],
      "metadata": {
        "id": "l64kIbXcE66m"
      },
      "execution_count": null,
      "outputs": []
    },
    {
      "cell_type": "code",
      "execution_count": null,
      "metadata": {
        "colab": {
          "base_uri": "https://localhost:8080/"
        },
        "id": "LhjZeO9UYFbj",
        "outputId": "214b61f1-4135-4345-a9f8-458cad43792c"
      },
      "outputs": [
        {
          "output_type": "execute_result",
          "data": {
            "text/plain": [
              "888"
            ]
          },
          "metadata": {},
          "execution_count": 104
        }
      ],
      "source": [
        "len(tweets)"
      ]
    },
    {
      "cell_type": "code",
      "execution_count": null,
      "metadata": {
        "id": "Hnr0wquzYITF"
      },
      "outputs": [],
      "source": [
        "search(\"Rawat Uttarakhand\", 2000)"
      ]
    },
    {
      "cell_type": "code",
      "execution_count": null,
      "metadata": {
        "id": "TPqV06D1YPeT"
      },
      "outputs": [],
      "source": [
        "search(\"UK election INC\", 2000)\n",
        "search(\"UK election UPA\", 2000)\n",
        "search(\"Uttarakhand poll INC\", 2000)"
      ]
    },
    {
      "cell_type": "code",
      "source": [
        "df_train = pd.DataFrame(tweets, columns=['Datetime', 'Text',  'User'])\n",
        "df_train"
      ],
      "metadata": {
        "colab": {
          "base_uri": "https://localhost:8080/",
          "height": 424
        },
        "id": "jUPhZ5f59Jf9",
        "outputId": "0473887d-a566-4498-ff3b-d6cb3d924eca"
      },
      "execution_count": null,
      "outputs": [
        {
          "output_type": "execute_result",
          "data": {
            "text/html": [
              "\n",
              "  <div id=\"df-3b09349f-8295-4d6c-8a1b-fcdc2d5a25a3\">\n",
              "    <div class=\"colab-df-container\">\n",
              "      <div>\n",
              "<style scoped>\n",
              "    .dataframe tbody tr th:only-of-type {\n",
              "        vertical-align: middle;\n",
              "    }\n",
              "\n",
              "    .dataframe tbody tr th {\n",
              "        vertical-align: top;\n",
              "    }\n",
              "\n",
              "    .dataframe thead th {\n",
              "        text-align: right;\n",
              "    }\n",
              "</style>\n",
              "<table border=\"1\" class=\"dataframe\">\n",
              "  <thead>\n",
              "    <tr style=\"text-align: right;\">\n",
              "      <th></th>\n",
              "      <th>Datetime</th>\n",
              "      <th>Text</th>\n",
              "      <th>User</th>\n",
              "    </tr>\n",
              "  </thead>\n",
              "  <tbody>\n",
              "    <tr>\n",
              "      <th>0</th>\n",
              "      <td>2022-01-14 19:18:15+00:00</td>\n",
              "      <td>@Pk_inc_india @INCUttarakhand @INCIndia @INCUt...</td>\n",
              "      <td>KDAnsar97140602</td>\n",
              "    </tr>\n",
              "    <tr>\n",
              "      <th>1</th>\n",
              "      <td>2022-01-14 19:04:52+00:00</td>\n",
              "      <td>@INCUttarakhand @Amitava13038306 Congress part...</td>\n",
              "      <td>AmitCho92652725</td>\n",
              "    </tr>\n",
              "    <tr>\n",
              "      <th>2</th>\n",
              "      <td>2022-01-14 18:24:53+00:00</td>\n",
              "      <td>@DipikaPS @RahulGandhi @Alamgircongress @Rajes...</td>\n",
              "      <td>mnur01915</td>\n",
              "    </tr>\n",
              "    <tr>\n",
              "      <th>3</th>\n",
              "      <td>2022-01-14 16:54:08+00:00</td>\n",
              "      <td>@Rameshbhimtal @UKD4Uttarakhand @BJP4UK @Devbh...</td>\n",
              "      <td>ramesh_sbisht</td>\n",
              "    </tr>\n",
              "    <tr>\n",
              "      <th>4</th>\n",
              "      <td>2022-01-14 16:51:59+00:00</td>\n",
              "      <td>@INCUttarakhand Congrash party zindabad</td>\n",
              "      <td>NishaRa98047253</td>\n",
              "    </tr>\n",
              "    <tr>\n",
              "      <th>...</th>\n",
              "      <td>...</td>\n",
              "      <td>...</td>\n",
              "      <td>...</td>\n",
              "    </tr>\n",
              "    <tr>\n",
              "      <th>966</th>\n",
              "      <td>2022-01-12 15:59:11+00:00</td>\n",
              "      <td>Opinion poll :- BJP is winning Goa. Still Mini...</td>\n",
              "      <td>ballu4all</td>\n",
              "    </tr>\n",
              "    <tr>\n",
              "      <th>967</th>\n",
              "      <td>2022-01-12 11:26:47+00:00</td>\n",
              "      <td>Opinion poll :- BJP is winning Goa. Still Mini...</td>\n",
              "      <td>sanjoyr03</td>\n",
              "    </tr>\n",
              "    <tr>\n",
              "      <th>968</th>\n",
              "      <td>2022-01-12 04:40:55+00:00</td>\n",
              "      <td>Elections\\n\\nA very interesting aspect that be...</td>\n",
              "      <td>saashyway</td>\n",
              "    </tr>\n",
              "    <tr>\n",
              "      <th>969</th>\n",
              "      <td>2022-01-11 06:42:29+00:00</td>\n",
              "      <td>One curious observation 🙂\\n\\nOpinion polls, wh...</td>\n",
              "      <td>saashyway</td>\n",
              "    </tr>\n",
              "    <tr>\n",
              "      <th>970</th>\n",
              "      <td>2022-01-11 02:09:32+00:00</td>\n",
              "      <td>Times Now Opinion Poll on Uttarakhand \\n\\nBJP ...</td>\n",
              "      <td>smes_edu</td>\n",
              "    </tr>\n",
              "  </tbody>\n",
              "</table>\n",
              "<p>971 rows × 3 columns</p>\n",
              "</div>\n",
              "      <button class=\"colab-df-convert\" onclick=\"convertToInteractive('df-3b09349f-8295-4d6c-8a1b-fcdc2d5a25a3')\"\n",
              "              title=\"Convert this dataframe to an interactive table.\"\n",
              "              style=\"display:none;\">\n",
              "        \n",
              "  <svg xmlns=\"http://www.w3.org/2000/svg\" height=\"24px\"viewBox=\"0 0 24 24\"\n",
              "       width=\"24px\">\n",
              "    <path d=\"M0 0h24v24H0V0z\" fill=\"none\"/>\n",
              "    <path d=\"M18.56 5.44l.94 2.06.94-2.06 2.06-.94-2.06-.94-.94-2.06-.94 2.06-2.06.94zm-11 1L8.5 8.5l.94-2.06 2.06-.94-2.06-.94L8.5 2.5l-.94 2.06-2.06.94zm10 10l.94 2.06.94-2.06 2.06-.94-2.06-.94-.94-2.06-.94 2.06-2.06.94z\"/><path d=\"M17.41 7.96l-1.37-1.37c-.4-.4-.92-.59-1.43-.59-.52 0-1.04.2-1.43.59L10.3 9.45l-7.72 7.72c-.78.78-.78 2.05 0 2.83L4 21.41c.39.39.9.59 1.41.59.51 0 1.02-.2 1.41-.59l7.78-7.78 2.81-2.81c.8-.78.8-2.07 0-2.86zM5.41 20L4 18.59l7.72-7.72 1.47 1.35L5.41 20z\"/>\n",
              "  </svg>\n",
              "      </button>\n",
              "      \n",
              "  <style>\n",
              "    .colab-df-container {\n",
              "      display:flex;\n",
              "      flex-wrap:wrap;\n",
              "      gap: 12px;\n",
              "    }\n",
              "\n",
              "    .colab-df-convert {\n",
              "      background-color: #E8F0FE;\n",
              "      border: none;\n",
              "      border-radius: 50%;\n",
              "      cursor: pointer;\n",
              "      display: none;\n",
              "      fill: #1967D2;\n",
              "      height: 32px;\n",
              "      padding: 0 0 0 0;\n",
              "      width: 32px;\n",
              "    }\n",
              "\n",
              "    .colab-df-convert:hover {\n",
              "      background-color: #E2EBFA;\n",
              "      box-shadow: 0px 1px 2px rgba(60, 64, 67, 0.3), 0px 1px 3px 1px rgba(60, 64, 67, 0.15);\n",
              "      fill: #174EA6;\n",
              "    }\n",
              "\n",
              "    [theme=dark] .colab-df-convert {\n",
              "      background-color: #3B4455;\n",
              "      fill: #D2E3FC;\n",
              "    }\n",
              "\n",
              "    [theme=dark] .colab-df-convert:hover {\n",
              "      background-color: #434B5C;\n",
              "      box-shadow: 0px 1px 3px 1px rgba(0, 0, 0, 0.15);\n",
              "      filter: drop-shadow(0px 1px 2px rgba(0, 0, 0, 0.3));\n",
              "      fill: #FFFFFF;\n",
              "    }\n",
              "  </style>\n",
              "\n",
              "      <script>\n",
              "        const buttonEl =\n",
              "          document.querySelector('#df-3b09349f-8295-4d6c-8a1b-fcdc2d5a25a3 button.colab-df-convert');\n",
              "        buttonEl.style.display =\n",
              "          google.colab.kernel.accessAllowed ? 'block' : 'none';\n",
              "\n",
              "        async function convertToInteractive(key) {\n",
              "          const element = document.querySelector('#df-3b09349f-8295-4d6c-8a1b-fcdc2d5a25a3');\n",
              "          const dataTable =\n",
              "            await google.colab.kernel.invokeFunction('convertToInteractive',\n",
              "                                                     [key], {});\n",
              "          if (!dataTable) return;\n",
              "\n",
              "          const docLinkHtml = 'Like what you see? Visit the ' +\n",
              "            '<a target=\"_blank\" href=https://colab.research.google.com/notebooks/data_table.ipynb>data table notebook</a>'\n",
              "            + ' to learn more about interactive tables.';\n",
              "          element.innerHTML = '';\n",
              "          dataTable['output_type'] = 'display_data';\n",
              "          await google.colab.output.renderOutput(dataTable, element);\n",
              "          const docLink = document.createElement('div');\n",
              "          docLink.innerHTML = docLinkHtml;\n",
              "          element.appendChild(docLink);\n",
              "        }\n",
              "      </script>\n",
              "    </div>\n",
              "  </div>\n",
              "  "
            ],
            "text/plain": [
              "                     Datetime  \\\n",
              "0   2022-01-14 19:18:15+00:00   \n",
              "1   2022-01-14 19:04:52+00:00   \n",
              "2   2022-01-14 18:24:53+00:00   \n",
              "3   2022-01-14 16:54:08+00:00   \n",
              "4   2022-01-14 16:51:59+00:00   \n",
              "..                        ...   \n",
              "966 2022-01-12 15:59:11+00:00   \n",
              "967 2022-01-12 11:26:47+00:00   \n",
              "968 2022-01-12 04:40:55+00:00   \n",
              "969 2022-01-11 06:42:29+00:00   \n",
              "970 2022-01-11 02:09:32+00:00   \n",
              "\n",
              "                                                  Text             User  \n",
              "0    @Pk_inc_india @INCUttarakhand @INCIndia @INCUt...  KDAnsar97140602  \n",
              "1    @INCUttarakhand @Amitava13038306 Congress part...  AmitCho92652725  \n",
              "2    @DipikaPS @RahulGandhi @Alamgircongress @Rajes...        mnur01915  \n",
              "3    @Rameshbhimtal @UKD4Uttarakhand @BJP4UK @Devbh...    ramesh_sbisht  \n",
              "4              @INCUttarakhand Congrash party zindabad  NishaRa98047253  \n",
              "..                                                 ...              ...  \n",
              "966  Opinion poll :- BJP is winning Goa. Still Mini...        ballu4all  \n",
              "967  Opinion poll :- BJP is winning Goa. Still Mini...        sanjoyr03  \n",
              "968  Elections\\n\\nA very interesting aspect that be...        saashyway  \n",
              "969  One curious observation 🙂\\n\\nOpinion polls, wh...        saashyway  \n",
              "970  Times Now Opinion Poll on Uttarakhand \\n\\nBJP ...         smes_edu  \n",
              "\n",
              "[971 rows x 3 columns]"
            ]
          },
          "metadata": {},
          "execution_count": 107
        }
      ]
    },
    {
      "cell_type": "code",
      "source": [
        "df_train.to_csv(\"UK-INC.csv\", index=False)"
      ],
      "metadata": {
        "id": "2cH_PjUh9JgA"
      },
      "execution_count": null,
      "outputs": []
    },
    {
      "cell_type": "code",
      "source": [
        "tweets = []"
      ],
      "metadata": {
        "id": "AaFB8OIG9NBS"
      },
      "execution_count": null,
      "outputs": []
    },
    {
      "cell_type": "code",
      "execution_count": null,
      "metadata": {
        "id": "ngPiso8jabpm"
      },
      "outputs": [],
      "source": [
        "search(\"AAP Uttarakhand\", 2000)\n",
        "search(\"AAP Uttarakhand elections\", 2000)\n",
        "search(\"Aam Aadmi Uttarakhand\", 2000)\n",
        "search(\"Ajay Kothiyal\", 1000)\n",
        "search(\"Kothiyal election\", 2000)"
      ]
    },
    {
      "cell_type": "code",
      "source": [
        "search(\"AAP Uttarakhand election\", 2000)\n",
        "search(\"Kejriwal Uttrakhand\", 2000)"
      ],
      "metadata": {
        "id": "JJFzEqaYFKie"
      },
      "execution_count": null,
      "outputs": []
    },
    {
      "cell_type": "code",
      "execution_count": null,
      "metadata": {
        "colab": {
          "base_uri": "https://localhost:8080/"
        },
        "id": "QZ6y_uUHgrla",
        "outputId": "ba37ec9f-7462-44ea-e0e3-6287015b7af4"
      },
      "outputs": [
        {
          "output_type": "execute_result",
          "data": {
            "text/plain": [
              "571"
            ]
          },
          "metadata": {},
          "execution_count": 112
        }
      ],
      "source": [
        "len(tweets)"
      ]
    },
    {
      "cell_type": "code",
      "execution_count": null,
      "metadata": {
        "id": "yqGJp79RguYY"
      },
      "outputs": [],
      "source": [
        "search(\"AAP UK elections\", 2000)\n",
        "search(\"Kejriwal UK\", 2000)\n",
        "search(\"Aam Aadmi UK election\", 2000)"
      ]
    },
    {
      "cell_type": "code",
      "source": [
        "df_train = pd.DataFrame(tweets, columns=['Datetime', 'Text',  'User'])\n",
        "df_train"
      ],
      "metadata": {
        "colab": {
          "base_uri": "https://localhost:8080/",
          "height": 424
        },
        "id": "XQq0jv459aHL",
        "outputId": "6047ad59-c320-4072-fe47-342fc2e8d384"
      },
      "execution_count": null,
      "outputs": [
        {
          "output_type": "execute_result",
          "data": {
            "text/html": [
              "\n",
              "  <div id=\"df-b5494a31-270c-4ca5-9594-40b1d0acfad7\">\n",
              "    <div class=\"colab-df-container\">\n",
              "      <div>\n",
              "<style scoped>\n",
              "    .dataframe tbody tr th:only-of-type {\n",
              "        vertical-align: middle;\n",
              "    }\n",
              "\n",
              "    .dataframe tbody tr th {\n",
              "        vertical-align: top;\n",
              "    }\n",
              "\n",
              "    .dataframe thead th {\n",
              "        text-align: right;\n",
              "    }\n",
              "</style>\n",
              "<table border=\"1\" class=\"dataframe\">\n",
              "  <thead>\n",
              "    <tr style=\"text-align: right;\">\n",
              "      <th></th>\n",
              "      <th>Datetime</th>\n",
              "      <th>Text</th>\n",
              "      <th>User</th>\n",
              "    </tr>\n",
              "  </thead>\n",
              "  <tbody>\n",
              "    <tr>\n",
              "      <th>0</th>\n",
              "      <td>2022-01-14 19:46:05+00:00</td>\n",
              "      <td>@Pahaditribal He is from 2014 era but given ti...</td>\n",
              "      <td>UkdUnofficial</td>\n",
              "    </tr>\n",
              "    <tr>\n",
              "      <th>1</th>\n",
              "      <td>2022-01-14 18:18:06+00:00</td>\n",
              "      <td>#AAPisTheChange\\n\\nVote for @AAPUttarakhand \\n...</td>\n",
              "      <td>anak2422</td>\n",
              "    </tr>\n",
              "    <tr>\n",
              "      <th>2</th>\n",
              "      <td>2022-01-14 18:17:47+00:00</td>\n",
              "      <td>My prediction for #Election2022 \\nU.P - BJP \\n...</td>\n",
              "      <td>purvika_12</td>\n",
              "    </tr>\n",
              "    <tr>\n",
              "      <th>3</th>\n",
              "      <td>2022-01-14 17:36:55+00:00</td>\n",
              "      <td>@ChandraManiCyss @ArvindKejriwal @AapKaGopalRa...</td>\n",
              "      <td>MeenaJoshi_</td>\n",
              "    </tr>\n",
              "    <tr>\n",
              "      <th>4</th>\n",
              "      <td>2022-01-14 17:19:55+00:00</td>\n",
              "      <td>5 states election prediction. \\nUP- SP\\nPunjab...</td>\n",
              "      <td>Bipintola</td>\n",
              "    </tr>\n",
              "    <tr>\n",
              "      <th>...</th>\n",
              "      <td>...</td>\n",
              "      <td>...</td>\n",
              "      <td>...</td>\n",
              "    </tr>\n",
              "    <tr>\n",
              "      <th>578</th>\n",
              "      <td>2022-01-12 13:43:03+00:00</td>\n",
              "      <td>@GreatCircus Considering ur profile talks abt ...</td>\n",
              "      <td>Indianspeaks12</td>\n",
              "    </tr>\n",
              "    <tr>\n",
              "      <th>579</th>\n",
              "      <td>2022-01-12 13:28:04+00:00</td>\n",
              "      <td>@Its_Me_Akku_ @AAOLion Poi-chandigarh says Aap...</td>\n",
              "      <td>jhakailashkumar</td>\n",
              "    </tr>\n",
              "    <tr>\n",
              "      <th>580</th>\n",
              "      <td>2022-01-11 17:20:17+00:00</td>\n",
              "      <td>More than anyone else, people themselves want ...</td>\n",
              "      <td>firstmukesh</td>\n",
              "    </tr>\n",
              "    <tr>\n",
              "      <th>581</th>\n",
              "      <td>2022-01-11 16:53:33+00:00</td>\n",
              "      <td>Their is no difference in Modi and Kejriwal as...</td>\n",
              "      <td>NaveenS13816664</td>\n",
              "    </tr>\n",
              "    <tr>\n",
              "      <th>582</th>\n",
              "      <td>2022-01-11 07:32:33+00:00</td>\n",
              "      <td>@Gss_Views @Abhishe31139024 @AAPUttarakhand UK...</td>\n",
              "      <td>krishna76_h</td>\n",
              "    </tr>\n",
              "  </tbody>\n",
              "</table>\n",
              "<p>583 rows × 3 columns</p>\n",
              "</div>\n",
              "      <button class=\"colab-df-convert\" onclick=\"convertToInteractive('df-b5494a31-270c-4ca5-9594-40b1d0acfad7')\"\n",
              "              title=\"Convert this dataframe to an interactive table.\"\n",
              "              style=\"display:none;\">\n",
              "        \n",
              "  <svg xmlns=\"http://www.w3.org/2000/svg\" height=\"24px\"viewBox=\"0 0 24 24\"\n",
              "       width=\"24px\">\n",
              "    <path d=\"M0 0h24v24H0V0z\" fill=\"none\"/>\n",
              "    <path d=\"M18.56 5.44l.94 2.06.94-2.06 2.06-.94-2.06-.94-.94-2.06-.94 2.06-2.06.94zm-11 1L8.5 8.5l.94-2.06 2.06-.94-2.06-.94L8.5 2.5l-.94 2.06-2.06.94zm10 10l.94 2.06.94-2.06 2.06-.94-2.06-.94-.94-2.06-.94 2.06-2.06.94z\"/><path d=\"M17.41 7.96l-1.37-1.37c-.4-.4-.92-.59-1.43-.59-.52 0-1.04.2-1.43.59L10.3 9.45l-7.72 7.72c-.78.78-.78 2.05 0 2.83L4 21.41c.39.39.9.59 1.41.59.51 0 1.02-.2 1.41-.59l7.78-7.78 2.81-2.81c.8-.78.8-2.07 0-2.86zM5.41 20L4 18.59l7.72-7.72 1.47 1.35L5.41 20z\"/>\n",
              "  </svg>\n",
              "      </button>\n",
              "      \n",
              "  <style>\n",
              "    .colab-df-container {\n",
              "      display:flex;\n",
              "      flex-wrap:wrap;\n",
              "      gap: 12px;\n",
              "    }\n",
              "\n",
              "    .colab-df-convert {\n",
              "      background-color: #E8F0FE;\n",
              "      border: none;\n",
              "      border-radius: 50%;\n",
              "      cursor: pointer;\n",
              "      display: none;\n",
              "      fill: #1967D2;\n",
              "      height: 32px;\n",
              "      padding: 0 0 0 0;\n",
              "      width: 32px;\n",
              "    }\n",
              "\n",
              "    .colab-df-convert:hover {\n",
              "      background-color: #E2EBFA;\n",
              "      box-shadow: 0px 1px 2px rgba(60, 64, 67, 0.3), 0px 1px 3px 1px rgba(60, 64, 67, 0.15);\n",
              "      fill: #174EA6;\n",
              "    }\n",
              "\n",
              "    [theme=dark] .colab-df-convert {\n",
              "      background-color: #3B4455;\n",
              "      fill: #D2E3FC;\n",
              "    }\n",
              "\n",
              "    [theme=dark] .colab-df-convert:hover {\n",
              "      background-color: #434B5C;\n",
              "      box-shadow: 0px 1px 3px 1px rgba(0, 0, 0, 0.15);\n",
              "      filter: drop-shadow(0px 1px 2px rgba(0, 0, 0, 0.3));\n",
              "      fill: #FFFFFF;\n",
              "    }\n",
              "  </style>\n",
              "\n",
              "      <script>\n",
              "        const buttonEl =\n",
              "          document.querySelector('#df-b5494a31-270c-4ca5-9594-40b1d0acfad7 button.colab-df-convert');\n",
              "        buttonEl.style.display =\n",
              "          google.colab.kernel.accessAllowed ? 'block' : 'none';\n",
              "\n",
              "        async function convertToInteractive(key) {\n",
              "          const element = document.querySelector('#df-b5494a31-270c-4ca5-9594-40b1d0acfad7');\n",
              "          const dataTable =\n",
              "            await google.colab.kernel.invokeFunction('convertToInteractive',\n",
              "                                                     [key], {});\n",
              "          if (!dataTable) return;\n",
              "\n",
              "          const docLinkHtml = 'Like what you see? Visit the ' +\n",
              "            '<a target=\"_blank\" href=https://colab.research.google.com/notebooks/data_table.ipynb>data table notebook</a>'\n",
              "            + ' to learn more about interactive tables.';\n",
              "          element.innerHTML = '';\n",
              "          dataTable['output_type'] = 'display_data';\n",
              "          await google.colab.output.renderOutput(dataTable, element);\n",
              "          const docLink = document.createElement('div');\n",
              "          docLink.innerHTML = docLinkHtml;\n",
              "          element.appendChild(docLink);\n",
              "        }\n",
              "      </script>\n",
              "    </div>\n",
              "  </div>\n",
              "  "
            ],
            "text/plain": [
              "                     Datetime  \\\n",
              "0   2022-01-14 19:46:05+00:00   \n",
              "1   2022-01-14 18:18:06+00:00   \n",
              "2   2022-01-14 18:17:47+00:00   \n",
              "3   2022-01-14 17:36:55+00:00   \n",
              "4   2022-01-14 17:19:55+00:00   \n",
              "..                        ...   \n",
              "578 2022-01-12 13:43:03+00:00   \n",
              "579 2022-01-12 13:28:04+00:00   \n",
              "580 2022-01-11 17:20:17+00:00   \n",
              "581 2022-01-11 16:53:33+00:00   \n",
              "582 2022-01-11 07:32:33+00:00   \n",
              "\n",
              "                                                  Text             User  \n",
              "0    @Pahaditribal He is from 2014 era but given ti...    UkdUnofficial  \n",
              "1    #AAPisTheChange\\n\\nVote for @AAPUttarakhand \\n...         anak2422  \n",
              "2    My prediction for #Election2022 \\nU.P - BJP \\n...       purvika_12  \n",
              "3    @ChandraManiCyss @ArvindKejriwal @AapKaGopalRa...      MeenaJoshi_  \n",
              "4    5 states election prediction. \\nUP- SP\\nPunjab...        Bipintola  \n",
              "..                                                 ...              ...  \n",
              "578  @GreatCircus Considering ur profile talks abt ...   Indianspeaks12  \n",
              "579  @Its_Me_Akku_ @AAOLion Poi-chandigarh says Aap...  jhakailashkumar  \n",
              "580  More than anyone else, people themselves want ...      firstmukesh  \n",
              "581  Their is no difference in Modi and Kejriwal as...  NaveenS13816664  \n",
              "582  @Gss_Views @Abhishe31139024 @AAPUttarakhand UK...      krishna76_h  \n",
              "\n",
              "[583 rows x 3 columns]"
            ]
          },
          "metadata": {},
          "execution_count": 114
        }
      ]
    },
    {
      "cell_type": "code",
      "source": [
        "df_train.to_csv(\"UK-AAP.csv\", index=False)"
      ],
      "metadata": {
        "id": "YlbNNc9o9aHM"
      },
      "execution_count": null,
      "outputs": []
    },
    {
      "cell_type": "code",
      "source": [
        "tweets = []"
      ],
      "metadata": {
        "id": "ZnOGpocx9kNe"
      },
      "execution_count": null,
      "outputs": []
    },
    {
      "cell_type": "code",
      "execution_count": null,
      "metadata": {
        "id": "sUHLQszCiVCA"
      },
      "outputs": [],
      "source": [
        "search(\"AAP Goa\", 2000)\n"
      ]
    },
    {
      "cell_type": "code",
      "source": [
        "search(\"AAP Goa election\", 2000)\n"
      ],
      "metadata": {
        "id": "QZvWkxMYf1aO"
      },
      "execution_count": null,
      "outputs": []
    },
    {
      "cell_type": "code",
      "source": [
        "search(\"Aam Aadmi Goa\", 2000)\n"
      ],
      "metadata": {
        "id": "XzJqhWdVf3X1"
      },
      "execution_count": null,
      "outputs": []
    },
    {
      "cell_type": "code",
      "source": [
        "search(\"Amit Palekar\", 1000)\n"
      ],
      "metadata": {
        "id": "P-nF2IfFf5ce"
      },
      "execution_count": null,
      "outputs": []
    },
    {
      "cell_type": "code",
      "source": [
        "search(\"Palekar election\", 2000)"
      ],
      "metadata": {
        "id": "KdDgMm_-f7fY"
      },
      "execution_count": null,
      "outputs": []
    },
    {
      "cell_type": "code",
      "execution_count": null,
      "metadata": {
        "id": "CJir6_xTjUwc"
      },
      "outputs": [],
      "source": [
        "search(\"Kejriwal Goa\", 2000)\n",
        "search(\"Aam Aadmi Goa election\", 2000)"
      ]
    },
    {
      "cell_type": "code",
      "execution_count": null,
      "metadata": {
        "colab": {
          "base_uri": "https://localhost:8080/"
        },
        "id": "DTjpMkWij1sG",
        "outputId": "2dab647e-183b-42e8-e49a-e13029e64748"
      },
      "outputs": [
        {
          "output_type": "execute_result",
          "data": {
            "text/plain": [
              "1030"
            ]
          },
          "metadata": {},
          "execution_count": 123
        }
      ],
      "source": [
        "len(tweets)"
      ]
    },
    {
      "cell_type": "code",
      "execution_count": null,
      "metadata": {
        "id": "0tNjqQ3Xj7aJ"
      },
      "outputs": [],
      "source": [
        "search(\"Chandrakant Shetye\", 1000)"
      ]
    },
    {
      "cell_type": "code",
      "source": [
        "df_train = pd.DataFrame(tweets, columns=['Datetime', 'Text',  'User'])\n",
        "df_train"
      ],
      "metadata": {
        "colab": {
          "base_uri": "https://localhost:8080/",
          "height": 424
        },
        "id": "0_u8F6Zp9nSz",
        "outputId": "9a37e19c-5c30-4f7e-c8d9-091069f157d7"
      },
      "execution_count": null,
      "outputs": [
        {
          "output_type": "execute_result",
          "data": {
            "text/html": [
              "\n",
              "  <div id=\"df-51a694bf-64a5-46b4-ba4c-f300413faf0c\">\n",
              "    <div class=\"colab-df-container\">\n",
              "      <div>\n",
              "<style scoped>\n",
              "    .dataframe tbody tr th:only-of-type {\n",
              "        vertical-align: middle;\n",
              "    }\n",
              "\n",
              "    .dataframe tbody tr th {\n",
              "        vertical-align: top;\n",
              "    }\n",
              "\n",
              "    .dataframe thead th {\n",
              "        text-align: right;\n",
              "    }\n",
              "</style>\n",
              "<table border=\"1\" class=\"dataframe\">\n",
              "  <thead>\n",
              "    <tr style=\"text-align: right;\">\n",
              "      <th></th>\n",
              "      <th>Datetime</th>\n",
              "      <th>Text</th>\n",
              "      <th>User</th>\n",
              "    </tr>\n",
              "  </thead>\n",
              "  <tbody>\n",
              "    <tr>\n",
              "      <th>0</th>\n",
              "      <td>2022-01-14 22:49:27+00:00</td>\n",
              "      <td>@ShwetaIndia1 @SanjayAzadSln @Vaibhav_AAP With...</td>\n",
              "      <td>drsaquibahmed11</td>\n",
              "    </tr>\n",
              "    <tr>\n",
              "      <th>1</th>\n",
              "      <td>2022-01-14 22:15:57+00:00</td>\n",
              "      <td>@BhavikaKapoor5 We shouldn't get into trap of ...</td>\n",
              "      <td>sarda_shiv</td>\n",
              "    </tr>\n",
              "    <tr>\n",
              "      <th>2</th>\n",
              "      <td>2022-01-14 21:13:23+00:00</td>\n",
              "      <td>#GoaDiary_Goa_News   Arvind Kejriwal to visit ...</td>\n",
              "      <td>omgoa_dot_com</td>\n",
              "    </tr>\n",
              "    <tr>\n",
              "      <th>3</th>\n",
              "      <td>2022-01-14 20:07:56+00:00</td>\n",
              "      <td>@MahuaMoitra You're fooling nobody. You and AA...</td>\n",
              "      <td>Nostrdamuspeaks</td>\n",
              "    </tr>\n",
              "    <tr>\n",
              "      <th>4</th>\n",
              "      <td>2022-01-14 19:49:01+00:00</td>\n",
              "      <td>@ANKITDARJI_AAP @AAPPunjab @AAPUttarPradesh @A...</td>\n",
              "      <td>dcpatel28</td>\n",
              "    </tr>\n",
              "    <tr>\n",
              "      <th>...</th>\n",
              "      <td>...</td>\n",
              "      <td>...</td>\n",
              "      <td>...</td>\n",
              "    </tr>\n",
              "    <tr>\n",
              "      <th>1025</th>\n",
              "      <td>2022-01-11 05:43:20+00:00</td>\n",
              "      <td>Sitting ministers leaving BJP shows people are...</td>\n",
              "      <td>DevenderYadav_</td>\n",
              "    </tr>\n",
              "    <tr>\n",
              "      <th>1026</th>\n",
              "      <td>2022-01-11 05:29:22+00:00</td>\n",
              "      <td>Only Kejriwal ji has presented a vision for Go...</td>\n",
              "      <td>kuldeepsinghto4</td>\n",
              "    </tr>\n",
              "    <tr>\n",
              "      <th>1027</th>\n",
              "      <td>2022-01-11 05:10:02+00:00</td>\n",
              "      <td>Only Kejriwal ji has presented a vision for Go...</td>\n",
              "      <td>AAPGoa</td>\n",
              "    </tr>\n",
              "    <tr>\n",
              "      <th>1028</th>\n",
              "      <td>2022-01-11 05:06:38+00:00</td>\n",
              "      <td>Sitting ministers leaving BJP shows people are...</td>\n",
              "      <td>AamAadmiParty</td>\n",
              "    </tr>\n",
              "    <tr>\n",
              "      <th>1029</th>\n",
              "      <td>2022-01-11 02:28:48+00:00</td>\n",
              "      <td>As per Pre-poll Survey AAP is 2% behind BJP wh...</td>\n",
              "      <td>GeorgeG1006</td>\n",
              "    </tr>\n",
              "  </tbody>\n",
              "</table>\n",
              "<p>1030 rows × 3 columns</p>\n",
              "</div>\n",
              "      <button class=\"colab-df-convert\" onclick=\"convertToInteractive('df-51a694bf-64a5-46b4-ba4c-f300413faf0c')\"\n",
              "              title=\"Convert this dataframe to an interactive table.\"\n",
              "              style=\"display:none;\">\n",
              "        \n",
              "  <svg xmlns=\"http://www.w3.org/2000/svg\" height=\"24px\"viewBox=\"0 0 24 24\"\n",
              "       width=\"24px\">\n",
              "    <path d=\"M0 0h24v24H0V0z\" fill=\"none\"/>\n",
              "    <path d=\"M18.56 5.44l.94 2.06.94-2.06 2.06-.94-2.06-.94-.94-2.06-.94 2.06-2.06.94zm-11 1L8.5 8.5l.94-2.06 2.06-.94-2.06-.94L8.5 2.5l-.94 2.06-2.06.94zm10 10l.94 2.06.94-2.06 2.06-.94-2.06-.94-.94-2.06-.94 2.06-2.06.94z\"/><path d=\"M17.41 7.96l-1.37-1.37c-.4-.4-.92-.59-1.43-.59-.52 0-1.04.2-1.43.59L10.3 9.45l-7.72 7.72c-.78.78-.78 2.05 0 2.83L4 21.41c.39.39.9.59 1.41.59.51 0 1.02-.2 1.41-.59l7.78-7.78 2.81-2.81c.8-.78.8-2.07 0-2.86zM5.41 20L4 18.59l7.72-7.72 1.47 1.35L5.41 20z\"/>\n",
              "  </svg>\n",
              "      </button>\n",
              "      \n",
              "  <style>\n",
              "    .colab-df-container {\n",
              "      display:flex;\n",
              "      flex-wrap:wrap;\n",
              "      gap: 12px;\n",
              "    }\n",
              "\n",
              "    .colab-df-convert {\n",
              "      background-color: #E8F0FE;\n",
              "      border: none;\n",
              "      border-radius: 50%;\n",
              "      cursor: pointer;\n",
              "      display: none;\n",
              "      fill: #1967D2;\n",
              "      height: 32px;\n",
              "      padding: 0 0 0 0;\n",
              "      width: 32px;\n",
              "    }\n",
              "\n",
              "    .colab-df-convert:hover {\n",
              "      background-color: #E2EBFA;\n",
              "      box-shadow: 0px 1px 2px rgba(60, 64, 67, 0.3), 0px 1px 3px 1px rgba(60, 64, 67, 0.15);\n",
              "      fill: #174EA6;\n",
              "    }\n",
              "\n",
              "    [theme=dark] .colab-df-convert {\n",
              "      background-color: #3B4455;\n",
              "      fill: #D2E3FC;\n",
              "    }\n",
              "\n",
              "    [theme=dark] .colab-df-convert:hover {\n",
              "      background-color: #434B5C;\n",
              "      box-shadow: 0px 1px 3px 1px rgba(0, 0, 0, 0.15);\n",
              "      filter: drop-shadow(0px 1px 2px rgba(0, 0, 0, 0.3));\n",
              "      fill: #FFFFFF;\n",
              "    }\n",
              "  </style>\n",
              "\n",
              "      <script>\n",
              "        const buttonEl =\n",
              "          document.querySelector('#df-51a694bf-64a5-46b4-ba4c-f300413faf0c button.colab-df-convert');\n",
              "        buttonEl.style.display =\n",
              "          google.colab.kernel.accessAllowed ? 'block' : 'none';\n",
              "\n",
              "        async function convertToInteractive(key) {\n",
              "          const element = document.querySelector('#df-51a694bf-64a5-46b4-ba4c-f300413faf0c');\n",
              "          const dataTable =\n",
              "            await google.colab.kernel.invokeFunction('convertToInteractive',\n",
              "                                                     [key], {});\n",
              "          if (!dataTable) return;\n",
              "\n",
              "          const docLinkHtml = 'Like what you see? Visit the ' +\n",
              "            '<a target=\"_blank\" href=https://colab.research.google.com/notebooks/data_table.ipynb>data table notebook</a>'\n",
              "            + ' to learn more about interactive tables.';\n",
              "          element.innerHTML = '';\n",
              "          dataTable['output_type'] = 'display_data';\n",
              "          await google.colab.output.renderOutput(dataTable, element);\n",
              "          const docLink = document.createElement('div');\n",
              "          docLink.innerHTML = docLinkHtml;\n",
              "          element.appendChild(docLink);\n",
              "        }\n",
              "      </script>\n",
              "    </div>\n",
              "  </div>\n",
              "  "
            ],
            "text/plain": [
              "                      Datetime  \\\n",
              "0    2022-01-14 22:49:27+00:00   \n",
              "1    2022-01-14 22:15:57+00:00   \n",
              "2    2022-01-14 21:13:23+00:00   \n",
              "3    2022-01-14 20:07:56+00:00   \n",
              "4    2022-01-14 19:49:01+00:00   \n",
              "...                        ...   \n",
              "1025 2022-01-11 05:43:20+00:00   \n",
              "1026 2022-01-11 05:29:22+00:00   \n",
              "1027 2022-01-11 05:10:02+00:00   \n",
              "1028 2022-01-11 05:06:38+00:00   \n",
              "1029 2022-01-11 02:28:48+00:00   \n",
              "\n",
              "                                                   Text             User  \n",
              "0     @ShwetaIndia1 @SanjayAzadSln @Vaibhav_AAP With...  drsaquibahmed11  \n",
              "1     @BhavikaKapoor5 We shouldn't get into trap of ...       sarda_shiv  \n",
              "2     #GoaDiary_Goa_News   Arvind Kejriwal to visit ...    omgoa_dot_com  \n",
              "3     @MahuaMoitra You're fooling nobody. You and AA...  Nostrdamuspeaks  \n",
              "4     @ANKITDARJI_AAP @AAPPunjab @AAPUttarPradesh @A...        dcpatel28  \n",
              "...                                                 ...              ...  \n",
              "1025  Sitting ministers leaving BJP shows people are...   DevenderYadav_  \n",
              "1026  Only Kejriwal ji has presented a vision for Go...  kuldeepsinghto4  \n",
              "1027  Only Kejriwal ji has presented a vision for Go...           AAPGoa  \n",
              "1028  Sitting ministers leaving BJP shows people are...    AamAadmiParty  \n",
              "1029  As per Pre-poll Survey AAP is 2% behind BJP wh...      GeorgeG1006  \n",
              "\n",
              "[1030 rows x 3 columns]"
            ]
          },
          "metadata": {},
          "execution_count": 125
        }
      ]
    },
    {
      "cell_type": "code",
      "source": [
        "df_train.to_csv(\"Goa-AAP.csv\", index=False)"
      ],
      "metadata": {
        "id": "1PrKxGOg9nS0"
      },
      "execution_count": null,
      "outputs": []
    },
    {
      "cell_type": "code",
      "source": [
        "tweets = []"
      ],
      "metadata": {
        "id": "YKRHPAPq9pmR"
      },
      "execution_count": null,
      "outputs": []
    },
    {
      "cell_type": "code",
      "execution_count": null,
      "metadata": {
        "id": "vR9CKyh8lWKn"
      },
      "outputs": [],
      "source": [
        "search(\"INC Goa\", 2000)\n",
        "search(\"INC Goa elections\", 2000)\n",
        "search(\"Congress Goa\", 1000)\n",
        "search(\"Digambar Kamat\", 1000)\n",
        "search(\"Kamat election\", 2000)"
      ]
    },
    {
      "cell_type": "code",
      "source": [
        "search(\"INC Goa election\", 2000)"
      ],
      "metadata": {
        "id": "WNchpzxvFsII"
      },
      "execution_count": null,
      "outputs": []
    },
    {
      "cell_type": "code",
      "execution_count": null,
      "metadata": {
        "colab": {
          "base_uri": "https://localhost:8080/"
        },
        "id": "Agtd9gt-lvpt",
        "outputId": "0f880c3f-fab2-4e87-9b4c-ec43cc364a7f"
      },
      "outputs": [
        {
          "output_type": "execute_result",
          "data": {
            "text/plain": [
              "2217"
            ]
          },
          "metadata": {},
          "execution_count": 130
        }
      ],
      "source": [
        "len(tweets)"
      ]
    },
    {
      "cell_type": "code",
      "source": [
        "df_train = pd.DataFrame(tweets, columns=['Datetime', 'Text',  'User'])\n",
        "df_train"
      ],
      "metadata": {
        "colab": {
          "base_uri": "https://localhost:8080/",
          "height": 424
        },
        "id": "T47kg4qV9zxG",
        "outputId": "ac9ba2dd-4494-414d-ac52-2764206ea55d"
      },
      "execution_count": null,
      "outputs": [
        {
          "output_type": "execute_result",
          "data": {
            "text/html": [
              "\n",
              "  <div id=\"df-973218a4-7b1b-4797-90bd-02319cc1b939\">\n",
              "    <div class=\"colab-df-container\">\n",
              "      <div>\n",
              "<style scoped>\n",
              "    .dataframe tbody tr th:only-of-type {\n",
              "        vertical-align: middle;\n",
              "    }\n",
              "\n",
              "    .dataframe tbody tr th {\n",
              "        vertical-align: top;\n",
              "    }\n",
              "\n",
              "    .dataframe thead th {\n",
              "        text-align: right;\n",
              "    }\n",
              "</style>\n",
              "<table border=\"1\" class=\"dataframe\">\n",
              "  <thead>\n",
              "    <tr style=\"text-align: right;\">\n",
              "      <th></th>\n",
              "      <th>Datetime</th>\n",
              "      <th>Text</th>\n",
              "      <th>User</th>\n",
              "    </tr>\n",
              "  </thead>\n",
              "  <tbody>\n",
              "    <tr>\n",
              "      <th>0</th>\n",
              "      <td>2022-01-14 23:58:01+00:00</td>\n",
              "      <td>@MahuaMoitra Who is AITC to offer to INC??? IN...</td>\n",
              "      <td>NirikshanBilla</td>\n",
              "    </tr>\n",
              "    <tr>\n",
              "      <th>1</th>\n",
              "      <td>2022-01-14 22:03:03+00:00</td>\n",
              "      <td>@hpinto74 @GeorgekurianINC @rssurjewala @Mahua...</td>\n",
              "      <td>GreensBlr</td>\n",
              "    </tr>\n",
              "    <tr>\n",
              "      <th>2</th>\n",
              "      <td>2022-01-14 21:56:28+00:00</td>\n",
              "      <td>@VarunHariPrasad @GeorgekurianINC @rssurjewala...</td>\n",
              "      <td>GreensBlr</td>\n",
              "    </tr>\n",
              "    <tr>\n",
              "      <th>3</th>\n",
              "      <td>2022-01-14 21:54:01+00:00</td>\n",
              "      <td>@INCdilse @GeorgekurianINC @rssurjewala @Mahua...</td>\n",
              "      <td>GreensBlr</td>\n",
              "    </tr>\n",
              "    <tr>\n",
              "      <th>4</th>\n",
              "      <td>2022-01-14 21:50:49+00:00</td>\n",
              "      <td>@MeenaDeshpand10 @GeorgekurianINC @rssurjewala...</td>\n",
              "      <td>GreensBlr</td>\n",
              "    </tr>\n",
              "    <tr>\n",
              "      <th>...</th>\n",
              "      <td>...</td>\n",
              "      <td>...</td>\n",
              "      <td>...</td>\n",
              "    </tr>\n",
              "    <tr>\n",
              "      <th>2212</th>\n",
              "      <td>2022-01-11 12:22:57+00:00</td>\n",
              "      <td>Former MLA and former Trinamool leader Lavoo M...</td>\n",
              "      <td>Navhind_Times</td>\n",
              "    </tr>\n",
              "    <tr>\n",
              "      <th>2213</th>\n",
              "      <td>2022-01-11 11:40:43+00:00</td>\n",
              "      <td>Public Assessment for 2022 Assembly Election i...</td>\n",
              "      <td>Arsalankhalid02</td>\n",
              "    </tr>\n",
              "    <tr>\n",
              "      <th>2214</th>\n",
              "      <td>2022-01-11 11:04:28+00:00</td>\n",
              "      <td>Public Assessment for 2022 Assembly Election i...</td>\n",
              "      <td>Chandish07</td>\n",
              "    </tr>\n",
              "    <tr>\n",
              "      <th>2215</th>\n",
              "      <td>2022-01-11 11:01:46+00:00</td>\n",
              "      <td>Public Assessment for 2022 Assembly Election i...</td>\n",
              "      <td>SiddharthsINC</td>\n",
              "    </tr>\n",
              "    <tr>\n",
              "      <th>2216</th>\n",
              "      <td>2022-01-11 11:01:14+00:00</td>\n",
              "      <td>Public Assessment for 2022 Assembly Election i...</td>\n",
              "      <td>AabidMagami</td>\n",
              "    </tr>\n",
              "  </tbody>\n",
              "</table>\n",
              "<p>2217 rows × 3 columns</p>\n",
              "</div>\n",
              "      <button class=\"colab-df-convert\" onclick=\"convertToInteractive('df-973218a4-7b1b-4797-90bd-02319cc1b939')\"\n",
              "              title=\"Convert this dataframe to an interactive table.\"\n",
              "              style=\"display:none;\">\n",
              "        \n",
              "  <svg xmlns=\"http://www.w3.org/2000/svg\" height=\"24px\"viewBox=\"0 0 24 24\"\n",
              "       width=\"24px\">\n",
              "    <path d=\"M0 0h24v24H0V0z\" fill=\"none\"/>\n",
              "    <path d=\"M18.56 5.44l.94 2.06.94-2.06 2.06-.94-2.06-.94-.94-2.06-.94 2.06-2.06.94zm-11 1L8.5 8.5l.94-2.06 2.06-.94-2.06-.94L8.5 2.5l-.94 2.06-2.06.94zm10 10l.94 2.06.94-2.06 2.06-.94-2.06-.94-.94-2.06-.94 2.06-2.06.94z\"/><path d=\"M17.41 7.96l-1.37-1.37c-.4-.4-.92-.59-1.43-.59-.52 0-1.04.2-1.43.59L10.3 9.45l-7.72 7.72c-.78.78-.78 2.05 0 2.83L4 21.41c.39.39.9.59 1.41.59.51 0 1.02-.2 1.41-.59l7.78-7.78 2.81-2.81c.8-.78.8-2.07 0-2.86zM5.41 20L4 18.59l7.72-7.72 1.47 1.35L5.41 20z\"/>\n",
              "  </svg>\n",
              "      </button>\n",
              "      \n",
              "  <style>\n",
              "    .colab-df-container {\n",
              "      display:flex;\n",
              "      flex-wrap:wrap;\n",
              "      gap: 12px;\n",
              "    }\n",
              "\n",
              "    .colab-df-convert {\n",
              "      background-color: #E8F0FE;\n",
              "      border: none;\n",
              "      border-radius: 50%;\n",
              "      cursor: pointer;\n",
              "      display: none;\n",
              "      fill: #1967D2;\n",
              "      height: 32px;\n",
              "      padding: 0 0 0 0;\n",
              "      width: 32px;\n",
              "    }\n",
              "\n",
              "    .colab-df-convert:hover {\n",
              "      background-color: #E2EBFA;\n",
              "      box-shadow: 0px 1px 2px rgba(60, 64, 67, 0.3), 0px 1px 3px 1px rgba(60, 64, 67, 0.15);\n",
              "      fill: #174EA6;\n",
              "    }\n",
              "\n",
              "    [theme=dark] .colab-df-convert {\n",
              "      background-color: #3B4455;\n",
              "      fill: #D2E3FC;\n",
              "    }\n",
              "\n",
              "    [theme=dark] .colab-df-convert:hover {\n",
              "      background-color: #434B5C;\n",
              "      box-shadow: 0px 1px 3px 1px rgba(0, 0, 0, 0.15);\n",
              "      filter: drop-shadow(0px 1px 2px rgba(0, 0, 0, 0.3));\n",
              "      fill: #FFFFFF;\n",
              "    }\n",
              "  </style>\n",
              "\n",
              "      <script>\n",
              "        const buttonEl =\n",
              "          document.querySelector('#df-973218a4-7b1b-4797-90bd-02319cc1b939 button.colab-df-convert');\n",
              "        buttonEl.style.display =\n",
              "          google.colab.kernel.accessAllowed ? 'block' : 'none';\n",
              "\n",
              "        async function convertToInteractive(key) {\n",
              "          const element = document.querySelector('#df-973218a4-7b1b-4797-90bd-02319cc1b939');\n",
              "          const dataTable =\n",
              "            await google.colab.kernel.invokeFunction('convertToInteractive',\n",
              "                                                     [key], {});\n",
              "          if (!dataTable) return;\n",
              "\n",
              "          const docLinkHtml = 'Like what you see? Visit the ' +\n",
              "            '<a target=\"_blank\" href=https://colab.research.google.com/notebooks/data_table.ipynb>data table notebook</a>'\n",
              "            + ' to learn more about interactive tables.';\n",
              "          element.innerHTML = '';\n",
              "          dataTable['output_type'] = 'display_data';\n",
              "          await google.colab.output.renderOutput(dataTable, element);\n",
              "          const docLink = document.createElement('div');\n",
              "          docLink.innerHTML = docLinkHtml;\n",
              "          element.appendChild(docLink);\n",
              "        }\n",
              "      </script>\n",
              "    </div>\n",
              "  </div>\n",
              "  "
            ],
            "text/plain": [
              "                      Datetime  \\\n",
              "0    2022-01-14 23:58:01+00:00   \n",
              "1    2022-01-14 22:03:03+00:00   \n",
              "2    2022-01-14 21:56:28+00:00   \n",
              "3    2022-01-14 21:54:01+00:00   \n",
              "4    2022-01-14 21:50:49+00:00   \n",
              "...                        ...   \n",
              "2212 2022-01-11 12:22:57+00:00   \n",
              "2213 2022-01-11 11:40:43+00:00   \n",
              "2214 2022-01-11 11:04:28+00:00   \n",
              "2215 2022-01-11 11:01:46+00:00   \n",
              "2216 2022-01-11 11:01:14+00:00   \n",
              "\n",
              "                                                   Text             User  \n",
              "0     @MahuaMoitra Who is AITC to offer to INC??? IN...   NirikshanBilla  \n",
              "1     @hpinto74 @GeorgekurianINC @rssurjewala @Mahua...        GreensBlr  \n",
              "2     @VarunHariPrasad @GeorgekurianINC @rssurjewala...        GreensBlr  \n",
              "3     @INCdilse @GeorgekurianINC @rssurjewala @Mahua...        GreensBlr  \n",
              "4     @MeenaDeshpand10 @GeorgekurianINC @rssurjewala...        GreensBlr  \n",
              "...                                                 ...              ...  \n",
              "2212  Former MLA and former Trinamool leader Lavoo M...    Navhind_Times  \n",
              "2213  Public Assessment for 2022 Assembly Election i...  Arsalankhalid02  \n",
              "2214  Public Assessment for 2022 Assembly Election i...       Chandish07  \n",
              "2215  Public Assessment for 2022 Assembly Election i...    SiddharthsINC  \n",
              "2216  Public Assessment for 2022 Assembly Election i...      AabidMagami  \n",
              "\n",
              "[2217 rows x 3 columns]"
            ]
          },
          "metadata": {},
          "execution_count": 131
        }
      ]
    },
    {
      "cell_type": "code",
      "source": [
        "df_train.to_csv(\"Goa-INC.csv\", index=False)"
      ],
      "metadata": {
        "id": "wUByoHRc9zxH"
      },
      "execution_count": null,
      "outputs": []
    },
    {
      "cell_type": "code",
      "source": [
        "tweets = []"
      ],
      "metadata": {
        "id": "ZcloiUkV935p"
      },
      "execution_count": null,
      "outputs": []
    },
    {
      "cell_type": "code",
      "execution_count": null,
      "metadata": {
        "id": "WtLJE-gAmLdJ"
      },
      "outputs": [],
      "source": [
        "search(\"BJP Goa\", 2000)\n",
        "search(\"BJP Goa elections\", 2000)\n",
        "search(\"NDA Goa\", 2000)\n",
        "search(\"Pramod Sawant\", 1000)\n",
        "search(\"Sawant election\", 2000)"
      ]
    },
    {
      "cell_type": "code",
      "source": [
        "search(\"BJP Goa election\", 2000)"
      ],
      "metadata": {
        "id": "DREntJNNFxpf"
      },
      "execution_count": null,
      "outputs": []
    },
    {
      "cell_type": "code",
      "execution_count": null,
      "metadata": {
        "colab": {
          "base_uri": "https://localhost:8080/"
        },
        "id": "PzZkIKZumgNX",
        "outputId": "ac6c99c8-af5e-41b7-8a13-24f867c0d127"
      },
      "outputs": [
        {
          "output_type": "execute_result",
          "data": {
            "text/plain": [
              "2270"
            ]
          },
          "metadata": {},
          "execution_count": 136
        }
      ],
      "source": [
        "len(tweets)"
      ]
    },
    {
      "cell_type": "code",
      "source": [
        "df_train = pd.DataFrame(tweets, columns=['Datetime', 'Text',  'User'])\n",
        "df_train"
      ],
      "metadata": {
        "colab": {
          "base_uri": "https://localhost:8080/",
          "height": 424
        },
        "id": "npQnd1LX9-5H",
        "outputId": "259159c1-a43f-48f9-efd9-2a88ddb10b5a"
      },
      "execution_count": null,
      "outputs": [
        {
          "output_type": "execute_result",
          "data": {
            "text/html": [
              "\n",
              "  <div id=\"df-d3c6fd97-e3ed-4d16-8019-c07f415c8e8c\">\n",
              "    <div class=\"colab-df-container\">\n",
              "      <div>\n",
              "<style scoped>\n",
              "    .dataframe tbody tr th:only-of-type {\n",
              "        vertical-align: middle;\n",
              "    }\n",
              "\n",
              "    .dataframe tbody tr th {\n",
              "        vertical-align: top;\n",
              "    }\n",
              "\n",
              "    .dataframe thead th {\n",
              "        text-align: right;\n",
              "    }\n",
              "</style>\n",
              "<table border=\"1\" class=\"dataframe\">\n",
              "  <thead>\n",
              "    <tr style=\"text-align: right;\">\n",
              "      <th></th>\n",
              "      <th>Datetime</th>\n",
              "      <th>Text</th>\n",
              "      <th>User</th>\n",
              "    </tr>\n",
              "  </thead>\n",
              "  <tbody>\n",
              "    <tr>\n",
              "      <th>0</th>\n",
              "      <td>2022-01-14 23:58:01+00:00</td>\n",
              "      <td>@MahuaMoitra Who is AITC to offer to INC??? IN...</td>\n",
              "      <td>NirikshanBilla</td>\n",
              "    </tr>\n",
              "    <tr>\n",
              "      <th>1</th>\n",
              "      <td>2022-01-14 22:43:42+00:00</td>\n",
              "      <td>#GoaDiary_Goa_News   BJP in dicey situation ov...</td>\n",
              "      <td>omgoa_dot_com</td>\n",
              "    </tr>\n",
              "    <tr>\n",
              "      <th>2</th>\n",
              "      <td>2022-01-14 22:27:22+00:00</td>\n",
              "      <td>@SummerMerin @GeorgekurianINC @rssurjewala @Ma...</td>\n",
              "      <td>GreensBlr</td>\n",
              "    </tr>\n",
              "    <tr>\n",
              "      <th>3</th>\n",
              "      <td>2022-01-14 22:15:57+00:00</td>\n",
              "      <td>@BhavikaKapoor5 We shouldn't get into trap of ...</td>\n",
              "      <td>sarda_shiv</td>\n",
              "    </tr>\n",
              "    <tr>\n",
              "      <th>4</th>\n",
              "      <td>2022-01-14 21:44:03+00:00</td>\n",
              "      <td>@WilfredQuadros1 @GeorgekurianINC @rssurjewala...</td>\n",
              "      <td>GreensBlr</td>\n",
              "    </tr>\n",
              "    <tr>\n",
              "      <th>...</th>\n",
              "      <td>...</td>\n",
              "      <td>...</td>\n",
              "      <td>...</td>\n",
              "    </tr>\n",
              "    <tr>\n",
              "      <th>2265</th>\n",
              "      <td>2022-01-11 03:28:31+00:00</td>\n",
              "      <td>Assembly Election 2022 LIVE Updates: BJP to de...</td>\n",
              "      <td>RohitKu56762491</td>\n",
              "    </tr>\n",
              "    <tr>\n",
              "      <th>2266</th>\n",
              "      <td>2022-01-11 03:04:52+00:00</td>\n",
              "      <td>What's your prediction on election result? Min...</td>\n",
              "      <td>GuruprasadKul20</td>\n",
              "    </tr>\n",
              "    <tr>\n",
              "      <th>2267</th>\n",
              "      <td>2022-01-11 00:44:13+00:00</td>\n",
              "      <td>Even if congress win\\nFew seats to make allian...</td>\n",
              "      <td>Tony15978989</td>\n",
              "    </tr>\n",
              "    <tr>\n",
              "      <th>2268</th>\n",
              "      <td>2022-01-11 00:42:25+00:00</td>\n",
              "      <td>@ktastrologer Sir Ji, What is the position of ...</td>\n",
              "      <td>iamsinghdinesh</td>\n",
              "    </tr>\n",
              "    <tr>\n",
              "      <th>2269</th>\n",
              "      <td>2022-01-11 00:20:24+00:00</td>\n",
              "      <td>BJP projected to get simple majority in Goa\\n#...</td>\n",
              "      <td>Newskarnataka</td>\n",
              "    </tr>\n",
              "  </tbody>\n",
              "</table>\n",
              "<p>2270 rows × 3 columns</p>\n",
              "</div>\n",
              "      <button class=\"colab-df-convert\" onclick=\"convertToInteractive('df-d3c6fd97-e3ed-4d16-8019-c07f415c8e8c')\"\n",
              "              title=\"Convert this dataframe to an interactive table.\"\n",
              "              style=\"display:none;\">\n",
              "        \n",
              "  <svg xmlns=\"http://www.w3.org/2000/svg\" height=\"24px\"viewBox=\"0 0 24 24\"\n",
              "       width=\"24px\">\n",
              "    <path d=\"M0 0h24v24H0V0z\" fill=\"none\"/>\n",
              "    <path d=\"M18.56 5.44l.94 2.06.94-2.06 2.06-.94-2.06-.94-.94-2.06-.94 2.06-2.06.94zm-11 1L8.5 8.5l.94-2.06 2.06-.94-2.06-.94L8.5 2.5l-.94 2.06-2.06.94zm10 10l.94 2.06.94-2.06 2.06-.94-2.06-.94-.94-2.06-.94 2.06-2.06.94z\"/><path d=\"M17.41 7.96l-1.37-1.37c-.4-.4-.92-.59-1.43-.59-.52 0-1.04.2-1.43.59L10.3 9.45l-7.72 7.72c-.78.78-.78 2.05 0 2.83L4 21.41c.39.39.9.59 1.41.59.51 0 1.02-.2 1.41-.59l7.78-7.78 2.81-2.81c.8-.78.8-2.07 0-2.86zM5.41 20L4 18.59l7.72-7.72 1.47 1.35L5.41 20z\"/>\n",
              "  </svg>\n",
              "      </button>\n",
              "      \n",
              "  <style>\n",
              "    .colab-df-container {\n",
              "      display:flex;\n",
              "      flex-wrap:wrap;\n",
              "      gap: 12px;\n",
              "    }\n",
              "\n",
              "    .colab-df-convert {\n",
              "      background-color: #E8F0FE;\n",
              "      border: none;\n",
              "      border-radius: 50%;\n",
              "      cursor: pointer;\n",
              "      display: none;\n",
              "      fill: #1967D2;\n",
              "      height: 32px;\n",
              "      padding: 0 0 0 0;\n",
              "      width: 32px;\n",
              "    }\n",
              "\n",
              "    .colab-df-convert:hover {\n",
              "      background-color: #E2EBFA;\n",
              "      box-shadow: 0px 1px 2px rgba(60, 64, 67, 0.3), 0px 1px 3px 1px rgba(60, 64, 67, 0.15);\n",
              "      fill: #174EA6;\n",
              "    }\n",
              "\n",
              "    [theme=dark] .colab-df-convert {\n",
              "      background-color: #3B4455;\n",
              "      fill: #D2E3FC;\n",
              "    }\n",
              "\n",
              "    [theme=dark] .colab-df-convert:hover {\n",
              "      background-color: #434B5C;\n",
              "      box-shadow: 0px 1px 3px 1px rgba(0, 0, 0, 0.15);\n",
              "      filter: drop-shadow(0px 1px 2px rgba(0, 0, 0, 0.3));\n",
              "      fill: #FFFFFF;\n",
              "    }\n",
              "  </style>\n",
              "\n",
              "      <script>\n",
              "        const buttonEl =\n",
              "          document.querySelector('#df-d3c6fd97-e3ed-4d16-8019-c07f415c8e8c button.colab-df-convert');\n",
              "        buttonEl.style.display =\n",
              "          google.colab.kernel.accessAllowed ? 'block' : 'none';\n",
              "\n",
              "        async function convertToInteractive(key) {\n",
              "          const element = document.querySelector('#df-d3c6fd97-e3ed-4d16-8019-c07f415c8e8c');\n",
              "          const dataTable =\n",
              "            await google.colab.kernel.invokeFunction('convertToInteractive',\n",
              "                                                     [key], {});\n",
              "          if (!dataTable) return;\n",
              "\n",
              "          const docLinkHtml = 'Like what you see? Visit the ' +\n",
              "            '<a target=\"_blank\" href=https://colab.research.google.com/notebooks/data_table.ipynb>data table notebook</a>'\n",
              "            + ' to learn more about interactive tables.';\n",
              "          element.innerHTML = '';\n",
              "          dataTable['output_type'] = 'display_data';\n",
              "          await google.colab.output.renderOutput(dataTable, element);\n",
              "          const docLink = document.createElement('div');\n",
              "          docLink.innerHTML = docLinkHtml;\n",
              "          element.appendChild(docLink);\n",
              "        }\n",
              "      </script>\n",
              "    </div>\n",
              "  </div>\n",
              "  "
            ],
            "text/plain": [
              "                      Datetime  \\\n",
              "0    2022-01-14 23:58:01+00:00   \n",
              "1    2022-01-14 22:43:42+00:00   \n",
              "2    2022-01-14 22:27:22+00:00   \n",
              "3    2022-01-14 22:15:57+00:00   \n",
              "4    2022-01-14 21:44:03+00:00   \n",
              "...                        ...   \n",
              "2265 2022-01-11 03:28:31+00:00   \n",
              "2266 2022-01-11 03:04:52+00:00   \n",
              "2267 2022-01-11 00:44:13+00:00   \n",
              "2268 2022-01-11 00:42:25+00:00   \n",
              "2269 2022-01-11 00:20:24+00:00   \n",
              "\n",
              "                                                   Text             User  \n",
              "0     @MahuaMoitra Who is AITC to offer to INC??? IN...   NirikshanBilla  \n",
              "1     #GoaDiary_Goa_News   BJP in dicey situation ov...    omgoa_dot_com  \n",
              "2     @SummerMerin @GeorgekurianINC @rssurjewala @Ma...        GreensBlr  \n",
              "3     @BhavikaKapoor5 We shouldn't get into trap of ...       sarda_shiv  \n",
              "4     @WilfredQuadros1 @GeorgekurianINC @rssurjewala...        GreensBlr  \n",
              "...                                                 ...              ...  \n",
              "2265  Assembly Election 2022 LIVE Updates: BJP to de...  RohitKu56762491  \n",
              "2266  What's your prediction on election result? Min...  GuruprasadKul20  \n",
              "2267  Even if congress win\\nFew seats to make allian...     Tony15978989  \n",
              "2268  @ktastrologer Sir Ji, What is the position of ...   iamsinghdinesh  \n",
              "2269  BJP projected to get simple majority in Goa\\n#...    Newskarnataka  \n",
              "\n",
              "[2270 rows x 3 columns]"
            ]
          },
          "metadata": {},
          "execution_count": 137
        }
      ]
    },
    {
      "cell_type": "code",
      "source": [
        "df_train.to_csv(\"Goa-BJP.csv\", index=False)"
      ],
      "metadata": {
        "id": "h_Qrl-aa9-5J"
      },
      "execution_count": null,
      "outputs": []
    },
    {
      "cell_type": "code",
      "source": [
        "tweets = []"
      ],
      "metadata": {
        "id": "YICe_DwD-HGm"
      },
      "execution_count": null,
      "outputs": []
    },
    {
      "cell_type": "code",
      "execution_count": null,
      "metadata": {
        "id": "0ZkUMXxAnHNd"
      },
      "outputs": [],
      "source": [
        "search(\"NDA Manipur\", 2000)\n",
        "search(\"BJP Manipur election\", 2000)\n",
        "search(\"Biren Manipur\", 2000)\n",
        "search(\"Nongthombam Biren Singh\", 1000)\n",
        "search(\"biren singh election\", 2000)"
      ]
    },
    {
      "cell_type": "code",
      "execution_count": null,
      "metadata": {
        "colab": {
          "base_uri": "https://localhost:8080/"
        },
        "id": "QkV6TMwtoJZL",
        "outputId": "59848c41-7f44-44a4-95c8-c99c4b422c47"
      },
      "outputs": [
        {
          "output_type": "execute_result",
          "data": {
            "text/plain": [
              "91"
            ]
          },
          "metadata": {},
          "execution_count": 141
        }
      ],
      "source": [
        "len(tweets)"
      ]
    },
    {
      "cell_type": "code",
      "execution_count": null,
      "metadata": {
        "id": "jeKa71sBoSs0"
      },
      "outputs": [],
      "source": [
        "search(\"BJP Manipur\", 2000)"
      ]
    },
    {
      "cell_type": "code",
      "source": [
        "df_train = pd.DataFrame(tweets, columns=['Datetime', 'Text',  'User'])\n",
        "df_train"
      ],
      "metadata": {
        "colab": {
          "base_uri": "https://localhost:8080/",
          "height": 424
        },
        "id": "sRt3K-Eb-LQ6",
        "outputId": "d9deb11a-32dd-49d0-edfa-860212393b64"
      },
      "execution_count": null,
      "outputs": [
        {
          "output_type": "execute_result",
          "data": {
            "text/html": [
              "\n",
              "  <div id=\"df-d950edd6-ff4c-42c8-8730-6c37ea0c17ef\">\n",
              "    <div class=\"colab-df-container\">\n",
              "      <div>\n",
              "<style scoped>\n",
              "    .dataframe tbody tr th:only-of-type {\n",
              "        vertical-align: middle;\n",
              "    }\n",
              "\n",
              "    .dataframe tbody tr th {\n",
              "        vertical-align: top;\n",
              "    }\n",
              "\n",
              "    .dataframe thead th {\n",
              "        text-align: right;\n",
              "    }\n",
              "</style>\n",
              "<table border=\"1\" class=\"dataframe\">\n",
              "  <thead>\n",
              "    <tr style=\"text-align: right;\">\n",
              "      <th></th>\n",
              "      <th>Datetime</th>\n",
              "      <th>Text</th>\n",
              "      <th>User</th>\n",
              "    </tr>\n",
              "  </thead>\n",
              "  <tbody>\n",
              "    <tr>\n",
              "      <th>0</th>\n",
              "      <td>2022-01-14 16:06:36+00:00</td>\n",
              "      <td>I call upon the people of the 5 States UP, PB,...</td>\n",
              "      <td>ThilakChristop3</td>\n",
              "    </tr>\n",
              "    <tr>\n",
              "      <th>1</th>\n",
              "      <td>2022-01-12 15:28:16+00:00</td>\n",
              "      <td>My estimate (Gut feeling) 2022 State Polls:\\n*...</td>\n",
              "      <td>ComedyVikas</td>\n",
              "    </tr>\n",
              "    <tr>\n",
              "      <th>2</th>\n",
              "      <td>2022-01-11 11:03:48+00:00</td>\n",
              "      <td>The NDA government is constantly making effort...</td>\n",
              "      <td>BJP4Manipur</td>\n",
              "    </tr>\n",
              "    <tr>\n",
              "      <th>3</th>\n",
              "      <td>2022-01-11 09:22:07+00:00</td>\n",
              "      <td>@Krishna07595201 @MaaKaLadla13 @RoflGandhi_ NP...</td>\n",
              "      <td>horizonwords</td>\n",
              "    </tr>\n",
              "    <tr>\n",
              "      <th>4</th>\n",
              "      <td>2022-01-11 03:47:24+00:00</td>\n",
              "      <td>My predictions for the coming elections in 5 s...</td>\n",
              "      <td>varundutta2381</td>\n",
              "    </tr>\n",
              "    <tr>\n",
              "      <th>...</th>\n",
              "      <td>...</td>\n",
              "      <td>...</td>\n",
              "      <td>...</td>\n",
              "    </tr>\n",
              "    <tr>\n",
              "      <th>551</th>\n",
              "      <td>2022-01-11 02:10:20+00:00</td>\n",
              "      <td>#BREAKING | Violence hits Manipur ahead of Ass...</td>\n",
              "      <td>republic</td>\n",
              "    </tr>\n",
              "    <tr>\n",
              "      <th>552</th>\n",
              "      <td>2022-01-11 01:46:37+00:00</td>\n",
              "      <td>BJP worker among two gunned down in Manipur ht...</td>\n",
              "      <td>TOICitiesNews</td>\n",
              "    </tr>\n",
              "    <tr>\n",
              "      <th>553</th>\n",
              "      <td>2022-01-11 01:18:51+00:00</td>\n",
              "      <td>@SavitaVrma This is my prediction on upcoming ...</td>\n",
              "      <td>iSidd1989</td>\n",
              "    </tr>\n",
              "    <tr>\n",
              "      <th>554</th>\n",
              "      <td>2022-01-11 00:42:25+00:00</td>\n",
              "      <td>@ktastrologer Sir Ji, What is the position of ...</td>\n",
              "      <td>iamsinghdinesh</td>\n",
              "    </tr>\n",
              "    <tr>\n",
              "      <th>555</th>\n",
              "      <td>2022-01-11 00:22:13+00:00</td>\n",
              "      <td>@janta_poll Manipur is definitely BJP. Insurge...</td>\n",
              "      <td>pranavsailor</td>\n",
              "    </tr>\n",
              "  </tbody>\n",
              "</table>\n",
              "<p>556 rows × 3 columns</p>\n",
              "</div>\n",
              "      <button class=\"colab-df-convert\" onclick=\"convertToInteractive('df-d950edd6-ff4c-42c8-8730-6c37ea0c17ef')\"\n",
              "              title=\"Convert this dataframe to an interactive table.\"\n",
              "              style=\"display:none;\">\n",
              "        \n",
              "  <svg xmlns=\"http://www.w3.org/2000/svg\" height=\"24px\"viewBox=\"0 0 24 24\"\n",
              "       width=\"24px\">\n",
              "    <path d=\"M0 0h24v24H0V0z\" fill=\"none\"/>\n",
              "    <path d=\"M18.56 5.44l.94 2.06.94-2.06 2.06-.94-2.06-.94-.94-2.06-.94 2.06-2.06.94zm-11 1L8.5 8.5l.94-2.06 2.06-.94-2.06-.94L8.5 2.5l-.94 2.06-2.06.94zm10 10l.94 2.06.94-2.06 2.06-.94-2.06-.94-.94-2.06-.94 2.06-2.06.94z\"/><path d=\"M17.41 7.96l-1.37-1.37c-.4-.4-.92-.59-1.43-.59-.52 0-1.04.2-1.43.59L10.3 9.45l-7.72 7.72c-.78.78-.78 2.05 0 2.83L4 21.41c.39.39.9.59 1.41.59.51 0 1.02-.2 1.41-.59l7.78-7.78 2.81-2.81c.8-.78.8-2.07 0-2.86zM5.41 20L4 18.59l7.72-7.72 1.47 1.35L5.41 20z\"/>\n",
              "  </svg>\n",
              "      </button>\n",
              "      \n",
              "  <style>\n",
              "    .colab-df-container {\n",
              "      display:flex;\n",
              "      flex-wrap:wrap;\n",
              "      gap: 12px;\n",
              "    }\n",
              "\n",
              "    .colab-df-convert {\n",
              "      background-color: #E8F0FE;\n",
              "      border: none;\n",
              "      border-radius: 50%;\n",
              "      cursor: pointer;\n",
              "      display: none;\n",
              "      fill: #1967D2;\n",
              "      height: 32px;\n",
              "      padding: 0 0 0 0;\n",
              "      width: 32px;\n",
              "    }\n",
              "\n",
              "    .colab-df-convert:hover {\n",
              "      background-color: #E2EBFA;\n",
              "      box-shadow: 0px 1px 2px rgba(60, 64, 67, 0.3), 0px 1px 3px 1px rgba(60, 64, 67, 0.15);\n",
              "      fill: #174EA6;\n",
              "    }\n",
              "\n",
              "    [theme=dark] .colab-df-convert {\n",
              "      background-color: #3B4455;\n",
              "      fill: #D2E3FC;\n",
              "    }\n",
              "\n",
              "    [theme=dark] .colab-df-convert:hover {\n",
              "      background-color: #434B5C;\n",
              "      box-shadow: 0px 1px 3px 1px rgba(0, 0, 0, 0.15);\n",
              "      filter: drop-shadow(0px 1px 2px rgba(0, 0, 0, 0.3));\n",
              "      fill: #FFFFFF;\n",
              "    }\n",
              "  </style>\n",
              "\n",
              "      <script>\n",
              "        const buttonEl =\n",
              "          document.querySelector('#df-d950edd6-ff4c-42c8-8730-6c37ea0c17ef button.colab-df-convert');\n",
              "        buttonEl.style.display =\n",
              "          google.colab.kernel.accessAllowed ? 'block' : 'none';\n",
              "\n",
              "        async function convertToInteractive(key) {\n",
              "          const element = document.querySelector('#df-d950edd6-ff4c-42c8-8730-6c37ea0c17ef');\n",
              "          const dataTable =\n",
              "            await google.colab.kernel.invokeFunction('convertToInteractive',\n",
              "                                                     [key], {});\n",
              "          if (!dataTable) return;\n",
              "\n",
              "          const docLinkHtml = 'Like what you see? Visit the ' +\n",
              "            '<a target=\"_blank\" href=https://colab.research.google.com/notebooks/data_table.ipynb>data table notebook</a>'\n",
              "            + ' to learn more about interactive tables.';\n",
              "          element.innerHTML = '';\n",
              "          dataTable['output_type'] = 'display_data';\n",
              "          await google.colab.output.renderOutput(dataTable, element);\n",
              "          const docLink = document.createElement('div');\n",
              "          docLink.innerHTML = docLinkHtml;\n",
              "          element.appendChild(docLink);\n",
              "        }\n",
              "      </script>\n",
              "    </div>\n",
              "  </div>\n",
              "  "
            ],
            "text/plain": [
              "                     Datetime  \\\n",
              "0   2022-01-14 16:06:36+00:00   \n",
              "1   2022-01-12 15:28:16+00:00   \n",
              "2   2022-01-11 11:03:48+00:00   \n",
              "3   2022-01-11 09:22:07+00:00   \n",
              "4   2022-01-11 03:47:24+00:00   \n",
              "..                        ...   \n",
              "551 2022-01-11 02:10:20+00:00   \n",
              "552 2022-01-11 01:46:37+00:00   \n",
              "553 2022-01-11 01:18:51+00:00   \n",
              "554 2022-01-11 00:42:25+00:00   \n",
              "555 2022-01-11 00:22:13+00:00   \n",
              "\n",
              "                                                  Text             User  \n",
              "0    I call upon the people of the 5 States UP, PB,...  ThilakChristop3  \n",
              "1    My estimate (Gut feeling) 2022 State Polls:\\n*...      ComedyVikas  \n",
              "2    The NDA government is constantly making effort...      BJP4Manipur  \n",
              "3    @Krishna07595201 @MaaKaLadla13 @RoflGandhi_ NP...     horizonwords  \n",
              "4    My predictions for the coming elections in 5 s...   varundutta2381  \n",
              "..                                                 ...              ...  \n",
              "551  #BREAKING | Violence hits Manipur ahead of Ass...         republic  \n",
              "552  BJP worker among two gunned down in Manipur ht...    TOICitiesNews  \n",
              "553  @SavitaVrma This is my prediction on upcoming ...        iSidd1989  \n",
              "554  @ktastrologer Sir Ji, What is the position of ...   iamsinghdinesh  \n",
              "555  @janta_poll Manipur is definitely BJP. Insurge...     pranavsailor  \n",
              "\n",
              "[556 rows x 3 columns]"
            ]
          },
          "metadata": {},
          "execution_count": 143
        }
      ]
    },
    {
      "cell_type": "code",
      "source": [
        "df_train.to_csv(\"Manipur-BJP.csv\", index=False)"
      ],
      "metadata": {
        "id": "UwrtCJd7-LQ8"
      },
      "execution_count": null,
      "outputs": []
    },
    {
      "cell_type": "code",
      "source": [
        "tweets = []"
      ],
      "metadata": {
        "id": "F5F9mgcs-O9i"
      },
      "execution_count": null,
      "outputs": []
    },
    {
      "cell_type": "code",
      "execution_count": null,
      "metadata": {
        "id": "2lLYmNJ5okgc"
      },
      "outputs": [],
      "source": [
        "search(\"UPA Manipur\", 2000)\n",
        "search(\"Congress Manipur elections\", 2000)\n",
        "search(\"ncp manipur\", 2000)\n",
        "search(\"Okram Ibobi Singh\", 1000)\n",
        "search(\"okram singh election\", 2000)"
      ]
    },
    {
      "cell_type": "code",
      "source": [
        "search(\"Congress Manipur election\", 2000)\n"
      ],
      "metadata": {
        "id": "3xVuAw2cGTnN"
      },
      "execution_count": null,
      "outputs": []
    },
    {
      "cell_type": "code",
      "execution_count": null,
      "metadata": {
        "colab": {
          "base_uri": "https://localhost:8080/"
        },
        "id": "9zL_HNFlplc4",
        "outputId": "cfa9a2c7-dc88-43bf-be47-4ac56665e4a1"
      },
      "outputs": [
        {
          "output_type": "execute_result",
          "data": {
            "text/plain": [
              "93"
            ]
          },
          "metadata": {},
          "execution_count": 148
        }
      ],
      "source": [
        "len(tweets)"
      ]
    },
    {
      "cell_type": "code",
      "execution_count": null,
      "metadata": {
        "id": "0cDns-36psR-"
      },
      "outputs": [],
      "source": [
        "search(\"congress manipur\", 2000)"
      ]
    },
    {
      "cell_type": "code",
      "source": [
        "df_train = pd.DataFrame(tweets, columns=['Datetime', 'Text',  'User'])\n",
        "df_train"
      ],
      "metadata": {
        "colab": {
          "base_uri": "https://localhost:8080/",
          "height": 424
        },
        "id": "buLurpTQ-X4q",
        "outputId": "256cd8dd-d47e-4902-b7fa-1895be8a969f"
      },
      "execution_count": null,
      "outputs": [
        {
          "output_type": "execute_result",
          "data": {
            "text/html": [
              "\n",
              "  <div id=\"df-52200eda-44da-4bef-8e5c-00600f6dc9a1\">\n",
              "    <div class=\"colab-df-container\">\n",
              "      <div>\n",
              "<style scoped>\n",
              "    .dataframe tbody tr th:only-of-type {\n",
              "        vertical-align: middle;\n",
              "    }\n",
              "\n",
              "    .dataframe tbody tr th {\n",
              "        vertical-align: top;\n",
              "    }\n",
              "\n",
              "    .dataframe thead th {\n",
              "        text-align: right;\n",
              "    }\n",
              "</style>\n",
              "<table border=\"1\" class=\"dataframe\">\n",
              "  <thead>\n",
              "    <tr style=\"text-align: right;\">\n",
              "      <th></th>\n",
              "      <th>Datetime</th>\n",
              "      <th>Text</th>\n",
              "      <th>User</th>\n",
              "    </tr>\n",
              "  </thead>\n",
              "  <tbody>\n",
              "    <tr>\n",
              "      <th>0</th>\n",
              "      <td>2022-01-14 16:30:19+00:00</td>\n",
              "      <td>@AshishSinghKiJi Personal opinion-\\n\\nGoa : UP...</td>\n",
              "      <td>dintweetz</td>\n",
              "    </tr>\n",
              "    <tr>\n",
              "      <th>1</th>\n",
              "      <td>2022-01-14 15:39:14+00:00</td>\n",
              "      <td>Its is my personal opinion\\n\\nGoa - UPA\\n\\nPun...</td>\n",
              "      <td>AshishSinghKiJi</td>\n",
              "    </tr>\n",
              "    <tr>\n",
              "      <th>2</th>\n",
              "      <td>2022-01-11 15:23:56+00:00</td>\n",
              "      <td>.@NCPspeaks to ally with @samajwadiparty, says...</td>\n",
              "      <td>vinivdvc</td>\n",
              "    </tr>\n",
              "    <tr>\n",
              "      <th>3</th>\n",
              "      <td>2022-01-14 16:54:28+00:00</td>\n",
              "      <td>#ManipurElection2022 | Manipur Congress howeve...</td>\n",
              "      <td>IndianExpress</td>\n",
              "    </tr>\n",
              "    <tr>\n",
              "      <th>4</th>\n",
              "      <td>2022-01-14 16:22:16+00:00</td>\n",
              "      <td>5 States Elections Prediction (as on 14 Jan, F...</td>\n",
              "      <td>Venkyboggarapu</td>\n",
              "    </tr>\n",
              "    <tr>\n",
              "      <th>...</th>\n",
              "      <td>...</td>\n",
              "      <td>...</td>\n",
              "      <td>...</td>\n",
              "    </tr>\n",
              "    <tr>\n",
              "      <th>314</th>\n",
              "      <td>2022-01-11 02:46:46+00:00</td>\n",
              "      <td>Goa - Congress \\n\\nUP - SP + Congress\\n\\nManip...</td>\n",
              "      <td>VIMALESHPAL4</td>\n",
              "    </tr>\n",
              "    <tr>\n",
              "      <th>315</th>\n",
              "      <td>2022-01-11 02:45:01+00:00</td>\n",
              "      <td>So Initial trend of Surveys find the Polls goi...</td>\n",
              "      <td>kktotlani</td>\n",
              "    </tr>\n",
              "    <tr>\n",
              "      <th>316</th>\n",
              "      <td>2022-01-11 02:15:48+00:00</td>\n",
              "      <td>Congress MLA In Manipur Joins BJP Day After Po...</td>\n",
              "      <td>current_go</td>\n",
              "    </tr>\n",
              "    <tr>\n",
              "      <th>317</th>\n",
              "      <td>2022-01-11 02:12:22+00:00</td>\n",
              "      <td>Absence of physical campaigning will hurt Cong...</td>\n",
              "      <td>Rajaban74609782</td>\n",
              "    </tr>\n",
              "    <tr>\n",
              "      <th>318</th>\n",
              "      <td>2022-01-11 01:48:29+00:00</td>\n",
              "      <td>@SavitaVrma In Manipur, For congress is very w...</td>\n",
              "      <td>KhIrfanShah1</td>\n",
              "    </tr>\n",
              "  </tbody>\n",
              "</table>\n",
              "<p>319 rows × 3 columns</p>\n",
              "</div>\n",
              "      <button class=\"colab-df-convert\" onclick=\"convertToInteractive('df-52200eda-44da-4bef-8e5c-00600f6dc9a1')\"\n",
              "              title=\"Convert this dataframe to an interactive table.\"\n",
              "              style=\"display:none;\">\n",
              "        \n",
              "  <svg xmlns=\"http://www.w3.org/2000/svg\" height=\"24px\"viewBox=\"0 0 24 24\"\n",
              "       width=\"24px\">\n",
              "    <path d=\"M0 0h24v24H0V0z\" fill=\"none\"/>\n",
              "    <path d=\"M18.56 5.44l.94 2.06.94-2.06 2.06-.94-2.06-.94-.94-2.06-.94 2.06-2.06.94zm-11 1L8.5 8.5l.94-2.06 2.06-.94-2.06-.94L8.5 2.5l-.94 2.06-2.06.94zm10 10l.94 2.06.94-2.06 2.06-.94-2.06-.94-.94-2.06-.94 2.06-2.06.94z\"/><path d=\"M17.41 7.96l-1.37-1.37c-.4-.4-.92-.59-1.43-.59-.52 0-1.04.2-1.43.59L10.3 9.45l-7.72 7.72c-.78.78-.78 2.05 0 2.83L4 21.41c.39.39.9.59 1.41.59.51 0 1.02-.2 1.41-.59l7.78-7.78 2.81-2.81c.8-.78.8-2.07 0-2.86zM5.41 20L4 18.59l7.72-7.72 1.47 1.35L5.41 20z\"/>\n",
              "  </svg>\n",
              "      </button>\n",
              "      \n",
              "  <style>\n",
              "    .colab-df-container {\n",
              "      display:flex;\n",
              "      flex-wrap:wrap;\n",
              "      gap: 12px;\n",
              "    }\n",
              "\n",
              "    .colab-df-convert {\n",
              "      background-color: #E8F0FE;\n",
              "      border: none;\n",
              "      border-radius: 50%;\n",
              "      cursor: pointer;\n",
              "      display: none;\n",
              "      fill: #1967D2;\n",
              "      height: 32px;\n",
              "      padding: 0 0 0 0;\n",
              "      width: 32px;\n",
              "    }\n",
              "\n",
              "    .colab-df-convert:hover {\n",
              "      background-color: #E2EBFA;\n",
              "      box-shadow: 0px 1px 2px rgba(60, 64, 67, 0.3), 0px 1px 3px 1px rgba(60, 64, 67, 0.15);\n",
              "      fill: #174EA6;\n",
              "    }\n",
              "\n",
              "    [theme=dark] .colab-df-convert {\n",
              "      background-color: #3B4455;\n",
              "      fill: #D2E3FC;\n",
              "    }\n",
              "\n",
              "    [theme=dark] .colab-df-convert:hover {\n",
              "      background-color: #434B5C;\n",
              "      box-shadow: 0px 1px 3px 1px rgba(0, 0, 0, 0.15);\n",
              "      filter: drop-shadow(0px 1px 2px rgba(0, 0, 0, 0.3));\n",
              "      fill: #FFFFFF;\n",
              "    }\n",
              "  </style>\n",
              "\n",
              "      <script>\n",
              "        const buttonEl =\n",
              "          document.querySelector('#df-52200eda-44da-4bef-8e5c-00600f6dc9a1 button.colab-df-convert');\n",
              "        buttonEl.style.display =\n",
              "          google.colab.kernel.accessAllowed ? 'block' : 'none';\n",
              "\n",
              "        async function convertToInteractive(key) {\n",
              "          const element = document.querySelector('#df-52200eda-44da-4bef-8e5c-00600f6dc9a1');\n",
              "          const dataTable =\n",
              "            await google.colab.kernel.invokeFunction('convertToInteractive',\n",
              "                                                     [key], {});\n",
              "          if (!dataTable) return;\n",
              "\n",
              "          const docLinkHtml = 'Like what you see? Visit the ' +\n",
              "            '<a target=\"_blank\" href=https://colab.research.google.com/notebooks/data_table.ipynb>data table notebook</a>'\n",
              "            + ' to learn more about interactive tables.';\n",
              "          element.innerHTML = '';\n",
              "          dataTable['output_type'] = 'display_data';\n",
              "          await google.colab.output.renderOutput(dataTable, element);\n",
              "          const docLink = document.createElement('div');\n",
              "          docLink.innerHTML = docLinkHtml;\n",
              "          element.appendChild(docLink);\n",
              "        }\n",
              "      </script>\n",
              "    </div>\n",
              "  </div>\n",
              "  "
            ],
            "text/plain": [
              "                     Datetime  \\\n",
              "0   2022-01-14 16:30:19+00:00   \n",
              "1   2022-01-14 15:39:14+00:00   \n",
              "2   2022-01-11 15:23:56+00:00   \n",
              "3   2022-01-14 16:54:28+00:00   \n",
              "4   2022-01-14 16:22:16+00:00   \n",
              "..                        ...   \n",
              "314 2022-01-11 02:46:46+00:00   \n",
              "315 2022-01-11 02:45:01+00:00   \n",
              "316 2022-01-11 02:15:48+00:00   \n",
              "317 2022-01-11 02:12:22+00:00   \n",
              "318 2022-01-11 01:48:29+00:00   \n",
              "\n",
              "                                                  Text             User  \n",
              "0    @AshishSinghKiJi Personal opinion-\\n\\nGoa : UP...        dintweetz  \n",
              "1    Its is my personal opinion\\n\\nGoa - UPA\\n\\nPun...  AshishSinghKiJi  \n",
              "2    .@NCPspeaks to ally with @samajwadiparty, says...         vinivdvc  \n",
              "3    #ManipurElection2022 | Manipur Congress howeve...    IndianExpress  \n",
              "4    5 States Elections Prediction (as on 14 Jan, F...   Venkyboggarapu  \n",
              "..                                                 ...              ...  \n",
              "314  Goa - Congress \\n\\nUP - SP + Congress\\n\\nManip...     VIMALESHPAL4  \n",
              "315  So Initial trend of Surveys find the Polls goi...        kktotlani  \n",
              "316  Congress MLA In Manipur Joins BJP Day After Po...       current_go  \n",
              "317  Absence of physical campaigning will hurt Cong...  Rajaban74609782  \n",
              "318  @SavitaVrma In Manipur, For congress is very w...     KhIrfanShah1  \n",
              "\n",
              "[319 rows x 3 columns]"
            ]
          },
          "metadata": {},
          "execution_count": 150
        }
      ]
    },
    {
      "cell_type": "code",
      "source": [
        "df_train.to_csv(\"Manipur-INC.csv\", index=False)"
      ],
      "metadata": {
        "id": "OcQp6gNn-X4r"
      },
      "execution_count": null,
      "outputs": []
    },
    {
      "cell_type": "code",
      "source": [
        "tweets = []"
      ],
      "metadata": {
        "id": "mNmFSjzt-eL9"
      },
      "execution_count": null,
      "outputs": []
    },
    {
      "cell_type": "code",
      "execution_count": null,
      "metadata": {
        "id": "z-aN7Dncqnlq"
      },
      "outputs": [],
      "source": [
        "search(\"NPF Manipur\", 2000)\n",
        "search(\"NPF Manipur elections\", 2000)\n",
        "search(\"naga people's front\", 2000)\n",
        "search(\"Losii Dikho\", 1000)\n",
        "search(\"dikho election\", 2000)"
      ]
    },
    {
      "cell_type": "code",
      "execution_count": null,
      "metadata": {
        "id": "eF7-Gi9kq_T2"
      },
      "outputs": [],
      "source": [
        "search(\"NPF election\", 2000)"
      ]
    },
    {
      "cell_type": "code",
      "execution_count": null,
      "metadata": {
        "colab": {
          "base_uri": "https://localhost:8080/"
        },
        "id": "SZaxbmNGrIvg",
        "outputId": "1754b80a-7c1a-49c1-9bba-1bb161948579"
      },
      "outputs": [
        {
          "output_type": "execute_result",
          "data": {
            "text/plain": [
              "21"
            ]
          },
          "metadata": {},
          "execution_count": 155
        }
      ],
      "source": [
        "len(tweets)"
      ]
    },
    {
      "cell_type": "code",
      "execution_count": null,
      "metadata": {
        "id": "FXbn2b_SrKHe"
      },
      "outputs": [],
      "source": [
        "search(\"people front election\", 2000)"
      ]
    },
    {
      "cell_type": "code",
      "execution_count": null,
      "metadata": {
        "id": "uTGv95ojrfjw"
      },
      "outputs": [],
      "source": [
        "search(\"naga election\", 2000)"
      ]
    },
    {
      "cell_type": "code",
      "execution_count": null,
      "metadata": {
        "id": "i67GtMaZrqO8"
      },
      "outputs": [],
      "source": [
        "search(\"naga manipur\", 2000)"
      ]
    },
    {
      "cell_type": "code",
      "source": [
        "df_train = pd.DataFrame(tweets, columns=['Datetime', 'Text',  'User'])\n",
        "df_train"
      ],
      "metadata": {
        "colab": {
          "base_uri": "https://localhost:8080/",
          "height": 424
        },
        "id": "S4r8YLw1-kPq",
        "outputId": "d22496a2-528b-48a0-f4f1-3ccb97c08c61"
      },
      "execution_count": null,
      "outputs": [
        {
          "output_type": "execute_result",
          "data": {
            "text/html": [
              "\n",
              "  <div id=\"df-e1a42d30-4283-4633-b26c-f145c6da5e85\">\n",
              "    <div class=\"colab-df-container\">\n",
              "      <div>\n",
              "<style scoped>\n",
              "    .dataframe tbody tr th:only-of-type {\n",
              "        vertical-align: middle;\n",
              "    }\n",
              "\n",
              "    .dataframe tbody tr th {\n",
              "        vertical-align: top;\n",
              "    }\n",
              "\n",
              "    .dataframe thead th {\n",
              "        text-align: right;\n",
              "    }\n",
              "</style>\n",
              "<table border=\"1\" class=\"dataframe\">\n",
              "  <thead>\n",
              "    <tr style=\"text-align: right;\">\n",
              "      <th></th>\n",
              "      <th>Datetime</th>\n",
              "      <th>Text</th>\n",
              "      <th>User</th>\n",
              "    </tr>\n",
              "  </thead>\n",
              "  <tbody>\n",
              "    <tr>\n",
              "      <th>0</th>\n",
              "      <td>2022-01-14 11:23:26+00:00</td>\n",
              "      <td>Manipur Assembly Election Issues Agenda Bjp Vs...</td>\n",
              "      <td>Khan279Imran</td>\n",
              "    </tr>\n",
              "    <tr>\n",
              "      <th>1</th>\n",
              "      <td>2022-01-14 10:46:53+00:00</td>\n",
              "      <td>@rg_0452 @Thapa4INC Sangma will ensure npp to ...</td>\n",
              "      <td>EhenthoiG</td>\n",
              "    </tr>\n",
              "    <tr>\n",
              "      <th>2</th>\n",
              "      <td>2022-01-13 15:31:18+00:00</td>\n",
              "      <td>It's @SmallBoxIndia Opinion poll Manipur assem...</td>\n",
              "      <td>Im_aaju</td>\n",
              "    </tr>\n",
              "    <tr>\n",
              "      <th>3</th>\n",
              "      <td>2022-01-13 12:26:22+00:00</td>\n",
              "      <td>#Opinion: NPF and voting behaviour in 41 Chand...</td>\n",
              "      <td>ukhrultimes</td>\n",
              "    </tr>\n",
              "    <tr>\n",
              "      <th>4</th>\n",
              "      <td>2022-01-13 10:06:09+00:00</td>\n",
              "      <td>Currently, we can see swing of 2-4% of votes d...</td>\n",
              "      <td>SarvinGupta7</td>\n",
              "    </tr>\n",
              "    <tr>\n",
              "      <th>...</th>\n",
              "      <td>...</td>\n",
              "      <td>...</td>\n",
              "      <td>...</td>\n",
              "    </tr>\n",
              "    <tr>\n",
              "      <th>104</th>\n",
              "      <td>2022-01-11 12:31:37+00:00</td>\n",
              "      <td>One villager was shot dead by suspected Naga m...</td>\n",
              "      <td>kushaldebroy</td>\n",
              "    </tr>\n",
              "    <tr>\n",
              "      <th>105</th>\n",
              "      <td>2022-01-11 08:00:01+00:00</td>\n",
              "      <td>“Among Naga tribes, there were tattoos long be...</td>\n",
              "      <td>milaapdotorg</td>\n",
              "    </tr>\n",
              "    <tr>\n",
              "      <th>106</th>\n",
              "      <td>2022-01-11 06:34:01+00:00</td>\n",
              "      <td>Our First Manipur Legislative Assembly electio...</td>\n",
              "      <td>NewsEarthIndia</td>\n",
              "    </tr>\n",
              "    <tr>\n",
              "      <th>107</th>\n",
              "      <td>2022-01-11 05:42:04+00:00</td>\n",
              "      <td>Out Now\\nEmploying a ‘dispatches’ style of sto...</td>\n",
              "      <td>SimonSchusterIN</td>\n",
              "    </tr>\n",
              "    <tr>\n",
              "      <th>108</th>\n",
              "      <td>2022-01-11 03:30:59+00:00</td>\n",
              "      <td>The Naga People’s Front (#NPF) is hopeful of i...</td>\n",
              "      <td>NagalandPage</td>\n",
              "    </tr>\n",
              "  </tbody>\n",
              "</table>\n",
              "<p>109 rows × 3 columns</p>\n",
              "</div>\n",
              "      <button class=\"colab-df-convert\" onclick=\"convertToInteractive('df-e1a42d30-4283-4633-b26c-f145c6da5e85')\"\n",
              "              title=\"Convert this dataframe to an interactive table.\"\n",
              "              style=\"display:none;\">\n",
              "        \n",
              "  <svg xmlns=\"http://www.w3.org/2000/svg\" height=\"24px\"viewBox=\"0 0 24 24\"\n",
              "       width=\"24px\">\n",
              "    <path d=\"M0 0h24v24H0V0z\" fill=\"none\"/>\n",
              "    <path d=\"M18.56 5.44l.94 2.06.94-2.06 2.06-.94-2.06-.94-.94-2.06-.94 2.06-2.06.94zm-11 1L8.5 8.5l.94-2.06 2.06-.94-2.06-.94L8.5 2.5l-.94 2.06-2.06.94zm10 10l.94 2.06.94-2.06 2.06-.94-2.06-.94-.94-2.06-.94 2.06-2.06.94z\"/><path d=\"M17.41 7.96l-1.37-1.37c-.4-.4-.92-.59-1.43-.59-.52 0-1.04.2-1.43.59L10.3 9.45l-7.72 7.72c-.78.78-.78 2.05 0 2.83L4 21.41c.39.39.9.59 1.41.59.51 0 1.02-.2 1.41-.59l7.78-7.78 2.81-2.81c.8-.78.8-2.07 0-2.86zM5.41 20L4 18.59l7.72-7.72 1.47 1.35L5.41 20z\"/>\n",
              "  </svg>\n",
              "      </button>\n",
              "      \n",
              "  <style>\n",
              "    .colab-df-container {\n",
              "      display:flex;\n",
              "      flex-wrap:wrap;\n",
              "      gap: 12px;\n",
              "    }\n",
              "\n",
              "    .colab-df-convert {\n",
              "      background-color: #E8F0FE;\n",
              "      border: none;\n",
              "      border-radius: 50%;\n",
              "      cursor: pointer;\n",
              "      display: none;\n",
              "      fill: #1967D2;\n",
              "      height: 32px;\n",
              "      padding: 0 0 0 0;\n",
              "      width: 32px;\n",
              "    }\n",
              "\n",
              "    .colab-df-convert:hover {\n",
              "      background-color: #E2EBFA;\n",
              "      box-shadow: 0px 1px 2px rgba(60, 64, 67, 0.3), 0px 1px 3px 1px rgba(60, 64, 67, 0.15);\n",
              "      fill: #174EA6;\n",
              "    }\n",
              "\n",
              "    [theme=dark] .colab-df-convert {\n",
              "      background-color: #3B4455;\n",
              "      fill: #D2E3FC;\n",
              "    }\n",
              "\n",
              "    [theme=dark] .colab-df-convert:hover {\n",
              "      background-color: #434B5C;\n",
              "      box-shadow: 0px 1px 3px 1px rgba(0, 0, 0, 0.15);\n",
              "      filter: drop-shadow(0px 1px 2px rgba(0, 0, 0, 0.3));\n",
              "      fill: #FFFFFF;\n",
              "    }\n",
              "  </style>\n",
              "\n",
              "      <script>\n",
              "        const buttonEl =\n",
              "          document.querySelector('#df-e1a42d30-4283-4633-b26c-f145c6da5e85 button.colab-df-convert');\n",
              "        buttonEl.style.display =\n",
              "          google.colab.kernel.accessAllowed ? 'block' : 'none';\n",
              "\n",
              "        async function convertToInteractive(key) {\n",
              "          const element = document.querySelector('#df-e1a42d30-4283-4633-b26c-f145c6da5e85');\n",
              "          const dataTable =\n",
              "            await google.colab.kernel.invokeFunction('convertToInteractive',\n",
              "                                                     [key], {});\n",
              "          if (!dataTable) return;\n",
              "\n",
              "          const docLinkHtml = 'Like what you see? Visit the ' +\n",
              "            '<a target=\"_blank\" href=https://colab.research.google.com/notebooks/data_table.ipynb>data table notebook</a>'\n",
              "            + ' to learn more about interactive tables.';\n",
              "          element.innerHTML = '';\n",
              "          dataTable['output_type'] = 'display_data';\n",
              "          await google.colab.output.renderOutput(dataTable, element);\n",
              "          const docLink = document.createElement('div');\n",
              "          docLink.innerHTML = docLinkHtml;\n",
              "          element.appendChild(docLink);\n",
              "        }\n",
              "      </script>\n",
              "    </div>\n",
              "  </div>\n",
              "  "
            ],
            "text/plain": [
              "                     Datetime  \\\n",
              "0   2022-01-14 11:23:26+00:00   \n",
              "1   2022-01-14 10:46:53+00:00   \n",
              "2   2022-01-13 15:31:18+00:00   \n",
              "3   2022-01-13 12:26:22+00:00   \n",
              "4   2022-01-13 10:06:09+00:00   \n",
              "..                        ...   \n",
              "104 2022-01-11 12:31:37+00:00   \n",
              "105 2022-01-11 08:00:01+00:00   \n",
              "106 2022-01-11 06:34:01+00:00   \n",
              "107 2022-01-11 05:42:04+00:00   \n",
              "108 2022-01-11 03:30:59+00:00   \n",
              "\n",
              "                                                  Text             User  \n",
              "0    Manipur Assembly Election Issues Agenda Bjp Vs...     Khan279Imran  \n",
              "1    @rg_0452 @Thapa4INC Sangma will ensure npp to ...        EhenthoiG  \n",
              "2    It's @SmallBoxIndia Opinion poll Manipur assem...          Im_aaju  \n",
              "3    #Opinion: NPF and voting behaviour in 41 Chand...      ukhrultimes  \n",
              "4    Currently, we can see swing of 2-4% of votes d...     SarvinGupta7  \n",
              "..                                                 ...              ...  \n",
              "104  One villager was shot dead by suspected Naga m...     kushaldebroy  \n",
              "105  “Among Naga tribes, there were tattoos long be...     milaapdotorg  \n",
              "106  Our First Manipur Legislative Assembly electio...   NewsEarthIndia  \n",
              "107  Out Now\\nEmploying a ‘dispatches’ style of sto...  SimonSchusterIN  \n",
              "108  The Naga People’s Front (#NPF) is hopeful of i...     NagalandPage  \n",
              "\n",
              "[109 rows x 3 columns]"
            ]
          },
          "metadata": {},
          "execution_count": 159
        }
      ]
    },
    {
      "cell_type": "code",
      "source": [
        "df_train.to_csv(\"Manipur-NPF.csv\", index=False)"
      ],
      "metadata": {
        "id": "BnrAsolV-kPs"
      },
      "execution_count": null,
      "outputs": []
    },
    {
      "cell_type": "code",
      "source": [
        ""
      ],
      "metadata": {
        "id": "V5qYvUwZGkPi"
      },
      "execution_count": null,
      "outputs": []
    }
  ]
}