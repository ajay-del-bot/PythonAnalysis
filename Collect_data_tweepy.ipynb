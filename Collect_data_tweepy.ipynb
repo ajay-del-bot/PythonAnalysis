{
  "cells": [
    {
      "cell_type": "markdown",
      "metadata": {
        "id": "view-in-github",
        "colab_type": "text"
      },
      "source": [
        "<a href=\"https://colab.research.google.com/github/ajay-del-bot/PythonAnalysis/blob/main/Collect_data_tweepy.ipynb\" target=\"_parent\"><img src=\"https://colab.research.google.com/assets/colab-badge.svg\" alt=\"Open In Colab\"/></a>"
      ]
    },
    {
      "cell_type": "code",
      "execution_count": null,
      "metadata": {
        "id": "SPbM7GCO0SCH"
      },
      "outputs": [],
      "source": [
        "import pandas as pd"
      ]
    },
    {
      "cell_type": "code",
      "execution_count": null,
      "metadata": {
        "id": "F61BRMgH0fxO"
      },
      "outputs": [],
      "source": [
        ""
      ]
    },
    {
      "cell_type": "code",
      "execution_count": null,
      "metadata": {
        "id": "MN5MOi-580Rt"
      },
      "outputs": [],
      "source": [
        ""
      ]
    },
    {
      "cell_type": "code",
      "execution_count": null,
      "metadata": {
        "colab": {
          "base_uri": "https://localhost:8080/"
        },
        "id": "0pOrGHPw0ld-",
        "outputId": "8bc10268-5089-4fa9-ad6c-57f548f3bc24"
      },
      "outputs": [
        {
          "output_type": "stream",
          "name": "stderr",
          "text": [
            "/usr/local/lib/python3.7/dist-packages/nltk/twitter/__init__.py:20: UserWarning: The twython library has not been installed. Some functionality from the twitter package will not be available.\n",
            "  warnings.warn(\"The twython library has not been installed. \"\n"
          ]
        },
        {
          "output_type": "stream",
          "name": "stdout",
          "text": [
            "[nltk_data] Downloading package stopwords to /root/nltk_data...\n",
            "[nltk_data]   Unzipping corpora/stopwords.zip.\n",
            "[nltk_data] Downloading package vader_lexicon to /root/nltk_data...\n",
            "[nltk_data] Downloading package wordnet to /root/nltk_data...\n",
            "[nltk_data]   Unzipping corpora/wordnet.zip.\n"
          ]
        },
        {
          "output_type": "execute_result",
          "data": {
            "text/plain": [
              "True"
            ]
          },
          "metadata": {},
          "execution_count": 2
        }
      ],
      "source": [
        "import re \n",
        "import tweepy\n",
        "from tweepy import OAuthHandler\n",
        "import pandas as pd\n",
        "import numpy as np\n",
        "\n",
        "from sklearn.ensemble import RandomForestClassifier\n",
        "from sklearn.naive_bayes import MultinomialNB\n",
        "from sklearn.metrics import accuracy_score, precision_score, f1_score, confusion_matrix\n",
        "\n",
        "\n",
        "from nltk.stem import WordNetLemmatizer\n",
        "from nltk.sentiment.vader import SentimentIntensityAnalyzer\n",
        "import webbrowser\n",
        "from nltk.corpus import stopwords\n",
        "import nltk\n",
        "nltk.download('stopwords')\n",
        "nltk.downloader.download('vader_lexicon')\n",
        "nltk.download('wordnet')"
      ]
    },
    {
      "cell_type": "code",
      "execution_count": null,
      "metadata": {
        "id": "Pseqh9yI0onD"
      },
      "outputs": [],
      "source": [
        "def TwitterClient():\n",
        "\n",
        "  consumer_key = \"nshMK8FXGLfe0UqKefSmesQYv\"\n",
        "  consumer_secret = 'be2khBvDZaBNIyt6zpvhPJodL9NpK7kILTGNvRTR410ZV1tWT2'\n",
        "  access_token = '1369986537245450244-mZQfbDWDtYXw4vfDjFVntFIgIEaJUz'\n",
        "  access_token_secret = '16raBkh9MtInzy4sM7Ohof48ez97KR2u9rWKF1LedY8Ji'\n",
        "\n",
        "\t\t# attempt authentication\n",
        "  try:\n",
        "\t\t# create OAuthHandler object\n",
        "    auth = OAuthHandler(consumer_key, consumer_secret)\n",
        "\t\t# set access token and secret\n",
        "    auth.set_access_token(access_token, access_token_secret)\n",
        "\t\t# create tweepy API object to fetch tweets\n",
        "    api = tweepy.API(auth, wait_on_rate_limit=True)\n",
        "    print(api)\n",
        "    return api\n",
        "  except:\n",
        "    print(\"Error: Authentication Failed\")"
      ]
    },
    {
      "cell_type": "code",
      "execution_count": null,
      "metadata": {
        "id": "8e1u3p4f_Oky"
      },
      "outputs": [],
      "source": [
        "import datetime\n",
        "start_date = datetime.datetime(2022, 2, 21, 00, 00, 00)\n",
        "end_date = datetime.datetime(2022, 2, 26, 00, 00, 00)"
      ]
    },
    {
      "cell_type": "code",
      "execution_count": null,
      "metadata": {
        "id": "wmrriciF06kx"
      },
      "outputs": [],
      "source": [
        "def get_tweets(query, count):\n",
        "  '''\n",
        "  Main function to get and parse tweets\n",
        "  '''\n",
        "  try:\n",
        "    # call twitter api to fetch tweets\n",
        "    for i in tweepy.Cursor(api.search, q= query+\" -filter:retweets\", result_type='mixed',  lang='en', tweet_mode='extended', count=count).items(count):\n",
        "      if i.full_text.encode('utf8') not in tweets and i.created_at>=start_date and i.created_at<=end_date:\n",
        "        tweets.append(i.full_text.encode('utf-8'))\n",
        "        time.append(i.created_at)\n",
        "        retweet.append(i.retweet_count)\n",
        "        place.append(i.user.location)\n",
        "        isverified.append(i.user.verified)\n",
        "        name.append(i.user.screen_name)\n",
        "        try: \n",
        "          likes.append(i.retweeted_status.favorite_count) \n",
        "        except: \n",
        "          likes.append(i.favorite_count)\n",
        "\n",
        "  except tweepy.TweepError as e:\n",
        "    # print error (if any)\n",
        "    print(\"Error : \" + str(e))"
      ]
    },
    {
      "cell_type": "code",
      "execution_count": null,
      "metadata": {
        "colab": {
          "base_uri": "https://localhost:8080/"
        },
        "id": "4La6qGc01ipD",
        "outputId": "2162decc-9383-44b7-b5c1-c251ee76df8e"
      },
      "outputs": [
        {
          "output_type": "stream",
          "name": "stdout",
          "text": [
            "<tweepy.api.API object at 0x7f88b2c3dad0>\n"
          ]
        }
      ],
      "source": [
        "api = TwitterClient()"
      ]
    },
    {
      "cell_type": "code",
      "execution_count": null,
      "metadata": {
        "id": "wxgf9JYQ1l3K"
      },
      "outputs": [],
      "source": [
        "tweets = []\n",
        "likes = []\n",
        "time = []\n",
        "place = []\n",
        "retweet = []\n",
        "isverified = []\n",
        "name = []"
      ]
    },
    {
      "cell_type": "code",
      "execution_count": null,
      "metadata": {
        "id": "j81Ipgkm1otR"
      },
      "outputs": [],
      "source": [
        "\n",
        "get_tweets(\"BJP UP elections\", 2000)\n"
      ]
    },
    {
      "cell_type": "code",
      "execution_count": null,
      "metadata": {
        "id": "UEwfQ3XJC44v"
      },
      "outputs": [],
      "source": [
        "get_tweets(\"BJP Uttar Pradesh\", 2000)"
      ]
    },
    {
      "cell_type": "code",
      "execution_count": null,
      "metadata": {
        "id": "-cVmKyjQDG1U"
      },
      "outputs": [],
      "source": [
        "get_tweets(\"Yogi election\", 1000)"
      ]
    },
    {
      "cell_type": "code",
      "execution_count": null,
      "metadata": {
        "id": "2f3NrXd8DG60"
      },
      "outputs": [],
      "source": [
        "get_tweets(\"Yogi Adityanath\", 1000)"
      ]
    },
    {
      "cell_type": "code",
      "execution_count": null,
      "metadata": {
        "id": "GuSs0QQvDHEX"
      },
      "outputs": [],
      "source": [
        ""
      ]
    },
    {
      "cell_type": "code",
      "execution_count": null,
      "metadata": {
        "colab": {
          "base_uri": "https://localhost:8080/"
        },
        "id": "wP53FomA13IC",
        "outputId": "e688521b-6147-43a0-c14f-1062e06d7f26"
      },
      "outputs": [
        {
          "output_type": "execute_result",
          "data": {
            "text/plain": [
              "3479"
            ]
          },
          "metadata": {},
          "execution_count": 15
        }
      ],
      "source": [
        "len(tweets)"
      ]
    },
    {
      "cell_type": "code",
      "execution_count": null,
      "metadata": {
        "colab": {
          "base_uri": "https://localhost:8080/",
          "height": 641
        },
        "id": "bsthuX2W15Ci",
        "outputId": "48c0dc89-e736-46ee-ca59-32ba69ce5447"
      },
      "outputs": [
        {
          "output_type": "execute_result",
          "data": {
            "text/html": [
              "\n",
              "  <div id=\"df-5552569a-a242-4835-852d-1bebe70fc2d9\">\n",
              "    <div class=\"colab-df-container\">\n",
              "      <div>\n",
              "<style scoped>\n",
              "    .dataframe tbody tr th:only-of-type {\n",
              "        vertical-align: middle;\n",
              "    }\n",
              "\n",
              "    .dataframe tbody tr th {\n",
              "        vertical-align: top;\n",
              "    }\n",
              "\n",
              "    .dataframe thead th {\n",
              "        text-align: right;\n",
              "    }\n",
              "</style>\n",
              "<table border=\"1\" class=\"dataframe\">\n",
              "  <thead>\n",
              "    <tr style=\"text-align: right;\">\n",
              "      <th></th>\n",
              "      <th>tweets</th>\n",
              "      <th>likes</th>\n",
              "      <th>retweet</th>\n",
              "      <th>user</th>\n",
              "      <th>isVerified</th>\n",
              "      <th>place</th>\n",
              "      <th>time</th>\n",
              "    </tr>\n",
              "  </thead>\n",
              "  <tbody>\n",
              "    <tr>\n",
              "      <th>0</th>\n",
              "      <td>b'Arrest of #NawabMalik is yet another attempt...</td>\n",
              "      <td>4215</td>\n",
              "      <td>726</td>\n",
              "      <td>prithvrj</td>\n",
              "      <td>True</td>\n",
              "      <td>Maharashtra</td>\n",
              "      <td>2022-02-23 11:44:20</td>\n",
              "    </tr>\n",
              "    <tr>\n",
              "      <th>1</th>\n",
              "      <td>b'Tamil Magazine #JuniorVikatan\\xe2\\x80\\x99s I...</td>\n",
              "      <td>1007</td>\n",
              "      <td>372</td>\n",
              "      <td>SuryahSG</td>\n",
              "      <td>True</td>\n",
              "      <td>Tamil Nadu, India</td>\n",
              "      <td>2022-02-23 14:47:31</td>\n",
              "    </tr>\n",
              "    <tr>\n",
              "      <th>2</th>\n",
              "      <td>b\"This article is mainly for those journalists...</td>\n",
              "      <td>49</td>\n",
              "      <td>42</td>\n",
              "      <td>poonamjourno</td>\n",
              "      <td>True</td>\n",
              "      <td>New Delhi, India</td>\n",
              "      <td>2022-02-23 11:36:13</td>\n",
              "    </tr>\n",
              "    <tr>\n",
              "      <th>3</th>\n",
              "      <td>b'@rishibagree Projection by yashhvant  if csd...</td>\n",
              "      <td>0</td>\n",
              "      <td>0</td>\n",
              "      <td>BDIshankar</td>\n",
              "      <td>False</td>\n",
              "      <td></td>\n",
              "      <td>2022-02-23 11:34:00</td>\n",
              "    </tr>\n",
              "    <tr>\n",
              "      <th>4</th>\n",
              "      <td>b\"\\xe2\\x80\\xa2Who had the Edge in Today's Phas...</td>\n",
              "      <td>170</td>\n",
              "      <td>21</td>\n",
              "      <td>Indian_Analyzer</td>\n",
              "      <td>False</td>\n",
              "      <td>TURN ON NOTIFICATIONS🔔</td>\n",
              "      <td>2022-02-23 11:25:31</td>\n",
              "    </tr>\n",
              "    <tr>\n",
              "      <th>...</th>\n",
              "      <td>...</td>\n",
              "      <td>...</td>\n",
              "      <td>...</td>\n",
              "      <td>...</td>\n",
              "      <td>...</td>\n",
              "      <td>...</td>\n",
              "      <td>...</td>\n",
              "    </tr>\n",
              "    <tr>\n",
              "      <th>3474</th>\n",
              "      <td>b'@adv_kksingh No sir BSP not coming but put u...</td>\n",
              "      <td>0</td>\n",
              "      <td>0</td>\n",
              "      <td>CarolRatenbury</td>\n",
              "      <td>False</td>\n",
              "      <td></td>\n",
              "      <td>2022-02-21 01:33:17</td>\n",
              "    </tr>\n",
              "    <tr>\n",
              "      <th>3475</th>\n",
              "      <td>b'#ExpressFrontPage | The BJP\\'s \"Sankalp Patr...</td>\n",
              "      <td>10</td>\n",
              "      <td>2</td>\n",
              "      <td>IndianExpress</td>\n",
              "      <td>True</td>\n",
              "      <td>India</td>\n",
              "      <td>2022-02-21 01:30:00</td>\n",
              "    </tr>\n",
              "    <tr>\n",
              "      <th>3476</th>\n",
              "      <td>b'SAD likely to patch up with BJP for post pol...</td>\n",
              "      <td>19</td>\n",
              "      <td>11</td>\n",
              "      <td>sjsbains</td>\n",
              "      <td>False</td>\n",
              "      <td>Chandigarh, India</td>\n",
              "      <td>2022-02-21 01:18:50</td>\n",
              "    </tr>\n",
              "    <tr>\n",
              "      <th>3477</th>\n",
              "      <td>b'Break India forces in one frame.\\nThis means...</td>\n",
              "      <td>13</td>\n",
              "      <td>2</td>\n",
              "      <td>ksreddy21</td>\n",
              "      <td>False</td>\n",
              "      <td></td>\n",
              "      <td>2022-02-21 00:32:49</td>\n",
              "    </tr>\n",
              "    <tr>\n",
              "      <th>3478</th>\n",
              "      <td>b'I have a Prediction for #UPElections2022 #Yo...</td>\n",
              "      <td>0</td>\n",
              "      <td>0</td>\n",
              "      <td>anuragkhurana77</td>\n",
              "      <td>False</td>\n",
              "      <td>India</td>\n",
              "      <td>2022-02-21 00:21:19</td>\n",
              "    </tr>\n",
              "  </tbody>\n",
              "</table>\n",
              "<p>3479 rows × 7 columns</p>\n",
              "</div>\n",
              "      <button class=\"colab-df-convert\" onclick=\"convertToInteractive('df-5552569a-a242-4835-852d-1bebe70fc2d9')\"\n",
              "              title=\"Convert this dataframe to an interactive table.\"\n",
              "              style=\"display:none;\">\n",
              "        \n",
              "  <svg xmlns=\"http://www.w3.org/2000/svg\" height=\"24px\"viewBox=\"0 0 24 24\"\n",
              "       width=\"24px\">\n",
              "    <path d=\"M0 0h24v24H0V0z\" fill=\"none\"/>\n",
              "    <path d=\"M18.56 5.44l.94 2.06.94-2.06 2.06-.94-2.06-.94-.94-2.06-.94 2.06-2.06.94zm-11 1L8.5 8.5l.94-2.06 2.06-.94-2.06-.94L8.5 2.5l-.94 2.06-2.06.94zm10 10l.94 2.06.94-2.06 2.06-.94-2.06-.94-.94-2.06-.94 2.06-2.06.94z\"/><path d=\"M17.41 7.96l-1.37-1.37c-.4-.4-.92-.59-1.43-.59-.52 0-1.04.2-1.43.59L10.3 9.45l-7.72 7.72c-.78.78-.78 2.05 0 2.83L4 21.41c.39.39.9.59 1.41.59.51 0 1.02-.2 1.41-.59l7.78-7.78 2.81-2.81c.8-.78.8-2.07 0-2.86zM5.41 20L4 18.59l7.72-7.72 1.47 1.35L5.41 20z\"/>\n",
              "  </svg>\n",
              "      </button>\n",
              "      \n",
              "  <style>\n",
              "    .colab-df-container {\n",
              "      display:flex;\n",
              "      flex-wrap:wrap;\n",
              "      gap: 12px;\n",
              "    }\n",
              "\n",
              "    .colab-df-convert {\n",
              "      background-color: #E8F0FE;\n",
              "      border: none;\n",
              "      border-radius: 50%;\n",
              "      cursor: pointer;\n",
              "      display: none;\n",
              "      fill: #1967D2;\n",
              "      height: 32px;\n",
              "      padding: 0 0 0 0;\n",
              "      width: 32px;\n",
              "    }\n",
              "\n",
              "    .colab-df-convert:hover {\n",
              "      background-color: #E2EBFA;\n",
              "      box-shadow: 0px 1px 2px rgba(60, 64, 67, 0.3), 0px 1px 3px 1px rgba(60, 64, 67, 0.15);\n",
              "      fill: #174EA6;\n",
              "    }\n",
              "\n",
              "    [theme=dark] .colab-df-convert {\n",
              "      background-color: #3B4455;\n",
              "      fill: #D2E3FC;\n",
              "    }\n",
              "\n",
              "    [theme=dark] .colab-df-convert:hover {\n",
              "      background-color: #434B5C;\n",
              "      box-shadow: 0px 1px 3px 1px rgba(0, 0, 0, 0.15);\n",
              "      filter: drop-shadow(0px 1px 2px rgba(0, 0, 0, 0.3));\n",
              "      fill: #FFFFFF;\n",
              "    }\n",
              "  </style>\n",
              "\n",
              "      <script>\n",
              "        const buttonEl =\n",
              "          document.querySelector('#df-5552569a-a242-4835-852d-1bebe70fc2d9 button.colab-df-convert');\n",
              "        buttonEl.style.display =\n",
              "          google.colab.kernel.accessAllowed ? 'block' : 'none';\n",
              "\n",
              "        async function convertToInteractive(key) {\n",
              "          const element = document.querySelector('#df-5552569a-a242-4835-852d-1bebe70fc2d9');\n",
              "          const dataTable =\n",
              "            await google.colab.kernel.invokeFunction('convertToInteractive',\n",
              "                                                     [key], {});\n",
              "          if (!dataTable) return;\n",
              "\n",
              "          const docLinkHtml = 'Like what you see? Visit the ' +\n",
              "            '<a target=\"_blank\" href=https://colab.research.google.com/notebooks/data_table.ipynb>data table notebook</a>'\n",
              "            + ' to learn more about interactive tables.';\n",
              "          element.innerHTML = '';\n",
              "          dataTable['output_type'] = 'display_data';\n",
              "          await google.colab.output.renderOutput(dataTable, element);\n",
              "          const docLink = document.createElement('div');\n",
              "          docLink.innerHTML = docLinkHtml;\n",
              "          element.appendChild(docLink);\n",
              "        }\n",
              "      </script>\n",
              "    </div>\n",
              "  </div>\n",
              "  "
            ],
            "text/plain": [
              "                                                 tweets  ...                time\n",
              "0     b'Arrest of #NawabMalik is yet another attempt...  ... 2022-02-23 11:44:20\n",
              "1     b'Tamil Magazine #JuniorVikatan\\xe2\\x80\\x99s I...  ... 2022-02-23 14:47:31\n",
              "2     b\"This article is mainly for those journalists...  ... 2022-02-23 11:36:13\n",
              "3     b'@rishibagree Projection by yashhvant  if csd...  ... 2022-02-23 11:34:00\n",
              "4     b\"\\xe2\\x80\\xa2Who had the Edge in Today's Phas...  ... 2022-02-23 11:25:31\n",
              "...                                                 ...  ...                 ...\n",
              "3474  b'@adv_kksingh No sir BSP not coming but put u...  ... 2022-02-21 01:33:17\n",
              "3475  b'#ExpressFrontPage | The BJP\\'s \"Sankalp Patr...  ... 2022-02-21 01:30:00\n",
              "3476  b'SAD likely to patch up with BJP for post pol...  ... 2022-02-21 01:18:50\n",
              "3477  b'Break India forces in one frame.\\nThis means...  ... 2022-02-21 00:32:49\n",
              "3478  b'I have a Prediction for #UPElections2022 #Yo...  ... 2022-02-21 00:21:19\n",
              "\n",
              "[3479 rows x 7 columns]"
            ]
          },
          "metadata": {},
          "execution_count": 16
        }
      ],
      "source": [
        "df_train = pd.DataFrame({'tweets':tweets, 'likes':likes, 'retweet':retweet, 'user':name, 'isVerified':isverified, 'place':place, 'time':time,})\n",
        "df_train"
      ]
    },
    {
      "cell_type": "code",
      "execution_count": null,
      "metadata": {
        "colab": {
          "base_uri": "https://localhost:8080/"
        },
        "id": "-P-mkGfY_U90",
        "outputId": "9b78682a-8a9e-4316-f30d-458d8a231321"
      },
      "outputs": [
        {
          "output_type": "execute_result",
          "data": {
            "text/plain": [
              "tweets        b'I had the full support and trust of CM Yogi ...\n",
              "likes                                                         0\n",
              "retweet                                                       0\n",
              "user                                                   KBYzaNet\n",
              "isVerified                                                False\n",
              "place                                   Kimberley, South Africa\n",
              "time                                        2022-02-25 09:03:07\n",
              "Name: 2300, dtype: object"
            ]
          },
          "metadata": {},
          "execution_count": 17
        }
      ],
      "source": [
        "df_train.iloc[2300]"
      ]
    },
    {
      "cell_type": "code",
      "execution_count": null,
      "metadata": {
        "id": "uFmrj7DmBan3"
      },
      "outputs": [],
      "source": [
        "df_train.to_csv('UP-BJP', index=False)"
      ]
    },
    {
      "cell_type": "code",
      "execution_count": null,
      "metadata": {
        "id": "q_B3SqjnSmgw"
      },
      "outputs": [],
      "source": [
        "tweets = []\n",
        "likes = []\n",
        "time = []\n",
        "place = []\n",
        "retweet = []\n",
        "isverified = []\n",
        "name = []"
      ]
    },
    {
      "cell_type": "code",
      "execution_count": null,
      "metadata": {
        "id": "_StEHyrrGnHC"
      },
      "outputs": [],
      "source": [
        "get_tweets(\"Congress UP election\", 1000)"
      ]
    },
    {
      "cell_type": "code",
      "execution_count": null,
      "metadata": {
        "id": "gBqaEcjG_L2v"
      },
      "outputs": [],
      "source": [
        "get_tweets(\"Priyanka Gandhi\", 1000)"
      ]
    },
    {
      "cell_type": "code",
      "execution_count": null,
      "metadata": {
        "id": "aIChlhTA_Jea"
      },
      "outputs": [],
      "source": [
        "get_tweets(\"UPA Uttar Pradesh\", 1000)"
      ]
    },
    {
      "cell_type": "code",
      "execution_count": null,
      "metadata": {
        "id": "ERCGlUOS_HjH"
      },
      "outputs": [],
      "source": [
        "get_tweets(\"Congress Uttar Pradesh\", 2000)"
      ]
    },
    {
      "cell_type": "code",
      "execution_count": null,
      "metadata": {
        "colab": {
          "base_uri": "https://localhost:8080/"
        },
        "id": "OtQULrBaHJTs",
        "outputId": "9f12cba0-fe33-4e0c-e91a-d8db42f0e295"
      },
      "outputs": [
        {
          "output_type": "execute_result",
          "data": {
            "text/plain": [
              "1246"
            ]
          },
          "metadata": {},
          "execution_count": 24
        }
      ],
      "source": [
        "len(tweets)"
      ]
    },
    {
      "cell_type": "code",
      "execution_count": null,
      "metadata": {
        "id": "ZyxIDSa5HXxZ"
      },
      "outputs": [],
      "source": [
        "get_tweets(\"Rahul Gandhi Uttar Pradesh\", 1000)"
      ]
    },
    {
      "cell_type": "code",
      "execution_count": null,
      "metadata": {
        "id": "yysnT1HMHhjx"
      },
      "outputs": [],
      "source": [
        "get_tweets(\"UP polls Congress\", 1000)"
      ]
    },
    {
      "cell_type": "code",
      "execution_count": null,
      "metadata": {
        "colab": {
          "base_uri": "https://localhost:8080/"
        },
        "id": "khEINH3IAStk",
        "outputId": "159559fd-4ac6-4067-e2eb-d08885491807"
      },
      "outputs": [
        {
          "output_type": "execute_result",
          "data": {
            "text/plain": [
              "1335"
            ]
          },
          "metadata": {},
          "execution_count": 28
        }
      ],
      "source": [
        "len(tweets)"
      ]
    },
    {
      "cell_type": "code",
      "execution_count": null,
      "metadata": {
        "id": "qwmt789tIfik"
      },
      "outputs": [],
      "source": [
        "get_tweets(\"INC UP elections\", 1000)"
      ]
    },
    {
      "cell_type": "code",
      "execution_count": null,
      "metadata": {
        "id": "ZuE874qxIl_l"
      },
      "outputs": [],
      "source": [
        "get_tweets(\"INC Uttar Pradesh\", 1000)"
      ]
    },
    {
      "cell_type": "code",
      "execution_count": null,
      "metadata": {
        "colab": {
          "base_uri": "https://localhost:8080/",
          "height": 641
        },
        "id": "fCu4GMqYIws5",
        "outputId": "ae9493ef-df25-4ab4-850a-f2df74bc8f81"
      },
      "outputs": [
        {
          "output_type": "execute_result",
          "data": {
            "text/html": [
              "\n",
              "  <div id=\"df-4a788ebc-4351-40e0-9bfa-ea17ad991d40\">\n",
              "    <div class=\"colab-df-container\">\n",
              "      <div>\n",
              "<style scoped>\n",
              "    .dataframe tbody tr th:only-of-type {\n",
              "        vertical-align: middle;\n",
              "    }\n",
              "\n",
              "    .dataframe tbody tr th {\n",
              "        vertical-align: top;\n",
              "    }\n",
              "\n",
              "    .dataframe thead th {\n",
              "        text-align: right;\n",
              "    }\n",
              "</style>\n",
              "<table border=\"1\" class=\"dataframe\">\n",
              "  <thead>\n",
              "    <tr style=\"text-align: right;\">\n",
              "      <th></th>\n",
              "      <th>tweets</th>\n",
              "      <th>likes</th>\n",
              "      <th>retweet</th>\n",
              "      <th>user</th>\n",
              "      <th>isVerified</th>\n",
              "      <th>place</th>\n",
              "      <th>time</th>\n",
              "    </tr>\n",
              "  </thead>\n",
              "  <tbody>\n",
              "    <tr>\n",
              "      <th>0</th>\n",
              "      <td>b\"Congress, SP sympathise with terrorists, say...</td>\n",
              "      <td>204</td>\n",
              "      <td>88</td>\n",
              "      <td>narendramodi_in</td>\n",
              "      <td>True</td>\n",
              "      <td></td>\n",
              "      <td>2022-02-21 07:22:50</td>\n",
              "    </tr>\n",
              "    <tr>\n",
              "      <th>1</th>\n",
              "      <td>b\"Prayagraj, Uttar Pradesh | BJP had been chas...</td>\n",
              "      <td>656</td>\n",
              "      <td>40</td>\n",
              "      <td>ANINewsUP</td>\n",
              "      <td>True</td>\n",
              "      <td></td>\n",
              "      <td>2022-02-24 01:47:13</td>\n",
              "    </tr>\n",
              "    <tr>\n",
              "      <th>2</th>\n",
              "      <td>b\"Congress, SP sympathise with terrorists, say...</td>\n",
              "      <td>0</td>\n",
              "      <td>0</td>\n",
              "      <td>praveshgaur5</td>\n",
              "      <td>False</td>\n",
              "      <td>Ghaziabad, India</td>\n",
              "      <td>2022-02-21 07:22:28</td>\n",
              "    </tr>\n",
              "    <tr>\n",
              "      <th>3</th>\n",
              "      <td>b\"Congress, SP sympathise with terrorists, say...</td>\n",
              "      <td>0</td>\n",
              "      <td>0</td>\n",
              "      <td>_ajitsinh</td>\n",
              "      <td>False</td>\n",
              "      <td>Karnavati, Gujarat, Bharat</td>\n",
              "      <td>2022-02-21 07:22:27</td>\n",
              "    </tr>\n",
              "    <tr>\n",
              "      <th>4</th>\n",
              "      <td>b\"Congress, SP sympathise with terrorists, say...</td>\n",
              "      <td>7</td>\n",
              "      <td>1</td>\n",
              "      <td>Kalpesh12752713</td>\n",
              "      <td>False</td>\n",
              "      <td>Bareja.karnvati</td>\n",
              "      <td>2022-02-21 07:20:01</td>\n",
              "    </tr>\n",
              "    <tr>\n",
              "      <th>...</th>\n",
              "      <td>...</td>\n",
              "      <td>...</td>\n",
              "      <td>...</td>\n",
              "      <td>...</td>\n",
              "      <td>...</td>\n",
              "      <td>...</td>\n",
              "      <td>...</td>\n",
              "    </tr>\n",
              "    <tr>\n",
              "      <th>1416</th>\n",
              "      <td>b'@MeghBulletin Uttar Pradesh Assembly \\nElect...</td>\n",
              "      <td>2</td>\n",
              "      <td>1</td>\n",
              "      <td>yag412</td>\n",
              "      <td>False</td>\n",
              "      <td>Maharashtra,Bharat 🇮🇳</td>\n",
              "      <td>2022-02-21 12:12:18</td>\n",
              "    </tr>\n",
              "    <tr>\n",
              "      <th>1417</th>\n",
              "      <td>b'Shark Tank India Memes || Amit Shah Uttar Pr...</td>\n",
              "      <td>8</td>\n",
              "      <td>4</td>\n",
              "      <td>Adil_INC_</td>\n",
              "      <td>False</td>\n",
              "      <td>In Your Duas India</td>\n",
              "      <td>2022-02-21 12:11:29</td>\n",
              "    </tr>\n",
              "    <tr>\n",
              "      <th>1418</th>\n",
              "      <td>b'@ANI Uttar Pradesh Assembly \\nElections 2022...</td>\n",
              "      <td>2</td>\n",
              "      <td>0</td>\n",
              "      <td>yag412</td>\n",
              "      <td>False</td>\n",
              "      <td>Maharashtra,Bharat 🇮🇳</td>\n",
              "      <td>2022-02-21 08:26:53</td>\n",
              "    </tr>\n",
              "    <tr>\n",
              "      <th>1419</th>\n",
              "      <td>b'Uttar Pradesh assembly election Phase IV\\n\\n...</td>\n",
              "      <td>15</td>\n",
              "      <td>2</td>\n",
              "      <td>Paragbhandari1</td>\n",
              "      <td>False</td>\n",
              "      <td>Dhoom Manikpur Village Dadri,</td>\n",
              "      <td>2022-02-21 04:13:57</td>\n",
              "    </tr>\n",
              "    <tr>\n",
              "      <th>1420</th>\n",
              "      <td>b'@ndtv My Last Wave To You Before I Loose Ele...</td>\n",
              "      <td>1</td>\n",
              "      <td>0</td>\n",
              "      <td>Adil_INC_</td>\n",
              "      <td>False</td>\n",
              "      <td>In Your Duas India</td>\n",
              "      <td>2022-02-21 03:26:21</td>\n",
              "    </tr>\n",
              "  </tbody>\n",
              "</table>\n",
              "<p>1421 rows × 7 columns</p>\n",
              "</div>\n",
              "      <button class=\"colab-df-convert\" onclick=\"convertToInteractive('df-4a788ebc-4351-40e0-9bfa-ea17ad991d40')\"\n",
              "              title=\"Convert this dataframe to an interactive table.\"\n",
              "              style=\"display:none;\">\n",
              "        \n",
              "  <svg xmlns=\"http://www.w3.org/2000/svg\" height=\"24px\"viewBox=\"0 0 24 24\"\n",
              "       width=\"24px\">\n",
              "    <path d=\"M0 0h24v24H0V0z\" fill=\"none\"/>\n",
              "    <path d=\"M18.56 5.44l.94 2.06.94-2.06 2.06-.94-2.06-.94-.94-2.06-.94 2.06-2.06.94zm-11 1L8.5 8.5l.94-2.06 2.06-.94-2.06-.94L8.5 2.5l-.94 2.06-2.06.94zm10 10l.94 2.06.94-2.06 2.06-.94-2.06-.94-.94-2.06-.94 2.06-2.06.94z\"/><path d=\"M17.41 7.96l-1.37-1.37c-.4-.4-.92-.59-1.43-.59-.52 0-1.04.2-1.43.59L10.3 9.45l-7.72 7.72c-.78.78-.78 2.05 0 2.83L4 21.41c.39.39.9.59 1.41.59.51 0 1.02-.2 1.41-.59l7.78-7.78 2.81-2.81c.8-.78.8-2.07 0-2.86zM5.41 20L4 18.59l7.72-7.72 1.47 1.35L5.41 20z\"/>\n",
              "  </svg>\n",
              "      </button>\n",
              "      \n",
              "  <style>\n",
              "    .colab-df-container {\n",
              "      display:flex;\n",
              "      flex-wrap:wrap;\n",
              "      gap: 12px;\n",
              "    }\n",
              "\n",
              "    .colab-df-convert {\n",
              "      background-color: #E8F0FE;\n",
              "      border: none;\n",
              "      border-radius: 50%;\n",
              "      cursor: pointer;\n",
              "      display: none;\n",
              "      fill: #1967D2;\n",
              "      height: 32px;\n",
              "      padding: 0 0 0 0;\n",
              "      width: 32px;\n",
              "    }\n",
              "\n",
              "    .colab-df-convert:hover {\n",
              "      background-color: #E2EBFA;\n",
              "      box-shadow: 0px 1px 2px rgba(60, 64, 67, 0.3), 0px 1px 3px 1px rgba(60, 64, 67, 0.15);\n",
              "      fill: #174EA6;\n",
              "    }\n",
              "\n",
              "    [theme=dark] .colab-df-convert {\n",
              "      background-color: #3B4455;\n",
              "      fill: #D2E3FC;\n",
              "    }\n",
              "\n",
              "    [theme=dark] .colab-df-convert:hover {\n",
              "      background-color: #434B5C;\n",
              "      box-shadow: 0px 1px 3px 1px rgba(0, 0, 0, 0.15);\n",
              "      filter: drop-shadow(0px 1px 2px rgba(0, 0, 0, 0.3));\n",
              "      fill: #FFFFFF;\n",
              "    }\n",
              "  </style>\n",
              "\n",
              "      <script>\n",
              "        const buttonEl =\n",
              "          document.querySelector('#df-4a788ebc-4351-40e0-9bfa-ea17ad991d40 button.colab-df-convert');\n",
              "        buttonEl.style.display =\n",
              "          google.colab.kernel.accessAllowed ? 'block' : 'none';\n",
              "\n",
              "        async function convertToInteractive(key) {\n",
              "          const element = document.querySelector('#df-4a788ebc-4351-40e0-9bfa-ea17ad991d40');\n",
              "          const dataTable =\n",
              "            await google.colab.kernel.invokeFunction('convertToInteractive',\n",
              "                                                     [key], {});\n",
              "          if (!dataTable) return;\n",
              "\n",
              "          const docLinkHtml = 'Like what you see? Visit the ' +\n",
              "            '<a target=\"_blank\" href=https://colab.research.google.com/notebooks/data_table.ipynb>data table notebook</a>'\n",
              "            + ' to learn more about interactive tables.';\n",
              "          element.innerHTML = '';\n",
              "          dataTable['output_type'] = 'display_data';\n",
              "          await google.colab.output.renderOutput(dataTable, element);\n",
              "          const docLink = document.createElement('div');\n",
              "          docLink.innerHTML = docLinkHtml;\n",
              "          element.appendChild(docLink);\n",
              "        }\n",
              "      </script>\n",
              "    </div>\n",
              "  </div>\n",
              "  "
            ],
            "text/plain": [
              "                                                 tweets  ...                time\n",
              "0     b\"Congress, SP sympathise with terrorists, say...  ... 2022-02-21 07:22:50\n",
              "1     b\"Prayagraj, Uttar Pradesh | BJP had been chas...  ... 2022-02-24 01:47:13\n",
              "2     b\"Congress, SP sympathise with terrorists, say...  ... 2022-02-21 07:22:28\n",
              "3     b\"Congress, SP sympathise with terrorists, say...  ... 2022-02-21 07:22:27\n",
              "4     b\"Congress, SP sympathise with terrorists, say...  ... 2022-02-21 07:20:01\n",
              "...                                                 ...  ...                 ...\n",
              "1416  b'@MeghBulletin Uttar Pradesh Assembly \\nElect...  ... 2022-02-21 12:12:18\n",
              "1417  b'Shark Tank India Memes || Amit Shah Uttar Pr...  ... 2022-02-21 12:11:29\n",
              "1418  b'@ANI Uttar Pradesh Assembly \\nElections 2022...  ... 2022-02-21 08:26:53\n",
              "1419  b'Uttar Pradesh assembly election Phase IV\\n\\n...  ... 2022-02-21 04:13:57\n",
              "1420  b'@ndtv My Last Wave To You Before I Loose Ele...  ... 2022-02-21 03:26:21\n",
              "\n",
              "[1421 rows x 7 columns]"
            ]
          },
          "metadata": {},
          "execution_count": 31
        }
      ],
      "source": [
        "df_train2 = pd.DataFrame({'tweets':tweets, 'likes':likes, 'retweet':retweet, 'user':name, 'isVerified':isverified, 'place':place, 'time':time,})\n",
        "df_train2"
      ]
    },
    {
      "cell_type": "code",
      "execution_count": null,
      "metadata": {
        "id": "X2eGusj5JDXk"
      },
      "outputs": [],
      "source": [
        "df_train2.to_csv(\"UP-Congress\", index=False)"
      ]
    },
    {
      "cell_type": "code",
      "execution_count": null,
      "metadata": {
        "id": "FebiWWqJKuUA"
      },
      "outputs": [],
      "source": [
        "tweets = []\n",
        "likes = []\n",
        "time = []\n",
        "place = []\n",
        "retweet = []\n",
        "isverified = []\n",
        "name = []"
      ]
    },
    {
      "cell_type": "code",
      "execution_count": null,
      "metadata": {
        "id": "y72gWPzqJl1D"
      },
      "outputs": [],
      "source": [
        "get_tweets(\"SP UP election\", 2000)"
      ]
    },
    {
      "cell_type": "code",
      "execution_count": null,
      "metadata": {
        "id": "wGZgG-frJy0O"
      },
      "outputs": [],
      "source": [
        "get_tweets(\"Samajwadi Party\", 1000)"
      ]
    },
    {
      "cell_type": "code",
      "execution_count": null,
      "metadata": {
        "id": "Kw98xxk3KFi_"
      },
      "outputs": [],
      "source": [
        "get_tweets(\"Samajwadi Uttar Pradesh\", 1000)"
      ]
    },
    {
      "cell_type": "code",
      "execution_count": null,
      "metadata": {
        "colab": {
          "base_uri": "https://localhost:8080/"
        },
        "id": "qfeRN042KM41",
        "outputId": "c6b70434-84aa-4183-b4e3-c1e842d5564b"
      },
      "outputs": [
        {
          "output_type": "execute_result",
          "data": {
            "text/plain": [
              "1108"
            ]
          },
          "metadata": {},
          "execution_count": 43
        }
      ],
      "source": [
        "len(tweets)"
      ]
    },
    {
      "cell_type": "code",
      "execution_count": null,
      "metadata": {
        "id": "ceQlqza1KO_-"
      },
      "outputs": [],
      "source": [
        "get_tweets(\"Akhilesh Yadav\", 1000)"
      ]
    },
    {
      "cell_type": "code",
      "execution_count": null,
      "metadata": {
        "id": "IgE7M8ATKW0_"
      },
      "outputs": [],
      "source": [
        "get_tweets(\"UP poll SP\", 1000)"
      ]
    },
    {
      "cell_type": "code",
      "execution_count": null,
      "metadata": {
        "id": "dBCZuATNKvsk"
      },
      "outputs": [],
      "source": [
        "get_tweets(\"UP poll Samajwadi\", 1000)"
      ]
    },
    {
      "cell_type": "code",
      "execution_count": null,
      "metadata": {
        "id": "lzLddXnyK3_4"
      },
      "outputs": [],
      "source": [
        "get_tweets(\"RLD Uttar Pradesh\", 1000)"
      ]
    },
    {
      "cell_type": "code",
      "execution_count": null,
      "metadata": {
        "id": "rkt6oat_LkZY"
      },
      "outputs": [],
      "source": [
        "get_tweets(\"Jayant Chaudhary\", 1000)"
      ]
    },
    {
      "cell_type": "code",
      "execution_count": null,
      "metadata": {
        "colab": {
          "base_uri": "https://localhost:8080/",
          "height": 641
        },
        "id": "pSPRyMXELq7b",
        "outputId": "2d19cf5c-2c94-4a0e-9006-0a0e15854f93"
      },
      "outputs": [
        {
          "output_type": "execute_result",
          "data": {
            "text/html": [
              "\n",
              "  <div id=\"df-53fe70e3-0c60-4afd-8328-d0f6c3f3ffe4\">\n",
              "    <div class=\"colab-df-container\">\n",
              "      <div>\n",
              "<style scoped>\n",
              "    .dataframe tbody tr th:only-of-type {\n",
              "        vertical-align: middle;\n",
              "    }\n",
              "\n",
              "    .dataframe tbody tr th {\n",
              "        vertical-align: top;\n",
              "    }\n",
              "\n",
              "    .dataframe thead th {\n",
              "        text-align: right;\n",
              "    }\n",
              "</style>\n",
              "<table border=\"1\" class=\"dataframe\">\n",
              "  <thead>\n",
              "    <tr style=\"text-align: right;\">\n",
              "      <th></th>\n",
              "      <th>tweets</th>\n",
              "      <th>likes</th>\n",
              "      <th>retweet</th>\n",
              "      <th>user</th>\n",
              "      <th>isVerified</th>\n",
              "      <th>place</th>\n",
              "      <th>time</th>\n",
              "    </tr>\n",
              "  </thead>\n",
              "  <tbody>\n",
              "    <tr>\n",
              "      <th>0</th>\n",
              "      <td>b'A video of a recent rally addressed by Akhil...</td>\n",
              "      <td>179</td>\n",
              "      <td>51</td>\n",
              "      <td>zoo_bear</td>\n",
              "      <td>True</td>\n",
              "      <td>India</td>\n",
              "      <td>2022-02-23 11:07:12</td>\n",
              "    </tr>\n",
              "    <tr>\n",
              "      <th>1</th>\n",
              "      <td>b'Then he torcherd me and they are saying that...</td>\n",
              "      <td>0</td>\n",
              "      <td>0</td>\n",
              "      <td>sanjayk04076261</td>\n",
              "      <td>False</td>\n",
              "      <td>Mumbai, India</td>\n",
              "      <td>2022-02-25 23:30:34</td>\n",
              "    </tr>\n",
              "    <tr>\n",
              "      <th>2</th>\n",
              "      <td>b'Union Home Minister Amit Shah on Friday trai...</td>\n",
              "      <td>1</td>\n",
              "      <td>0</td>\n",
              "      <td>CNNnews18</td>\n",
              "      <td>True</td>\n",
              "      <td>India</td>\n",
              "      <td>2022-02-25 23:15:00</td>\n",
              "    </tr>\n",
              "    <tr>\n",
              "      <th>3</th>\n",
              "      <td>b'~  Farmers &amp;amp; small traders are suffering...</td>\n",
              "      <td>0</td>\n",
              "      <td>0</td>\n",
              "      <td>AnandiSharan</td>\n",
              "      <td>False</td>\n",
              "      <td>Seuzach, Schweiz</td>\n",
              "      <td>2022-02-25 20:38:53</td>\n",
              "    </tr>\n",
              "    <tr>\n",
              "      <th>4</th>\n",
              "      <td>b'\"Bombs Were Kept On Cycles\": PM\\'s Swipe At ...</td>\n",
              "      <td>0</td>\n",
              "      <td>0</td>\n",
              "      <td>PMModiNews</td>\n",
              "      <td>False</td>\n",
              "      <td>India</td>\n",
              "      <td>2022-02-25 20:17:02</td>\n",
              "    </tr>\n",
              "    <tr>\n",
              "      <th>...</th>\n",
              "      <td>...</td>\n",
              "      <td>...</td>\n",
              "      <td>...</td>\n",
              "      <td>...</td>\n",
              "      <td>...</td>\n",
              "      <td>...</td>\n",
              "      <td>...</td>\n",
              "    </tr>\n",
              "    <tr>\n",
              "      <th>1103</th>\n",
              "      <td>b'@Network18Group @18RahulJoshi @AmitShah In a...</td>\n",
              "      <td>2</td>\n",
              "      <td>2</td>\n",
              "      <td>news18dotcom</td>\n",
              "      <td>True</td>\n",
              "      <td>India</td>\n",
              "      <td>2022-02-21 13:57:27</td>\n",
              "    </tr>\n",
              "    <tr>\n",
              "      <th>1104</th>\n",
              "      <td>b\"Impartial take ~\\n\\nContrary to the narrativ...</td>\n",
              "      <td>11</td>\n",
              "      <td>0</td>\n",
              "      <td>Yaduveer_21</td>\n",
              "      <td>False</td>\n",
              "      <td>भारत गणराज्य</td>\n",
              "      <td>2022-02-21 10:02:41</td>\n",
              "    </tr>\n",
              "    <tr>\n",
              "      <th>1105</th>\n",
              "      <td>b'#AmitShahToNews18 | Will the BJP have a post...</td>\n",
              "      <td>4</td>\n",
              "      <td>2</td>\n",
              "      <td>CNNnews18</td>\n",
              "      <td>True</td>\n",
              "      <td>India</td>\n",
              "      <td>2022-02-21 09:30:00</td>\n",
              "    </tr>\n",
              "    <tr>\n",
              "      <th>1106</th>\n",
              "      <td>b\"@sowmiyasid Who Jayant Chaudhary?? \\nI can't...</td>\n",
              "      <td>0</td>\n",
              "      <td>0</td>\n",
              "      <td>AgarwalTarun4</td>\n",
              "      <td>False</td>\n",
              "      <td></td>\n",
              "      <td>2022-02-21 03:55:10</td>\n",
              "    </tr>\n",
              "    <tr>\n",
              "      <th>1107</th>\n",
              "      <td>b'#WebQoof | A photograph and a video of RLD l...</td>\n",
              "      <td>1</td>\n",
              "      <td>0</td>\n",
              "      <td>QuintFactCheck</td>\n",
              "      <td>True</td>\n",
              "      <td>India</td>\n",
              "      <td>2022-02-21 00:30:00</td>\n",
              "    </tr>\n",
              "  </tbody>\n",
              "</table>\n",
              "<p>1108 rows × 7 columns</p>\n",
              "</div>\n",
              "      <button class=\"colab-df-convert\" onclick=\"convertToInteractive('df-53fe70e3-0c60-4afd-8328-d0f6c3f3ffe4')\"\n",
              "              title=\"Convert this dataframe to an interactive table.\"\n",
              "              style=\"display:none;\">\n",
              "        \n",
              "  <svg xmlns=\"http://www.w3.org/2000/svg\" height=\"24px\"viewBox=\"0 0 24 24\"\n",
              "       width=\"24px\">\n",
              "    <path d=\"M0 0h24v24H0V0z\" fill=\"none\"/>\n",
              "    <path d=\"M18.56 5.44l.94 2.06.94-2.06 2.06-.94-2.06-.94-.94-2.06-.94 2.06-2.06.94zm-11 1L8.5 8.5l.94-2.06 2.06-.94-2.06-.94L8.5 2.5l-.94 2.06-2.06.94zm10 10l.94 2.06.94-2.06 2.06-.94-2.06-.94-.94-2.06-.94 2.06-2.06.94z\"/><path d=\"M17.41 7.96l-1.37-1.37c-.4-.4-.92-.59-1.43-.59-.52 0-1.04.2-1.43.59L10.3 9.45l-7.72 7.72c-.78.78-.78 2.05 0 2.83L4 21.41c.39.39.9.59 1.41.59.51 0 1.02-.2 1.41-.59l7.78-7.78 2.81-2.81c.8-.78.8-2.07 0-2.86zM5.41 20L4 18.59l7.72-7.72 1.47 1.35L5.41 20z\"/>\n",
              "  </svg>\n",
              "      </button>\n",
              "      \n",
              "  <style>\n",
              "    .colab-df-container {\n",
              "      display:flex;\n",
              "      flex-wrap:wrap;\n",
              "      gap: 12px;\n",
              "    }\n",
              "\n",
              "    .colab-df-convert {\n",
              "      background-color: #E8F0FE;\n",
              "      border: none;\n",
              "      border-radius: 50%;\n",
              "      cursor: pointer;\n",
              "      display: none;\n",
              "      fill: #1967D2;\n",
              "      height: 32px;\n",
              "      padding: 0 0 0 0;\n",
              "      width: 32px;\n",
              "    }\n",
              "\n",
              "    .colab-df-convert:hover {\n",
              "      background-color: #E2EBFA;\n",
              "      box-shadow: 0px 1px 2px rgba(60, 64, 67, 0.3), 0px 1px 3px 1px rgba(60, 64, 67, 0.15);\n",
              "      fill: #174EA6;\n",
              "    }\n",
              "\n",
              "    [theme=dark] .colab-df-convert {\n",
              "      background-color: #3B4455;\n",
              "      fill: #D2E3FC;\n",
              "    }\n",
              "\n",
              "    [theme=dark] .colab-df-convert:hover {\n",
              "      background-color: #434B5C;\n",
              "      box-shadow: 0px 1px 3px 1px rgba(0, 0, 0, 0.15);\n",
              "      filter: drop-shadow(0px 1px 2px rgba(0, 0, 0, 0.3));\n",
              "      fill: #FFFFFF;\n",
              "    }\n",
              "  </style>\n",
              "\n",
              "      <script>\n",
              "        const buttonEl =\n",
              "          document.querySelector('#df-53fe70e3-0c60-4afd-8328-d0f6c3f3ffe4 button.colab-df-convert');\n",
              "        buttonEl.style.display =\n",
              "          google.colab.kernel.accessAllowed ? 'block' : 'none';\n",
              "\n",
              "        async function convertToInteractive(key) {\n",
              "          const element = document.querySelector('#df-53fe70e3-0c60-4afd-8328-d0f6c3f3ffe4');\n",
              "          const dataTable =\n",
              "            await google.colab.kernel.invokeFunction('convertToInteractive',\n",
              "                                                     [key], {});\n",
              "          if (!dataTable) return;\n",
              "\n",
              "          const docLinkHtml = 'Like what you see? Visit the ' +\n",
              "            '<a target=\"_blank\" href=https://colab.research.google.com/notebooks/data_table.ipynb>data table notebook</a>'\n",
              "            + ' to learn more about interactive tables.';\n",
              "          element.innerHTML = '';\n",
              "          dataTable['output_type'] = 'display_data';\n",
              "          await google.colab.output.renderOutput(dataTable, element);\n",
              "          const docLink = document.createElement('div');\n",
              "          docLink.innerHTML = docLinkHtml;\n",
              "          element.appendChild(docLink);\n",
              "        }\n",
              "      </script>\n",
              "    </div>\n",
              "  </div>\n",
              "  "
            ],
            "text/plain": [
              "                                                 tweets  ...                time\n",
              "0     b'A video of a recent rally addressed by Akhil...  ... 2022-02-23 11:07:12\n",
              "1     b'Then he torcherd me and they are saying that...  ... 2022-02-25 23:30:34\n",
              "2     b'Union Home Minister Amit Shah on Friday trai...  ... 2022-02-25 23:15:00\n",
              "3     b'~  Farmers &amp; small traders are suffering...  ... 2022-02-25 20:38:53\n",
              "4     b'\"Bombs Were Kept On Cycles\": PM\\'s Swipe At ...  ... 2022-02-25 20:17:02\n",
              "...                                                 ...  ...                 ...\n",
              "1103  b'@Network18Group @18RahulJoshi @AmitShah In a...  ... 2022-02-21 13:57:27\n",
              "1104  b\"Impartial take ~\\n\\nContrary to the narrativ...  ... 2022-02-21 10:02:41\n",
              "1105  b'#AmitShahToNews18 | Will the BJP have a post...  ... 2022-02-21 09:30:00\n",
              "1106  b\"@sowmiyasid Who Jayant Chaudhary?? \\nI can't...  ... 2022-02-21 03:55:10\n",
              "1107  b'#WebQoof | A photograph and a video of RLD l...  ... 2022-02-21 00:30:00\n",
              "\n",
              "[1108 rows x 7 columns]"
            ]
          },
          "metadata": {},
          "execution_count": 44
        }
      ],
      "source": [
        "df_train3 = pd.DataFrame({'tweets':tweets, 'likes':likes, 'retweet':retweet, 'user':name, 'isVerified':isverified, 'place':place, 'time':time,})\n",
        "df_train3"
      ]
    },
    {
      "cell_type": "code",
      "execution_count": null,
      "metadata": {
        "id": "Diot8EKZMCih"
      },
      "outputs": [],
      "source": [
        "df_train3.to_csv(\"UP-SP.csv\", index=False)"
      ]
    },
    {
      "cell_type": "code",
      "execution_count": null,
      "metadata": {
        "id": "Sns_rgQ2MdUa"
      },
      "outputs": [],
      "source": [
        "tweets = []\n",
        "likes = []\n",
        "time = []\n",
        "place = []\n",
        "retweet = []\n",
        "isverified = []\n",
        "name = []"
      ]
    },
    {
      "cell_type": "code",
      "execution_count": null,
      "metadata": {
        "id": "M9VSBwPUNlm-"
      },
      "outputs": [],
      "source": [
        "get_tweets(\"INC Punjab election\", 2000)"
      ]
    },
    {
      "cell_type": "code",
      "execution_count": null,
      "metadata": {
        "id": "6BbGN2mHOe6p"
      },
      "outputs": [],
      "source": [
        "get_tweets(\"Punjab Congress elections\", 2000)"
      ]
    },
    {
      "cell_type": "code",
      "execution_count": null,
      "metadata": {
        "id": "W8qRz2q-Opm2"
      },
      "outputs": [],
      "source": [
        "get_tweets(\"Channi Punjab\", 2000)"
      ]
    },
    {
      "cell_type": "code",
      "execution_count": null,
      "metadata": {
        "colab": {
          "base_uri": "https://localhost:8080/"
        },
        "id": "_Ia60HojPFMk",
        "outputId": "3058a39e-3f76-4f48-912d-65b0bad3f6d4"
      },
      "outputs": [
        {
          "output_type": "execute_result",
          "data": {
            "text/plain": [
              "243"
            ]
          },
          "metadata": {},
          "execution_count": 88
        }
      ],
      "source": [
        "len(tweets)"
      ]
    },
    {
      "cell_type": "code",
      "execution_count": null,
      "metadata": {
        "id": "L6ZVU5ttPJFN"
      },
      "outputs": [],
      "source": [
        "get_tweets(\"Charanjit Singh Channi\", 1000)"
      ]
    },
    {
      "cell_type": "code",
      "execution_count": null,
      "metadata": {
        "id": "wllnxpThQBh4"
      },
      "outputs": [],
      "source": [
        "get_tweets(\"UPA Punjab\", 2000)"
      ]
    },
    {
      "cell_type": "code",
      "execution_count": null,
      "metadata": {
        "id": "6_s6iuZ6QF5e"
      },
      "outputs": [],
      "source": [
        "get_tweets(\"Sidhu election\", 2000)"
      ]
    },
    {
      "cell_type": "code",
      "execution_count": null,
      "metadata": {
        "colab": {
          "base_uri": "https://localhost:8080/",
          "height": 641
        },
        "id": "Hf-ZZ4YgRBpz",
        "outputId": "158e4544-a21a-4afa-8967-d975de0ce9d3"
      },
      "outputs": [
        {
          "output_type": "execute_result",
          "data": {
            "text/html": [
              "\n",
              "  <div id=\"df-b6002636-3707-41c9-b5cd-36bca4a96704\">\n",
              "    <div class=\"colab-df-container\">\n",
              "      <div>\n",
              "<style scoped>\n",
              "    .dataframe tbody tr th:only-of-type {\n",
              "        vertical-align: middle;\n",
              "    }\n",
              "\n",
              "    .dataframe tbody tr th {\n",
              "        vertical-align: top;\n",
              "    }\n",
              "\n",
              "    .dataframe thead th {\n",
              "        text-align: right;\n",
              "    }\n",
              "</style>\n",
              "<table border=\"1\" class=\"dataframe\">\n",
              "  <thead>\n",
              "    <tr style=\"text-align: right;\">\n",
              "      <th></th>\n",
              "      <th>tweets</th>\n",
              "      <th>likes</th>\n",
              "      <th>retweet</th>\n",
              "      <th>user</th>\n",
              "      <th>isVerified</th>\n",
              "      <th>place</th>\n",
              "      <th>time</th>\n",
              "    </tr>\n",
              "  </thead>\n",
              "  <tbody>\n",
              "    <tr>\n",
              "      <th>0</th>\n",
              "      <td>b'@SAR2_O If today election happens INC (if ho...</td>\n",
              "      <td>0</td>\n",
              "      <td>0</td>\n",
              "      <td>ICTFAN18</td>\n",
              "      <td>False</td>\n",
              "      <td>India</td>\n",
              "      <td>2022-02-25 16:28:01</td>\n",
              "    </tr>\n",
              "    <tr>\n",
              "      <th>1</th>\n",
              "      <td>b'Our Assessment for UttarPradesh Legislative ...</td>\n",
              "      <td>9</td>\n",
              "      <td>4</td>\n",
              "      <td>Janmatpolls</td>\n",
              "      <td>False</td>\n",
              "      <td>India</td>\n",
              "      <td>2022-02-25 14:36:16</td>\n",
              "    </tr>\n",
              "    <tr>\n",
              "      <th>2</th>\n",
              "      <td>b\"In 2012, 95% surveys Predicted INC wave in P...</td>\n",
              "      <td>342</td>\n",
              "      <td>46</td>\n",
              "      <td>SarvinGupta7</td>\n",
              "      <td>False</td>\n",
              "      <td></td>\n",
              "      <td>2022-02-25 07:33:43</td>\n",
              "    </tr>\n",
              "    <tr>\n",
              "      <th>3</th>\n",
              "      <td>b'Our Assessment for UttarPradesh Legislative ...</td>\n",
              "      <td>7</td>\n",
              "      <td>4</td>\n",
              "      <td>Janmatpolls</td>\n",
              "      <td>False</td>\n",
              "      <td>India</td>\n",
              "      <td>2022-02-24 13:59:02</td>\n",
              "    </tr>\n",
              "    <tr>\n",
              "      <th>4</th>\n",
              "      <td>b'Seems AK continuously \\xe2\\x80\\x9cTRAINING\\x...</td>\n",
              "      <td>29</td>\n",
              "      <td>14</td>\n",
              "      <td>common_man_01</td>\n",
              "      <td>False</td>\n",
              "      <td>United States (Now) || India</td>\n",
              "      <td>2022-02-22 21:20:17</td>\n",
              "    </tr>\n",
              "    <tr>\n",
              "      <th>...</th>\n",
              "      <td>...</td>\n",
              "      <td>...</td>\n",
              "      <td>...</td>\n",
              "      <td>...</td>\n",
              "      <td>...</td>\n",
              "      <td>...</td>\n",
              "      <td>...</td>\n",
              "    </tr>\n",
              "    <tr>\n",
              "      <th>294</th>\n",
              "      <td>b'Another data point: Deep Sidhu\\xe2\\x80\\x99s ...</td>\n",
              "      <td>12</td>\n",
              "      <td>2</td>\n",
              "      <td>Praveenananth09</td>\n",
              "      <td>False</td>\n",
              "      <td>USA</td>\n",
              "      <td>2022-02-21 08:52:03</td>\n",
              "    </tr>\n",
              "    <tr>\n",
              "      <th>295</th>\n",
              "      <td>b\"AAP has done everything good to win this pun...</td>\n",
              "      <td>5</td>\n",
              "      <td>3</td>\n",
              "      <td>SamsGargAAP</td>\n",
              "      <td>False</td>\n",
              "      <td></td>\n",
              "      <td>2022-02-21 08:28:16</td>\n",
              "    </tr>\n",
              "    <tr>\n",
              "      <th>296</th>\n",
              "      <td>b'@kanchan99 @CHARANJITCHANNI @iepunjab Forget...</td>\n",
              "      <td>1</td>\n",
              "      <td>0</td>\n",
              "      <td>panditavirender</td>\n",
              "      <td>False</td>\n",
              "      <td></td>\n",
              "      <td>2022-02-21 06:59:11</td>\n",
              "    </tr>\n",
              "    <tr>\n",
              "      <th>297</th>\n",
              "      <td>b'This Punjab election irrespective of result ...</td>\n",
              "      <td>1</td>\n",
              "      <td>0</td>\n",
              "      <td>akhileshjandial</td>\n",
              "      <td>False</td>\n",
              "      <td></td>\n",
              "      <td>2022-02-21 05:14:38</td>\n",
              "    </tr>\n",
              "    <tr>\n",
              "      <th>298</th>\n",
              "      <td>b'Punjab Election 2022: One generation lost to...</td>\n",
              "      <td>0</td>\n",
              "      <td>1</td>\n",
              "      <td>shuchitasrivast</td>\n",
              "      <td>False</td>\n",
              "      <td>Mississauga, Ontario, Canada</td>\n",
              "      <td>2022-02-21 00:17:32</td>\n",
              "    </tr>\n",
              "  </tbody>\n",
              "</table>\n",
              "<p>299 rows × 7 columns</p>\n",
              "</div>\n",
              "      <button class=\"colab-df-convert\" onclick=\"convertToInteractive('df-b6002636-3707-41c9-b5cd-36bca4a96704')\"\n",
              "              title=\"Convert this dataframe to an interactive table.\"\n",
              "              style=\"display:none;\">\n",
              "        \n",
              "  <svg xmlns=\"http://www.w3.org/2000/svg\" height=\"24px\"viewBox=\"0 0 24 24\"\n",
              "       width=\"24px\">\n",
              "    <path d=\"M0 0h24v24H0V0z\" fill=\"none\"/>\n",
              "    <path d=\"M18.56 5.44l.94 2.06.94-2.06 2.06-.94-2.06-.94-.94-2.06-.94 2.06-2.06.94zm-11 1L8.5 8.5l.94-2.06 2.06-.94-2.06-.94L8.5 2.5l-.94 2.06-2.06.94zm10 10l.94 2.06.94-2.06 2.06-.94-2.06-.94-.94-2.06-.94 2.06-2.06.94z\"/><path d=\"M17.41 7.96l-1.37-1.37c-.4-.4-.92-.59-1.43-.59-.52 0-1.04.2-1.43.59L10.3 9.45l-7.72 7.72c-.78.78-.78 2.05 0 2.83L4 21.41c.39.39.9.59 1.41.59.51 0 1.02-.2 1.41-.59l7.78-7.78 2.81-2.81c.8-.78.8-2.07 0-2.86zM5.41 20L4 18.59l7.72-7.72 1.47 1.35L5.41 20z\"/>\n",
              "  </svg>\n",
              "      </button>\n",
              "      \n",
              "  <style>\n",
              "    .colab-df-container {\n",
              "      display:flex;\n",
              "      flex-wrap:wrap;\n",
              "      gap: 12px;\n",
              "    }\n",
              "\n",
              "    .colab-df-convert {\n",
              "      background-color: #E8F0FE;\n",
              "      border: none;\n",
              "      border-radius: 50%;\n",
              "      cursor: pointer;\n",
              "      display: none;\n",
              "      fill: #1967D2;\n",
              "      height: 32px;\n",
              "      padding: 0 0 0 0;\n",
              "      width: 32px;\n",
              "    }\n",
              "\n",
              "    .colab-df-convert:hover {\n",
              "      background-color: #E2EBFA;\n",
              "      box-shadow: 0px 1px 2px rgba(60, 64, 67, 0.3), 0px 1px 3px 1px rgba(60, 64, 67, 0.15);\n",
              "      fill: #174EA6;\n",
              "    }\n",
              "\n",
              "    [theme=dark] .colab-df-convert {\n",
              "      background-color: #3B4455;\n",
              "      fill: #D2E3FC;\n",
              "    }\n",
              "\n",
              "    [theme=dark] .colab-df-convert:hover {\n",
              "      background-color: #434B5C;\n",
              "      box-shadow: 0px 1px 3px 1px rgba(0, 0, 0, 0.15);\n",
              "      filter: drop-shadow(0px 1px 2px rgba(0, 0, 0, 0.3));\n",
              "      fill: #FFFFFF;\n",
              "    }\n",
              "  </style>\n",
              "\n",
              "      <script>\n",
              "        const buttonEl =\n",
              "          document.querySelector('#df-b6002636-3707-41c9-b5cd-36bca4a96704 button.colab-df-convert');\n",
              "        buttonEl.style.display =\n",
              "          google.colab.kernel.accessAllowed ? 'block' : 'none';\n",
              "\n",
              "        async function convertToInteractive(key) {\n",
              "          const element = document.querySelector('#df-b6002636-3707-41c9-b5cd-36bca4a96704');\n",
              "          const dataTable =\n",
              "            await google.colab.kernel.invokeFunction('convertToInteractive',\n",
              "                                                     [key], {});\n",
              "          if (!dataTable) return;\n",
              "\n",
              "          const docLinkHtml = 'Like what you see? Visit the ' +\n",
              "            '<a target=\"_blank\" href=https://colab.research.google.com/notebooks/data_table.ipynb>data table notebook</a>'\n",
              "            + ' to learn more about interactive tables.';\n",
              "          element.innerHTML = '';\n",
              "          dataTable['output_type'] = 'display_data';\n",
              "          await google.colab.output.renderOutput(dataTable, element);\n",
              "          const docLink = document.createElement('div');\n",
              "          docLink.innerHTML = docLinkHtml;\n",
              "          element.appendChild(docLink);\n",
              "        }\n",
              "      </script>\n",
              "    </div>\n",
              "  </div>\n",
              "  "
            ],
            "text/plain": [
              "                                                tweets  ...                time\n",
              "0    b'@SAR2_O If today election happens INC (if ho...  ... 2022-02-25 16:28:01\n",
              "1    b'Our Assessment for UttarPradesh Legislative ...  ... 2022-02-25 14:36:16\n",
              "2    b\"In 2012, 95% surveys Predicted INC wave in P...  ... 2022-02-25 07:33:43\n",
              "3    b'Our Assessment for UttarPradesh Legislative ...  ... 2022-02-24 13:59:02\n",
              "4    b'Seems AK continuously \\xe2\\x80\\x9cTRAINING\\x...  ... 2022-02-22 21:20:17\n",
              "..                                                 ...  ...                 ...\n",
              "294  b'Another data point: Deep Sidhu\\xe2\\x80\\x99s ...  ... 2022-02-21 08:52:03\n",
              "295  b\"AAP has done everything good to win this pun...  ... 2022-02-21 08:28:16\n",
              "296  b'@kanchan99 @CHARANJITCHANNI @iepunjab Forget...  ... 2022-02-21 06:59:11\n",
              "297  b'This Punjab election irrespective of result ...  ... 2022-02-21 05:14:38\n",
              "298  b'Punjab Election 2022: One generation lost to...  ... 2022-02-21 00:17:32\n",
              "\n",
              "[299 rows x 7 columns]"
            ]
          },
          "metadata": {},
          "execution_count": 92
        }
      ],
      "source": [
        "df_train = pd.DataFrame({'tweets':tweets, 'likes':likes, 'retweet':retweet, 'user':name, 'isVerified':isverified, 'place':place, 'time':time,})\n",
        "df_train"
      ]
    },
    {
      "cell_type": "code",
      "execution_count": null,
      "metadata": {
        "id": "5_WV6xAhRIUc"
      },
      "outputs": [],
      "source": [
        "df_train.to_csv(\"Punjab-Congress.csv\", index=False)"
      ]
    },
    {
      "cell_type": "code",
      "source": [
        "tweets = []\n",
        "likes = []\n",
        "time = []\n",
        "place = []\n",
        "retweet = []\n",
        "isverified = []\n",
        "name = []"
      ],
      "metadata": {
        "id": "TYSYuJL1i9HN"
      },
      "execution_count": null,
      "outputs": []
    },
    {
      "cell_type": "code",
      "execution_count": null,
      "metadata": {
        "id": "GsUzBY-KRUbZ"
      },
      "outputs": [],
      "source": [
        "get_tweets(\"AAP Punjab election\", 2000)"
      ]
    },
    {
      "cell_type": "code",
      "execution_count": null,
      "metadata": {
        "colab": {
          "base_uri": "https://localhost:8080/"
        },
        "id": "qDGjjd5tRs3a",
        "outputId": "9bd4b38c-da98-4001-bc5b-0bfdcc394f86"
      },
      "outputs": [
        {
          "output_type": "execute_result",
          "data": {
            "text/plain": [
              "58"
            ]
          },
          "metadata": {},
          "execution_count": 95
        }
      ],
      "source": [
        "len(tweets)"
      ]
    },
    {
      "cell_type": "code",
      "execution_count": null,
      "metadata": {
        "id": "HzX_fFvoRu9Q"
      },
      "outputs": [],
      "source": [
        "get_tweets(\"AAP Punjab elections\", 2000)"
      ]
    },
    {
      "cell_type": "code",
      "execution_count": null,
      "metadata": {
        "id": "CD3ThSIPR0yr"
      },
      "outputs": [],
      "source": [
        "get_tweets(\"Aam Aaadmi Punjab\", 2000)"
      ]
    },
    {
      "cell_type": "code",
      "execution_count": null,
      "metadata": {
        "id": "81t51up_R-oj"
      },
      "outputs": [],
      "source": [
        "get_tweets(\"Kejriwal Punjab\", 2000)"
      ]
    },
    {
      "cell_type": "code",
      "execution_count": null,
      "metadata": {
        "id": "op-I6LCLSD8M"
      },
      "outputs": [],
      "source": [
        "get_tweets(\"Bhagwant mann\", 1000)"
      ]
    },
    {
      "cell_type": "code",
      "execution_count": null,
      "metadata": {
        "colab": {
          "base_uri": "https://localhost:8080/",
          "height": 641
        },
        "id": "WS86buSxSPo2",
        "outputId": "430898e8-600c-4208-a509-5f6ae40f4bb6"
      },
      "outputs": [
        {
          "output_type": "execute_result",
          "data": {
            "text/html": [
              "\n",
              "  <div id=\"df-be149676-8796-4cba-aa62-01740d2744a8\">\n",
              "    <div class=\"colab-df-container\">\n",
              "      <div>\n",
              "<style scoped>\n",
              "    .dataframe tbody tr th:only-of-type {\n",
              "        vertical-align: middle;\n",
              "    }\n",
              "\n",
              "    .dataframe tbody tr th {\n",
              "        vertical-align: top;\n",
              "    }\n",
              "\n",
              "    .dataframe thead th {\n",
              "        text-align: right;\n",
              "    }\n",
              "</style>\n",
              "<table border=\"1\" class=\"dataframe\">\n",
              "  <thead>\n",
              "    <tr style=\"text-align: right;\">\n",
              "      <th></th>\n",
              "      <th>tweets</th>\n",
              "      <th>likes</th>\n",
              "      <th>retweet</th>\n",
              "      <th>user</th>\n",
              "      <th>isVerified</th>\n",
              "      <th>place</th>\n",
              "      <th>time</th>\n",
              "    </tr>\n",
              "  </thead>\n",
              "  <tbody>\n",
              "    <tr>\n",
              "      <th>0</th>\n",
              "      <td>b'Past data about  Punjab elections... shows t...</td>\n",
              "      <td>287</td>\n",
              "      <td>168</td>\n",
              "      <td>aashishNRP</td>\n",
              "      <td>True</td>\n",
              "      <td>New Delhi</td>\n",
              "      <td>2022-02-21 13:38:21</td>\n",
              "    </tr>\n",
              "    <tr>\n",
              "      <th>1</th>\n",
              "      <td>b'LIVE | We may not be Muslims but we feel the...</td>\n",
              "      <td>83</td>\n",
              "      <td>14</td>\n",
              "      <td>DeccanHerald</td>\n",
              "      <td>True</td>\n",
              "      <td>India</td>\n",
              "      <td>2022-02-23 08:11:40</td>\n",
              "    </tr>\n",
              "    <tr>\n",
              "      <th>2</th>\n",
              "      <td>b'@EconomicTimes Delhi has seen road condition...</td>\n",
              "      <td>0</td>\n",
              "      <td>0</td>\n",
              "      <td>KEJARIWALAR</td>\n",
              "      <td>False</td>\n",
              "      <td></td>\n",
              "      <td>2022-02-25 21:33:13</td>\n",
              "    </tr>\n",
              "    <tr>\n",
              "      <th>3</th>\n",
              "      <td>b'@KartikG26961338 @daily_elections @shivensh9...</td>\n",
              "      <td>0</td>\n",
              "      <td>0</td>\n",
              "      <td>BIKRAMAGARWAL1</td>\n",
              "      <td>False</td>\n",
              "      <td></td>\n",
              "      <td>2022-02-25 17:18:00</td>\n",
              "    </tr>\n",
              "    <tr>\n",
              "      <th>4</th>\n",
              "      <td>b'If aap won punjab assembly elections, haryan...</td>\n",
              "      <td>0</td>\n",
              "      <td>0</td>\n",
              "      <td>Vinitku02604862</td>\n",
              "      <td>False</td>\n",
              "      <td></td>\n",
              "      <td>2022-02-25 15:32:42</td>\n",
              "    </tr>\n",
              "    <tr>\n",
              "      <th>...</th>\n",
              "      <td>...</td>\n",
              "      <td>...</td>\n",
              "      <td>...</td>\n",
              "      <td>...</td>\n",
              "      <td>...</td>\n",
              "      <td>...</td>\n",
              "      <td>...</td>\n",
              "    </tr>\n",
              "    <tr>\n",
              "      <th>171</th>\n",
              "      <td>b'@Iyervval Bhagwant Mann is a CM aspirant fro...</td>\n",
              "      <td>0</td>\n",
              "      <td>0</td>\n",
              "      <td>pkaushal_99</td>\n",
              "      <td>False</td>\n",
              "      <td>India</td>\n",
              "      <td>2022-02-25 09:55:34</td>\n",
              "    </tr>\n",
              "    <tr>\n",
              "      <th>172</th>\n",
              "      <td>b'@Iyervval OMG, this reminds me Bhagwant Mann...</td>\n",
              "      <td>13</td>\n",
              "      <td>0</td>\n",
              "      <td>LogicalHindu_</td>\n",
              "      <td>False</td>\n",
              "      <td>New Delhi</td>\n",
              "      <td>2022-02-25 09:43:26</td>\n",
              "    </tr>\n",
              "    <tr>\n",
              "      <th>173</th>\n",
              "      <td>b'How Bhagwant Mann Made A Rs1.80 Crore Bridge...</td>\n",
              "      <td>1</td>\n",
              "      <td>0</td>\n",
              "      <td>isandycoolbjp</td>\n",
              "      <td>False</td>\n",
              "      <td>Stratford-Upon-Avon, England</td>\n",
              "      <td>2022-02-25 09:39:34</td>\n",
              "    </tr>\n",
              "    <tr>\n",
              "      <th>174</th>\n",
              "      <td>b'Sunil JI,\\n\\nKindly tag Bhagwant Mann &amp;amp; ...</td>\n",
              "      <td>1</td>\n",
              "      <td>0</td>\n",
              "      <td>RipjeetBrar7</td>\n",
              "      <td>False</td>\n",
              "      <td></td>\n",
              "      <td>2022-02-25 09:30:34</td>\n",
              "    </tr>\n",
              "    <tr>\n",
              "      <th>175</th>\n",
              "      <td>b'Punjabis stranded in Ukraine or their relati...</td>\n",
              "      <td>24</td>\n",
              "      <td>11</td>\n",
              "      <td>Kishlaysharma</td>\n",
              "      <td>False</td>\n",
              "      <td>Germany</td>\n",
              "      <td>2022-02-25 06:26:33</td>\n",
              "    </tr>\n",
              "  </tbody>\n",
              "</table>\n",
              "<p>176 rows × 7 columns</p>\n",
              "</div>\n",
              "      <button class=\"colab-df-convert\" onclick=\"convertToInteractive('df-be149676-8796-4cba-aa62-01740d2744a8')\"\n",
              "              title=\"Convert this dataframe to an interactive table.\"\n",
              "              style=\"display:none;\">\n",
              "        \n",
              "  <svg xmlns=\"http://www.w3.org/2000/svg\" height=\"24px\"viewBox=\"0 0 24 24\"\n",
              "       width=\"24px\">\n",
              "    <path d=\"M0 0h24v24H0V0z\" fill=\"none\"/>\n",
              "    <path d=\"M18.56 5.44l.94 2.06.94-2.06 2.06-.94-2.06-.94-.94-2.06-.94 2.06-2.06.94zm-11 1L8.5 8.5l.94-2.06 2.06-.94-2.06-.94L8.5 2.5l-.94 2.06-2.06.94zm10 10l.94 2.06.94-2.06 2.06-.94-2.06-.94-.94-2.06-.94 2.06-2.06.94z\"/><path d=\"M17.41 7.96l-1.37-1.37c-.4-.4-.92-.59-1.43-.59-.52 0-1.04.2-1.43.59L10.3 9.45l-7.72 7.72c-.78.78-.78 2.05 0 2.83L4 21.41c.39.39.9.59 1.41.59.51 0 1.02-.2 1.41-.59l7.78-7.78 2.81-2.81c.8-.78.8-2.07 0-2.86zM5.41 20L4 18.59l7.72-7.72 1.47 1.35L5.41 20z\"/>\n",
              "  </svg>\n",
              "      </button>\n",
              "      \n",
              "  <style>\n",
              "    .colab-df-container {\n",
              "      display:flex;\n",
              "      flex-wrap:wrap;\n",
              "      gap: 12px;\n",
              "    }\n",
              "\n",
              "    .colab-df-convert {\n",
              "      background-color: #E8F0FE;\n",
              "      border: none;\n",
              "      border-radius: 50%;\n",
              "      cursor: pointer;\n",
              "      display: none;\n",
              "      fill: #1967D2;\n",
              "      height: 32px;\n",
              "      padding: 0 0 0 0;\n",
              "      width: 32px;\n",
              "    }\n",
              "\n",
              "    .colab-df-convert:hover {\n",
              "      background-color: #E2EBFA;\n",
              "      box-shadow: 0px 1px 2px rgba(60, 64, 67, 0.3), 0px 1px 3px 1px rgba(60, 64, 67, 0.15);\n",
              "      fill: #174EA6;\n",
              "    }\n",
              "\n",
              "    [theme=dark] .colab-df-convert {\n",
              "      background-color: #3B4455;\n",
              "      fill: #D2E3FC;\n",
              "    }\n",
              "\n",
              "    [theme=dark] .colab-df-convert:hover {\n",
              "      background-color: #434B5C;\n",
              "      box-shadow: 0px 1px 3px 1px rgba(0, 0, 0, 0.15);\n",
              "      filter: drop-shadow(0px 1px 2px rgba(0, 0, 0, 0.3));\n",
              "      fill: #FFFFFF;\n",
              "    }\n",
              "  </style>\n",
              "\n",
              "      <script>\n",
              "        const buttonEl =\n",
              "          document.querySelector('#df-be149676-8796-4cba-aa62-01740d2744a8 button.colab-df-convert');\n",
              "        buttonEl.style.display =\n",
              "          google.colab.kernel.accessAllowed ? 'block' : 'none';\n",
              "\n",
              "        async function convertToInteractive(key) {\n",
              "          const element = document.querySelector('#df-be149676-8796-4cba-aa62-01740d2744a8');\n",
              "          const dataTable =\n",
              "            await google.colab.kernel.invokeFunction('convertToInteractive',\n",
              "                                                     [key], {});\n",
              "          if (!dataTable) return;\n",
              "\n",
              "          const docLinkHtml = 'Like what you see? Visit the ' +\n",
              "            '<a target=\"_blank\" href=https://colab.research.google.com/notebooks/data_table.ipynb>data table notebook</a>'\n",
              "            + ' to learn more about interactive tables.';\n",
              "          element.innerHTML = '';\n",
              "          dataTable['output_type'] = 'display_data';\n",
              "          await google.colab.output.renderOutput(dataTable, element);\n",
              "          const docLink = document.createElement('div');\n",
              "          docLink.innerHTML = docLinkHtml;\n",
              "          element.appendChild(docLink);\n",
              "        }\n",
              "      </script>\n",
              "    </div>\n",
              "  </div>\n",
              "  "
            ],
            "text/plain": [
              "                                                tweets  ...                time\n",
              "0    b'Past data about  Punjab elections... shows t...  ... 2022-02-21 13:38:21\n",
              "1    b'LIVE | We may not be Muslims but we feel the...  ... 2022-02-23 08:11:40\n",
              "2    b'@EconomicTimes Delhi has seen road condition...  ... 2022-02-25 21:33:13\n",
              "3    b'@KartikG26961338 @daily_elections @shivensh9...  ... 2022-02-25 17:18:00\n",
              "4    b'If aap won punjab assembly elections, haryan...  ... 2022-02-25 15:32:42\n",
              "..                                                 ...  ...                 ...\n",
              "171  b'@Iyervval Bhagwant Mann is a CM aspirant fro...  ... 2022-02-25 09:55:34\n",
              "172  b'@Iyervval OMG, this reminds me Bhagwant Mann...  ... 2022-02-25 09:43:26\n",
              "173  b'How Bhagwant Mann Made A Rs1.80 Crore Bridge...  ... 2022-02-25 09:39:34\n",
              "174  b'Sunil JI,\\n\\nKindly tag Bhagwant Mann &amp; ...  ... 2022-02-25 09:30:34\n",
              "175  b'Punjabis stranded in Ukraine or their relati...  ... 2022-02-25 06:26:33\n",
              "\n",
              "[176 rows x 7 columns]"
            ]
          },
          "metadata": {},
          "execution_count": 102
        }
      ],
      "source": [
        "df_train = pd.DataFrame({'tweets':tweets, 'likes':likes, 'retweet':retweet, 'user':name, 'isVerified':isverified, 'place':place, 'time':time,})\n",
        "df_train"
      ]
    },
    {
      "cell_type": "code",
      "execution_count": null,
      "metadata": {
        "id": "EjFpz-zESY14"
      },
      "outputs": [],
      "source": [
        "df_train.to_csv(\"Punjab-AAP.csv\", index=False)"
      ]
    },
    {
      "cell_type": "code",
      "source": [
        "tweets = []\n",
        "likes = []\n",
        "time = []\n",
        "place = []\n",
        "retweet = []\n",
        "isverified = []\n",
        "name = []"
      ],
      "metadata": {
        "id": "OsiSrHr_k19d"
      },
      "execution_count": null,
      "outputs": []
    },
    {
      "cell_type": "code",
      "execution_count": null,
      "metadata": {
        "id": "c3fWxTc2SsD_"
      },
      "outputs": [],
      "source": [
        "get_tweets(\"SAD Punjab election\", 2000)"
      ]
    },
    {
      "cell_type": "code",
      "execution_count": null,
      "metadata": {
        "id": "BZ4_N8mmTBoF"
      },
      "outputs": [],
      "source": [
        "get_tweets(\"Shiromani Akali Dal\", 2000)"
      ]
    },
    {
      "cell_type": "code",
      "execution_count": null,
      "metadata": {
        "id": "b3k0K-EsTLXy"
      },
      "outputs": [],
      "source": [
        "get_tweets(\"Sukhbir Singh Badal\", 1000)"
      ]
    },
    {
      "cell_type": "code",
      "execution_count": null,
      "metadata": {
        "id": "YQAIReZTTZ2b"
      },
      "outputs": [],
      "source": [
        "get_tweets(\"Badal election\", 1000)"
      ]
    },
    {
      "cell_type": "code",
      "execution_count": null,
      "metadata": {
        "id": "3BXZKFp_TfDG"
      },
      "outputs": [],
      "source": [
        "get_tweets(\"Badal Punjab\", 2000)"
      ]
    },
    {
      "cell_type": "code",
      "execution_count": null,
      "metadata": {
        "colab": {
          "base_uri": "https://localhost:8080/"
        },
        "id": "QoiLtkY2TlrI",
        "outputId": "db4f0ba1-bc41-44a2-bc85-28b67a801942"
      },
      "outputs": [
        {
          "output_type": "execute_result",
          "data": {
            "text/plain": [
              "159"
            ]
          },
          "metadata": {},
          "execution_count": 110
        }
      ],
      "source": [
        "len(tweets)"
      ]
    },
    {
      "cell_type": "code",
      "execution_count": null,
      "metadata": {
        "id": "gYhUmreiTn7A"
      },
      "outputs": [],
      "source": [
        "get_tweets(\"BSP Punjab\", 2000)"
      ]
    },
    {
      "cell_type": "code",
      "execution_count": null,
      "metadata": {
        "id": "aTWTrIaqTtYq"
      },
      "outputs": [],
      "source": [
        "get_tweets(\"Punjab polls SAD\", 2000)"
      ]
    },
    {
      "cell_type": "code",
      "execution_count": null,
      "metadata": {
        "id": "fyNG56WdUAq9"
      },
      "outputs": [],
      "source": [
        "get_tweets(\"Punjab polls BSP\", 2000)"
      ]
    },
    {
      "cell_type": "code",
      "execution_count": null,
      "metadata": {
        "colab": {
          "base_uri": "https://localhost:8080/",
          "height": 468
        },
        "id": "KA5hI3OvULOt",
        "outputId": "6e051836-97fd-40b1-85b9-a8ca8beaac87"
      },
      "outputs": [
        {
          "output_type": "execute_result",
          "data": {
            "text/html": [
              "\n",
              "  <div id=\"df-f82a5771-ce75-4ceb-8113-6a282797efc4\">\n",
              "    <div class=\"colab-df-container\">\n",
              "      <div>\n",
              "<style scoped>\n",
              "    .dataframe tbody tr th:only-of-type {\n",
              "        vertical-align: middle;\n",
              "    }\n",
              "\n",
              "    .dataframe tbody tr th {\n",
              "        vertical-align: top;\n",
              "    }\n",
              "\n",
              "    .dataframe thead th {\n",
              "        text-align: right;\n",
              "    }\n",
              "</style>\n",
              "<table border=\"1\" class=\"dataframe\">\n",
              "  <thead>\n",
              "    <tr style=\"text-align: right;\">\n",
              "      <th></th>\n",
              "      <th>tweets</th>\n",
              "      <th>likes</th>\n",
              "      <th>retweet</th>\n",
              "      <th>user</th>\n",
              "      <th>isVerified</th>\n",
              "      <th>place</th>\n",
              "      <th>time</th>\n",
              "    </tr>\n",
              "  </thead>\n",
              "  <tbody>\n",
              "    <tr>\n",
              "      <th>0</th>\n",
              "      <td>b'Our Assessment for UttarPradesh Legislative ...</td>\n",
              "      <td>9</td>\n",
              "      <td>4</td>\n",
              "      <td>Janmatpolls</td>\n",
              "      <td>False</td>\n",
              "      <td>India</td>\n",
              "      <td>2022-02-25 14:36:16</td>\n",
              "    </tr>\n",
              "    <tr>\n",
              "      <th>1</th>\n",
              "      <td>b'\\xe2\\x80\\x9cPunjab politics is so fickle. On...</td>\n",
              "      <td>2</td>\n",
              "      <td>1</td>\n",
              "      <td>thecaravanindia</td>\n",
              "      <td>True</td>\n",
              "      <td>New Delhi</td>\n",
              "      <td>2022-02-25 14:30:01</td>\n",
              "    </tr>\n",
              "    <tr>\n",
              "      <th>2</th>\n",
              "      <td>b'\\xe2\\x80\\x9cSAD and AAP are advertising the ...</td>\n",
              "      <td>11</td>\n",
              "      <td>3</td>\n",
              "      <td>thecaravanindia</td>\n",
              "      <td>True</td>\n",
              "      <td>New Delhi</td>\n",
              "      <td>2022-02-25 02:30:00</td>\n",
              "    </tr>\n",
              "    <tr>\n",
              "      <th>3</th>\n",
              "      <td>b'#AssemblyElections2022  LIVE Updates: #AmitS...</td>\n",
              "      <td>9</td>\n",
              "      <td>1</td>\n",
              "      <td>indiatvnews</td>\n",
              "      <td>True</td>\n",
              "      <td>India</td>\n",
              "      <td>2022-02-25 01:51:35</td>\n",
              "    </tr>\n",
              "    <tr>\n",
              "      <th>4</th>\n",
              "      <td>b'#OpEd | \"The SAD, the only regional party, f...</td>\n",
              "      <td>7</td>\n",
              "      <td>1</td>\n",
              "      <td>TheQuint</td>\n",
              "      <td>True</td>\n",
              "      <td></td>\n",
              "      <td>2022-02-25 00:30:00</td>\n",
              "    </tr>\n",
              "    <tr>\n",
              "      <th>...</th>\n",
              "      <td>...</td>\n",
              "      <td>...</td>\n",
              "      <td>...</td>\n",
              "      <td>...</td>\n",
              "      <td>...</td>\n",
              "      <td>...</td>\n",
              "      <td>...</td>\n",
              "    </tr>\n",
              "    <tr>\n",
              "      <th>246</th>\n",
              "      <td>b'Some Important Facts about Punjab\\n\\n\\xe2\\x8...</td>\n",
              "      <td>99</td>\n",
              "      <td>9</td>\n",
              "      <td>Mayankkk98</td>\n",
              "      <td>False</td>\n",
              "      <td>নরেন্দ্রপুর, কলকাতা</td>\n",
              "      <td>2022-02-21 09:23:28</td>\n",
              "    </tr>\n",
              "    <tr>\n",
              "      <th>247</th>\n",
              "      <td>b'@LeftistPahadi Punjab election got real SAD ...</td>\n",
              "      <td>0</td>\n",
              "      <td>0</td>\n",
              "      <td>FattKeFlower</td>\n",
              "      <td>False</td>\n",
              "      <td>हिमांचल</td>\n",
              "      <td>2022-02-21 08:15:41</td>\n",
              "    </tr>\n",
              "    <tr>\n",
              "      <th>248</th>\n",
              "      <td>b'My First and Final Exit Poll on Punjab Assem...</td>\n",
              "      <td>4</td>\n",
              "      <td>2</td>\n",
              "      <td>aapkamahi1979</td>\n",
              "      <td>False</td>\n",
              "      <td>Mumbai, India</td>\n",
              "      <td>2022-02-21 07:11:07</td>\n",
              "    </tr>\n",
              "    <tr>\n",
              "      <th>249</th>\n",
              "      <td>b'My final prediction for Punjab Election as p...</td>\n",
              "      <td>20</td>\n",
              "      <td>2</td>\n",
              "      <td>vaibhav4aap</td>\n",
              "      <td>False</td>\n",
              "      <td>Delhi, India</td>\n",
              "      <td>2022-02-21 05:20:18</td>\n",
              "    </tr>\n",
              "    <tr>\n",
              "      <th>250</th>\n",
              "      <td>b'We shall know on 10 March anyways. There\\xe2...</td>\n",
              "      <td>47</td>\n",
              "      <td>4</td>\n",
              "      <td>ShivamShankarS</td>\n",
              "      <td>False</td>\n",
              "      <td>New Delhi, Delhi</td>\n",
              "      <td>2022-02-21 04:59:32</td>\n",
              "    </tr>\n",
              "  </tbody>\n",
              "</table>\n",
              "<p>251 rows × 7 columns</p>\n",
              "</div>\n",
              "      <button class=\"colab-df-convert\" onclick=\"convertToInteractive('df-f82a5771-ce75-4ceb-8113-6a282797efc4')\"\n",
              "              title=\"Convert this dataframe to an interactive table.\"\n",
              "              style=\"display:none;\">\n",
              "        \n",
              "  <svg xmlns=\"http://www.w3.org/2000/svg\" height=\"24px\"viewBox=\"0 0 24 24\"\n",
              "       width=\"24px\">\n",
              "    <path d=\"M0 0h24v24H0V0z\" fill=\"none\"/>\n",
              "    <path d=\"M18.56 5.44l.94 2.06.94-2.06 2.06-.94-2.06-.94-.94-2.06-.94 2.06-2.06.94zm-11 1L8.5 8.5l.94-2.06 2.06-.94-2.06-.94L8.5 2.5l-.94 2.06-2.06.94zm10 10l.94 2.06.94-2.06 2.06-.94-2.06-.94-.94-2.06-.94 2.06-2.06.94z\"/><path d=\"M17.41 7.96l-1.37-1.37c-.4-.4-.92-.59-1.43-.59-.52 0-1.04.2-1.43.59L10.3 9.45l-7.72 7.72c-.78.78-.78 2.05 0 2.83L4 21.41c.39.39.9.59 1.41.59.51 0 1.02-.2 1.41-.59l7.78-7.78 2.81-2.81c.8-.78.8-2.07 0-2.86zM5.41 20L4 18.59l7.72-7.72 1.47 1.35L5.41 20z\"/>\n",
              "  </svg>\n",
              "      </button>\n",
              "      \n",
              "  <style>\n",
              "    .colab-df-container {\n",
              "      display:flex;\n",
              "      flex-wrap:wrap;\n",
              "      gap: 12px;\n",
              "    }\n",
              "\n",
              "    .colab-df-convert {\n",
              "      background-color: #E8F0FE;\n",
              "      border: none;\n",
              "      border-radius: 50%;\n",
              "      cursor: pointer;\n",
              "      display: none;\n",
              "      fill: #1967D2;\n",
              "      height: 32px;\n",
              "      padding: 0 0 0 0;\n",
              "      width: 32px;\n",
              "    }\n",
              "\n",
              "    .colab-df-convert:hover {\n",
              "      background-color: #E2EBFA;\n",
              "      box-shadow: 0px 1px 2px rgba(60, 64, 67, 0.3), 0px 1px 3px 1px rgba(60, 64, 67, 0.15);\n",
              "      fill: #174EA6;\n",
              "    }\n",
              "\n",
              "    [theme=dark] .colab-df-convert {\n",
              "      background-color: #3B4455;\n",
              "      fill: #D2E3FC;\n",
              "    }\n",
              "\n",
              "    [theme=dark] .colab-df-convert:hover {\n",
              "      background-color: #434B5C;\n",
              "      box-shadow: 0px 1px 3px 1px rgba(0, 0, 0, 0.15);\n",
              "      filter: drop-shadow(0px 1px 2px rgba(0, 0, 0, 0.3));\n",
              "      fill: #FFFFFF;\n",
              "    }\n",
              "  </style>\n",
              "\n",
              "      <script>\n",
              "        const buttonEl =\n",
              "          document.querySelector('#df-f82a5771-ce75-4ceb-8113-6a282797efc4 button.colab-df-convert');\n",
              "        buttonEl.style.display =\n",
              "          google.colab.kernel.accessAllowed ? 'block' : 'none';\n",
              "\n",
              "        async function convertToInteractive(key) {\n",
              "          const element = document.querySelector('#df-f82a5771-ce75-4ceb-8113-6a282797efc4');\n",
              "          const dataTable =\n",
              "            await google.colab.kernel.invokeFunction('convertToInteractive',\n",
              "                                                     [key], {});\n",
              "          if (!dataTable) return;\n",
              "\n",
              "          const docLinkHtml = 'Like what you see? Visit the ' +\n",
              "            '<a target=\"_blank\" href=https://colab.research.google.com/notebooks/data_table.ipynb>data table notebook</a>'\n",
              "            + ' to learn more about interactive tables.';\n",
              "          element.innerHTML = '';\n",
              "          dataTable['output_type'] = 'display_data';\n",
              "          await google.colab.output.renderOutput(dataTable, element);\n",
              "          const docLink = document.createElement('div');\n",
              "          docLink.innerHTML = docLinkHtml;\n",
              "          element.appendChild(docLink);\n",
              "        }\n",
              "      </script>\n",
              "    </div>\n",
              "  </div>\n",
              "  "
            ],
            "text/plain": [
              "                                                tweets  ...                time\n",
              "0    b'Our Assessment for UttarPradesh Legislative ...  ... 2022-02-25 14:36:16\n",
              "1    b'\\xe2\\x80\\x9cPunjab politics is so fickle. On...  ... 2022-02-25 14:30:01\n",
              "2    b'\\xe2\\x80\\x9cSAD and AAP are advertising the ...  ... 2022-02-25 02:30:00\n",
              "3    b'#AssemblyElections2022  LIVE Updates: #AmitS...  ... 2022-02-25 01:51:35\n",
              "4    b'#OpEd | \"The SAD, the only regional party, f...  ... 2022-02-25 00:30:00\n",
              "..                                                 ...  ...                 ...\n",
              "246  b'Some Important Facts about Punjab\\n\\n\\xe2\\x8...  ... 2022-02-21 09:23:28\n",
              "247  b'@LeftistPahadi Punjab election got real SAD ...  ... 2022-02-21 08:15:41\n",
              "248  b'My First and Final Exit Poll on Punjab Assem...  ... 2022-02-21 07:11:07\n",
              "249  b'My final prediction for Punjab Election as p...  ... 2022-02-21 05:20:18\n",
              "250  b'We shall know on 10 March anyways. There\\xe2...  ... 2022-02-21 04:59:32\n",
              "\n",
              "[251 rows x 7 columns]"
            ]
          },
          "metadata": {},
          "execution_count": 115
        }
      ],
      "source": [
        "df_train = pd.DataFrame({'tweets':tweets, 'likes':likes, 'retweet':retweet, 'user':name, 'isVerified':isverified, 'place':place, 'time':time,})\n",
        "df_train"
      ]
    },
    {
      "cell_type": "code",
      "execution_count": null,
      "metadata": {
        "id": "RWCtsuaCUz_Z"
      },
      "outputs": [],
      "source": [
        "df_train.to_csv(\"Punjab-SAD.csv\", index=False)"
      ]
    },
    {
      "cell_type": "code",
      "execution_count": null,
      "metadata": {
        "id": "qsJ-z4qYU8cm"
      },
      "outputs": [],
      "source": [
        "tweets = []\n",
        "likes = []\n",
        "time = []\n",
        "place = []\n",
        "retweet = []\n",
        "isverified = []\n",
        "name = []"
      ]
    },
    {
      "cell_type": "code",
      "execution_count": null,
      "metadata": {
        "id": "X_jc67ljVYpb"
      },
      "outputs": [],
      "source": [
        "#get_tweets(\"BJP Uttarakhand election\", 2000)\n",
        "#get_tweets(\"BJP Uttarakhand\", 2000)\n",
        "get_tweets(\"NDA Uttarakhand\", 2000)\n",
        "#get_tweets(\"Pushkar Singh Dhami\", 1000)\n",
        "#get_tweets(\"Dhami election\", 2000)"
      ]
    },
    {
      "cell_type": "code",
      "execution_count": null,
      "metadata": {
        "colab": {
          "base_uri": "https://localhost:8080/"
        },
        "id": "oqvfgg4xWEh9",
        "outputId": "e174c823-ddcf-4408-c50b-66db649ecf03"
      },
      "outputs": [
        {
          "output_type": "execute_result",
          "data": {
            "text/plain": [
              "201"
            ]
          },
          "metadata": {},
          "execution_count": 125
        }
      ],
      "source": [
        "len(tweets)"
      ]
    },
    {
      "cell_type": "code",
      "execution_count": null,
      "metadata": {
        "id": "g0djWmeUWIWc"
      },
      "outputs": [],
      "source": [
        "get_tweets(\"UK election BJP\", 2000)"
      ]
    },
    {
      "cell_type": "code",
      "execution_count": null,
      "metadata": {
        "id": "0Xp6VtMPW31p"
      },
      "outputs": [],
      "source": [
        "get_tweets(\"Uttarakhand poll NDA\", 2000)"
      ]
    },
    {
      "cell_type": "code",
      "execution_count": null,
      "metadata": {
        "id": "aL89Ozs2XAco"
      },
      "outputs": [],
      "source": [
        "get_tweets(\"Uttarakhand poll BJP\", 2000)"
      ]
    },
    {
      "cell_type": "code",
      "execution_count": null,
      "metadata": {
        "colab": {
          "base_uri": "https://localhost:8080/",
          "height": 468
        },
        "id": "nXv53ibHXNpz",
        "outputId": "32cd1346-15b4-480f-ba32-c50dfb005bb2"
      },
      "outputs": [
        {
          "output_type": "execute_result",
          "data": {
            "text/html": [
              "\n",
              "  <div id=\"df-583a04a0-c20a-47bc-ae16-e78359caf401\">\n",
              "    <div class=\"colab-df-container\">\n",
              "      <div>\n",
              "<style scoped>\n",
              "    .dataframe tbody tr th:only-of-type {\n",
              "        vertical-align: middle;\n",
              "    }\n",
              "\n",
              "    .dataframe tbody tr th {\n",
              "        vertical-align: top;\n",
              "    }\n",
              "\n",
              "    .dataframe thead th {\n",
              "        text-align: right;\n",
              "    }\n",
              "</style>\n",
              "<table border=\"1\" class=\"dataframe\">\n",
              "  <thead>\n",
              "    <tr style=\"text-align: right;\">\n",
              "      <th></th>\n",
              "      <th>tweets</th>\n",
              "      <th>likes</th>\n",
              "      <th>retweet</th>\n",
              "      <th>user</th>\n",
              "      <th>isVerified</th>\n",
              "      <th>place</th>\n",
              "      <th>time</th>\n",
              "    </tr>\n",
              "  </thead>\n",
              "  <tbody>\n",
              "    <tr>\n",
              "      <th>0</th>\n",
              "      <td>b'More than Rs 1000 crores worth seizures have...</td>\n",
              "      <td>1</td>\n",
              "      <td>0</td>\n",
              "      <td>DeepThanki_BJP</td>\n",
              "      <td>False</td>\n",
              "      <td>गांधीनगर, भारत</td>\n",
              "      <td>2022-02-25 14:42:57</td>\n",
              "    </tr>\n",
              "    <tr>\n",
              "      <th>1</th>\n",
              "      <td>b'Seizures cross Rs 1,000 crore from poll-boun...</td>\n",
              "      <td>13</td>\n",
              "      <td>2</td>\n",
              "      <td>IndiaToday</td>\n",
              "      <td>True</td>\n",
              "      <td>India</td>\n",
              "      <td>2022-02-25 13:47:17</td>\n",
              "    </tr>\n",
              "    <tr>\n",
              "      <th>2</th>\n",
              "      <td>b\"UP CM Yogi Adityanath takes a dig at BSP whi...</td>\n",
              "      <td>20</td>\n",
              "      <td>3</td>\n",
              "      <td>IndiaToday</td>\n",
              "      <td>True</td>\n",
              "      <td>India</td>\n",
              "      <td>2022-02-25 07:38:18</td>\n",
              "    </tr>\n",
              "    <tr>\n",
              "      <th>3</th>\n",
              "      <td>b\"Priyanka Gandhi holds roadshow in UP's Praya...</td>\n",
              "      <td>17</td>\n",
              "      <td>2</td>\n",
              "      <td>IndiaToday</td>\n",
              "      <td>True</td>\n",
              "      <td>India</td>\n",
              "      <td>2022-02-25 06:39:50</td>\n",
              "    </tr>\n",
              "    <tr>\n",
              "      <th>4</th>\n",
              "      <td>b'Kya Uttarakhand elections mai BJP ko milegi ...</td>\n",
              "      <td>1</td>\n",
              "      <td>1</td>\n",
              "      <td>shartlagi</td>\n",
              "      <td>False</td>\n",
              "      <td></td>\n",
              "      <td>2022-02-25 04:04:22</td>\n",
              "    </tr>\n",
              "    <tr>\n",
              "      <th>...</th>\n",
              "      <td>...</td>\n",
              "      <td>...</td>\n",
              "      <td>...</td>\n",
              "      <td>...</td>\n",
              "      <td>...</td>\n",
              "      <td>...</td>\n",
              "      <td>...</td>\n",
              "    </tr>\n",
              "    <tr>\n",
              "      <th>206</th>\n",
              "      <td>b\"Looking at BJP space in TN ELECTION one wond...</td>\n",
              "      <td>0</td>\n",
              "      <td>0</td>\n",
              "      <td>AnkushDutta10</td>\n",
              "      <td>False</td>\n",
              "      <td>Kolkata, India</td>\n",
              "      <td>2022-02-22 05:00:23</td>\n",
              "    </tr>\n",
              "    <tr>\n",
              "      <th>207</th>\n",
              "      <td>b'BJP is winning in all the states where elect...</td>\n",
              "      <td>0</td>\n",
              "      <td>0</td>\n",
              "      <td>JosephT63024742</td>\n",
              "      <td>False</td>\n",
              "      <td>Bengaluru, India</td>\n",
              "      <td>2022-02-22 02:38:40</td>\n",
              "    </tr>\n",
              "    <tr>\n",
              "      <th>208</th>\n",
              "      <td>b\"-Clears that students must wear uniforms.\\n-...</td>\n",
              "      <td>1</td>\n",
              "      <td>0</td>\n",
              "      <td>MyviewsonIndia</td>\n",
              "      <td>False</td>\n",
              "      <td></td>\n",
              "      <td>2022-02-21 15:20:05</td>\n",
              "    </tr>\n",
              "    <tr>\n",
              "      <th>209</th>\n",
              "      <td>b'@MamataOfficial Respected Madam\\nview of ele...</td>\n",
              "      <td>0</td>\n",
              "      <td>0</td>\n",
              "      <td>KParas288</td>\n",
              "      <td>False</td>\n",
              "      <td></td>\n",
              "      <td>2022-02-21 09:31:47</td>\n",
              "    </tr>\n",
              "    <tr>\n",
              "      <th>210</th>\n",
              "      <td>b'@RespectIsVital In the last election the Scu...</td>\n",
              "      <td>0</td>\n",
              "      <td>0</td>\n",
              "      <td>juan_kerr</td>\n",
              "      <td>False</td>\n",
              "      <td>Here and there.</td>\n",
              "      <td>2022-02-21 04:56:29</td>\n",
              "    </tr>\n",
              "  </tbody>\n",
              "</table>\n",
              "<p>211 rows × 7 columns</p>\n",
              "</div>\n",
              "      <button class=\"colab-df-convert\" onclick=\"convertToInteractive('df-583a04a0-c20a-47bc-ae16-e78359caf401')\"\n",
              "              title=\"Convert this dataframe to an interactive table.\"\n",
              "              style=\"display:none;\">\n",
              "        \n",
              "  <svg xmlns=\"http://www.w3.org/2000/svg\" height=\"24px\"viewBox=\"0 0 24 24\"\n",
              "       width=\"24px\">\n",
              "    <path d=\"M0 0h24v24H0V0z\" fill=\"none\"/>\n",
              "    <path d=\"M18.56 5.44l.94 2.06.94-2.06 2.06-.94-2.06-.94-.94-2.06-.94 2.06-2.06.94zm-11 1L8.5 8.5l.94-2.06 2.06-.94-2.06-.94L8.5 2.5l-.94 2.06-2.06.94zm10 10l.94 2.06.94-2.06 2.06-.94-2.06-.94-.94-2.06-.94 2.06-2.06.94z\"/><path d=\"M17.41 7.96l-1.37-1.37c-.4-.4-.92-.59-1.43-.59-.52 0-1.04.2-1.43.59L10.3 9.45l-7.72 7.72c-.78.78-.78 2.05 0 2.83L4 21.41c.39.39.9.59 1.41.59.51 0 1.02-.2 1.41-.59l7.78-7.78 2.81-2.81c.8-.78.8-2.07 0-2.86zM5.41 20L4 18.59l7.72-7.72 1.47 1.35L5.41 20z\"/>\n",
              "  </svg>\n",
              "      </button>\n",
              "      \n",
              "  <style>\n",
              "    .colab-df-container {\n",
              "      display:flex;\n",
              "      flex-wrap:wrap;\n",
              "      gap: 12px;\n",
              "    }\n",
              "\n",
              "    .colab-df-convert {\n",
              "      background-color: #E8F0FE;\n",
              "      border: none;\n",
              "      border-radius: 50%;\n",
              "      cursor: pointer;\n",
              "      display: none;\n",
              "      fill: #1967D2;\n",
              "      height: 32px;\n",
              "      padding: 0 0 0 0;\n",
              "      width: 32px;\n",
              "    }\n",
              "\n",
              "    .colab-df-convert:hover {\n",
              "      background-color: #E2EBFA;\n",
              "      box-shadow: 0px 1px 2px rgba(60, 64, 67, 0.3), 0px 1px 3px 1px rgba(60, 64, 67, 0.15);\n",
              "      fill: #174EA6;\n",
              "    }\n",
              "\n",
              "    [theme=dark] .colab-df-convert {\n",
              "      background-color: #3B4455;\n",
              "      fill: #D2E3FC;\n",
              "    }\n",
              "\n",
              "    [theme=dark] .colab-df-convert:hover {\n",
              "      background-color: #434B5C;\n",
              "      box-shadow: 0px 1px 3px 1px rgba(0, 0, 0, 0.15);\n",
              "      filter: drop-shadow(0px 1px 2px rgba(0, 0, 0, 0.3));\n",
              "      fill: #FFFFFF;\n",
              "    }\n",
              "  </style>\n",
              "\n",
              "      <script>\n",
              "        const buttonEl =\n",
              "          document.querySelector('#df-583a04a0-c20a-47bc-ae16-e78359caf401 button.colab-df-convert');\n",
              "        buttonEl.style.display =\n",
              "          google.colab.kernel.accessAllowed ? 'block' : 'none';\n",
              "\n",
              "        async function convertToInteractive(key) {\n",
              "          const element = document.querySelector('#df-583a04a0-c20a-47bc-ae16-e78359caf401');\n",
              "          const dataTable =\n",
              "            await google.colab.kernel.invokeFunction('convertToInteractive',\n",
              "                                                     [key], {});\n",
              "          if (!dataTable) return;\n",
              "\n",
              "          const docLinkHtml = 'Like what you see? Visit the ' +\n",
              "            '<a target=\"_blank\" href=https://colab.research.google.com/notebooks/data_table.ipynb>data table notebook</a>'\n",
              "            + ' to learn more about interactive tables.';\n",
              "          element.innerHTML = '';\n",
              "          dataTable['output_type'] = 'display_data';\n",
              "          await google.colab.output.renderOutput(dataTable, element);\n",
              "          const docLink = document.createElement('div');\n",
              "          docLink.innerHTML = docLinkHtml;\n",
              "          element.appendChild(docLink);\n",
              "        }\n",
              "      </script>\n",
              "    </div>\n",
              "  </div>\n",
              "  "
            ],
            "text/plain": [
              "                                                tweets  ...                time\n",
              "0    b'More than Rs 1000 crores worth seizures have...  ... 2022-02-25 14:42:57\n",
              "1    b'Seizures cross Rs 1,000 crore from poll-boun...  ... 2022-02-25 13:47:17\n",
              "2    b\"UP CM Yogi Adityanath takes a dig at BSP whi...  ... 2022-02-25 07:38:18\n",
              "3    b\"Priyanka Gandhi holds roadshow in UP's Praya...  ... 2022-02-25 06:39:50\n",
              "4    b'Kya Uttarakhand elections mai BJP ko milegi ...  ... 2022-02-25 04:04:22\n",
              "..                                                 ...  ...                 ...\n",
              "206  b\"Looking at BJP space in TN ELECTION one wond...  ... 2022-02-22 05:00:23\n",
              "207  b'BJP is winning in all the states where elect...  ... 2022-02-22 02:38:40\n",
              "208  b\"-Clears that students must wear uniforms.\\n-...  ... 2022-02-21 15:20:05\n",
              "209  b'@MamataOfficial Respected Madam\\nview of ele...  ... 2022-02-21 09:31:47\n",
              "210  b'@RespectIsVital In the last election the Scu...  ... 2022-02-21 04:56:29\n",
              "\n",
              "[211 rows x 7 columns]"
            ]
          },
          "metadata": {},
          "execution_count": 129
        }
      ],
      "source": [
        "df_train = pd.DataFrame({'tweets':tweets, 'likes':likes, 'retweet':retweet, 'user':name, 'isVerified':isverified, 'place':place, 'time':time,})\n",
        "df_train"
      ]
    },
    {
      "cell_type": "code",
      "execution_count": null,
      "metadata": {
        "id": "XzoGJt6SXZ4D"
      },
      "outputs": [],
      "source": [
        "df_train.to_csv(\"UK-BJP.csv\", index=False)"
      ]
    },
    {
      "cell_type": "code",
      "source": [
        "tweets = []\n",
        "likes = []\n",
        "time = []\n",
        "place = []\n",
        "retweet = []\n",
        "isverified = []\n",
        "name = []"
      ],
      "metadata": {
        "id": "olCW9Gp8lTS9"
      },
      "execution_count": null,
      "outputs": []
    },
    {
      "cell_type": "code",
      "execution_count": null,
      "metadata": {
        "id": "4P91gYcGXj_H"
      },
      "outputs": [],
      "source": [
        "#get_tweets(\"INC Uttarakhand\", 2000)\n",
        "#get_tweets(\"INC Uttarakhand elections\", 2000)\n",
        "#get_tweets(\"UPA Uttarakhand\", 2000)\n",
        "#get_tweets(\"Harish Rawat\", 1000)\n",
        "get_tweets(\"Rawat election\", 2000)"
      ]
    },
    {
      "cell_type": "code",
      "execution_count": null,
      "metadata": {
        "colab": {
          "base_uri": "https://localhost:8080/"
        },
        "id": "LhjZeO9UYFbj",
        "outputId": "59c06ffa-c3ee-4659-a201-386844a5f742"
      },
      "outputs": [
        {
          "output_type": "execute_result",
          "data": {
            "text/plain": [
              "268"
            ]
          },
          "metadata": {},
          "execution_count": 142
        }
      ],
      "source": [
        "len(tweets)"
      ]
    },
    {
      "cell_type": "code",
      "execution_count": null,
      "metadata": {
        "id": "Hnr0wquzYITF"
      },
      "outputs": [],
      "source": [
        "get_tweets(\"Rawat Uttarakhand\", 2000)"
      ]
    },
    {
      "cell_type": "code",
      "execution_count": null,
      "metadata": {
        "id": "TPqV06D1YPeT"
      },
      "outputs": [],
      "source": [
        "get_tweets(\"UK election INC\", 2000)\n",
        "get_tweets(\"UK election UPA\", 2000)\n",
        "get_tweets(\"Uttarakhand poll INC\", 2000)"
      ]
    },
    {
      "cell_type": "code",
      "execution_count": null,
      "metadata": {
        "id": "rbvnyQREY3NY"
      },
      "outputs": [],
      "source": [
        "get_tweets(\"Uttarakhand Congress\", 2000)"
      ]
    },
    {
      "cell_type": "code",
      "execution_count": null,
      "metadata": {
        "colab": {
          "base_uri": "https://localhost:8080/",
          "height": 641
        },
        "id": "snniCryXaBvB",
        "outputId": "b72f859b-204b-4b87-cb50-e62224337227"
      },
      "outputs": [
        {
          "output_type": "execute_result",
          "data": {
            "text/html": [
              "\n",
              "  <div id=\"df-1a3003b3-b5a1-476f-8994-e118be6c8541\">\n",
              "    <div class=\"colab-df-container\">\n",
              "      <div>\n",
              "<style scoped>\n",
              "    .dataframe tbody tr th:only-of-type {\n",
              "        vertical-align: middle;\n",
              "    }\n",
              "\n",
              "    .dataframe tbody tr th {\n",
              "        vertical-align: top;\n",
              "    }\n",
              "\n",
              "    .dataframe thead th {\n",
              "        text-align: right;\n",
              "    }\n",
              "</style>\n",
              "<table border=\"1\" class=\"dataframe\">\n",
              "  <thead>\n",
              "    <tr style=\"text-align: right;\">\n",
              "      <th></th>\n",
              "      <th>tweets</th>\n",
              "      <th>likes</th>\n",
              "      <th>retweet</th>\n",
              "      <th>user</th>\n",
              "      <th>isVerified</th>\n",
              "      <th>place</th>\n",
              "      <th>time</th>\n",
              "    </tr>\n",
              "  </thead>\n",
              "  <tbody>\n",
              "    <tr>\n",
              "      <th>0</th>\n",
              "      <td>b'@Selena_Indian @Thapa4INC yes, i hope INC ma...</td>\n",
              "      <td>3</td>\n",
              "      <td>0</td>\n",
              "      <td>MMSTheGreatOne</td>\n",
              "      <td>False</td>\n",
              "      <td>Global</td>\n",
              "      <td>2022-02-21 17:11:31</td>\n",
              "    </tr>\n",
              "    <tr>\n",
              "      <th>1</th>\n",
              "      <td>b'@AaronMathewINC SP will win UP, Punjab, Goa,...</td>\n",
              "      <td>0</td>\n",
              "      <td>0</td>\n",
              "      <td>JPRASADARAO3</td>\n",
              "      <td>False</td>\n",
              "      <td>Bengaluru South, India</td>\n",
              "      <td>2022-02-21 07:18:46</td>\n",
              "    </tr>\n",
              "    <tr>\n",
              "      <th>2</th>\n",
              "      <td>b'Goa will go to \"Goa Forward Party\" and Congr...</td>\n",
              "      <td>0</td>\n",
              "      <td>1</td>\n",
              "      <td>Jaihind101Jai</td>\n",
              "      <td>False</td>\n",
              "      <td>United States</td>\n",
              "      <td>2022-02-24 20:32:07</td>\n",
              "    </tr>\n",
              "    <tr>\n",
              "      <th>3</th>\n",
              "      <td>b\"'The pessimist complains about the wind. The...</td>\n",
              "      <td>12</td>\n",
              "      <td>2</td>\n",
              "      <td>Shiv_INC</td>\n",
              "      <td>False</td>\n",
              "      <td>Uttar Pradesh</td>\n",
              "      <td>2022-02-24 18:03:47</td>\n",
              "    </tr>\n",
              "    <tr>\n",
              "      <th>4</th>\n",
              "      <td>b'@VShastri_INC @harishrawatcmuk @KhadeBajirao...</td>\n",
              "      <td>0</td>\n",
              "      <td>0</td>\n",
              "      <td>AjayAyurvedic</td>\n",
              "      <td>False</td>\n",
              "      <td>Lucknow, India</td>\n",
              "      <td>2022-02-24 01:56:12</td>\n",
              "    </tr>\n",
              "    <tr>\n",
              "      <th>...</th>\n",
              "      <td>...</td>\n",
              "      <td>...</td>\n",
              "      <td>...</td>\n",
              "      <td>...</td>\n",
              "      <td>...</td>\n",
              "      <td>...</td>\n",
              "      <td>...</td>\n",
              "    </tr>\n",
              "    <tr>\n",
              "      <th>263</th>\n",
              "      <td>b'#Breaking : Aam Aadmi Party suffers another ...</td>\n",
              "      <td>0</td>\n",
              "      <td>0</td>\n",
              "      <td>ArunMishraNSUI</td>\n",
              "      <td>False</td>\n",
              "      <td>Rewa, India</td>\n",
              "      <td>2022-02-21 04:38:10</td>\n",
              "    </tr>\n",
              "    <tr>\n",
              "      <th>264</th>\n",
              "      <td>b'#ElectionsWithHT | Congress leader #RahulGan...</td>\n",
              "      <td>7</td>\n",
              "      <td>1</td>\n",
              "      <td>htTweets</td>\n",
              "      <td>True</td>\n",
              "      <td>India</td>\n",
              "      <td>2022-02-21 03:25:52</td>\n",
              "    </tr>\n",
              "    <tr>\n",
              "      <th>265</th>\n",
              "      <td>b'@KartikG26961338 @Arun2981 Mjhe bas ek baat ...</td>\n",
              "      <td>0</td>\n",
              "      <td>0</td>\n",
              "      <td>Cobrakai_1</td>\n",
              "      <td>False</td>\n",
              "      <td></td>\n",
              "      <td>2022-02-21 02:44:42</td>\n",
              "    </tr>\n",
              "    <tr>\n",
              "      <th>266</th>\n",
              "      <td>b'@Smokingskills07 Punjab: Hung assembly with ...</td>\n",
              "      <td>0</td>\n",
              "      <td>0</td>\n",
              "      <td>iDheeraj_</td>\n",
              "      <td>False</td>\n",
              "      <td>Shimla | Gurgaon</td>\n",
              "      <td>2022-02-21 01:57:39</td>\n",
              "    </tr>\n",
              "    <tr>\n",
              "      <th>267</th>\n",
              "      <td>b'@OnPathOfSeeking @RahulGandhi There is a con...</td>\n",
              "      <td>1</td>\n",
              "      <td>0</td>\n",
              "      <td>geekysachith</td>\n",
              "      <td>False</td>\n",
              "      <td>Bharat</td>\n",
              "      <td>2022-02-21 01:21:58</td>\n",
              "    </tr>\n",
              "  </tbody>\n",
              "</table>\n",
              "<p>268 rows × 7 columns</p>\n",
              "</div>\n",
              "      <button class=\"colab-df-convert\" onclick=\"convertToInteractive('df-1a3003b3-b5a1-476f-8994-e118be6c8541')\"\n",
              "              title=\"Convert this dataframe to an interactive table.\"\n",
              "              style=\"display:none;\">\n",
              "        \n",
              "  <svg xmlns=\"http://www.w3.org/2000/svg\" height=\"24px\"viewBox=\"0 0 24 24\"\n",
              "       width=\"24px\">\n",
              "    <path d=\"M0 0h24v24H0V0z\" fill=\"none\"/>\n",
              "    <path d=\"M18.56 5.44l.94 2.06.94-2.06 2.06-.94-2.06-.94-.94-2.06-.94 2.06-2.06.94zm-11 1L8.5 8.5l.94-2.06 2.06-.94-2.06-.94L8.5 2.5l-.94 2.06-2.06.94zm10 10l.94 2.06.94-2.06 2.06-.94-2.06-.94-.94-2.06-.94 2.06-2.06.94z\"/><path d=\"M17.41 7.96l-1.37-1.37c-.4-.4-.92-.59-1.43-.59-.52 0-1.04.2-1.43.59L10.3 9.45l-7.72 7.72c-.78.78-.78 2.05 0 2.83L4 21.41c.39.39.9.59 1.41.59.51 0 1.02-.2 1.41-.59l7.78-7.78 2.81-2.81c.8-.78.8-2.07 0-2.86zM5.41 20L4 18.59l7.72-7.72 1.47 1.35L5.41 20z\"/>\n",
              "  </svg>\n",
              "      </button>\n",
              "      \n",
              "  <style>\n",
              "    .colab-df-container {\n",
              "      display:flex;\n",
              "      flex-wrap:wrap;\n",
              "      gap: 12px;\n",
              "    }\n",
              "\n",
              "    .colab-df-convert {\n",
              "      background-color: #E8F0FE;\n",
              "      border: none;\n",
              "      border-radius: 50%;\n",
              "      cursor: pointer;\n",
              "      display: none;\n",
              "      fill: #1967D2;\n",
              "      height: 32px;\n",
              "      padding: 0 0 0 0;\n",
              "      width: 32px;\n",
              "    }\n",
              "\n",
              "    .colab-df-convert:hover {\n",
              "      background-color: #E2EBFA;\n",
              "      box-shadow: 0px 1px 2px rgba(60, 64, 67, 0.3), 0px 1px 3px 1px rgba(60, 64, 67, 0.15);\n",
              "      fill: #174EA6;\n",
              "    }\n",
              "\n",
              "    [theme=dark] .colab-df-convert {\n",
              "      background-color: #3B4455;\n",
              "      fill: #D2E3FC;\n",
              "    }\n",
              "\n",
              "    [theme=dark] .colab-df-convert:hover {\n",
              "      background-color: #434B5C;\n",
              "      box-shadow: 0px 1px 3px 1px rgba(0, 0, 0, 0.15);\n",
              "      filter: drop-shadow(0px 1px 2px rgba(0, 0, 0, 0.3));\n",
              "      fill: #FFFFFF;\n",
              "    }\n",
              "  </style>\n",
              "\n",
              "      <script>\n",
              "        const buttonEl =\n",
              "          document.querySelector('#df-1a3003b3-b5a1-476f-8994-e118be6c8541 button.colab-df-convert');\n",
              "        buttonEl.style.display =\n",
              "          google.colab.kernel.accessAllowed ? 'block' : 'none';\n",
              "\n",
              "        async function convertToInteractive(key) {\n",
              "          const element = document.querySelector('#df-1a3003b3-b5a1-476f-8994-e118be6c8541');\n",
              "          const dataTable =\n",
              "            await google.colab.kernel.invokeFunction('convertToInteractive',\n",
              "                                                     [key], {});\n",
              "          if (!dataTable) return;\n",
              "\n",
              "          const docLinkHtml = 'Like what you see? Visit the ' +\n",
              "            '<a target=\"_blank\" href=https://colab.research.google.com/notebooks/data_table.ipynb>data table notebook</a>'\n",
              "            + ' to learn more about interactive tables.';\n",
              "          element.innerHTML = '';\n",
              "          dataTable['output_type'] = 'display_data';\n",
              "          await google.colab.output.renderOutput(dataTable, element);\n",
              "          const docLink = document.createElement('div');\n",
              "          docLink.innerHTML = docLinkHtml;\n",
              "          element.appendChild(docLink);\n",
              "        }\n",
              "      </script>\n",
              "    </div>\n",
              "  </div>\n",
              "  "
            ],
            "text/plain": [
              "                                                tweets  ...                time\n",
              "0    b'@Selena_Indian @Thapa4INC yes, i hope INC ma...  ... 2022-02-21 17:11:31\n",
              "1    b'@AaronMathewINC SP will win UP, Punjab, Goa,...  ... 2022-02-21 07:18:46\n",
              "2    b'Goa will go to \"Goa Forward Party\" and Congr...  ... 2022-02-24 20:32:07\n",
              "3    b\"'The pessimist complains about the wind. The...  ... 2022-02-24 18:03:47\n",
              "4    b'@VShastri_INC @harishrawatcmuk @KhadeBajirao...  ... 2022-02-24 01:56:12\n",
              "..                                                 ...  ...                 ...\n",
              "263  b'#Breaking : Aam Aadmi Party suffers another ...  ... 2022-02-21 04:38:10\n",
              "264  b'#ElectionsWithHT | Congress leader #RahulGan...  ... 2022-02-21 03:25:52\n",
              "265  b'@KartikG26961338 @Arun2981 Mjhe bas ek baat ...  ... 2022-02-21 02:44:42\n",
              "266  b'@Smokingskills07 Punjab: Hung assembly with ...  ... 2022-02-21 01:57:39\n",
              "267  b'@OnPathOfSeeking @RahulGandhi There is a con...  ... 2022-02-21 01:21:58\n",
              "\n",
              "[268 rows x 7 columns]"
            ]
          },
          "metadata": {},
          "execution_count": 143
        }
      ],
      "source": [
        "df_train = pd.DataFrame({'tweets':tweets, 'likes':likes, 'retweet':retweet, 'user':name, 'isVerified':isverified, 'place':place, 'time':time,})\n",
        "df_train"
      ]
    },
    {
      "cell_type": "code",
      "execution_count": null,
      "metadata": {
        "id": "LF4tFOhXaO7H"
      },
      "outputs": [],
      "source": [
        "df_train.to_csv(\"UK-Congress.csv\", index=False)"
      ]
    },
    {
      "cell_type": "code",
      "source": [
        "tweets = []\n",
        "likes = []\n",
        "time = []\n",
        "place = []\n",
        "retweet = []\n",
        "isverified = []\n",
        "name = []"
      ],
      "metadata": {
        "id": "Rpo6mj0Cll2u"
      },
      "execution_count": null,
      "outputs": []
    },
    {
      "cell_type": "code",
      "execution_count": null,
      "metadata": {
        "id": "ngPiso8jabpm"
      },
      "outputs": [],
      "source": [
        "#get_tweets(\"AAP Uttarakhand\", 2000)\n",
        "#get_tweets(\"AAP Uttarakhand elections\", 2000)\n",
        "#get_tweets(\"Aam Aadmi Uttarakhand\", 2000)\n",
        "#get_tweets(\"Ajay Kothiyal\", 1000)\n",
        "get_tweets(\"Kothiyal election\", 2000)"
      ]
    },
    {
      "cell_type": "code",
      "execution_count": null,
      "metadata": {
        "colab": {
          "base_uri": "https://localhost:8080/"
        },
        "id": "QZ6y_uUHgrla",
        "outputId": "a1f51d57-836d-4139-ab1d-b97327acbc57"
      },
      "outputs": [
        {
          "output_type": "execute_result",
          "data": {
            "text/plain": [
              "61"
            ]
          },
          "metadata": {},
          "execution_count": 172
        }
      ],
      "source": [
        "len(tweets)"
      ]
    },
    {
      "cell_type": "code",
      "execution_count": null,
      "metadata": {
        "id": "yqGJp79RguYY"
      },
      "outputs": [],
      "source": [
        "#get_tweets(\"AAP UK elections\", 2000)\n",
        "#get_tweets(\"Kejriwal Uttarakhand\", 2000)\n",
        "get_tweets(\"Aam Aadmi UK election\", 2000)"
      ]
    },
    {
      "cell_type": "code",
      "execution_count": null,
      "metadata": {
        "colab": {
          "base_uri": "https://localhost:8080/",
          "height": 468
        },
        "id": "Aktn6vNahdtE",
        "outputId": "7365df61-195b-4ceb-c874-fa9034b81505"
      },
      "outputs": [
        {
          "output_type": "execute_result",
          "data": {
            "text/html": [
              "\n",
              "  <div id=\"df-109ae372-9ef9-4c77-a6bd-553a7e867c86\">\n",
              "    <div class=\"colab-df-container\">\n",
              "      <div>\n",
              "<style scoped>\n",
              "    .dataframe tbody tr th:only-of-type {\n",
              "        vertical-align: middle;\n",
              "    }\n",
              "\n",
              "    .dataframe tbody tr th {\n",
              "        vertical-align: top;\n",
              "    }\n",
              "\n",
              "    .dataframe thead th {\n",
              "        text-align: right;\n",
              "    }\n",
              "</style>\n",
              "<table border=\"1\" class=\"dataframe\">\n",
              "  <thead>\n",
              "    <tr style=\"text-align: right;\">\n",
              "      <th></th>\n",
              "      <th>tweets</th>\n",
              "      <th>likes</th>\n",
              "      <th>retweet</th>\n",
              "      <th>user</th>\n",
              "      <th>isVerified</th>\n",
              "      <th>place</th>\n",
              "      <th>time</th>\n",
              "    </tr>\n",
              "  </thead>\n",
              "  <tbody>\n",
              "    <tr>\n",
              "      <th>0</th>\n",
              "      <td>b'Congress is coming with thumping majority in...</td>\n",
              "      <td>2</td>\n",
              "      <td>0</td>\n",
              "      <td>ViveksVoice</td>\n",
              "      <td>False</td>\n",
              "      <td>Paonta Sahib</td>\n",
              "      <td>2022-02-25 07:44:02</td>\n",
              "    </tr>\n",
              "    <tr>\n",
              "      <th>1</th>\n",
              "      <td>b'#Breaking : Aam Aadmi Party suffers another ...</td>\n",
              "      <td>0</td>\n",
              "      <td>0</td>\n",
              "      <td>ArunMishraNSUI</td>\n",
              "      <td>False</td>\n",
              "      <td>Rewa, India</td>\n",
              "      <td>2022-02-21 04:38:10</td>\n",
              "    </tr>\n",
              "    <tr>\n",
              "      <th>2</th>\n",
              "      <td>b'LIVE | We may not be Muslims but we feel the...</td>\n",
              "      <td>83</td>\n",
              "      <td>14</td>\n",
              "      <td>DeccanHerald</td>\n",
              "      <td>True</td>\n",
              "      <td>India</td>\n",
              "      <td>2022-02-23 08:11:40</td>\n",
              "    </tr>\n",
              "    <tr>\n",
              "      <th>3</th>\n",
              "      <td>b'Seizures cross Rs 1,000 crore from poll-boun...</td>\n",
              "      <td>13</td>\n",
              "      <td>2</td>\n",
              "      <td>IndiaToday</td>\n",
              "      <td>True</td>\n",
              "      <td>India</td>\n",
              "      <td>2022-02-25 13:47:17</td>\n",
              "    </tr>\n",
              "    <tr>\n",
              "      <th>4</th>\n",
              "      <td>b\"UP CM Yogi Adityanath takes a dig at BSP whi...</td>\n",
              "      <td>20</td>\n",
              "      <td>3</td>\n",
              "      <td>IndiaToday</td>\n",
              "      <td>True</td>\n",
              "      <td>India</td>\n",
              "      <td>2022-02-25 07:38:18</td>\n",
              "    </tr>\n",
              "    <tr>\n",
              "      <th>...</th>\n",
              "      <td>...</td>\n",
              "      <td>...</td>\n",
              "      <td>...</td>\n",
              "      <td>...</td>\n",
              "      <td>...</td>\n",
              "      <td>...</td>\n",
              "      <td>...</td>\n",
              "    </tr>\n",
              "    <tr>\n",
              "      <th>56</th>\n",
              "      <td>b\"Latest trend before 4th Round of UP election...</td>\n",
              "      <td>1</td>\n",
              "      <td>0</td>\n",
              "      <td>Portblair64</td>\n",
              "      <td>False</td>\n",
              "      <td>Pune, Maharashtra,India</td>\n",
              "      <td>2022-02-23 18:00:42</td>\n",
              "    </tr>\n",
              "    <tr>\n",
              "      <th>57</th>\n",
              "      <td>b\"Any particular reason why these liberal gang...</td>\n",
              "      <td>1</td>\n",
              "      <td>0</td>\n",
              "      <td>himanshuredij</td>\n",
              "      <td>False</td>\n",
              "      <td></td>\n",
              "      <td>2022-02-21 18:01:43</td>\n",
              "    </tr>\n",
              "    <tr>\n",
              "      <th>58</th>\n",
              "      <td>b'My reading of Uttar Pradesh, Punjab, Uttrakh...</td>\n",
              "      <td>0</td>\n",
              "      <td>0</td>\n",
              "      <td>news_houndz</td>\n",
              "      <td>False</td>\n",
              "      <td>mumbai</td>\n",
              "      <td>2022-02-21 14:49:14</td>\n",
              "    </tr>\n",
              "    <tr>\n",
              "      <th>59</th>\n",
              "      <td>b\"For hardcore BJP supporters, INC isn't in th...</td>\n",
              "      <td>1</td>\n",
              "      <td>0</td>\n",
              "      <td>vksingh1963</td>\n",
              "      <td>False</td>\n",
              "      <td>Mayur Vihar, New Delhi</td>\n",
              "      <td>2022-02-21 14:42:58</td>\n",
              "    </tr>\n",
              "    <tr>\n",
              "      <th>60</th>\n",
              "      <td>b'Punjab voting: Can AAP triumph over BJP, Con...</td>\n",
              "      <td>0</td>\n",
              "      <td>0</td>\n",
              "      <td>Dr00Critical</td>\n",
              "      <td>False</td>\n",
              "      <td></td>\n",
              "      <td>2022-02-21 05:48:31</td>\n",
              "    </tr>\n",
              "  </tbody>\n",
              "</table>\n",
              "<p>61 rows × 7 columns</p>\n",
              "</div>\n",
              "      <button class=\"colab-df-convert\" onclick=\"convertToInteractive('df-109ae372-9ef9-4c77-a6bd-553a7e867c86')\"\n",
              "              title=\"Convert this dataframe to an interactive table.\"\n",
              "              style=\"display:none;\">\n",
              "        \n",
              "  <svg xmlns=\"http://www.w3.org/2000/svg\" height=\"24px\"viewBox=\"0 0 24 24\"\n",
              "       width=\"24px\">\n",
              "    <path d=\"M0 0h24v24H0V0z\" fill=\"none\"/>\n",
              "    <path d=\"M18.56 5.44l.94 2.06.94-2.06 2.06-.94-2.06-.94-.94-2.06-.94 2.06-2.06.94zm-11 1L8.5 8.5l.94-2.06 2.06-.94-2.06-.94L8.5 2.5l-.94 2.06-2.06.94zm10 10l.94 2.06.94-2.06 2.06-.94-2.06-.94-.94-2.06-.94 2.06-2.06.94z\"/><path d=\"M17.41 7.96l-1.37-1.37c-.4-.4-.92-.59-1.43-.59-.52 0-1.04.2-1.43.59L10.3 9.45l-7.72 7.72c-.78.78-.78 2.05 0 2.83L4 21.41c.39.39.9.59 1.41.59.51 0 1.02-.2 1.41-.59l7.78-7.78 2.81-2.81c.8-.78.8-2.07 0-2.86zM5.41 20L4 18.59l7.72-7.72 1.47 1.35L5.41 20z\"/>\n",
              "  </svg>\n",
              "      </button>\n",
              "      \n",
              "  <style>\n",
              "    .colab-df-container {\n",
              "      display:flex;\n",
              "      flex-wrap:wrap;\n",
              "      gap: 12px;\n",
              "    }\n",
              "\n",
              "    .colab-df-convert {\n",
              "      background-color: #E8F0FE;\n",
              "      border: none;\n",
              "      border-radius: 50%;\n",
              "      cursor: pointer;\n",
              "      display: none;\n",
              "      fill: #1967D2;\n",
              "      height: 32px;\n",
              "      padding: 0 0 0 0;\n",
              "      width: 32px;\n",
              "    }\n",
              "\n",
              "    .colab-df-convert:hover {\n",
              "      background-color: #E2EBFA;\n",
              "      box-shadow: 0px 1px 2px rgba(60, 64, 67, 0.3), 0px 1px 3px 1px rgba(60, 64, 67, 0.15);\n",
              "      fill: #174EA6;\n",
              "    }\n",
              "\n",
              "    [theme=dark] .colab-df-convert {\n",
              "      background-color: #3B4455;\n",
              "      fill: #D2E3FC;\n",
              "    }\n",
              "\n",
              "    [theme=dark] .colab-df-convert:hover {\n",
              "      background-color: #434B5C;\n",
              "      box-shadow: 0px 1px 3px 1px rgba(0, 0, 0, 0.15);\n",
              "      filter: drop-shadow(0px 1px 2px rgba(0, 0, 0, 0.3));\n",
              "      fill: #FFFFFF;\n",
              "    }\n",
              "  </style>\n",
              "\n",
              "      <script>\n",
              "        const buttonEl =\n",
              "          document.querySelector('#df-109ae372-9ef9-4c77-a6bd-553a7e867c86 button.colab-df-convert');\n",
              "        buttonEl.style.display =\n",
              "          google.colab.kernel.accessAllowed ? 'block' : 'none';\n",
              "\n",
              "        async function convertToInteractive(key) {\n",
              "          const element = document.querySelector('#df-109ae372-9ef9-4c77-a6bd-553a7e867c86');\n",
              "          const dataTable =\n",
              "            await google.colab.kernel.invokeFunction('convertToInteractive',\n",
              "                                                     [key], {});\n",
              "          if (!dataTable) return;\n",
              "\n",
              "          const docLinkHtml = 'Like what you see? Visit the ' +\n",
              "            '<a target=\"_blank\" href=https://colab.research.google.com/notebooks/data_table.ipynb>data table notebook</a>'\n",
              "            + ' to learn more about interactive tables.';\n",
              "          element.innerHTML = '';\n",
              "          dataTable['output_type'] = 'display_data';\n",
              "          await google.colab.output.renderOutput(dataTable, element);\n",
              "          const docLink = document.createElement('div');\n",
              "          docLink.innerHTML = docLinkHtml;\n",
              "          element.appendChild(docLink);\n",
              "        }\n",
              "      </script>\n",
              "    </div>\n",
              "  </div>\n",
              "  "
            ],
            "text/plain": [
              "                                               tweets  ...                time\n",
              "0   b'Congress is coming with thumping majority in...  ... 2022-02-25 07:44:02\n",
              "1   b'#Breaking : Aam Aadmi Party suffers another ...  ... 2022-02-21 04:38:10\n",
              "2   b'LIVE | We may not be Muslims but we feel the...  ... 2022-02-23 08:11:40\n",
              "3   b'Seizures cross Rs 1,000 crore from poll-boun...  ... 2022-02-25 13:47:17\n",
              "4   b\"UP CM Yogi Adityanath takes a dig at BSP whi...  ... 2022-02-25 07:38:18\n",
              "..                                                ...  ...                 ...\n",
              "56  b\"Latest trend before 4th Round of UP election...  ... 2022-02-23 18:00:42\n",
              "57  b\"Any particular reason why these liberal gang...  ... 2022-02-21 18:01:43\n",
              "58  b'My reading of Uttar Pradesh, Punjab, Uttrakh...  ... 2022-02-21 14:49:14\n",
              "59  b\"For hardcore BJP supporters, INC isn't in th...  ... 2022-02-21 14:42:58\n",
              "60  b'Punjab voting: Can AAP triumph over BJP, Con...  ... 2022-02-21 05:48:31\n",
              "\n",
              "[61 rows x 7 columns]"
            ]
          },
          "metadata": {},
          "execution_count": 173
        }
      ],
      "source": [
        "df_train = pd.DataFrame({'tweets':tweets, 'likes':likes, 'retweet':retweet, 'user':name, 'isVerified':isverified, 'place':place, 'time':time,})\n",
        "df_train"
      ]
    },
    {
      "cell_type": "code",
      "execution_count": null,
      "metadata": {
        "id": "Du8cRtjxhxB0"
      },
      "outputs": [],
      "source": [
        "df_train.to_csv(\"UK-AAP.csv\", index=False)"
      ]
    },
    {
      "cell_type": "code",
      "execution_count": null,
      "metadata": {
        "id": "K9vkx2GHiDJs"
      },
      "outputs": [],
      "source": [
        "tweets = []\n",
        "likes = []\n",
        "time = []\n",
        "place = []\n",
        "retweet = []\n",
        "isverified = []\n",
        "name = []"
      ]
    },
    {
      "cell_type": "code",
      "execution_count": null,
      "metadata": {
        "id": "sUHLQszCiVCA"
      },
      "outputs": [],
      "source": [
        "get_tweets(\"AAP Goa\", 2000)\n"
      ]
    },
    {
      "cell_type": "code",
      "source": [
        "get_tweets(\"AAP Goa elections\", 2000)\n"
      ],
      "metadata": {
        "id": "QZvWkxMYf1aO"
      },
      "execution_count": null,
      "outputs": []
    },
    {
      "cell_type": "code",
      "source": [
        "get_tweets(\"Aam Aadmi Goa\", 2000)\n"
      ],
      "metadata": {
        "id": "XzJqhWdVf3X1"
      },
      "execution_count": null,
      "outputs": []
    },
    {
      "cell_type": "code",
      "source": [
        "get_tweets(\"Amit Palekar\", 1000)\n"
      ],
      "metadata": {
        "id": "P-nF2IfFf5ce"
      },
      "execution_count": null,
      "outputs": []
    },
    {
      "cell_type": "code",
      "source": [
        "get_tweets(\"Palekar election\", 2000)"
      ],
      "metadata": {
        "id": "KdDgMm_-f7fY"
      },
      "execution_count": null,
      "outputs": []
    },
    {
      "cell_type": "code",
      "execution_count": null,
      "metadata": {
        "id": "CJir6_xTjUwc"
      },
      "outputs": [],
      "source": [
        "get_tweets(\"Kejriwal Goa\", 2000)\n",
        "get_tweets(\"Aam Aadmi Goa election\", 2000)"
      ]
    },
    {
      "cell_type": "code",
      "execution_count": null,
      "metadata": {
        "colab": {
          "base_uri": "https://localhost:8080/"
        },
        "id": "DTjpMkWij1sG",
        "outputId": "d25afa9c-5a5a-4571-f154-2412e7069e0c"
      },
      "outputs": [
        {
          "output_type": "execute_result",
          "data": {
            "text/plain": [
              "184"
            ]
          },
          "metadata": {},
          "execution_count": 183
        }
      ],
      "source": [
        "len(tweets)"
      ]
    },
    {
      "cell_type": "code",
      "execution_count": null,
      "metadata": {
        "id": "0tNjqQ3Xj7aJ"
      },
      "outputs": [],
      "source": [
        "get_tweets(\"Chandrakant Shetye\", 1000)"
      ]
    },
    {
      "cell_type": "code",
      "execution_count": null,
      "metadata": {
        "colab": {
          "base_uri": "https://localhost:8080/",
          "height": 641
        },
        "id": "RgrYE3JikQrc",
        "outputId": "536b62ee-11f8-40a4-e862-8a04f9c1db8e"
      },
      "outputs": [
        {
          "output_type": "execute_result",
          "data": {
            "text/html": [
              "\n",
              "  <div id=\"df-162bc05a-fd75-4a0e-ac8c-3b31c0a1dcf1\">\n",
              "    <div class=\"colab-df-container\">\n",
              "      <div>\n",
              "<style scoped>\n",
              "    .dataframe tbody tr th:only-of-type {\n",
              "        vertical-align: middle;\n",
              "    }\n",
              "\n",
              "    .dataframe tbody tr th {\n",
              "        vertical-align: top;\n",
              "    }\n",
              "\n",
              "    .dataframe thead th {\n",
              "        text-align: right;\n",
              "    }\n",
              "</style>\n",
              "<table border=\"1\" class=\"dataframe\">\n",
              "  <thead>\n",
              "    <tr style=\"text-align: right;\">\n",
              "      <th></th>\n",
              "      <th>tweets</th>\n",
              "      <th>likes</th>\n",
              "      <th>retweet</th>\n",
              "      <th>user</th>\n",
              "      <th>isVerified</th>\n",
              "      <th>place</th>\n",
              "      <th>time</th>\n",
              "    </tr>\n",
              "  </thead>\n",
              "  <tbody>\n",
              "    <tr>\n",
              "      <th>0</th>\n",
              "      <td>b'AAP assures to make Goa a Pharma Hub not a C...</td>\n",
              "      <td>296</td>\n",
              "      <td>80</td>\n",
              "      <td>AAPGoa</td>\n",
              "      <td>True</td>\n",
              "      <td>Goa</td>\n",
              "      <td>2022-02-25 11:47:09</td>\n",
              "    </tr>\n",
              "    <tr>\n",
              "      <th>1</th>\n",
              "      <td>b'LIVE | We may not be Muslims but we feel the...</td>\n",
              "      <td>83</td>\n",
              "      <td>14</td>\n",
              "      <td>DeccanHerald</td>\n",
              "      <td>True</td>\n",
              "      <td>India</td>\n",
              "      <td>2022-02-23 08:11:40</td>\n",
              "    </tr>\n",
              "    <tr>\n",
              "      <th>2</th>\n",
              "      <td>b'UP BJP WIN 209 \\n\\nGOA BJP WIN 22\\n\\nPANJAB ...</td>\n",
              "      <td>1</td>\n",
              "      <td>0</td>\n",
              "      <td>Chetans40138351</td>\n",
              "      <td>False</td>\n",
              "      <td>India</td>\n",
              "      <td>2022-02-25 18:31:55</td>\n",
              "    </tr>\n",
              "    <tr>\n",
              "      <th>3</th>\n",
              "      <td>b'#GoaDiary_Goa_News_External   AAP condemns N...</td>\n",
              "      <td>0</td>\n",
              "      <td>0</td>\n",
              "      <td>omgoa_dot_com</td>\n",
              "      <td>False</td>\n",
              "      <td></td>\n",
              "      <td>2022-02-25 17:11:06</td>\n",
              "    </tr>\n",
              "    <tr>\n",
              "      <th>4</th>\n",
              "      <td>b'My Predictions about Election Results for AA...</td>\n",
              "      <td>1</td>\n",
              "      <td>0</td>\n",
              "      <td>Sahej_Singh_</td>\n",
              "      <td>False</td>\n",
              "      <td>Sagarpur, New Delhi</td>\n",
              "      <td>2022-02-25 17:07:58</td>\n",
              "    </tr>\n",
              "    <tr>\n",
              "      <th>...</th>\n",
              "      <td>...</td>\n",
              "      <td>...</td>\n",
              "      <td>...</td>\n",
              "      <td>...</td>\n",
              "      <td>...</td>\n",
              "      <td>...</td>\n",
              "      <td>...</td>\n",
              "    </tr>\n",
              "    <tr>\n",
              "      <th>179</th>\n",
              "      <td>b\"@RahulKu66433478 @Kishlaysharma For that the...</td>\n",
              "      <td>0</td>\n",
              "      <td>0</td>\n",
              "      <td>IndianDoraemon</td>\n",
              "      <td>False</td>\n",
              "      <td>India</td>\n",
              "      <td>2022-02-22 06:23:42</td>\n",
              "    </tr>\n",
              "    <tr>\n",
              "      <th>180</th>\n",
              "      <td>b'And talking about congress....Rahul gandhi w...</td>\n",
              "      <td>0</td>\n",
              "      <td>0</td>\n",
              "      <td>AvsSridhar2</td>\n",
              "      <td>False</td>\n",
              "      <td></td>\n",
              "      <td>2022-02-21 15:26:19</td>\n",
              "    </tr>\n",
              "    <tr>\n",
              "      <th>181</th>\n",
              "      <td>b'\\xf0\\x9f\\xa4\\x94\\nmakes sense....\\nMamta per...</td>\n",
              "      <td>4</td>\n",
              "      <td>0</td>\n",
              "      <td>sudhir_Patil_</td>\n",
              "      <td>False</td>\n",
              "      <td>Ahmednagar(MS)</td>\n",
              "      <td>2022-02-21 07:21:32</td>\n",
              "    </tr>\n",
              "    <tr>\n",
              "      <th>182</th>\n",
              "      <td>b'Kejriwal begins UP tour from Monday, will al...</td>\n",
              "      <td>8</td>\n",
              "      <td>4</td>\n",
              "      <td>RaghuramanMenon</td>\n",
              "      <td>False</td>\n",
              "      <td></td>\n",
              "      <td>2022-02-21 05:56:22</td>\n",
              "    </tr>\n",
              "    <tr>\n",
              "      <th>183</th>\n",
              "      <td>b'#GoaDiary_Goa_News_External   Assembly Elect...</td>\n",
              "      <td>0</td>\n",
              "      <td>0</td>\n",
              "      <td>omgoa_dot_com</td>\n",
              "      <td>False</td>\n",
              "      <td></td>\n",
              "      <td>2022-02-21 04:22:12</td>\n",
              "    </tr>\n",
              "  </tbody>\n",
              "</table>\n",
              "<p>184 rows × 7 columns</p>\n",
              "</div>\n",
              "      <button class=\"colab-df-convert\" onclick=\"convertToInteractive('df-162bc05a-fd75-4a0e-ac8c-3b31c0a1dcf1')\"\n",
              "              title=\"Convert this dataframe to an interactive table.\"\n",
              "              style=\"display:none;\">\n",
              "        \n",
              "  <svg xmlns=\"http://www.w3.org/2000/svg\" height=\"24px\"viewBox=\"0 0 24 24\"\n",
              "       width=\"24px\">\n",
              "    <path d=\"M0 0h24v24H0V0z\" fill=\"none\"/>\n",
              "    <path d=\"M18.56 5.44l.94 2.06.94-2.06 2.06-.94-2.06-.94-.94-2.06-.94 2.06-2.06.94zm-11 1L8.5 8.5l.94-2.06 2.06-.94-2.06-.94L8.5 2.5l-.94 2.06-2.06.94zm10 10l.94 2.06.94-2.06 2.06-.94-2.06-.94-.94-2.06-.94 2.06-2.06.94z\"/><path d=\"M17.41 7.96l-1.37-1.37c-.4-.4-.92-.59-1.43-.59-.52 0-1.04.2-1.43.59L10.3 9.45l-7.72 7.72c-.78.78-.78 2.05 0 2.83L4 21.41c.39.39.9.59 1.41.59.51 0 1.02-.2 1.41-.59l7.78-7.78 2.81-2.81c.8-.78.8-2.07 0-2.86zM5.41 20L4 18.59l7.72-7.72 1.47 1.35L5.41 20z\"/>\n",
              "  </svg>\n",
              "      </button>\n",
              "      \n",
              "  <style>\n",
              "    .colab-df-container {\n",
              "      display:flex;\n",
              "      flex-wrap:wrap;\n",
              "      gap: 12px;\n",
              "    }\n",
              "\n",
              "    .colab-df-convert {\n",
              "      background-color: #E8F0FE;\n",
              "      border: none;\n",
              "      border-radius: 50%;\n",
              "      cursor: pointer;\n",
              "      display: none;\n",
              "      fill: #1967D2;\n",
              "      height: 32px;\n",
              "      padding: 0 0 0 0;\n",
              "      width: 32px;\n",
              "    }\n",
              "\n",
              "    .colab-df-convert:hover {\n",
              "      background-color: #E2EBFA;\n",
              "      box-shadow: 0px 1px 2px rgba(60, 64, 67, 0.3), 0px 1px 3px 1px rgba(60, 64, 67, 0.15);\n",
              "      fill: #174EA6;\n",
              "    }\n",
              "\n",
              "    [theme=dark] .colab-df-convert {\n",
              "      background-color: #3B4455;\n",
              "      fill: #D2E3FC;\n",
              "    }\n",
              "\n",
              "    [theme=dark] .colab-df-convert:hover {\n",
              "      background-color: #434B5C;\n",
              "      box-shadow: 0px 1px 3px 1px rgba(0, 0, 0, 0.15);\n",
              "      filter: drop-shadow(0px 1px 2px rgba(0, 0, 0, 0.3));\n",
              "      fill: #FFFFFF;\n",
              "    }\n",
              "  </style>\n",
              "\n",
              "      <script>\n",
              "        const buttonEl =\n",
              "          document.querySelector('#df-162bc05a-fd75-4a0e-ac8c-3b31c0a1dcf1 button.colab-df-convert');\n",
              "        buttonEl.style.display =\n",
              "          google.colab.kernel.accessAllowed ? 'block' : 'none';\n",
              "\n",
              "        async function convertToInteractive(key) {\n",
              "          const element = document.querySelector('#df-162bc05a-fd75-4a0e-ac8c-3b31c0a1dcf1');\n",
              "          const dataTable =\n",
              "            await google.colab.kernel.invokeFunction('convertToInteractive',\n",
              "                                                     [key], {});\n",
              "          if (!dataTable) return;\n",
              "\n",
              "          const docLinkHtml = 'Like what you see? Visit the ' +\n",
              "            '<a target=\"_blank\" href=https://colab.research.google.com/notebooks/data_table.ipynb>data table notebook</a>'\n",
              "            + ' to learn more about interactive tables.';\n",
              "          element.innerHTML = '';\n",
              "          dataTable['output_type'] = 'display_data';\n",
              "          await google.colab.output.renderOutput(dataTable, element);\n",
              "          const docLink = document.createElement('div');\n",
              "          docLink.innerHTML = docLinkHtml;\n",
              "          element.appendChild(docLink);\n",
              "        }\n",
              "      </script>\n",
              "    </div>\n",
              "  </div>\n",
              "  "
            ],
            "text/plain": [
              "                                                tweets  ...                time\n",
              "0    b'AAP assures to make Goa a Pharma Hub not a C...  ... 2022-02-25 11:47:09\n",
              "1    b'LIVE | We may not be Muslims but we feel the...  ... 2022-02-23 08:11:40\n",
              "2    b'UP BJP WIN 209 \\n\\nGOA BJP WIN 22\\n\\nPANJAB ...  ... 2022-02-25 18:31:55\n",
              "3    b'#GoaDiary_Goa_News_External   AAP condemns N...  ... 2022-02-25 17:11:06\n",
              "4    b'My Predictions about Election Results for AA...  ... 2022-02-25 17:07:58\n",
              "..                                                 ...  ...                 ...\n",
              "179  b\"@RahulKu66433478 @Kishlaysharma For that the...  ... 2022-02-22 06:23:42\n",
              "180  b'And talking about congress....Rahul gandhi w...  ... 2022-02-21 15:26:19\n",
              "181  b'\\xf0\\x9f\\xa4\\x94\\nmakes sense....\\nMamta per...  ... 2022-02-21 07:21:32\n",
              "182  b'Kejriwal begins UP tour from Monday, will al...  ... 2022-02-21 05:56:22\n",
              "183  b'#GoaDiary_Goa_News_External   Assembly Elect...  ... 2022-02-21 04:22:12\n",
              "\n",
              "[184 rows x 7 columns]"
            ]
          },
          "metadata": {},
          "execution_count": 185
        }
      ],
      "source": [
        "df_train = pd.DataFrame({'tweets':tweets, 'likes':likes, 'retweet':retweet, 'user':name, 'isVerified':isverified, 'place':place, 'time':time,})\n",
        "df_train"
      ]
    },
    {
      "cell_type": "code",
      "execution_count": null,
      "metadata": {
        "id": "x1ZjXfXGlLYd"
      },
      "outputs": [],
      "source": [
        "df_train.to_csv(\"Goa-AAP.csv\", index=False)"
      ]
    },
    {
      "cell_type": "code",
      "source": [
        "tweets = []\n",
        "likes = []\n",
        "time = []\n",
        "place = []\n",
        "retweet = []\n",
        "isverified = []\n",
        "name = []"
      ],
      "metadata": {
        "id": "y0To_Mtrody1"
      },
      "execution_count": null,
      "outputs": []
    },
    {
      "cell_type": "code",
      "execution_count": null,
      "metadata": {
        "id": "vR9CKyh8lWKn"
      },
      "outputs": [],
      "source": [
        "get_tweets(\"INC Goa\", 2000)\n",
        "#get_tweets(\"INC Goa elections\", 2000)\n",
        "#get_tweets(\"Congress Goa\", 2000)\n",
        "#get_tweets(\"Digambar Kamat\", 1000)\n",
        "#get_tweets(\"Kamat election\", 2000)"
      ]
    },
    {
      "cell_type": "code",
      "execution_count": null,
      "metadata": {
        "colab": {
          "base_uri": "https://localhost:8080/"
        },
        "id": "Agtd9gt-lvpt",
        "outputId": "32c7135c-af30-4601-a2e4-60a584990f9c"
      },
      "outputs": [
        {
          "output_type": "execute_result",
          "data": {
            "text/plain": [
              "203"
            ]
          },
          "metadata": {},
          "execution_count": 195
        }
      ],
      "source": [
        "len(tweets)"
      ]
    },
    {
      "cell_type": "code",
      "execution_count": null,
      "metadata": {
        "colab": {
          "base_uri": "https://localhost:8080/",
          "height": 641
        },
        "id": "F-_vbzuel8Om",
        "outputId": "2bceb055-a9ab-4eef-894e-574804b55a47"
      },
      "outputs": [
        {
          "output_type": "execute_result",
          "data": {
            "text/html": [
              "\n",
              "  <div id=\"df-f0d2b59f-6e22-4bb0-b27a-f470afa48bb6\">\n",
              "    <div class=\"colab-df-container\">\n",
              "      <div>\n",
              "<style scoped>\n",
              "    .dataframe tbody tr th:only-of-type {\n",
              "        vertical-align: middle;\n",
              "    }\n",
              "\n",
              "    .dataframe tbody tr th {\n",
              "        vertical-align: top;\n",
              "    }\n",
              "\n",
              "    .dataframe thead th {\n",
              "        text-align: right;\n",
              "    }\n",
              "</style>\n",
              "<table border=\"1\" class=\"dataframe\">\n",
              "  <thead>\n",
              "    <tr style=\"text-align: right;\">\n",
              "      <th></th>\n",
              "      <th>tweets</th>\n",
              "      <th>likes</th>\n",
              "      <th>retweet</th>\n",
              "      <th>user</th>\n",
              "      <th>isVerified</th>\n",
              "      <th>place</th>\n",
              "      <th>time</th>\n",
              "    </tr>\n",
              "  </thead>\n",
              "  <tbody>\n",
              "    <tr>\n",
              "      <th>0</th>\n",
              "      <td>b\"That's the reason arvind takes honesty certi...</td>\n",
              "      <td>4</td>\n",
              "      <td>0</td>\n",
              "      <td>Abhishe84958246</td>\n",
              "      <td>False</td>\n",
              "      <td></td>\n",
              "      <td>2022-02-25 05:15:09</td>\n",
              "    </tr>\n",
              "    <tr>\n",
              "      <th>1</th>\n",
              "      <td>b\"@nitins2412 That's the reason arvind takes h...</td>\n",
              "      <td>1</td>\n",
              "      <td>0</td>\n",
              "      <td>Abhishe84958246</td>\n",
              "      <td>False</td>\n",
              "      <td></td>\n",
              "      <td>2022-02-25 05:13:35</td>\n",
              "    </tr>\n",
              "    <tr>\n",
              "      <th>2</th>\n",
              "      <td>b'@Selena_Indian @Thapa4INC yes, i hope INC ma...</td>\n",
              "      <td>3</td>\n",
              "      <td>0</td>\n",
              "      <td>MMSTheGreatOne</td>\n",
              "      <td>False</td>\n",
              "      <td>Global</td>\n",
              "      <td>2022-02-21 17:11:31</td>\n",
              "    </tr>\n",
              "    <tr>\n",
              "      <th>3</th>\n",
              "      <td>b'@AaronMathewINC SP will win UP, Punjab, Goa,...</td>\n",
              "      <td>0</td>\n",
              "      <td>0</td>\n",
              "      <td>JPRASADARAO3</td>\n",
              "      <td>False</td>\n",
              "      <td>Bengaluru South, India</td>\n",
              "      <td>2022-02-21 07:18:46</td>\n",
              "    </tr>\n",
              "    <tr>\n",
              "      <th>4</th>\n",
              "      <td>b'@suchetadalal Hijab and rest will continue t...</td>\n",
              "      <td>0</td>\n",
              "      <td>0</td>\n",
              "      <td>ManishDoke</td>\n",
              "      <td>False</td>\n",
              "      <td>Mumbai</td>\n",
              "      <td>2022-02-24 14:40:05</td>\n",
              "    </tr>\n",
              "    <tr>\n",
              "      <th>...</th>\n",
              "      <td>...</td>\n",
              "      <td>...</td>\n",
              "      <td>...</td>\n",
              "      <td>...</td>\n",
              "      <td>...</td>\n",
              "      <td>...</td>\n",
              "      <td>...</td>\n",
              "    </tr>\n",
              "    <tr>\n",
              "      <th>198</th>\n",
              "      <td>b'What a bloody shame. A country which is 5 ti...</td>\n",
              "      <td>1</td>\n",
              "      <td>0</td>\n",
              "      <td>Teapot_Inc</td>\n",
              "      <td>False</td>\n",
              "      <td>Awareness</td>\n",
              "      <td>2022-02-21 09:42:35</td>\n",
              "    </tr>\n",
              "    <tr>\n",
              "      <th>199</th>\n",
              "      <td>b'@LuvDatta_INC Also jumping into Goa for no r...</td>\n",
              "      <td>1</td>\n",
              "      <td>0</td>\n",
              "      <td>dennisckurian</td>\n",
              "      <td>False</td>\n",
              "      <td>Delhi</td>\n",
              "      <td>2022-02-21 06:05:17</td>\n",
              "    </tr>\n",
              "    <tr>\n",
              "      <th>200</th>\n",
              "      <td>b'@KumarAshish_INC Yes Mr Kumar , we are happy...</td>\n",
              "      <td>6</td>\n",
              "      <td>2</td>\n",
              "      <td>UzzamanAnsari</td>\n",
              "      <td>False</td>\n",
              "      <td>7 sec Jasola ,New Delhi,110025</td>\n",
              "      <td>2022-02-21 05:15:14</td>\n",
              "    </tr>\n",
              "    <tr>\n",
              "      <th>201</th>\n",
              "      <td>b'@arshepep How many seats according to you wi...</td>\n",
              "      <td>0</td>\n",
              "      <td>0</td>\n",
              "      <td>griglani</td>\n",
              "      <td>False</td>\n",
              "      <td>Vasant Kunj, New Delhi</td>\n",
              "      <td>2022-02-21 04:04:44</td>\n",
              "    </tr>\n",
              "    <tr>\n",
              "      <th>202</th>\n",
              "      <td>b'Thank u sirs @PChidambaram_IN @dineshgrao fo...</td>\n",
              "      <td>11</td>\n",
              "      <td>2</td>\n",
              "      <td>VD18231409</td>\n",
              "      <td>False</td>\n",
              "      <td></td>\n",
              "      <td>2022-02-21 02:48:10</td>\n",
              "    </tr>\n",
              "  </tbody>\n",
              "</table>\n",
              "<p>203 rows × 7 columns</p>\n",
              "</div>\n",
              "      <button class=\"colab-df-convert\" onclick=\"convertToInteractive('df-f0d2b59f-6e22-4bb0-b27a-f470afa48bb6')\"\n",
              "              title=\"Convert this dataframe to an interactive table.\"\n",
              "              style=\"display:none;\">\n",
              "        \n",
              "  <svg xmlns=\"http://www.w3.org/2000/svg\" height=\"24px\"viewBox=\"0 0 24 24\"\n",
              "       width=\"24px\">\n",
              "    <path d=\"M0 0h24v24H0V0z\" fill=\"none\"/>\n",
              "    <path d=\"M18.56 5.44l.94 2.06.94-2.06 2.06-.94-2.06-.94-.94-2.06-.94 2.06-2.06.94zm-11 1L8.5 8.5l.94-2.06 2.06-.94-2.06-.94L8.5 2.5l-.94 2.06-2.06.94zm10 10l.94 2.06.94-2.06 2.06-.94-2.06-.94-.94-2.06-.94 2.06-2.06.94z\"/><path d=\"M17.41 7.96l-1.37-1.37c-.4-.4-.92-.59-1.43-.59-.52 0-1.04.2-1.43.59L10.3 9.45l-7.72 7.72c-.78.78-.78 2.05 0 2.83L4 21.41c.39.39.9.59 1.41.59.51 0 1.02-.2 1.41-.59l7.78-7.78 2.81-2.81c.8-.78.8-2.07 0-2.86zM5.41 20L4 18.59l7.72-7.72 1.47 1.35L5.41 20z\"/>\n",
              "  </svg>\n",
              "      </button>\n",
              "      \n",
              "  <style>\n",
              "    .colab-df-container {\n",
              "      display:flex;\n",
              "      flex-wrap:wrap;\n",
              "      gap: 12px;\n",
              "    }\n",
              "\n",
              "    .colab-df-convert {\n",
              "      background-color: #E8F0FE;\n",
              "      border: none;\n",
              "      border-radius: 50%;\n",
              "      cursor: pointer;\n",
              "      display: none;\n",
              "      fill: #1967D2;\n",
              "      height: 32px;\n",
              "      padding: 0 0 0 0;\n",
              "      width: 32px;\n",
              "    }\n",
              "\n",
              "    .colab-df-convert:hover {\n",
              "      background-color: #E2EBFA;\n",
              "      box-shadow: 0px 1px 2px rgba(60, 64, 67, 0.3), 0px 1px 3px 1px rgba(60, 64, 67, 0.15);\n",
              "      fill: #174EA6;\n",
              "    }\n",
              "\n",
              "    [theme=dark] .colab-df-convert {\n",
              "      background-color: #3B4455;\n",
              "      fill: #D2E3FC;\n",
              "    }\n",
              "\n",
              "    [theme=dark] .colab-df-convert:hover {\n",
              "      background-color: #434B5C;\n",
              "      box-shadow: 0px 1px 3px 1px rgba(0, 0, 0, 0.15);\n",
              "      filter: drop-shadow(0px 1px 2px rgba(0, 0, 0, 0.3));\n",
              "      fill: #FFFFFF;\n",
              "    }\n",
              "  </style>\n",
              "\n",
              "      <script>\n",
              "        const buttonEl =\n",
              "          document.querySelector('#df-f0d2b59f-6e22-4bb0-b27a-f470afa48bb6 button.colab-df-convert');\n",
              "        buttonEl.style.display =\n",
              "          google.colab.kernel.accessAllowed ? 'block' : 'none';\n",
              "\n",
              "        async function convertToInteractive(key) {\n",
              "          const element = document.querySelector('#df-f0d2b59f-6e22-4bb0-b27a-f470afa48bb6');\n",
              "          const dataTable =\n",
              "            await google.colab.kernel.invokeFunction('convertToInteractive',\n",
              "                                                     [key], {});\n",
              "          if (!dataTable) return;\n",
              "\n",
              "          const docLinkHtml = 'Like what you see? Visit the ' +\n",
              "            '<a target=\"_blank\" href=https://colab.research.google.com/notebooks/data_table.ipynb>data table notebook</a>'\n",
              "            + ' to learn more about interactive tables.';\n",
              "          element.innerHTML = '';\n",
              "          dataTable['output_type'] = 'display_data';\n",
              "          await google.colab.output.renderOutput(dataTable, element);\n",
              "          const docLink = document.createElement('div');\n",
              "          docLink.innerHTML = docLinkHtml;\n",
              "          element.appendChild(docLink);\n",
              "        }\n",
              "      </script>\n",
              "    </div>\n",
              "  </div>\n",
              "  "
            ],
            "text/plain": [
              "                                                tweets  ...                time\n",
              "0    b\"That's the reason arvind takes honesty certi...  ... 2022-02-25 05:15:09\n",
              "1    b\"@nitins2412 That's the reason arvind takes h...  ... 2022-02-25 05:13:35\n",
              "2    b'@Selena_Indian @Thapa4INC yes, i hope INC ma...  ... 2022-02-21 17:11:31\n",
              "3    b'@AaronMathewINC SP will win UP, Punjab, Goa,...  ... 2022-02-21 07:18:46\n",
              "4    b'@suchetadalal Hijab and rest will continue t...  ... 2022-02-24 14:40:05\n",
              "..                                                 ...  ...                 ...\n",
              "198  b'What a bloody shame. A country which is 5 ti...  ... 2022-02-21 09:42:35\n",
              "199  b'@LuvDatta_INC Also jumping into Goa for no r...  ... 2022-02-21 06:05:17\n",
              "200  b'@KumarAshish_INC Yes Mr Kumar , we are happy...  ... 2022-02-21 05:15:14\n",
              "201  b'@arshepep How many seats according to you wi...  ... 2022-02-21 04:04:44\n",
              "202  b'Thank u sirs @PChidambaram_IN @dineshgrao fo...  ... 2022-02-21 02:48:10\n",
              "\n",
              "[203 rows x 7 columns]"
            ]
          },
          "metadata": {},
          "execution_count": 196
        }
      ],
      "source": [
        "df_train = pd.DataFrame({'tweets':tweets, 'likes':likes, 'retweet':retweet, 'user':name, 'isVerified':isverified, 'place':place, 'time':time,})\n",
        "df_train"
      ]
    },
    {
      "cell_type": "code",
      "execution_count": null,
      "metadata": {
        "id": "zJG5qxnDmAbd"
      },
      "outputs": [],
      "source": [
        "df_train.to_csv(\"Goa-INC.csv\", index=False)"
      ]
    },
    {
      "cell_type": "code",
      "source": [
        "tweets = []\n",
        "likes = []\n",
        "time = []\n",
        "place = []\n",
        "retweet = []\n",
        "isverified = []\n",
        "name = []"
      ],
      "metadata": {
        "id": "Qzj1dKbtosyr"
      },
      "execution_count": null,
      "outputs": []
    },
    {
      "cell_type": "code",
      "execution_count": null,
      "metadata": {
        "id": "WtLJE-gAmLdJ"
      },
      "outputs": [],
      "source": [
        "#get_tweets(\"BJP Goa\", 2000)\n",
        "#get_tweets(\"BJP Goa elections\", 2000)\n",
        "#get_tweets(\"NDA Goa\", 2000)\n",
        "#get_tweets(\"Pramod Sawant\", 1000)\n",
        "get_tweets(\"Sawant election\", 2000)"
      ]
    },
    {
      "cell_type": "code",
      "execution_count": null,
      "metadata": {
        "colab": {
          "base_uri": "https://localhost:8080/"
        },
        "id": "PzZkIKZumgNX",
        "outputId": "f54bbf67-e277-451c-e1e3-859aded38665"
      },
      "outputs": [
        {
          "output_type": "execute_result",
          "data": {
            "text/plain": [
              "555"
            ]
          },
          "metadata": {},
          "execution_count": 204
        }
      ],
      "source": [
        "len(tweets)"
      ]
    },
    {
      "cell_type": "code",
      "execution_count": null,
      "metadata": {
        "colab": {
          "base_uri": "https://localhost:8080/",
          "height": 641
        },
        "id": "4gE3u9b-mzMM",
        "outputId": "f34638ed-b3fc-4705-df4d-55dae03e89a5"
      },
      "outputs": [
        {
          "output_type": "execute_result",
          "data": {
            "text/html": [
              "\n",
              "  <div id=\"df-93a04f75-94aa-4bde-a809-780ba28d4233\">\n",
              "    <div class=\"colab-df-container\">\n",
              "      <div>\n",
              "<style scoped>\n",
              "    .dataframe tbody tr th:only-of-type {\n",
              "        vertical-align: middle;\n",
              "    }\n",
              "\n",
              "    .dataframe tbody tr th {\n",
              "        vertical-align: top;\n",
              "    }\n",
              "\n",
              "    .dataframe thead th {\n",
              "        text-align: right;\n",
              "    }\n",
              "</style>\n",
              "<table border=\"1\" class=\"dataframe\">\n",
              "  <thead>\n",
              "    <tr style=\"text-align: right;\">\n",
              "      <th></th>\n",
              "      <th>tweets</th>\n",
              "      <th>likes</th>\n",
              "      <th>retweet</th>\n",
              "      <th>user</th>\n",
              "      <th>isVerified</th>\n",
              "      <th>place</th>\n",
              "      <th>time</th>\n",
              "    </tr>\n",
              "  </thead>\n",
              "  <tbody>\n",
              "    <tr>\n",
              "      <th>0</th>\n",
              "      <td>b'Congress emerged as the single largest party...</td>\n",
              "      <td>6</td>\n",
              "      <td>2</td>\n",
              "      <td>htTweets</td>\n",
              "      <td>True</td>\n",
              "      <td>India</td>\n",
              "      <td>2022-02-25 20:10:00</td>\n",
              "    </tr>\n",
              "    <tr>\n",
              "      <th>1</th>\n",
              "      <td>b'UP BJP WIN 209 \\n\\nGOA BJP WIN 22\\n\\nPANJAB ...</td>\n",
              "      <td>1</td>\n",
              "      <td>0</td>\n",
              "      <td>Chetans40138351</td>\n",
              "      <td>False</td>\n",
              "      <td>India</td>\n",
              "      <td>2022-02-25 18:31:55</td>\n",
              "    </tr>\n",
              "    <tr>\n",
              "      <th>2</th>\n",
              "      <td>b'National Head of IT &amp;amp; Social Media Dept,...</td>\n",
              "      <td>15</td>\n",
              "      <td>1</td>\n",
              "      <td>avesh_chopdekar</td>\n",
              "      <td>False</td>\n",
              "      <td>Goa, India</td>\n",
              "      <td>2022-02-25 18:09:33</td>\n",
              "    </tr>\n",
              "    <tr>\n",
              "      <th>3</th>\n",
              "      <td>b'@BJP4Goa @amitmalviya The meeting was also a...</td>\n",
              "      <td>0</td>\n",
              "      <td>0</td>\n",
              "      <td>DamuNaik</td>\n",
              "      <td>False</td>\n",
              "      <td>Goa, India</td>\n",
              "      <td>2022-02-25 17:41:55</td>\n",
              "    </tr>\n",
              "    <tr>\n",
              "      <th>4</th>\n",
              "      <td>b'@BJP4Goa National Head of IT &amp;amp; Social Me...</td>\n",
              "      <td>2</td>\n",
              "      <td>0</td>\n",
              "      <td>DamuNaik</td>\n",
              "      <td>False</td>\n",
              "      <td>Goa, India</td>\n",
              "      <td>2022-02-25 17:41:55</td>\n",
              "    </tr>\n",
              "    <tr>\n",
              "      <th>...</th>\n",
              "      <td>...</td>\n",
              "      <td>...</td>\n",
              "      <td>...</td>\n",
              "      <td>...</td>\n",
              "      <td>...</td>\n",
              "      <td>...</td>\n",
              "      <td>...</td>\n",
              "    </tr>\n",
              "    <tr>\n",
              "      <th>550</th>\n",
              "      <td>b'Goa CM Pramod Sawant on Monday condemned the...</td>\n",
              "      <td>17</td>\n",
              "      <td>5</td>\n",
              "      <td>IndianExpress</td>\n",
              "      <td>True</td>\n",
              "      <td>India</td>\n",
              "      <td>2022-02-21 15:31:39</td>\n",
              "    </tr>\n",
              "    <tr>\n",
              "      <th>551</th>\n",
              "      <td>b\"Pramod Sawant brudda cannot even save his ow...</td>\n",
              "      <td>2</td>\n",
              "      <td>0</td>\n",
              "      <td>SingbalSanket</td>\n",
              "      <td>False</td>\n",
              "      <td>Goa</td>\n",
              "      <td>2022-02-21 14:44:06</td>\n",
              "    </tr>\n",
              "    <tr>\n",
              "      <th>552</th>\n",
              "      <td>b'Sunburn will not be allowed in Goa this year...</td>\n",
              "      <td>0</td>\n",
              "      <td>0</td>\n",
              "      <td>SharmajiShubam</td>\n",
              "      <td>False</td>\n",
              "      <td></td>\n",
              "      <td>2022-02-21 10:53:55</td>\n",
              "    </tr>\n",
              "    <tr>\n",
              "      <th>553</th>\n",
              "      <td>b\"@vishal_a_sawant @SiruthaiSh1va @PadmajaJosh...</td>\n",
              "      <td>0</td>\n",
              "      <td>0</td>\n",
              "      <td>Just_Jok1ng</td>\n",
              "      <td>False</td>\n",
              "      <td>land of Too much Democracy</td>\n",
              "      <td>2022-02-23 15:07:49</td>\n",
              "    </tr>\n",
              "    <tr>\n",
              "      <th>554</th>\n",
              "      <td>b'@danielwinlander Done the important things, ...</td>\n",
              "      <td>1</td>\n",
              "      <td>0</td>\n",
              "      <td>mrandystevens</td>\n",
              "      <td>False</td>\n",
              "      <td>Snohomish County, WA</td>\n",
              "      <td>2022-02-22 23:23:16</td>\n",
              "    </tr>\n",
              "  </tbody>\n",
              "</table>\n",
              "<p>555 rows × 7 columns</p>\n",
              "</div>\n",
              "      <button class=\"colab-df-convert\" onclick=\"convertToInteractive('df-93a04f75-94aa-4bde-a809-780ba28d4233')\"\n",
              "              title=\"Convert this dataframe to an interactive table.\"\n",
              "              style=\"display:none;\">\n",
              "        \n",
              "  <svg xmlns=\"http://www.w3.org/2000/svg\" height=\"24px\"viewBox=\"0 0 24 24\"\n",
              "       width=\"24px\">\n",
              "    <path d=\"M0 0h24v24H0V0z\" fill=\"none\"/>\n",
              "    <path d=\"M18.56 5.44l.94 2.06.94-2.06 2.06-.94-2.06-.94-.94-2.06-.94 2.06-2.06.94zm-11 1L8.5 8.5l.94-2.06 2.06-.94-2.06-.94L8.5 2.5l-.94 2.06-2.06.94zm10 10l.94 2.06.94-2.06 2.06-.94-2.06-.94-.94-2.06-.94 2.06-2.06.94z\"/><path d=\"M17.41 7.96l-1.37-1.37c-.4-.4-.92-.59-1.43-.59-.52 0-1.04.2-1.43.59L10.3 9.45l-7.72 7.72c-.78.78-.78 2.05 0 2.83L4 21.41c.39.39.9.59 1.41.59.51 0 1.02-.2 1.41-.59l7.78-7.78 2.81-2.81c.8-.78.8-2.07 0-2.86zM5.41 20L4 18.59l7.72-7.72 1.47 1.35L5.41 20z\"/>\n",
              "  </svg>\n",
              "      </button>\n",
              "      \n",
              "  <style>\n",
              "    .colab-df-container {\n",
              "      display:flex;\n",
              "      flex-wrap:wrap;\n",
              "      gap: 12px;\n",
              "    }\n",
              "\n",
              "    .colab-df-convert {\n",
              "      background-color: #E8F0FE;\n",
              "      border: none;\n",
              "      border-radius: 50%;\n",
              "      cursor: pointer;\n",
              "      display: none;\n",
              "      fill: #1967D2;\n",
              "      height: 32px;\n",
              "      padding: 0 0 0 0;\n",
              "      width: 32px;\n",
              "    }\n",
              "\n",
              "    .colab-df-convert:hover {\n",
              "      background-color: #E2EBFA;\n",
              "      box-shadow: 0px 1px 2px rgba(60, 64, 67, 0.3), 0px 1px 3px 1px rgba(60, 64, 67, 0.15);\n",
              "      fill: #174EA6;\n",
              "    }\n",
              "\n",
              "    [theme=dark] .colab-df-convert {\n",
              "      background-color: #3B4455;\n",
              "      fill: #D2E3FC;\n",
              "    }\n",
              "\n",
              "    [theme=dark] .colab-df-convert:hover {\n",
              "      background-color: #434B5C;\n",
              "      box-shadow: 0px 1px 3px 1px rgba(0, 0, 0, 0.15);\n",
              "      filter: drop-shadow(0px 1px 2px rgba(0, 0, 0, 0.3));\n",
              "      fill: #FFFFFF;\n",
              "    }\n",
              "  </style>\n",
              "\n",
              "      <script>\n",
              "        const buttonEl =\n",
              "          document.querySelector('#df-93a04f75-94aa-4bde-a809-780ba28d4233 button.colab-df-convert');\n",
              "        buttonEl.style.display =\n",
              "          google.colab.kernel.accessAllowed ? 'block' : 'none';\n",
              "\n",
              "        async function convertToInteractive(key) {\n",
              "          const element = document.querySelector('#df-93a04f75-94aa-4bde-a809-780ba28d4233');\n",
              "          const dataTable =\n",
              "            await google.colab.kernel.invokeFunction('convertToInteractive',\n",
              "                                                     [key], {});\n",
              "          if (!dataTable) return;\n",
              "\n",
              "          const docLinkHtml = 'Like what you see? Visit the ' +\n",
              "            '<a target=\"_blank\" href=https://colab.research.google.com/notebooks/data_table.ipynb>data table notebook</a>'\n",
              "            + ' to learn more about interactive tables.';\n",
              "          element.innerHTML = '';\n",
              "          dataTable['output_type'] = 'display_data';\n",
              "          await google.colab.output.renderOutput(dataTable, element);\n",
              "          const docLink = document.createElement('div');\n",
              "          docLink.innerHTML = docLinkHtml;\n",
              "          element.appendChild(docLink);\n",
              "        }\n",
              "      </script>\n",
              "    </div>\n",
              "  </div>\n",
              "  "
            ],
            "text/plain": [
              "                                                tweets  ...                time\n",
              "0    b'Congress emerged as the single largest party...  ... 2022-02-25 20:10:00\n",
              "1    b'UP BJP WIN 209 \\n\\nGOA BJP WIN 22\\n\\nPANJAB ...  ... 2022-02-25 18:31:55\n",
              "2    b'National Head of IT &amp; Social Media Dept,...  ... 2022-02-25 18:09:33\n",
              "3    b'@BJP4Goa @amitmalviya The meeting was also a...  ... 2022-02-25 17:41:55\n",
              "4    b'@BJP4Goa National Head of IT &amp; Social Me...  ... 2022-02-25 17:41:55\n",
              "..                                                 ...  ...                 ...\n",
              "550  b'Goa CM Pramod Sawant on Monday condemned the...  ... 2022-02-21 15:31:39\n",
              "551  b\"Pramod Sawant brudda cannot even save his ow...  ... 2022-02-21 14:44:06\n",
              "552  b'Sunburn will not be allowed in Goa this year...  ... 2022-02-21 10:53:55\n",
              "553  b\"@vishal_a_sawant @SiruthaiSh1va @PadmajaJosh...  ... 2022-02-23 15:07:49\n",
              "554  b'@danielwinlander Done the important things, ...  ... 2022-02-22 23:23:16\n",
              "\n",
              "[555 rows x 7 columns]"
            ]
          },
          "metadata": {},
          "execution_count": 205
        }
      ],
      "source": [
        "df_train = pd.DataFrame({'tweets':tweets, 'likes':likes, 'retweet':retweet, 'user':name, 'isVerified':isverified, 'place':place, 'time':time,})\n",
        "df_train"
      ]
    },
    {
      "cell_type": "code",
      "execution_count": null,
      "metadata": {
        "id": "PX5JRwuHm6-W"
      },
      "outputs": [],
      "source": [
        "df_train.to_csv(\"Goa-BJP.csv\", index=False)"
      ]
    },
    {
      "cell_type": "code",
      "execution_count": null,
      "metadata": {
        "id": "SEKkA44ym-W1"
      },
      "outputs": [],
      "source": [
        "tweets = []\n",
        "likes = []\n",
        "time = []\n",
        "place = []\n",
        "retweet = []\n",
        "isverified = []\n",
        "name = []"
      ]
    },
    {
      "cell_type": "code",
      "execution_count": null,
      "metadata": {
        "id": "0ZkUMXxAnHNd"
      },
      "outputs": [],
      "source": [
        "#get_tweets(\"NDA Manipur\", 2000)\n",
        "#get_tweets(\"BJP Manipur election\", 2000)\n",
        "#get_tweets(\"Biren Manipur\", 2000)\n",
        "#get_tweets(\"Nongthombam Biren Singh\", 1000)\n",
        "get_tweets(\"biren singh election\", 2000)"
      ]
    },
    {
      "cell_type": "code",
      "execution_count": null,
      "metadata": {
        "colab": {
          "base_uri": "https://localhost:8080/"
        },
        "id": "QkV6TMwtoJZL",
        "outputId": "0987b1fa-e1e1-47d4-f85f-4cb03ffe11be"
      },
      "outputs": [
        {
          "output_type": "execute_result",
          "data": {
            "text/plain": [
              "964"
            ]
          },
          "metadata": {},
          "execution_count": 217
        }
      ],
      "source": [
        "len(tweets)"
      ]
    },
    {
      "cell_type": "code",
      "execution_count": null,
      "metadata": {
        "id": "jeKa71sBoSs0"
      },
      "outputs": [],
      "source": [
        "get_tweets(\"BJP Manipur\", 2000)"
      ]
    },
    {
      "cell_type": "code",
      "execution_count": null,
      "metadata": {
        "colab": {
          "base_uri": "https://localhost:8080/",
          "height": 641
        },
        "id": "IXxeMvHUoX1M",
        "outputId": "7fec65cb-f9e8-4e1c-d28d-0ed75eb44d3e"
      },
      "outputs": [
        {
          "output_type": "execute_result",
          "data": {
            "text/html": [
              "\n",
              "  <div id=\"df-da02ee46-ec8c-4433-947b-908e0376c4d6\">\n",
              "    <div class=\"colab-df-container\">\n",
              "      <div>\n",
              "<style scoped>\n",
              "    .dataframe tbody tr th:only-of-type {\n",
              "        vertical-align: middle;\n",
              "    }\n",
              "\n",
              "    .dataframe tbody tr th {\n",
              "        vertical-align: top;\n",
              "    }\n",
              "\n",
              "    .dataframe thead th {\n",
              "        text-align: right;\n",
              "    }\n",
              "</style>\n",
              "<table border=\"1\" class=\"dataframe\">\n",
              "  <thead>\n",
              "    <tr style=\"text-align: right;\">\n",
              "      <th></th>\n",
              "      <th>tweets</th>\n",
              "      <th>likes</th>\n",
              "      <th>retweet</th>\n",
              "      <th>user</th>\n",
              "      <th>isVerified</th>\n",
              "      <th>place</th>\n",
              "      <th>time</th>\n",
              "    </tr>\n",
              "  </thead>\n",
              "  <tbody>\n",
              "    <tr>\n",
              "      <th>0</th>\n",
              "      <td>b'Our govt has taken good care of Manipur duri...</td>\n",
              "      <td>321</td>\n",
              "      <td>189</td>\n",
              "      <td>BJP4India</td>\n",
              "      <td>True</td>\n",
              "      <td>6-A, Deen Dayal Upadhyay Marg,</td>\n",
              "      <td>2022-02-22 09:26:17</td>\n",
              "    </tr>\n",
              "    <tr>\n",
              "      <th>1</th>\n",
              "      <td>b\"Respected Ladues/Gentlemen/Millions of true ...</td>\n",
              "      <td>0</td>\n",
              "      <td>0</td>\n",
              "      <td>KParas288</td>\n",
              "      <td>False</td>\n",
              "      <td></td>\n",
              "      <td>2022-02-25 22:44:21</td>\n",
              "    </tr>\n",
              "    <tr>\n",
              "      <th>2</th>\n",
              "      <td>b\"Ladies/Gentlrmen/Farmer's/Punjabi/Muslim com...</td>\n",
              "      <td>0</td>\n",
              "      <td>0</td>\n",
              "      <td>KParas288</td>\n",
              "      <td>False</td>\n",
              "      <td></td>\n",
              "      <td>2022-02-25 16:54:51</td>\n",
              "    </tr>\n",
              "    <tr>\n",
              "      <th>3</th>\n",
              "      <td>b'#ManipurElections | Five years after support...</td>\n",
              "      <td>7</td>\n",
              "      <td>3</td>\n",
              "      <td>htTweets</td>\n",
              "      <td>True</td>\n",
              "      <td>India</td>\n",
              "      <td>2022-02-24 23:30:00</td>\n",
              "    </tr>\n",
              "    <tr>\n",
              "      <th>4</th>\n",
              "      <td>b'NDA allies contesting separately could pose ...</td>\n",
              "      <td>0</td>\n",
              "      <td>0</td>\n",
              "      <td>newsaxes</td>\n",
              "      <td>False</td>\n",
              "      <td>India</td>\n",
              "      <td>2022-02-24 12:24:28</td>\n",
              "    </tr>\n",
              "    <tr>\n",
              "      <th>...</th>\n",
              "      <td>...</td>\n",
              "      <td>...</td>\n",
              "      <td>...</td>\n",
              "      <td>...</td>\n",
              "      <td>...</td>\n",
              "      <td>...</td>\n",
              "      <td>...</td>\n",
              "    </tr>\n",
              "    <tr>\n",
              "      <th>959</th>\n",
              "      <td>b'#OutlookMagazine | The year 2022 marks the 5...</td>\n",
              "      <td>2</td>\n",
              "      <td>1</td>\n",
              "      <td>Outlookindia</td>\n",
              "      <td>True</td>\n",
              "      <td>New Delhi, India</td>\n",
              "      <td>2022-02-22 17:15:00</td>\n",
              "    </tr>\n",
              "    <tr>\n",
              "      <th>960</th>\n",
              "      <td>b\"Schedule of Union Home Minister and Minister...</td>\n",
              "      <td>0</td>\n",
              "      <td>0</td>\n",
              "      <td>DeepThanki_BJP</td>\n",
              "      <td>False</td>\n",
              "      <td>गांधीनगर, भारत</td>\n",
              "      <td>2022-02-22 17:13:57</td>\n",
              "    </tr>\n",
              "    <tr>\n",
              "      <th>961</th>\n",
              "      <td>b'#ManipurWithModi\\nBJP government has made th...</td>\n",
              "      <td>0</td>\n",
              "      <td>0</td>\n",
              "      <td>RealVijayRaina</td>\n",
              "      <td>False</td>\n",
              "      <td>Jammu And Kashmir</td>\n",
              "      <td>2022-02-22 17:12:53</td>\n",
              "    </tr>\n",
              "    <tr>\n",
              "      <th>962</th>\n",
              "      <td>b'#ManipurWithModi\\nBJP government considers N...</td>\n",
              "      <td>0</td>\n",
              "      <td>0</td>\n",
              "      <td>sheetalvaghela4</td>\n",
              "      <td>False</td>\n",
              "      <td>Dahod</td>\n",
              "      <td>2022-02-22 17:10:42</td>\n",
              "    </tr>\n",
              "    <tr>\n",
              "      <th>963</th>\n",
              "      <td>b'#ManipurWithModi\\nBJP government has made th...</td>\n",
              "      <td>0</td>\n",
              "      <td>0</td>\n",
              "      <td>sheetalvaghela4</td>\n",
              "      <td>False</td>\n",
              "      <td>Dahod</td>\n",
              "      <td>2022-02-22 17:09:02</td>\n",
              "    </tr>\n",
              "  </tbody>\n",
              "</table>\n",
              "<p>964 rows × 7 columns</p>\n",
              "</div>\n",
              "      <button class=\"colab-df-convert\" onclick=\"convertToInteractive('df-da02ee46-ec8c-4433-947b-908e0376c4d6')\"\n",
              "              title=\"Convert this dataframe to an interactive table.\"\n",
              "              style=\"display:none;\">\n",
              "        \n",
              "  <svg xmlns=\"http://www.w3.org/2000/svg\" height=\"24px\"viewBox=\"0 0 24 24\"\n",
              "       width=\"24px\">\n",
              "    <path d=\"M0 0h24v24H0V0z\" fill=\"none\"/>\n",
              "    <path d=\"M18.56 5.44l.94 2.06.94-2.06 2.06-.94-2.06-.94-.94-2.06-.94 2.06-2.06.94zm-11 1L8.5 8.5l.94-2.06 2.06-.94-2.06-.94L8.5 2.5l-.94 2.06-2.06.94zm10 10l.94 2.06.94-2.06 2.06-.94-2.06-.94-.94-2.06-.94 2.06-2.06.94z\"/><path d=\"M17.41 7.96l-1.37-1.37c-.4-.4-.92-.59-1.43-.59-.52 0-1.04.2-1.43.59L10.3 9.45l-7.72 7.72c-.78.78-.78 2.05 0 2.83L4 21.41c.39.39.9.59 1.41.59.51 0 1.02-.2 1.41-.59l7.78-7.78 2.81-2.81c.8-.78.8-2.07 0-2.86zM5.41 20L4 18.59l7.72-7.72 1.47 1.35L5.41 20z\"/>\n",
              "  </svg>\n",
              "      </button>\n",
              "      \n",
              "  <style>\n",
              "    .colab-df-container {\n",
              "      display:flex;\n",
              "      flex-wrap:wrap;\n",
              "      gap: 12px;\n",
              "    }\n",
              "\n",
              "    .colab-df-convert {\n",
              "      background-color: #E8F0FE;\n",
              "      border: none;\n",
              "      border-radius: 50%;\n",
              "      cursor: pointer;\n",
              "      display: none;\n",
              "      fill: #1967D2;\n",
              "      height: 32px;\n",
              "      padding: 0 0 0 0;\n",
              "      width: 32px;\n",
              "    }\n",
              "\n",
              "    .colab-df-convert:hover {\n",
              "      background-color: #E2EBFA;\n",
              "      box-shadow: 0px 1px 2px rgba(60, 64, 67, 0.3), 0px 1px 3px 1px rgba(60, 64, 67, 0.15);\n",
              "      fill: #174EA6;\n",
              "    }\n",
              "\n",
              "    [theme=dark] .colab-df-convert {\n",
              "      background-color: #3B4455;\n",
              "      fill: #D2E3FC;\n",
              "    }\n",
              "\n",
              "    [theme=dark] .colab-df-convert:hover {\n",
              "      background-color: #434B5C;\n",
              "      box-shadow: 0px 1px 3px 1px rgba(0, 0, 0, 0.15);\n",
              "      filter: drop-shadow(0px 1px 2px rgba(0, 0, 0, 0.3));\n",
              "      fill: #FFFFFF;\n",
              "    }\n",
              "  </style>\n",
              "\n",
              "      <script>\n",
              "        const buttonEl =\n",
              "          document.querySelector('#df-da02ee46-ec8c-4433-947b-908e0376c4d6 button.colab-df-convert');\n",
              "        buttonEl.style.display =\n",
              "          google.colab.kernel.accessAllowed ? 'block' : 'none';\n",
              "\n",
              "        async function convertToInteractive(key) {\n",
              "          const element = document.querySelector('#df-da02ee46-ec8c-4433-947b-908e0376c4d6');\n",
              "          const dataTable =\n",
              "            await google.colab.kernel.invokeFunction('convertToInteractive',\n",
              "                                                     [key], {});\n",
              "          if (!dataTable) return;\n",
              "\n",
              "          const docLinkHtml = 'Like what you see? Visit the ' +\n",
              "            '<a target=\"_blank\" href=https://colab.research.google.com/notebooks/data_table.ipynb>data table notebook</a>'\n",
              "            + ' to learn more about interactive tables.';\n",
              "          element.innerHTML = '';\n",
              "          dataTable['output_type'] = 'display_data';\n",
              "          await google.colab.output.renderOutput(dataTable, element);\n",
              "          const docLink = document.createElement('div');\n",
              "          docLink.innerHTML = docLinkHtml;\n",
              "          element.appendChild(docLink);\n",
              "        }\n",
              "      </script>\n",
              "    </div>\n",
              "  </div>\n",
              "  "
            ],
            "text/plain": [
              "                                                tweets  ...                time\n",
              "0    b'Our govt has taken good care of Manipur duri...  ... 2022-02-22 09:26:17\n",
              "1    b\"Respected Ladues/Gentlemen/Millions of true ...  ... 2022-02-25 22:44:21\n",
              "2    b\"Ladies/Gentlrmen/Farmer's/Punjabi/Muslim com...  ... 2022-02-25 16:54:51\n",
              "3    b'#ManipurElections | Five years after support...  ... 2022-02-24 23:30:00\n",
              "4    b'NDA allies contesting separately could pose ...  ... 2022-02-24 12:24:28\n",
              "..                                                 ...  ...                 ...\n",
              "959  b'#OutlookMagazine | The year 2022 marks the 5...  ... 2022-02-22 17:15:00\n",
              "960  b\"Schedule of Union Home Minister and Minister...  ... 2022-02-22 17:13:57\n",
              "961  b'#ManipurWithModi\\nBJP government has made th...  ... 2022-02-22 17:12:53\n",
              "962  b'#ManipurWithModi\\nBJP government considers N...  ... 2022-02-22 17:10:42\n",
              "963  b'#ManipurWithModi\\nBJP government has made th...  ... 2022-02-22 17:09:02\n",
              "\n",
              "[964 rows x 7 columns]"
            ]
          },
          "metadata": {},
          "execution_count": 218
        }
      ],
      "source": [
        "df_train = pd.DataFrame({'tweets':tweets, 'likes':likes, 'retweet':retweet, 'user':name, 'isVerified':isverified, 'place':place, 'time':time,})\n",
        "df_train"
      ]
    },
    {
      "cell_type": "code",
      "execution_count": null,
      "metadata": {
        "id": "iAf1A2IGofX4"
      },
      "outputs": [],
      "source": [
        "df_train.to_csv(\"Manipur-BJP.csv\", index=False)"
      ]
    },
    {
      "cell_type": "code",
      "source": [
        "tweets = []\n",
        "likes = []\n",
        "time = []\n",
        "place = []\n",
        "retweet = []\n",
        "isverified = []\n",
        "name = []"
      ],
      "metadata": {
        "id": "gOXFyzvPpL5F"
      },
      "execution_count": null,
      "outputs": []
    },
    {
      "cell_type": "code",
      "execution_count": null,
      "metadata": {
        "id": "2lLYmNJ5okgc"
      },
      "outputs": [],
      "source": [
        "#get_tweets(\"UPA Manipur\", 2000)\n",
        "#get_tweets(\"Congress Manipur elections\", 2000)\n",
        "#get_tweets(\"ncp manipur\", 2000)\n",
        "get_tweets(\"Okram Ibobi Singh\", 1000)\n",
        "#get_tweets(\"okram singh election\", 2000)"
      ]
    },
    {
      "cell_type": "code",
      "execution_count": null,
      "metadata": {
        "colab": {
          "base_uri": "https://localhost:8080/"
        },
        "id": "9zL_HNFlplc4",
        "outputId": "6385ce0b-04a8-4227-b1d1-413002faf1d1"
      },
      "outputs": [
        {
          "output_type": "execute_result",
          "data": {
            "text/plain": [
              "786"
            ]
          },
          "metadata": {},
          "execution_count": 231
        }
      ],
      "source": [
        "len(tweets)"
      ]
    },
    {
      "cell_type": "code",
      "execution_count": null,
      "metadata": {
        "id": "0cDns-36psR-"
      },
      "outputs": [],
      "source": [
        "get_tweets(\"congress manipur\", 2000)"
      ]
    },
    {
      "cell_type": "code",
      "execution_count": null,
      "metadata": {
        "colab": {
          "base_uri": "https://localhost:8080/",
          "height": 641
        },
        "id": "nsCg5fbwp1Ui",
        "outputId": "a20c48f4-0794-40e5-ee1b-10640303f51e"
      },
      "outputs": [
        {
          "output_type": "execute_result",
          "data": {
            "text/html": [
              "\n",
              "  <div id=\"df-22b11be4-a558-4d63-ae3d-cc0fa720459a\">\n",
              "    <div class=\"colab-df-container\">\n",
              "      <div>\n",
              "<style scoped>\n",
              "    .dataframe tbody tr th:only-of-type {\n",
              "        vertical-align: middle;\n",
              "    }\n",
              "\n",
              "    .dataframe tbody tr th {\n",
              "        vertical-align: top;\n",
              "    }\n",
              "\n",
              "    .dataframe thead th {\n",
              "        text-align: right;\n",
              "    }\n",
              "</style>\n",
              "<table border=\"1\" class=\"dataframe\">\n",
              "  <thead>\n",
              "    <tr style=\"text-align: right;\">\n",
              "      <th></th>\n",
              "      <th>tweets</th>\n",
              "      <th>likes</th>\n",
              "      <th>retweet</th>\n",
              "      <th>user</th>\n",
              "      <th>isVerified</th>\n",
              "      <th>place</th>\n",
              "      <th>time</th>\n",
              "    </tr>\n",
              "  </thead>\n",
              "  <tbody>\n",
              "    <tr>\n",
              "      <th>0</th>\n",
              "      <td>b'People of Manipur are fed with double engine...</td>\n",
              "      <td>80</td>\n",
              "      <td>58</td>\n",
              "      <td>SevadalPB</td>\n",
              "      <td>True</td>\n",
              "      <td>India</td>\n",
              "      <td>2022-02-21 14:48:26</td>\n",
              "    </tr>\n",
              "    <tr>\n",
              "      <th>1</th>\n",
              "      <td>b\"Ladies/Gentlrmen/Farmer's/Punjabi/Muslim com...</td>\n",
              "      <td>0</td>\n",
              "      <td>0</td>\n",
              "      <td>KParas288</td>\n",
              "      <td>False</td>\n",
              "      <td></td>\n",
              "      <td>2022-02-25 16:54:51</td>\n",
              "    </tr>\n",
              "    <tr>\n",
              "      <th>2</th>\n",
              "      <td>b'Manipur assembly election 2022\\n\\nDate-28.02...</td>\n",
              "      <td>6</td>\n",
              "      <td>2</td>\n",
              "      <td>Paragbhandari1</td>\n",
              "      <td>False</td>\n",
              "      <td>Dhoom Manikpur Village Dadri,</td>\n",
              "      <td>2022-02-25 06:52:37</td>\n",
              "    </tr>\n",
              "    <tr>\n",
              "      <th>3</th>\n",
              "      <td>b'Read #Rajasthan #Uttrakhand #UttarPradesh #P...</td>\n",
              "      <td>0</td>\n",
              "      <td>0</td>\n",
              "      <td>Buck4You</td>\n",
              "      <td>False</td>\n",
              "      <td>wick🔥</td>\n",
              "      <td>2022-02-23 06:01:31</td>\n",
              "    </tr>\n",
              "    <tr>\n",
              "      <th>4</th>\n",
              "      <td>b'@LiveLawIndia Read #Rajasthan #Uttrakhand #U...</td>\n",
              "      <td>0</td>\n",
              "      <td>0</td>\n",
              "      <td>Buck4You</td>\n",
              "      <td>False</td>\n",
              "      <td>wick🔥</td>\n",
              "      <td>2022-02-23 06:01:12</td>\n",
              "    </tr>\n",
              "    <tr>\n",
              "      <th>...</th>\n",
              "      <td>...</td>\n",
              "      <td>...</td>\n",
              "      <td>...</td>\n",
              "      <td>...</td>\n",
              "      <td>...</td>\n",
              "      <td>...</td>\n",
              "      <td>...</td>\n",
              "    </tr>\n",
              "    <tr>\n",
              "      <th>781</th>\n",
              "      <td>b'Manipur: Congress manifesto promises 50000 n...</td>\n",
              "      <td>8</td>\n",
              "      <td>6</td>\n",
              "      <td>VrAsokan</td>\n",
              "      <td>False</td>\n",
              "      <td>Malaysia</td>\n",
              "      <td>2022-02-21 15:29:40</td>\n",
              "    </tr>\n",
              "    <tr>\n",
              "      <th>782</th>\n",
              "      <td>b'Congress WINS Manipur\\n\\n#ManipurWithCongress'</td>\n",
              "      <td>3</td>\n",
              "      <td>2</td>\n",
              "      <td>slganesh1</td>\n",
              "      <td>False</td>\n",
              "      <td>Union of India</td>\n",
              "      <td>2022-02-21 15:29:35</td>\n",
              "    </tr>\n",
              "    <tr>\n",
              "      <th>783</th>\n",
              "      <td>b'The youth of Manipur is needs a solution to ...</td>\n",
              "      <td>3</td>\n",
              "      <td>2</td>\n",
              "      <td>kesarsafedpista</td>\n",
              "      <td>False</td>\n",
              "      <td>Double Engine Democracy!</td>\n",
              "      <td>2022-02-21 15:29:16</td>\n",
              "    </tr>\n",
              "    <tr>\n",
              "      <th>784</th>\n",
              "      <td>b'Congress will help Manipur to preserve its l...</td>\n",
              "      <td>0</td>\n",
              "      <td>0</td>\n",
              "      <td>slganesh1</td>\n",
              "      <td>False</td>\n",
              "      <td>Union of India</td>\n",
              "      <td>2022-02-21 15:28:34</td>\n",
              "    </tr>\n",
              "    <tr>\n",
              "      <th>785</th>\n",
              "      <td>b'Congress party promises a politics of develo...</td>\n",
              "      <td>88</td>\n",
              "      <td>83</td>\n",
              "      <td>jamilhussan_a</td>\n",
              "      <td>False</td>\n",
              "      <td>Kerala, India</td>\n",
              "      <td>2022-02-21 15:28:16</td>\n",
              "    </tr>\n",
              "  </tbody>\n",
              "</table>\n",
              "<p>786 rows × 7 columns</p>\n",
              "</div>\n",
              "      <button class=\"colab-df-convert\" onclick=\"convertToInteractive('df-22b11be4-a558-4d63-ae3d-cc0fa720459a')\"\n",
              "              title=\"Convert this dataframe to an interactive table.\"\n",
              "              style=\"display:none;\">\n",
              "        \n",
              "  <svg xmlns=\"http://www.w3.org/2000/svg\" height=\"24px\"viewBox=\"0 0 24 24\"\n",
              "       width=\"24px\">\n",
              "    <path d=\"M0 0h24v24H0V0z\" fill=\"none\"/>\n",
              "    <path d=\"M18.56 5.44l.94 2.06.94-2.06 2.06-.94-2.06-.94-.94-2.06-.94 2.06-2.06.94zm-11 1L8.5 8.5l.94-2.06 2.06-.94-2.06-.94L8.5 2.5l-.94 2.06-2.06.94zm10 10l.94 2.06.94-2.06 2.06-.94-2.06-.94-.94-2.06-.94 2.06-2.06.94z\"/><path d=\"M17.41 7.96l-1.37-1.37c-.4-.4-.92-.59-1.43-.59-.52 0-1.04.2-1.43.59L10.3 9.45l-7.72 7.72c-.78.78-.78 2.05 0 2.83L4 21.41c.39.39.9.59 1.41.59.51 0 1.02-.2 1.41-.59l7.78-7.78 2.81-2.81c.8-.78.8-2.07 0-2.86zM5.41 20L4 18.59l7.72-7.72 1.47 1.35L5.41 20z\"/>\n",
              "  </svg>\n",
              "      </button>\n",
              "      \n",
              "  <style>\n",
              "    .colab-df-container {\n",
              "      display:flex;\n",
              "      flex-wrap:wrap;\n",
              "      gap: 12px;\n",
              "    }\n",
              "\n",
              "    .colab-df-convert {\n",
              "      background-color: #E8F0FE;\n",
              "      border: none;\n",
              "      border-radius: 50%;\n",
              "      cursor: pointer;\n",
              "      display: none;\n",
              "      fill: #1967D2;\n",
              "      height: 32px;\n",
              "      padding: 0 0 0 0;\n",
              "      width: 32px;\n",
              "    }\n",
              "\n",
              "    .colab-df-convert:hover {\n",
              "      background-color: #E2EBFA;\n",
              "      box-shadow: 0px 1px 2px rgba(60, 64, 67, 0.3), 0px 1px 3px 1px rgba(60, 64, 67, 0.15);\n",
              "      fill: #174EA6;\n",
              "    }\n",
              "\n",
              "    [theme=dark] .colab-df-convert {\n",
              "      background-color: #3B4455;\n",
              "      fill: #D2E3FC;\n",
              "    }\n",
              "\n",
              "    [theme=dark] .colab-df-convert:hover {\n",
              "      background-color: #434B5C;\n",
              "      box-shadow: 0px 1px 3px 1px rgba(0, 0, 0, 0.15);\n",
              "      filter: drop-shadow(0px 1px 2px rgba(0, 0, 0, 0.3));\n",
              "      fill: #FFFFFF;\n",
              "    }\n",
              "  </style>\n",
              "\n",
              "      <script>\n",
              "        const buttonEl =\n",
              "          document.querySelector('#df-22b11be4-a558-4d63-ae3d-cc0fa720459a button.colab-df-convert');\n",
              "        buttonEl.style.display =\n",
              "          google.colab.kernel.accessAllowed ? 'block' : 'none';\n",
              "\n",
              "        async function convertToInteractive(key) {\n",
              "          const element = document.querySelector('#df-22b11be4-a558-4d63-ae3d-cc0fa720459a');\n",
              "          const dataTable =\n",
              "            await google.colab.kernel.invokeFunction('convertToInteractive',\n",
              "                                                     [key], {});\n",
              "          if (!dataTable) return;\n",
              "\n",
              "          const docLinkHtml = 'Like what you see? Visit the ' +\n",
              "            '<a target=\"_blank\" href=https://colab.research.google.com/notebooks/data_table.ipynb>data table notebook</a>'\n",
              "            + ' to learn more about interactive tables.';\n",
              "          element.innerHTML = '';\n",
              "          dataTable['output_type'] = 'display_data';\n",
              "          await google.colab.output.renderOutput(dataTable, element);\n",
              "          const docLink = document.createElement('div');\n",
              "          docLink.innerHTML = docLinkHtml;\n",
              "          element.appendChild(docLink);\n",
              "        }\n",
              "      </script>\n",
              "    </div>\n",
              "  </div>\n",
              "  "
            ],
            "text/plain": [
              "                                                tweets  ...                time\n",
              "0    b'People of Manipur are fed with double engine...  ... 2022-02-21 14:48:26\n",
              "1    b\"Ladies/Gentlrmen/Farmer's/Punjabi/Muslim com...  ... 2022-02-25 16:54:51\n",
              "2    b'Manipur assembly election 2022\\n\\nDate-28.02...  ... 2022-02-25 06:52:37\n",
              "3    b'Read #Rajasthan #Uttrakhand #UttarPradesh #P...  ... 2022-02-23 06:01:31\n",
              "4    b'@LiveLawIndia Read #Rajasthan #Uttrakhand #U...  ... 2022-02-23 06:01:12\n",
              "..                                                 ...  ...                 ...\n",
              "781  b'Manipur: Congress manifesto promises 50000 n...  ... 2022-02-21 15:29:40\n",
              "782   b'Congress WINS Manipur\\n\\n#ManipurWithCongress'  ... 2022-02-21 15:29:35\n",
              "783  b'The youth of Manipur is needs a solution to ...  ... 2022-02-21 15:29:16\n",
              "784  b'Congress will help Manipur to preserve its l...  ... 2022-02-21 15:28:34\n",
              "785  b'Congress party promises a politics of develo...  ... 2022-02-21 15:28:16\n",
              "\n",
              "[786 rows x 7 columns]"
            ]
          },
          "metadata": {},
          "execution_count": 232
        }
      ],
      "source": [
        "df_train = pd.DataFrame({'tweets':tweets, 'likes':likes, 'retweet':retweet, 'user':name, 'isVerified':isverified, 'place':place, 'time':time,})\n",
        "df_train"
      ]
    },
    {
      "cell_type": "code",
      "execution_count": null,
      "metadata": {
        "id": "lSNlmVfVqh3R"
      },
      "outputs": [],
      "source": [
        "df_train.to_csv(\"Manipur-INC.csv\", index=False)"
      ]
    },
    {
      "cell_type": "code",
      "execution_count": null,
      "metadata": {
        "id": "DmpLgC6ksE8P"
      },
      "outputs": [],
      "source": [
        "tweets = []\n",
        "likes = []\n",
        "time = []\n",
        "place = []\n",
        "retweet = []\n",
        "isverified = []\n",
        "name = []"
      ]
    },
    {
      "cell_type": "code",
      "execution_count": null,
      "metadata": {
        "id": "z-aN7Dncqnlq"
      },
      "outputs": [],
      "source": [
        "#get_tweets(\"NPF Manipur\", 2000)\n",
        "#get_tweets(\"NPF Manipur elections\", 2000)\n",
        "#get_tweets(\"naga people's front\", 2000)\n",
        "#get_tweets(\"Losii Dikho\", 1000)\n",
        "get_tweets(\"dikho election\", 2000)"
      ]
    },
    {
      "cell_type": "code",
      "execution_count": null,
      "metadata": {
        "id": "eF7-Gi9kq_T2"
      },
      "outputs": [],
      "source": [
        "get_tweets(\"NPF election\", 2000)"
      ]
    },
    {
      "cell_type": "code",
      "execution_count": null,
      "metadata": {
        "colab": {
          "base_uri": "https://localhost:8080/"
        },
        "id": "SZaxbmNGrIvg",
        "outputId": "4e896d25-08b3-4592-da50-69718aba0197"
      },
      "outputs": [
        {
          "output_type": "execute_result",
          "data": {
            "text/plain": [
              "139"
            ]
          },
          "metadata": {},
          "execution_count": 259
        }
      ],
      "source": [
        "len(tweets)"
      ]
    },
    {
      "cell_type": "code",
      "execution_count": null,
      "metadata": {
        "id": "FXbn2b_SrKHe"
      },
      "outputs": [],
      "source": [
        "get_tweets(\"people front election\", 2000)"
      ]
    },
    {
      "cell_type": "code",
      "execution_count": null,
      "metadata": {
        "id": "uTGv95ojrfjw"
      },
      "outputs": [],
      "source": [
        "get_tweets(\"naga election\", 2000)"
      ]
    },
    {
      "cell_type": "code",
      "execution_count": null,
      "metadata": {
        "id": "i67GtMaZrqO8"
      },
      "outputs": [],
      "source": [
        "get_tweets(\"naga manipur\", 2000)"
      ]
    },
    {
      "cell_type": "code",
      "execution_count": null,
      "metadata": {
        "colab": {
          "base_uri": "https://localhost:8080/",
          "height": 641
        },
        "id": "9UQ-_9Avrt9g",
        "outputId": "0566f45e-32a2-4a91-e151-903a7fa030d7"
      },
      "outputs": [
        {
          "output_type": "execute_result",
          "data": {
            "text/html": [
              "\n",
              "  <div id=\"df-00b680b7-1204-435d-8ba5-41d4a640541c\">\n",
              "    <div class=\"colab-df-container\">\n",
              "      <div>\n",
              "<style scoped>\n",
              "    .dataframe tbody tr th:only-of-type {\n",
              "        vertical-align: middle;\n",
              "    }\n",
              "\n",
              "    .dataframe tbody tr th {\n",
              "        vertical-align: top;\n",
              "    }\n",
              "\n",
              "    .dataframe thead th {\n",
              "        text-align: right;\n",
              "    }\n",
              "</style>\n",
              "<table border=\"1\" class=\"dataframe\">\n",
              "  <thead>\n",
              "    <tr style=\"text-align: right;\">\n",
              "      <th></th>\n",
              "      <th>tweets</th>\n",
              "      <th>likes</th>\n",
              "      <th>retweet</th>\n",
              "      <th>user</th>\n",
              "      <th>isVerified</th>\n",
              "      <th>place</th>\n",
              "      <th>time</th>\n",
              "    </tr>\n",
              "  </thead>\n",
              "  <tbody>\n",
              "    <tr>\n",
              "      <th>0</th>\n",
              "      <td>b'#ManipurElections2022 | The battle lines hav...</td>\n",
              "      <td>2</td>\n",
              "      <td>0</td>\n",
              "      <td>frontline_india</td>\n",
              "      <td>True</td>\n",
              "      <td>Chennai</td>\n",
              "      <td>2022-02-25 07:30:00</td>\n",
              "    </tr>\n",
              "    <tr>\n",
              "      <th>1</th>\n",
              "      <td>b'Naga People\\xe2\\x80\\x99s Front (NPF) has dis...</td>\n",
              "      <td>5</td>\n",
              "      <td>2</td>\n",
              "      <td>htTweets</td>\n",
              "      <td>True</td>\n",
              "      <td>India</td>\n",
              "      <td>2022-02-25 06:56:18</td>\n",
              "    </tr>\n",
              "    <tr>\n",
              "      <th>2</th>\n",
              "      <td>b'Manipur assembly election 2022\\n\\nDate-28.02...</td>\n",
              "      <td>6</td>\n",
              "      <td>2</td>\n",
              "      <td>Paragbhandari1</td>\n",
              "      <td>False</td>\n",
              "      <td>Dhoom Manikpur Village Dadri,</td>\n",
              "      <td>2022-02-25 06:52:37</td>\n",
              "    </tr>\n",
              "    <tr>\n",
              "      <th>3</th>\n",
              "      <td>b'#ManipurElections | Five years after support...</td>\n",
              "      <td>7</td>\n",
              "      <td>3</td>\n",
              "      <td>htTweets</td>\n",
              "      <td>True</td>\n",
              "      <td>India</td>\n",
              "      <td>2022-02-24 23:30:00</td>\n",
              "    </tr>\n",
              "    <tr>\n",
              "      <th>4</th>\n",
              "      <td>b'#ManipurElections | Five years after support...</td>\n",
              "      <td>18</td>\n",
              "      <td>2</td>\n",
              "      <td>htTweets</td>\n",
              "      <td>True</td>\n",
              "      <td>India</td>\n",
              "      <td>2022-02-24 11:22:28</td>\n",
              "    </tr>\n",
              "    <tr>\n",
              "      <th>...</th>\n",
              "      <td>...</td>\n",
              "      <td>...</td>\n",
              "      <td>...</td>\n",
              "      <td>...</td>\n",
              "      <td>...</td>\n",
              "      <td>...</td>\n",
              "      <td>...</td>\n",
              "    </tr>\n",
              "    <tr>\n",
              "      <th>134</th>\n",
              "      <td>b'Tangkhul Naga attire, dancers grace rallies ...</td>\n",
              "      <td>5</td>\n",
              "      <td>3</td>\n",
              "      <td>ThePrintIndia</td>\n",
              "      <td>True</td>\n",
              "      <td>New Delhi, India</td>\n",
              "      <td>2022-02-22 06:20:12</td>\n",
              "    </tr>\n",
              "    <tr>\n",
              "      <th>135</th>\n",
              "      <td>b\"@amlshub It's interesting how the proposed '...</td>\n",
              "      <td>1</td>\n",
              "      <td>0</td>\n",
              "      <td>Swusiza</td>\n",
              "      <td>False</td>\n",
              "      <td>Paradis Island</td>\n",
              "      <td>2022-02-22 05:50:44</td>\n",
              "    </tr>\n",
              "    <tr>\n",
              "      <th>136</th>\n",
              "      <td>b'#Manipur | Manipur Assembly Polls : Naga Hoh...</td>\n",
              "      <td>1</td>\n",
              "      <td>0</td>\n",
              "      <td>NortheastToday</td>\n",
              "      <td>False</td>\n",
              "      <td>Guwahati / Tawang, India</td>\n",
              "      <td>2022-02-21 16:57:09</td>\n",
              "    </tr>\n",
              "    <tr>\n",
              "      <th>137</th>\n",
              "      <td>b\"BJP's claimed to solve Naga political issue ...</td>\n",
              "      <td>6</td>\n",
              "      <td>4</td>\n",
              "      <td>VinayDokania</td>\n",
              "      <td>True</td>\n",
              "      <td>Union Of India</td>\n",
              "      <td>2022-02-21 15:07:08</td>\n",
              "    </tr>\n",
              "    <tr>\n",
              "      <th>138</th>\n",
              "      <td>b\"A review of 'The Eastern Gate' in @thewire_i...</td>\n",
              "      <td>2</td>\n",
              "      <td>1</td>\n",
              "      <td>chakraview</td>\n",
              "      <td>True</td>\n",
              "      <td>Here. There.</td>\n",
              "      <td>2022-02-21 08:17:51</td>\n",
              "    </tr>\n",
              "  </tbody>\n",
              "</table>\n",
              "<p>139 rows × 7 columns</p>\n",
              "</div>\n",
              "      <button class=\"colab-df-convert\" onclick=\"convertToInteractive('df-00b680b7-1204-435d-8ba5-41d4a640541c')\"\n",
              "              title=\"Convert this dataframe to an interactive table.\"\n",
              "              style=\"display:none;\">\n",
              "        \n",
              "  <svg xmlns=\"http://www.w3.org/2000/svg\" height=\"24px\"viewBox=\"0 0 24 24\"\n",
              "       width=\"24px\">\n",
              "    <path d=\"M0 0h24v24H0V0z\" fill=\"none\"/>\n",
              "    <path d=\"M18.56 5.44l.94 2.06.94-2.06 2.06-.94-2.06-.94-.94-2.06-.94 2.06-2.06.94zm-11 1L8.5 8.5l.94-2.06 2.06-.94-2.06-.94L8.5 2.5l-.94 2.06-2.06.94zm10 10l.94 2.06.94-2.06 2.06-.94-2.06-.94-.94-2.06-.94 2.06-2.06.94z\"/><path d=\"M17.41 7.96l-1.37-1.37c-.4-.4-.92-.59-1.43-.59-.52 0-1.04.2-1.43.59L10.3 9.45l-7.72 7.72c-.78.78-.78 2.05 0 2.83L4 21.41c.39.39.9.59 1.41.59.51 0 1.02-.2 1.41-.59l7.78-7.78 2.81-2.81c.8-.78.8-2.07 0-2.86zM5.41 20L4 18.59l7.72-7.72 1.47 1.35L5.41 20z\"/>\n",
              "  </svg>\n",
              "      </button>\n",
              "      \n",
              "  <style>\n",
              "    .colab-df-container {\n",
              "      display:flex;\n",
              "      flex-wrap:wrap;\n",
              "      gap: 12px;\n",
              "    }\n",
              "\n",
              "    .colab-df-convert {\n",
              "      background-color: #E8F0FE;\n",
              "      border: none;\n",
              "      border-radius: 50%;\n",
              "      cursor: pointer;\n",
              "      display: none;\n",
              "      fill: #1967D2;\n",
              "      height: 32px;\n",
              "      padding: 0 0 0 0;\n",
              "      width: 32px;\n",
              "    }\n",
              "\n",
              "    .colab-df-convert:hover {\n",
              "      background-color: #E2EBFA;\n",
              "      box-shadow: 0px 1px 2px rgba(60, 64, 67, 0.3), 0px 1px 3px 1px rgba(60, 64, 67, 0.15);\n",
              "      fill: #174EA6;\n",
              "    }\n",
              "\n",
              "    [theme=dark] .colab-df-convert {\n",
              "      background-color: #3B4455;\n",
              "      fill: #D2E3FC;\n",
              "    }\n",
              "\n",
              "    [theme=dark] .colab-df-convert:hover {\n",
              "      background-color: #434B5C;\n",
              "      box-shadow: 0px 1px 3px 1px rgba(0, 0, 0, 0.15);\n",
              "      filter: drop-shadow(0px 1px 2px rgba(0, 0, 0, 0.3));\n",
              "      fill: #FFFFFF;\n",
              "    }\n",
              "  </style>\n",
              "\n",
              "      <script>\n",
              "        const buttonEl =\n",
              "          document.querySelector('#df-00b680b7-1204-435d-8ba5-41d4a640541c button.colab-df-convert');\n",
              "        buttonEl.style.display =\n",
              "          google.colab.kernel.accessAllowed ? 'block' : 'none';\n",
              "\n",
              "        async function convertToInteractive(key) {\n",
              "          const element = document.querySelector('#df-00b680b7-1204-435d-8ba5-41d4a640541c');\n",
              "          const dataTable =\n",
              "            await google.colab.kernel.invokeFunction('convertToInteractive',\n",
              "                                                     [key], {});\n",
              "          if (!dataTable) return;\n",
              "\n",
              "          const docLinkHtml = 'Like what you see? Visit the ' +\n",
              "            '<a target=\"_blank\" href=https://colab.research.google.com/notebooks/data_table.ipynb>data table notebook</a>'\n",
              "            + ' to learn more about interactive tables.';\n",
              "          element.innerHTML = '';\n",
              "          dataTable['output_type'] = 'display_data';\n",
              "          await google.colab.output.renderOutput(dataTable, element);\n",
              "          const docLink = document.createElement('div');\n",
              "          docLink.innerHTML = docLinkHtml;\n",
              "          element.appendChild(docLink);\n",
              "        }\n",
              "      </script>\n",
              "    </div>\n",
              "  </div>\n",
              "  "
            ],
            "text/plain": [
              "                                                tweets  ...                time\n",
              "0    b'#ManipurElections2022 | The battle lines hav...  ... 2022-02-25 07:30:00\n",
              "1    b'Naga People\\xe2\\x80\\x99s Front (NPF) has dis...  ... 2022-02-25 06:56:18\n",
              "2    b'Manipur assembly election 2022\\n\\nDate-28.02...  ... 2022-02-25 06:52:37\n",
              "3    b'#ManipurElections | Five years after support...  ... 2022-02-24 23:30:00\n",
              "4    b'#ManipurElections | Five years after support...  ... 2022-02-24 11:22:28\n",
              "..                                                 ...  ...                 ...\n",
              "134  b'Tangkhul Naga attire, dancers grace rallies ...  ... 2022-02-22 06:20:12\n",
              "135  b\"@amlshub It's interesting how the proposed '...  ... 2022-02-22 05:50:44\n",
              "136  b'#Manipur | Manipur Assembly Polls : Naga Hoh...  ... 2022-02-21 16:57:09\n",
              "137  b\"BJP's claimed to solve Naga political issue ...  ... 2022-02-21 15:07:08\n",
              "138  b\"A review of 'The Eastern Gate' in @thewire_i...  ... 2022-02-21 08:17:51\n",
              "\n",
              "[139 rows x 7 columns]"
            ]
          },
          "metadata": {},
          "execution_count": 260
        }
      ],
      "source": [
        "df_train = pd.DataFrame({'tweets':tweets, 'likes':likes, 'retweet':retweet, 'user':name, 'isVerified':isverified, 'place':place, 'time':time,})\n",
        "df_train"
      ]
    },
    {
      "cell_type": "code",
      "execution_count": null,
      "metadata": {
        "id": "20foADqVry6g"
      },
      "outputs": [],
      "source": [
        "df_train.to_csv(\"Manipur-NPF.csv\", index=False)"
      ]
    },
    {
      "cell_type": "code",
      "execution_count": null,
      "metadata": {
        "id": "WCBF8G78r2mo"
      },
      "outputs": [],
      "source": [
        ""
      ]
    }
  ],
  "metadata": {
    "accelerator": "GPU",
    "colab": {
      "name": "Collect_data_tweepy.ipynb",
      "provenance": [],
      "collapsed_sections": [],
      "authorship_tag": "ABX9TyNbJijH8AHpdwUCOD2QW17s",
      "include_colab_link": true
    },
    "kernelspec": {
      "display_name": "Python 3",
      "name": "python3"
    },
    "language_info": {
      "name": "python"
    }
  },
  "nbformat": 4,
  "nbformat_minor": 0
}